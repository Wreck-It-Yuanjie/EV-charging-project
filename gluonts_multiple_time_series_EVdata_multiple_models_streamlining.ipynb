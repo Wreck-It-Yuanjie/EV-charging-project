{
 "cells": [
  {
   "cell_type": "code",
   "execution_count": 73,
   "metadata": {},
   "outputs": [],
   "source": [
    "%matplotlib inline\n",
    "import numpy as np\n",
    "import pandas as pd\n",
    "import matplotlib.pyplot as plt\n",
    "import json\n",
    "import math\n",
    "from gluonts.dataset.repository import get_dataset, dataset_names\n",
    "from gluonts.dataset.util import to_pandas\n",
    "from gluonts.mx import SimpleFeedForwardEstimator, Trainer\n",
    "from gluonts.evaluation import make_evaluation_predictions\n",
    "from gluonts.dataset.common import ListDataset\n",
    "from gluonts.dataset.pandas import PandasDataset\n",
    "from gluonts.mx import DeepAREstimator, Trainer\n",
    "from gluonts.evaluation import make_evaluation_predictions, Evaluator\n",
    "from gluonts.dataset.field_names import FieldName\n",
    "from gluonts.mx.trainer.callback import TrainingHistory\n",
    "from sklearn.preprocessing import LabelEncoder\n",
    "\n",
    "from gluonts.time_feature import (\n",
    "    day_of_week,\n",
    "    day_of_month,\n",
    "    day_of_year,\n",
    "    week_of_year,\n",
    "    month_of_year,\n",
    ")\n",
    "\n",
    "from gluonts.time_feature.holiday import (\n",
    "   squared_exponential_kernel,\n",
    "   SpecialDateFeatureSet,\n",
    "   CHRISTMAS_DAY,\n",
    "   CHRISTMAS_EVE\n",
    ")"
   ]
  },
  {
   "cell_type": "markdown",
   "metadata": {},
   "source": [
    "#### Read dataset"
   ]
  },
  {
   "cell_type": "code",
   "execution_count": 74,
   "metadata": {},
   "outputs": [],
   "source": [
    "EVdf0 = pd.read_csv(\"data/EVChargingData2010_2020.csv\", low_memory=False)"
   ]
  },
  {
   "cell_type": "markdown",
   "metadata": {},
   "source": [
    "#### Data cleaning"
   ]
  },
  {
   "cell_type": "code",
   "execution_count": 75,
   "metadata": {},
   "outputs": [
    {
     "data": {
      "text/html": [
       "<div>\n",
       "<style scoped>\n",
       "    .dataframe tbody tr th:only-of-type {\n",
       "        vertical-align: middle;\n",
       "    }\n",
       "\n",
       "    .dataframe tbody tr th {\n",
       "        vertical-align: top;\n",
       "    }\n",
       "\n",
       "    .dataframe thead th {\n",
       "        text-align: right;\n",
       "    }\n",
       "</style>\n",
       "<table border=\"1\" class=\"dataframe\">\n",
       "  <thead>\n",
       "    <tr style=\"text-align: right;\">\n",
       "      <th></th>\n",
       "      <th>Station Name</th>\n",
       "      <th>MAC Address</th>\n",
       "      <th>Org Name</th>\n",
       "      <th>Start Date</th>\n",
       "      <th>Start Time Zone</th>\n",
       "      <th>End Date</th>\n",
       "      <th>End Time Zone</th>\n",
       "      <th>Transaction Date (Pacific Time)</th>\n",
       "      <th>Total Duration (hh:mm:ss)</th>\n",
       "      <th>Charging Time (hh:mm:ss)</th>\n",
       "      <th>Energy (kWh)</th>\n",
       "      <th>GHG Savings (kg)</th>\n",
       "      <th>Gasoline Savings (gallons)</th>\n",
       "      <th>Port Type</th>\n",
       "      <th>Port Number</th>\n",
       "      <th>Plug Type</th>\n",
       "      <th>EVSE ID</th>\n",
       "      <th>Address 1</th>\n",
       "      <th>City</th>\n",
       "      <th>State/Province</th>\n",
       "      <th>Postal Code</th>\n",
       "      <th>Country</th>\n",
       "      <th>Latitude</th>\n",
       "      <th>Longitude</th>\n",
       "      <th>Currency</th>\n",
       "      <th>Fee</th>\n",
       "      <th>Ended By</th>\n",
       "      <th>Plug In Event Id</th>\n",
       "      <th>Driver Postal Code</th>\n",
       "      <th>User ID</th>\n",
       "      <th>County</th>\n",
       "      <th>System S/N</th>\n",
       "      <th>Model Number</th>\n",
       "    </tr>\n",
       "  </thead>\n",
       "  <tbody>\n",
       "    <tr>\n",
       "      <th>0</th>\n",
       "      <td>PALO ALTO CA / HAMILTON #1</td>\n",
       "      <td>000D:6F00:015A:9D76</td>\n",
       "      <td>City of Palo Alto</td>\n",
       "      <td>7/29/2011 20:17</td>\n",
       "      <td>PDT</td>\n",
       "      <td>7/29/2011 23:20</td>\n",
       "      <td>PDT</td>\n",
       "      <td>7/29/2011 23:20</td>\n",
       "      <td>3:03:32</td>\n",
       "      <td>1:54:03</td>\n",
       "      <td>6.249457</td>\n",
       "      <td>2.625</td>\n",
       "      <td>0.784</td>\n",
       "      <td>Level 2</td>\n",
       "      <td>2</td>\n",
       "      <td>J1772</td>\n",
       "      <td>NaN</td>\n",
       "      <td>250 Hamilton Ave</td>\n",
       "      <td>Palo Alto</td>\n",
       "      <td>California</td>\n",
       "      <td>94301</td>\n",
       "      <td>United States</td>\n",
       "      <td>37.444572</td>\n",
       "      <td>-122.160309</td>\n",
       "      <td>USD</td>\n",
       "      <td>0.0</td>\n",
       "      <td>Plug Out at Vehicle</td>\n",
       "      <td>3</td>\n",
       "      <td>95124.0</td>\n",
       "      <td>3284</td>\n",
       "      <td>NaN</td>\n",
       "      <td>NaN</td>\n",
       "      <td>NaN</td>\n",
       "    </tr>\n",
       "    <tr>\n",
       "      <th>1</th>\n",
       "      <td>PALO ALTO CA / HAMILTON #1</td>\n",
       "      <td>000D:6F00:015A:9D76</td>\n",
       "      <td>City of Palo Alto</td>\n",
       "      <td>7/30/2011 0:00</td>\n",
       "      <td>PDT</td>\n",
       "      <td>7/30/2011 0:02</td>\n",
       "      <td>PDT</td>\n",
       "      <td>7/30/2011 0:02</td>\n",
       "      <td>0:02:06</td>\n",
       "      <td>0:01:54</td>\n",
       "      <td>0.106588</td>\n",
       "      <td>0.045</td>\n",
       "      <td>0.013</td>\n",
       "      <td>Level 2</td>\n",
       "      <td>2</td>\n",
       "      <td>J1772</td>\n",
       "      <td>NaN</td>\n",
       "      <td>250 Hamilton Ave</td>\n",
       "      <td>Palo Alto</td>\n",
       "      <td>California</td>\n",
       "      <td>94301</td>\n",
       "      <td>United States</td>\n",
       "      <td>37.444572</td>\n",
       "      <td>-122.160309</td>\n",
       "      <td>USD</td>\n",
       "      <td>0.0</td>\n",
       "      <td>Customer</td>\n",
       "      <td>4</td>\n",
       "      <td>94301.0</td>\n",
       "      <td>4169</td>\n",
       "      <td>NaN</td>\n",
       "      <td>NaN</td>\n",
       "      <td>NaN</td>\n",
       "    </tr>\n",
       "    <tr>\n",
       "      <th>2</th>\n",
       "      <td>PALO ALTO CA / HAMILTON #1</td>\n",
       "      <td>000D:6F00:015A:9D76</td>\n",
       "      <td>City of Palo Alto</td>\n",
       "      <td>7/30/2011 8:16</td>\n",
       "      <td>PDT</td>\n",
       "      <td>7/30/2011 12:34</td>\n",
       "      <td>PDT</td>\n",
       "      <td>7/30/2011 12:34</td>\n",
       "      <td>4:17:32</td>\n",
       "      <td>4:17:28</td>\n",
       "      <td>14.951777</td>\n",
       "      <td>6.280</td>\n",
       "      <td>1.876</td>\n",
       "      <td>Level 2</td>\n",
       "      <td>2</td>\n",
       "      <td>J1772</td>\n",
       "      <td>NaN</td>\n",
       "      <td>250 Hamilton Ave</td>\n",
       "      <td>Palo Alto</td>\n",
       "      <td>California</td>\n",
       "      <td>94301</td>\n",
       "      <td>United States</td>\n",
       "      <td>37.444572</td>\n",
       "      <td>-122.160309</td>\n",
       "      <td>USD</td>\n",
       "      <td>0.0</td>\n",
       "      <td>Plug Out at Vehicle</td>\n",
       "      <td>5</td>\n",
       "      <td>94301.0</td>\n",
       "      <td>4169</td>\n",
       "      <td>NaN</td>\n",
       "      <td>NaN</td>\n",
       "      <td>NaN</td>\n",
       "    </tr>\n",
       "    <tr>\n",
       "      <th>3</th>\n",
       "      <td>PALO ALTO CA / HAMILTON #1</td>\n",
       "      <td>000D:6F00:015A:9D76</td>\n",
       "      <td>City of Palo Alto</td>\n",
       "      <td>7/30/2011 14:51</td>\n",
       "      <td>PDT</td>\n",
       "      <td>7/30/2011 16:55</td>\n",
       "      <td>PDT</td>\n",
       "      <td>7/30/2011 16:55</td>\n",
       "      <td>2:03:24</td>\n",
       "      <td>2:02:58</td>\n",
       "      <td>7.159643</td>\n",
       "      <td>3.007</td>\n",
       "      <td>0.899</td>\n",
       "      <td>Level 2</td>\n",
       "      <td>2</td>\n",
       "      <td>J1772</td>\n",
       "      <td>NaN</td>\n",
       "      <td>250 Hamilton Ave</td>\n",
       "      <td>Palo Alto</td>\n",
       "      <td>California</td>\n",
       "      <td>94301</td>\n",
       "      <td>United States</td>\n",
       "      <td>37.444572</td>\n",
       "      <td>-122.160309</td>\n",
       "      <td>USD</td>\n",
       "      <td>0.0</td>\n",
       "      <td>Customer</td>\n",
       "      <td>6</td>\n",
       "      <td>94302.0</td>\n",
       "      <td>2545</td>\n",
       "      <td>NaN</td>\n",
       "      <td>NaN</td>\n",
       "      <td>NaN</td>\n",
       "    </tr>\n",
       "    <tr>\n",
       "      <th>4</th>\n",
       "      <td>PALO ALTO CA / HAMILTON #1</td>\n",
       "      <td>000D:6F00:015A:9D76</td>\n",
       "      <td>City of Palo Alto</td>\n",
       "      <td>7/30/2011 18:51</td>\n",
       "      <td>PDT</td>\n",
       "      <td>7/30/2011 20:03</td>\n",
       "      <td>PDT</td>\n",
       "      <td>7/30/2011 20:03</td>\n",
       "      <td>1:11:24</td>\n",
       "      <td>0:43:54</td>\n",
       "      <td>1.957765</td>\n",
       "      <td>0.822</td>\n",
       "      <td>0.246</td>\n",
       "      <td>Level 2</td>\n",
       "      <td>2</td>\n",
       "      <td>J1772</td>\n",
       "      <td>NaN</td>\n",
       "      <td>250 Hamilton Ave</td>\n",
       "      <td>Palo Alto</td>\n",
       "      <td>California</td>\n",
       "      <td>94301</td>\n",
       "      <td>United States</td>\n",
       "      <td>37.444572</td>\n",
       "      <td>-122.160309</td>\n",
       "      <td>USD</td>\n",
       "      <td>0.0</td>\n",
       "      <td>Plug Out at Vehicle</td>\n",
       "      <td>7</td>\n",
       "      <td>94043.0</td>\n",
       "      <td>3765</td>\n",
       "      <td>NaN</td>\n",
       "      <td>NaN</td>\n",
       "      <td>NaN</td>\n",
       "    </tr>\n",
       "  </tbody>\n",
       "</table>\n",
       "</div>"
      ],
      "text/plain": [
       "                 Station Name          MAC Address           Org Name  \\\n",
       "0  PALO ALTO CA / HAMILTON #1  000D:6F00:015A:9D76  City of Palo Alto   \n",
       "1  PALO ALTO CA / HAMILTON #1  000D:6F00:015A:9D76  City of Palo Alto   \n",
       "2  PALO ALTO CA / HAMILTON #1  000D:6F00:015A:9D76  City of Palo Alto   \n",
       "3  PALO ALTO CA / HAMILTON #1  000D:6F00:015A:9D76  City of Palo Alto   \n",
       "4  PALO ALTO CA / HAMILTON #1  000D:6F00:015A:9D76  City of Palo Alto   \n",
       "\n",
       "        Start Date Start Time Zone         End Date End Time Zone  \\\n",
       "0  7/29/2011 20:17             PDT  7/29/2011 23:20           PDT   \n",
       "1   7/30/2011 0:00             PDT   7/30/2011 0:02           PDT   \n",
       "2   7/30/2011 8:16             PDT  7/30/2011 12:34           PDT   \n",
       "3  7/30/2011 14:51             PDT  7/30/2011 16:55           PDT   \n",
       "4  7/30/2011 18:51             PDT  7/30/2011 20:03           PDT   \n",
       "\n",
       "  Transaction Date (Pacific Time) Total Duration (hh:mm:ss)  \\\n",
       "0                 7/29/2011 23:20                   3:03:32   \n",
       "1                  7/30/2011 0:02                   0:02:06   \n",
       "2                 7/30/2011 12:34                   4:17:32   \n",
       "3                 7/30/2011 16:55                   2:03:24   \n",
       "4                 7/30/2011 20:03                   1:11:24   \n",
       "\n",
       "  Charging Time (hh:mm:ss)  Energy (kWh)  GHG Savings (kg)  \\\n",
       "0                  1:54:03      6.249457             2.625   \n",
       "1                  0:01:54      0.106588             0.045   \n",
       "2                  4:17:28     14.951777             6.280   \n",
       "3                  2:02:58      7.159643             3.007   \n",
       "4                  0:43:54      1.957765             0.822   \n",
       "\n",
       "   Gasoline Savings (gallons) Port Type  Port Number Plug Type  EVSE ID  \\\n",
       "0                       0.784   Level 2            2     J1772      NaN   \n",
       "1                       0.013   Level 2            2     J1772      NaN   \n",
       "2                       1.876   Level 2            2     J1772      NaN   \n",
       "3                       0.899   Level 2            2     J1772      NaN   \n",
       "4                       0.246   Level 2            2     J1772      NaN   \n",
       "\n",
       "          Address 1       City State/Province  Postal Code        Country  \\\n",
       "0  250 Hamilton Ave  Palo Alto     California        94301  United States   \n",
       "1  250 Hamilton Ave  Palo Alto     California        94301  United States   \n",
       "2  250 Hamilton Ave  Palo Alto     California        94301  United States   \n",
       "3  250 Hamilton Ave  Palo Alto     California        94301  United States   \n",
       "4  250 Hamilton Ave  Palo Alto     California        94301  United States   \n",
       "\n",
       "    Latitude   Longitude Currency  Fee             Ended By  Plug In Event Id  \\\n",
       "0  37.444572 -122.160309      USD  0.0  Plug Out at Vehicle                 3   \n",
       "1  37.444572 -122.160309      USD  0.0             Customer                 4   \n",
       "2  37.444572 -122.160309      USD  0.0  Plug Out at Vehicle                 5   \n",
       "3  37.444572 -122.160309      USD  0.0             Customer                 6   \n",
       "4  37.444572 -122.160309      USD  0.0  Plug Out at Vehicle                 7   \n",
       "\n",
       "   Driver Postal Code User ID County  System S/N Model Number  \n",
       "0             95124.0    3284    NaN         NaN          NaN  \n",
       "1             94301.0    4169    NaN         NaN          NaN  \n",
       "2             94301.0    4169    NaN         NaN          NaN  \n",
       "3             94302.0    2545    NaN         NaN          NaN  \n",
       "4             94043.0    3765    NaN         NaN          NaN  "
      ]
     },
     "execution_count": 75,
     "metadata": {},
     "output_type": "execute_result"
    }
   ],
   "source": [
    "pd.set_option('display.max_column', None)\n",
    "EVdf0.head()"
   ]
  },
  {
   "cell_type": "code",
   "execution_count": 76,
   "metadata": {},
   "outputs": [
    {
     "name": "stdout",
     "output_type": "stream",
     "text": [
      "Index(['Station Name', 'MAC Address', 'Org Name', 'Start Date',\n",
      "       'Start Time Zone', 'End Date', 'End Time Zone',\n",
      "       'Transaction Date (Pacific Time)', 'Total Duration (hh:mm:ss)',\n",
      "       'Charging Time (hh:mm:ss)', 'Energy (kWh)', 'GHG Savings (kg)',\n",
      "       'Gasoline Savings (gallons)', 'Port Type', 'Port Number', 'Plug Type',\n",
      "       'EVSE ID', 'Address 1', 'City', 'State/Province', 'Postal Code',\n",
      "       'Country', 'Latitude', 'Longitude', 'Currency', 'Fee', 'Ended By',\n",
      "       'Plug In Event Id', 'Driver Postal Code', 'User ID', 'County',\n",
      "       'System S/N', 'Model Number'],\n",
      "      dtype='object')\n"
     ]
    }
   ],
   "source": [
    "print(EVdf0.columns)"
   ]
  },
  {
   "cell_type": "code",
   "execution_count": 77,
   "metadata": {},
   "outputs": [],
   "source": [
    "EVdf0.dropna(inplace = True)"
   ]
  },
  {
   "cell_type": "code",
   "execution_count": 78,
   "metadata": {},
   "outputs": [],
   "source": [
    "EVdf0.drop_duplicates(inplace = True)"
   ]
  },
  {
   "cell_type": "markdown",
   "metadata": {},
   "source": [
    "#### Aggregation based on given time window"
   ]
  },
  {
   "cell_type": "code",
   "execution_count": 79,
   "metadata": {},
   "outputs": [],
   "source": [
    "def convert_duration_to_time_window(duration_str, time_window='1H'):\n",
    "    \"\"\"\n",
    "        Convert charging duration from hh:mm:ss format to the specified time window unit.\n",
    "        \n",
    "        Parameters:\n",
    "            duration_str (str): The charging duration in hh:mm:ss format.\n",
    "            time_window (str): The time window for conversion. Can be '1H', '1D', '1W', or '1M'.\n",
    "            \n",
    "        Returns:\n",
    "            float: The duration converted to the specified time window unit.\n",
    "        \"\"\"\n",
    "    # Convert hh:mm:ss to total hours\n",
    "    total_hours = pd.Timedelta(duration_str).total_seconds() / 3600\n",
    "\n",
    "    # Convert based on the specified time window\n",
    "    if time_window == '1H':\n",
    "        return total_hours\n",
    "    elif time_window == '1D':\n",
    "        return total_hours / 24\n",
    "    elif time_window == '1W':\n",
    "        return total_hours / (24 * 7)\n",
    "    elif time_window == '1M':\n",
    "        return total_hours / (24 * 30)\n",
    "    else:\n",
    "        raise ValueError(\"Unsupported time window. Choose from '1H', '1D', '1W', '1M'.\")"
   ]
  },
  {
   "cell_type": "code",
   "execution_count": 80,
   "metadata": {},
   "outputs": [],
   "source": [
    "def aggregate_ev_charging(data, time_window='1H'):\n",
    "    \"\"\"\n",
    "    Aggregate energy consumption, total charging duration, and count EV charging events\n",
    "    within specified time windows.\n",
    "    \n",
    "    Parameters:\n",
    "        dataframe (pd.DataFrame): The EV charging data.\n",
    "        time_window (str): The time window for aggregation. Can be '1H', '1D', '1W', or '1M'.\n",
    "        \n",
    "    Returns:\n",
    "        pd.DataFrame: Aggregated data with total energy, total charging duration, and count of events.\n",
    "    \"\"\"\n",
    "    dataframe = data.copy()\n",
    "\n",
    "    dataframe['Start Date'] = pd.to_datetime(dataframe['Start Date'], errors='coerce')\n",
    "\n",
    "    dataframe = dataframe.dropna(subset=['Start Date'])\n",
    "\n",
    "    # Ensure the Transaction Date is in datetime format\n",
    "    dataframe['Start Date'] = pd.to_datetime(dataframe['Start Date'], format=\"%m/%d/%y %H:%M\")\n",
    "\n",
    "    dataframe.set_index('Start Date', inplace=True)\n",
    "    \n",
    "    # Convert Charging Time to hours\n",
    "    dataframe[f'Charging Time ({time_window})'] = dataframe['Charging Time (hh:mm:ss)'].apply(convert_duration_to_time_window)\n",
    "    \n",
    "    # Resample and aggregate data\n",
    "    aggregated_data = dataframe.groupby('Station Name').resample(time_window).agg({\n",
    "        'Energy (kWh)': 'sum',\n",
    "        f'Charging Time ({time_window})': 'sum',\n",
    "        'User ID': 'count'  # Count of events\n",
    "    })\n",
    "    \n",
    "    # Rename the columns\n",
    "    aggregated_data.rename(columns={\n",
    "        'Energy (kWh)': 'Total Energy (kWh)',\n",
    "        f'Charging Time ({time_window})': f'Total Charging Duration ({time_window})',\n",
    "        'User ID': 'Event Count'\n",
    "    }, inplace=True)\n",
    "\n",
    "    aggregated_data = aggregated_data.reset_index()\n",
    "    aggregated_data.set_index('Start Date', inplace=True)\n",
    "    \n",
    "    return aggregated_data"
   ]
  },
  {
   "cell_type": "code",
   "execution_count": 81,
   "metadata": {},
   "outputs": [],
   "source": [
    "# Example usage\n",
    "## frequency: 1H, 1D, 1W, 1M\n",
    "freq = '1D'\n",
    "EVdata = aggregate_ev_charging(EVdf0, freq)"
   ]
  },
  {
   "cell_type": "code",
   "execution_count": 82,
   "metadata": {},
   "outputs": [
    {
     "data": {
      "text/html": [
       "<div>\n",
       "<style scoped>\n",
       "    .dataframe tbody tr th:only-of-type {\n",
       "        vertical-align: middle;\n",
       "    }\n",
       "\n",
       "    .dataframe tbody tr th {\n",
       "        vertical-align: top;\n",
       "    }\n",
       "\n",
       "    .dataframe thead th {\n",
       "        text-align: right;\n",
       "    }\n",
       "</style>\n",
       "<table border=\"1\" class=\"dataframe\">\n",
       "  <thead>\n",
       "    <tr style=\"text-align: right;\">\n",
       "      <th></th>\n",
       "      <th>Station Name</th>\n",
       "      <th>Total Energy (kWh)</th>\n",
       "      <th>Total Charging Duration (1D)</th>\n",
       "      <th>Event Count</th>\n",
       "    </tr>\n",
       "    <tr>\n",
       "      <th>Start Date</th>\n",
       "      <th></th>\n",
       "      <th></th>\n",
       "      <th></th>\n",
       "      <th></th>\n",
       "    </tr>\n",
       "  </thead>\n",
       "  <tbody>\n",
       "    <tr>\n",
       "      <th>2020-09-06</th>\n",
       "      <td>PALO ALTO CA / BRYANT # 1</td>\n",
       "      <td>5.355</td>\n",
       "      <td>1.671111</td>\n",
       "      <td>1</td>\n",
       "    </tr>\n",
       "    <tr>\n",
       "      <th>2020-09-07</th>\n",
       "      <td>PALO ALTO CA / BRYANT # 1</td>\n",
       "      <td>0.000</td>\n",
       "      <td>0.000000</td>\n",
       "      <td>0</td>\n",
       "    </tr>\n",
       "    <tr>\n",
       "      <th>2020-09-08</th>\n",
       "      <td>PALO ALTO CA / BRYANT # 1</td>\n",
       "      <td>0.000</td>\n",
       "      <td>0.000000</td>\n",
       "      <td>0</td>\n",
       "    </tr>\n",
       "    <tr>\n",
       "      <th>2020-09-09</th>\n",
       "      <td>PALO ALTO CA / BRYANT # 1</td>\n",
       "      <td>0.000</td>\n",
       "      <td>0.000000</td>\n",
       "      <td>0</td>\n",
       "    </tr>\n",
       "    <tr>\n",
       "      <th>2020-09-10</th>\n",
       "      <td>PALO ALTO CA / BRYANT # 1</td>\n",
       "      <td>0.000</td>\n",
       "      <td>0.000000</td>\n",
       "      <td>0</td>\n",
       "    </tr>\n",
       "    <tr>\n",
       "      <th>...</th>\n",
       "      <td>...</td>\n",
       "      <td>...</td>\n",
       "      <td>...</td>\n",
       "      <td>...</td>\n",
       "    </tr>\n",
       "    <tr>\n",
       "      <th>2020-12-27</th>\n",
       "      <td>PALO ALTO CA / WEBSTER #3</td>\n",
       "      <td>0.000</td>\n",
       "      <td>0.000000</td>\n",
       "      <td>0</td>\n",
       "    </tr>\n",
       "    <tr>\n",
       "      <th>2020-12-28</th>\n",
       "      <td>PALO ALTO CA / WEBSTER #3</td>\n",
       "      <td>0.000</td>\n",
       "      <td>0.000000</td>\n",
       "      <td>0</td>\n",
       "    </tr>\n",
       "    <tr>\n",
       "      <th>2020-12-29</th>\n",
       "      <td>PALO ALTO CA / WEBSTER #3</td>\n",
       "      <td>37.291</td>\n",
       "      <td>6.106667</td>\n",
       "      <td>3</td>\n",
       "    </tr>\n",
       "    <tr>\n",
       "      <th>2020-12-30</th>\n",
       "      <td>PALO ALTO CA / WEBSTER #3</td>\n",
       "      <td>47.706</td>\n",
       "      <td>7.938333</td>\n",
       "      <td>2</td>\n",
       "    </tr>\n",
       "    <tr>\n",
       "      <th>2020-12-31</th>\n",
       "      <td>PALO ALTO CA / WEBSTER #3</td>\n",
       "      <td>7.075</td>\n",
       "      <td>1.161667</td>\n",
       "      <td>1</td>\n",
       "    </tr>\n",
       "  </tbody>\n",
       "</table>\n",
       "<p>45022 rows × 4 columns</p>\n",
       "</div>"
      ],
      "text/plain": [
       "                         Station Name  Total Energy (kWh)  \\\n",
       "Start Date                                                  \n",
       "2020-09-06  PALO ALTO CA / BRYANT # 1               5.355   \n",
       "2020-09-07  PALO ALTO CA / BRYANT # 1               0.000   \n",
       "2020-09-08  PALO ALTO CA / BRYANT # 1               0.000   \n",
       "2020-09-09  PALO ALTO CA / BRYANT # 1               0.000   \n",
       "2020-09-10  PALO ALTO CA / BRYANT # 1               0.000   \n",
       "...                               ...                 ...   \n",
       "2020-12-27  PALO ALTO CA / WEBSTER #3               0.000   \n",
       "2020-12-28  PALO ALTO CA / WEBSTER #3               0.000   \n",
       "2020-12-29  PALO ALTO CA / WEBSTER #3              37.291   \n",
       "2020-12-30  PALO ALTO CA / WEBSTER #3              47.706   \n",
       "2020-12-31  PALO ALTO CA / WEBSTER #3               7.075   \n",
       "\n",
       "            Total Charging Duration (1D)  Event Count  \n",
       "Start Date                                             \n",
       "2020-09-06                      1.671111            1  \n",
       "2020-09-07                      0.000000            0  \n",
       "2020-09-08                      0.000000            0  \n",
       "2020-09-09                      0.000000            0  \n",
       "2020-09-10                      0.000000            0  \n",
       "...                                  ...          ...  \n",
       "2020-12-27                      0.000000            0  \n",
       "2020-12-28                      0.000000            0  \n",
       "2020-12-29                      6.106667            3  \n",
       "2020-12-30                      7.938333            2  \n",
       "2020-12-31                      1.161667            1  \n",
       "\n",
       "[45022 rows x 4 columns]"
      ]
     },
     "execution_count": 82,
     "metadata": {},
     "output_type": "execute_result"
    }
   ],
   "source": [
    "EVdata"
   ]
  },
  {
   "cell_type": "code",
   "execution_count": 83,
   "metadata": {},
   "outputs": [],
   "source": [
    "# Set 'Start Date' as the index\n",
    "# EVdata.set_index('Start Date', inplace=True)"
   ]
  },
  {
   "cell_type": "markdown",
   "metadata": {},
   "source": [
    "##### Multiple series"
   ]
  },
  {
   "cell_type": "code",
   "execution_count": 84,
   "metadata": {},
   "outputs": [],
   "source": [
    "def multiple_time_series(data, target, fields):\n",
    "    # Initialize LabelEncoder\n",
    "    label_encoder = LabelEncoder()\n",
    "    testData = data.loc[:, fields]\n",
    "    testData = testData.rename(columns = {\"Total Energy (kWh)\": \"target\"})\n",
    "    testData['item_id'] = label_encoder.fit_transform(testData['Station Name'])\n",
    "    station_name_map = testData[['Station Name', 'item_id']]\n",
    "    testData.drop(columns = ['Station Name'], inplace = True)\n",
    "    return testData, station_name_map"
   ]
  },
  {
   "cell_type": "code",
   "execution_count": 85,
   "metadata": {},
   "outputs": [
    {
     "data": {
      "text/html": [
       "<div>\n",
       "<style scoped>\n",
       "    .dataframe tbody tr th:only-of-type {\n",
       "        vertical-align: middle;\n",
       "    }\n",
       "\n",
       "    .dataframe tbody tr th {\n",
       "        vertical-align: top;\n",
       "    }\n",
       "\n",
       "    .dataframe thead th {\n",
       "        text-align: right;\n",
       "    }\n",
       "</style>\n",
       "<table border=\"1\" class=\"dataframe\">\n",
       "  <thead>\n",
       "    <tr style=\"text-align: right;\">\n",
       "      <th></th>\n",
       "      <th>Event Count</th>\n",
       "      <th>target</th>\n",
       "      <th>Total Charging Duration (1D)</th>\n",
       "      <th>item_id</th>\n",
       "    </tr>\n",
       "    <tr>\n",
       "      <th>Start Date</th>\n",
       "      <th></th>\n",
       "      <th></th>\n",
       "      <th></th>\n",
       "      <th></th>\n",
       "    </tr>\n",
       "  </thead>\n",
       "  <tbody>\n",
       "    <tr>\n",
       "      <th>2020-09-06</th>\n",
       "      <td>1</td>\n",
       "      <td>5.355</td>\n",
       "      <td>1.671111</td>\n",
       "      <td>0</td>\n",
       "    </tr>\n",
       "    <tr>\n",
       "      <th>2020-09-07</th>\n",
       "      <td>0</td>\n",
       "      <td>0.000</td>\n",
       "      <td>0.000000</td>\n",
       "      <td>0</td>\n",
       "    </tr>\n",
       "    <tr>\n",
       "      <th>2020-09-08</th>\n",
       "      <td>0</td>\n",
       "      <td>0.000</td>\n",
       "      <td>0.000000</td>\n",
       "      <td>0</td>\n",
       "    </tr>\n",
       "    <tr>\n",
       "      <th>2020-09-09</th>\n",
       "      <td>0</td>\n",
       "      <td>0.000</td>\n",
       "      <td>0.000000</td>\n",
       "      <td>0</td>\n",
       "    </tr>\n",
       "    <tr>\n",
       "      <th>2020-09-10</th>\n",
       "      <td>0</td>\n",
       "      <td>0.000</td>\n",
       "      <td>0.000000</td>\n",
       "      <td>0</td>\n",
       "    </tr>\n",
       "  </tbody>\n",
       "</table>\n",
       "</div>"
      ],
      "text/plain": [
       "            Event Count  target  Total Charging Duration (1D)  item_id\n",
       "Start Date                                                            \n",
       "2020-09-06            1   5.355                      1.671111        0\n",
       "2020-09-07            0   0.000                      0.000000        0\n",
       "2020-09-08            0   0.000                      0.000000        0\n",
       "2020-09-09            0   0.000                      0.000000        0\n",
       "2020-09-10            0   0.000                      0.000000        0"
      ]
     },
     "execution_count": 85,
     "metadata": {},
     "output_type": "execute_result"
    }
   ],
   "source": [
    "target = \"Energy (kWh)\"\n",
    "# fields = [\"counts\", \"Energy (kWh)\"]\n",
    "fields = [\"Station Name\", \"Event Count\", \"Total Energy (kWh)\", f\"Total Charging Duration ({freq})\"]\n",
    "\n",
    "# testData = one_or_multiple_time_series(EVdata, station_name_list, target, item_id, fields)\n",
    "testData, station_name_map = multiple_time_series(EVdata, target, fields)\n",
    "testData.head()\n"
   ]
  },
  {
   "cell_type": "code",
   "execution_count": 86,
   "metadata": {},
   "outputs": [],
   "source": [
    "station_name_map = station_name_map.reset_index().drop(columns = [\"Start Date\"]).drop_duplicates().reset_index().drop(columns = [\"index\"])"
   ]
  },
  {
   "cell_type": "markdown",
   "metadata": {},
   "source": [
    "#### Handle missing data"
   ]
  },
  {
   "cell_type": "code",
   "execution_count": 87,
   "metadata": {},
   "outputs": [],
   "source": [
    "ds = PandasDataset.from_long_dataframe(testData, target=\"target\", item_id=\"item_id\", freq = freq)"
   ]
  },
  {
   "cell_type": "code",
   "execution_count": 88,
   "metadata": {},
   "outputs": [],
   "source": [
    "max_end = max(testData.groupby(\"item_id\").apply(lambda _df: _df.index[-1]))\n",
    "dfs_dict = {}\n",
    "for item_id, gdf in testData.groupby(\"item_id\"):\n",
    "    new_index = pd.date_range(gdf.index[0], end=max_end, freq=\"1D\")\n",
    "    dfs_dict[item_id] = gdf.reindex(new_index).drop(\"item_id\", axis=1)\n",
    "    dfs_dict[item_id][np.isnan(dfs_dict[item_id])] = 0\n",
    "# print(dfs_dict)"
   ]
  },
  {
   "cell_type": "code",
   "execution_count": 89,
   "metadata": {},
   "outputs": [
    {
     "name": "stderr",
     "output_type": "stream",
     "text": [
      "/var/folders/32/16m3_s4n0nxfr4l3yr1wflmm0000gn/T/ipykernel_8133/1775071469.py:2: VisibleDeprecationWarning: Creating an ndarray from ragged nested sequences (which is a list-or-tuple of lists-or-tuples-or ndarrays with different lengths or shapes) is deprecated. If you meant to do this, you must specify 'dtype=object' when creating the ndarray.\n",
      "  counts = np.array([dfs_dict[item].loc[:, \"Event Count\"].to_numpy() for item in dfs_dict])\n",
      "/var/folders/32/16m3_s4n0nxfr4l3yr1wflmm0000gn/T/ipykernel_8133/1775071469.py:3: VisibleDeprecationWarning: Creating an ndarray from ragged nested sequences (which is a list-or-tuple of lists-or-tuples-or ndarrays with different lengths or shapes) is deprecated. If you meant to do this, you must specify 'dtype=object' when creating the ndarray.\n",
      "  charge_duration = np.array([dfs_dict[item].loc[:, \"Total Charging Duration (1D)\"].to_numpy() for item in dfs_dict])\n"
     ]
    }
   ],
   "source": [
    "ds = PandasDataset(dfs_dict, target=\"target\")\n",
    "counts = np.array([dfs_dict[item].loc[:, \"Event Count\"].to_numpy() for item in dfs_dict])\n",
    "charge_duration = np.array([dfs_dict[item].loc[:, \"Total Charging Duration (1D)\"].to_numpy() for item in dfs_dict])"
   ]
  },
  {
   "cell_type": "markdown",
   "metadata": {},
   "source": [
    "#### Add multiple features"
   ]
  },
  {
   "cell_type": "markdown",
   "metadata": {},
   "source": [
    "##### Number of counts"
   ]
  },
  {
   "cell_type": "code",
   "execution_count": 90,
   "metadata": {},
   "outputs": [],
   "source": [
    "train_val_test_split = [0.7, 0.2, 0.1]\n",
    "train_length = math.floor(next(iter(ds))[\"target\"].shape[0]*train_val_test_split[0])\n",
    "validation_length = math.floor(next(iter(ds))[\"target\"].shape[0]*train_val_test_split[1])\n",
    "prediction_length = math.floor(next(iter(ds))[\"target\"].shape[0]*train_val_test_split[2])\n",
    "train_start = pd.Period(EVdata.index.min(), freq = freq)"
   ]
  },
  {
   "cell_type": "markdown",
   "metadata": {},
   "source": [
    "##### Temporal variables"
   ]
  },
  {
   "cell_type": "code",
   "execution_count": 91,
   "metadata": {},
   "outputs": [],
   "source": [
    "holidat_set = SpecialDateFeatureSet([CHRISTMAS_EVE, CHRISTMAS_DAY])"
   ]
  },
  {
   "cell_type": "code",
   "execution_count": 92,
   "metadata": {},
   "outputs": [
    {
     "data": {
      "text/plain": [
       "(Timestamp('2016-08-01 00:00:00'), Timestamp('2020-12-31 00:00:00'))"
      ]
     },
     "execution_count": 92,
     "metadata": {},
     "output_type": "execute_result"
    }
   ],
   "source": [
    "start_date = EVdata.index.min()\n",
    "end_date = EVdata.index.max()\n",
    "start_date, end_date"
   ]
  },
  {
   "cell_type": "code",
   "execution_count": 93,
   "metadata": {},
   "outputs": [],
   "source": [
    "date_indices = pd.date_range(\n",
    "    start = start_date,\n",
    "    end = end_date,\n",
    "    freq = freq\n",
    ")"
   ]
  },
  {
   "cell_type": "code",
   "execution_count": 94,
   "metadata": {},
   "outputs": [],
   "source": [
    "day_of_week_variable = np.array([day_of_week(date_indices) for item in ds])\n",
    "day_of_month_variable = np.array([day_of_month(date_indices) for item in ds])\n",
    "day_year_variable = np.array([day_of_year(date_indices) for item in ds])\n",
    "week_of_year_variable = np.array([week_of_year(date_indices) for item in ds])\n",
    "month_of_year_variable = np.array([month_of_year(date_indices) for item in ds])"
   ]
  },
  {
   "cell_type": "code",
   "execution_count": 95,
   "metadata": {},
   "outputs": [
    {
     "data": {
      "text/plain": [
       "1614"
      ]
     },
     "execution_count": 95,
     "metadata": {},
     "output_type": "execute_result"
    }
   ],
   "source": [
    "len(day_of_week_variable[10])"
   ]
  },
  {
   "cell_type": "code",
   "execution_count": 96,
   "metadata": {},
   "outputs": [
    {
     "data": {
      "text/plain": [
       "81"
      ]
     },
     "execution_count": 96,
     "metadata": {},
     "output_type": "execute_result"
    }
   ],
   "source": [
    "len(day_of_week_variable[0][:train_length])"
   ]
  },
  {
   "cell_type": "markdown",
   "metadata": {},
   "source": [
    "#### Use train and split"
   ]
  },
  {
   "cell_type": "markdown",
   "metadata": {},
   "source": [
    "##### Pad multiple time seires"
   ]
  },
  {
   "cell_type": "code",
   "execution_count": 97,
   "metadata": {},
   "outputs": [
    {
     "data": {
      "text/plain": [
       "[{'start': Period('2020-09-06', 'D'),\n",
       "  'target': array([ 5.355,  0.   ,  0.   ,  0.   ,  0.   ,  0.   ,  0.   ,  0.   ,\n",
       "          0.   ,  0.   ,  0.   ,  0.   ,  0.   ,  0.   ,  0.   ,  0.   ,\n",
       "          0.   ,  0.   ,  0.   ,  0.   ,  0.   ,  0.   ,  0.   ,  0.   ,\n",
       "          0.   ,  0.   ,  0.   ,  0.   ,  0.   ,  0.   ,  0.   ,  0.   ,\n",
       "          0.   ,  0.   ,  0.   ,  0.   ,  0.   ,  4.361, 42.064,  0.   ,\n",
       "          0.   , 16.092,  2.83 ,  1.867,  6.946, 13.314,  0.   ,  0.   ,\n",
       "          0.   ,  0.   ,  0.   ,  0.   ,  0.   ,  0.   ,  0.   ,  0.   ,\n",
       "          0.   ,  0.   ,  0.   ,  0.   ,  0.   ,  0.   ,  0.   ,  0.   ,\n",
       "          0.   ,  0.   ,  0.   ,  0.   ,  0.   ,  0.   ,  0.   ,  0.   ,\n",
       "          0.   ,  0.   ,  0.   ,  0.   ,  0.   ,  0.   ,  0.   ,  0.   ,\n",
       "          0.   ,  0.   ,  0.   ,  0.   ,  0.   ,  0.   ,  0.   ,  0.   ,\n",
       "          0.   ,  0.   ,  0.   ,  0.   ,  0.   ,  0.   ,  0.   ,  0.   ,\n",
       "          0.   ,  0.   ,  0.   ,  0.   , 10.705,  0.   ,  0.   ,  0.   ,\n",
       "          0.   ,  0.   ,  0.   ,  0.   ,  0.   ,  1.451,  0.   ,  0.   ,\n",
       "          0.   ,  0.   ,  0.   ,  0.   ,  0.   ]),\n",
       "  'item_id': 0},\n",
       " {'start': Period('2016-08-01', 'D'),\n",
       "  'target': array([65.93578 , 37.078389, 31.307831, ...,  0.      ,  0.      ,\n",
       "          0.      ]),\n",
       "  'item_id': 1},\n",
       " {'start': Period('2016-08-01', 'D'),\n",
       "  'target': array([62.881228, 38.366218, 50.434908, ...,  0.      ,  0.      ,\n",
       "          0.      ]),\n",
       "  'item_id': 2},\n",
       " {'start': Period('2016-08-01', 'D'),\n",
       "  'target': array([38.87016 , 61.286815, 23.776161, ...,  0.      ,  0.      ,\n",
       "          0.      ]),\n",
       "  'item_id': 3},\n",
       " {'start': Period('2017-07-05', 'D'),\n",
       "  'target': array([ 5.463, 70.373, 57.283, ...,  5.903, 14.727, 41.626]),\n",
       "  'item_id': 4},\n",
       " {'start': Period('2017-07-05', 'D'),\n",
       "  'target': array([23.115, 46.042, 53.924, ...,  0.   ,  0.   ,  0.   ]),\n",
       "  'item_id': 5},\n",
       " {'start': Period('2017-07-05', 'D'),\n",
       "  'target': array([ 9.043, 28.44 , 76.208, ..., 16.918, 22.023,  0.   ]),\n",
       "  'item_id': 6},\n",
       " {'start': Period('2016-08-01', 'D'),\n",
       "  'target': array([86.989137, 48.179031, 65.623258, ...,  8.731   ,  5.518   ,\n",
       "          7.768   ]),\n",
       "  'item_id': 7},\n",
       " {'start': Period('2016-08-01', 'D'),\n",
       "  'target': array([74.735361, 64.970875, 47.835672, ...,  2.627   ,  0.      ,\n",
       "          0.      ]),\n",
       "  'item_id': 8},\n",
       " {'start': Period('2018-03-22', 'D'),\n",
       "  'target': array([ 5.585, 19.972,  0.   , ...,  6.125,  7.961,  7.123]),\n",
       "  'item_id': 9},\n",
       " {'start': Period('2018-03-23', 'D'),\n",
       "  'target': array([25.713,  0.   , 23.374, ...,  1.898,  0.   ,  7.27 ]),\n",
       "  'item_id': 10},\n",
       " {'start': Period('2018-03-21', 'D'),\n",
       "  'target': array([12.683,  0.   ,  7.   , ..., 12.651,  5.223,  3.003]),\n",
       "  'item_id': 11},\n",
       " {'start': Period('2016-08-01', 'D'),\n",
       "  'target': array([40.355306, 54.062665, 42.690874, ...,  0.      ,  0.      ,\n",
       "          0.      ]),\n",
       "  'item_id': 12},\n",
       " {'start': Period('2016-08-01', 'D'),\n",
       "  'target': array([ 47.996697, 122.978802,  84.742296, ...,   0.      ,   0.      ,\n",
       "           0.      ]),\n",
       "  'item_id': 13},\n",
       " {'start': Period('2016-08-01', 'D'),\n",
       "  'target': array([110.72245 , 119.701479,  76.46227 , ...,  52.039   ,   0.      ,\n",
       "          24.125   ]),\n",
       "  'item_id': 14},\n",
       " {'start': Period('2017-01-06', 'D'),\n",
       "  'target': array([25.934, 10.529,  7.464, ..., 21.056, 12.876, 14.239]),\n",
       "  'item_id': 15},\n",
       " {'start': Period('2017-01-06', 'D'),\n",
       "  'target': array([ 1.775, 27.987,  0.   , ...,  0.   , 15.798,  0.   ]),\n",
       "  'item_id': 16},\n",
       " {'start': Period('2016-08-01', 'D'),\n",
       "  'target': array([44.4635  , 44.610821, 49.661513, ...,  0.      ,  0.      ,\n",
       "          0.      ]),\n",
       "  'item_id': 17},\n",
       " {'start': Period('2016-08-02', 'D'),\n",
       "  'target': array([19.181557, 11.888861,  0.      , ...,  0.      ,  0.      ,\n",
       "          0.      ]),\n",
       "  'item_id': 18},\n",
       " {'start': Period('2016-08-01', 'D'),\n",
       "  'target': array([19.822924,  9.479278,  4.179775, ...,  0.      ,  0.      ,\n",
       "          0.      ]),\n",
       "  'item_id': 19},\n",
       " {'start': Period('2016-08-01', 'D'),\n",
       "  'target': array([21.828968,  3.665999, 32.486881, ...,  0.      ,  0.      ,\n",
       "          0.      ]),\n",
       "  'item_id': 20},\n",
       " {'start': Period('2016-08-01', 'D'),\n",
       "  'target': array([36.487457, 45.609266, 46.258051, ..., 17.797   ,  0.      ,\n",
       "         32.274   ]),\n",
       "  'item_id': 21},\n",
       " {'start': Period('2016-08-01', 'D'),\n",
       "  'target': array([75.036721, 15.916851, 28.883104, ..., 32.217   , 36.042   ,\n",
       "          5.829   ]),\n",
       "  'item_id': 22},\n",
       " {'start': Period('2016-08-01', 'D'),\n",
       "  'target': array([43.76272 , 28.701823, 37.132677, ..., 33.423   , 10.039   ,\n",
       "         29.954   ]),\n",
       "  'item_id': 23},\n",
       " {'start': Period('2016-08-01', 'D'),\n",
       "  'target': array([55.116031, 23.286676, 48.472917, ...,  0.      ,  0.      ,\n",
       "          0.      ]),\n",
       "  'item_id': 24},\n",
       " {'start': Period('2016-08-01', 'D'),\n",
       "  'target': array([76.445901, 45.961648, 45.429272, ...,  0.      ,  0.      ,\n",
       "          0.      ]),\n",
       "  'item_id': 25},\n",
       " {'start': Period('2016-08-01', 'D'),\n",
       "  'target': array([43.610303, 53.410702, 55.759939, ...,  0.      ,  0.      ,\n",
       "          0.      ]),\n",
       "  'item_id': 26},\n",
       " {'start': Period('2020-12-16', 'D'),\n",
       "  'target': array([ 9.298, 34.318,  0.   ,  0.   ,  0.   ,  0.   ,  0.   ,  0.   ,\n",
       "          0.   ,  0.   ,  0.   ,  0.   ,  0.   ,  0.   , 21.037, 27.861]),\n",
       "  'item_id': 27},\n",
       " {'start': Period('2020-12-29', 'D'),\n",
       "  'target': array([17.154,  0.   ,  0.   ]),\n",
       "  'item_id': 28},\n",
       " {'start': Period('2020-12-18', 'D'),\n",
       "  'target': array([10.85 ,  0.   ,  0.   ,  0.   ,  0.   ,  0.   ,  0.   ,  0.   ,\n",
       "          0.   ,  7.469,  0.   ,  0.   ,  0.   ,  0.   ]),\n",
       "  'item_id': 29},\n",
       " {'start': Period('2020-12-26', 'D'),\n",
       "  'target': array([10.951,  0.   ,  0.   ,  0.   ,  0.   ,  0.   ]),\n",
       "  'item_id': 30},\n",
       " {'start': Period('2020-12-29', 'D'),\n",
       "  'target': array([6.776, 0.   , 0.   ]),\n",
       "  'item_id': 31},\n",
       " {'start': Period('2020-12-27', 'D'),\n",
       "  'target': array([3.774, 0.   , 0.   , 0.   , 0.   ]),\n",
       "  'item_id': 32},\n",
       " {'start': Period('2020-12-17', 'D'),\n",
       "  'target': array([ 5.741, 28.057,  0.   ,  0.   ,  5.981,  8.995,  0.   ,  0.   ,\n",
       "          0.   ,  0.865, 28.074, 24.887,  0.   ,  0.   ,  0.   ]),\n",
       "  'item_id': 33},\n",
       " {'start': Period('2020-12-14', 'D'),\n",
       "  'target': array([ 2.889,  0.   ,  0.   ,  0.   ,  0.   ,  0.   ,  0.   ,  4.276,\n",
       "          0.   ,  0.   , 11.152,  0.   ,  0.   ,  4.664,  0.   ,  0.   ,\n",
       "          0.   ,  0.   ]),\n",
       "  'item_id': 34},\n",
       " {'start': Period('2020-12-25', 'D'),\n",
       "  'target': array([2.921, 0.   , 0.   , 0.   , 0.   , 0.   , 0.   ]),\n",
       "  'item_id': 35},\n",
       " {'start': Period('2020-12-18', 'D'),\n",
       "  'target': array([ 9.136,  0.   ,  0.   ,  0.   ,  0.   ,  0.   ,  0.   ,  0.   ,\n",
       "          0.   ,  0.   ,  0.   ,  0.   ,  0.   , 22.726]),\n",
       "  'item_id': 36},\n",
       " {'start': Period('2020-12-11', 'D'),\n",
       "  'target': array([20.852,  0.   , 31.285,  0.   ,  0.   ,  0.   ,  3.365,  0.   ,\n",
       "         22.971,  0.   ,  0.   ,  0.   ,  0.   ,  0.   ,  0.   ,  0.   ,\n",
       "          0.   ,  0.   ,  0.   ,  0.   ,  0.   ]),\n",
       "  'item_id': 37},\n",
       " {'start': Period('2020-12-13', 'D'),\n",
       "  'target': array([16.872,  0.   ,  0.   ,  0.   ,  0.   , 50.352,  0.   ,  0.   ,\n",
       "          0.   ,  0.   ,  0.   ,  0.   ,  0.   ,  0.   ,  0.   ,  0.   ,\n",
       "          0.   ,  0.   ,  0.   ]),\n",
       "  'item_id': 38},\n",
       " {'start': Period('2020-12-13', 'D'),\n",
       "  'target': array([4.906, 0.   , 0.   , 0.   , 0.   , 0.   , 0.   , 0.   , 0.   ,\n",
       "         0.   , 0.   , 0.   , 0.   , 0.   , 0.   , 0.   , 0.   , 0.   ,\n",
       "         0.   ]),\n",
       "  'item_id': 39},\n",
       " {'start': Period('2016-08-01', 'D'),\n",
       "  'target': array([91.045401, 71.540171, 88.719978, ...,  0.      ,  0.      ,\n",
       "          0.      ]),\n",
       "  'item_id': 40},\n",
       " {'start': Period('2018-03-21', 'D'),\n",
       "  'target': array([33.317, 17.702, 32.09 , ..., 16.262, 15.54 , 15.334]),\n",
       "  'item_id': 41},\n",
       " {'start': Period('2016-08-01', 'D'),\n",
       "  'target': array([ 76.072595,  73.702272, 105.756588, ...,  32.285   ,  45.451   ,\n",
       "          24.72    ]),\n",
       "  'item_id': 42},\n",
       " {'start': Period('2016-08-01', 'D'),\n",
       "  'target': array([114.208023,  90.824154,  73.865365, ...,  22.485   ,   0.      ,\n",
       "           0.      ]),\n",
       "  'item_id': 43},\n",
       " {'start': Period('2016-08-01', 'D'),\n",
       "  'target': array([88.684532, 94.174921, 94.156469, ..., 37.291   , 47.706   ,\n",
       "          7.075   ]),\n",
       "  'item_id': 44}]"
      ]
     },
     "execution_count": 97,
     "metadata": {},
     "output_type": "execute_result"
    }
   ],
   "source": [
    "[item for item in ds]"
   ]
  },
  {
   "cell_type": "code",
   "execution_count": 72,
   "metadata": {},
   "outputs": [
    {
     "name": "stdout",
     "output_type": "stream",
     "text": [
      "1614\n",
      "[array([0., 0., 0., ..., 0., 0., 0.]), array([65.93578 , 37.078389, 31.307831, ...,  0.      ,  0.      ,\n",
      "        0.      ]), array([62.881228, 38.366218, 50.434908, ...,  0.      ,  0.      ,\n",
      "        0.      ]), array([38.87016 , 61.286815, 23.776161, ...,  0.      ,  0.      ,\n",
      "        0.      ]), array([ 0.   ,  0.   ,  0.   , ...,  5.903, 14.727, 41.626]), array([0., 0., 0., ..., 0., 0., 0.]), array([ 0.   ,  0.   ,  0.   , ..., 16.918, 22.023,  0.   ]), array([86.989137, 48.179031, 65.623258, ...,  8.731   ,  5.518   ,\n",
      "        7.768   ]), array([74.735361, 64.970875, 47.835672, ...,  2.627   ,  0.      ,\n",
      "        0.      ]), array([0.   , 0.   , 0.   , ..., 6.125, 7.961, 7.123]), array([0.   , 0.   , 0.   , ..., 1.898, 0.   , 7.27 ]), array([ 0.   ,  0.   ,  0.   , ..., 12.651,  5.223,  3.003]), array([40.355306, 54.062665, 42.690874, ...,  0.      ,  0.      ,\n",
      "        0.      ]), array([ 47.996697, 122.978802,  84.742296, ...,   0.      ,   0.      ,\n",
      "         0.      ]), array([110.72245 , 119.701479,  76.46227 , ...,  52.039   ,   0.      ,\n",
      "        24.125   ]), array([ 0.   ,  0.   ,  0.   , ..., 21.056, 12.876, 14.239]), array([ 0.   ,  0.   ,  0.   , ...,  0.   , 15.798,  0.   ]), array([44.4635  , 44.610821, 49.661513, ...,  0.      ,  0.      ,\n",
      "        0.      ]), array([ 0.      , 19.181557, 11.888861, ...,  0.      ,  0.      ,\n",
      "        0.      ]), array([19.822924,  9.479278,  4.179775, ...,  0.      ,  0.      ,\n",
      "        0.      ]), array([21.828968,  3.665999, 32.486881, ...,  0.      ,  0.      ,\n",
      "        0.      ]), array([36.487457, 45.609266, 46.258051, ..., 17.797   ,  0.      ,\n",
      "       32.274   ]), array([75.036721, 15.916851, 28.883104, ..., 32.217   , 36.042   ,\n",
      "        5.829   ]), array([43.76272 , 28.701823, 37.132677, ..., 33.423   , 10.039   ,\n",
      "       29.954   ]), array([55.116031, 23.286676, 48.472917, ...,  0.      ,  0.      ,\n",
      "        0.      ]), array([76.445901, 45.961648, 45.429272, ...,  0.      ,  0.      ,\n",
      "        0.      ]), array([43.610303, 53.410702, 55.759939, ...,  0.      ,  0.      ,\n",
      "        0.      ]), array([ 0.   ,  0.   ,  0.   , ...,  0.   , 21.037, 27.861]), array([ 0.   ,  0.   ,  0.   , ..., 17.154,  0.   ,  0.   ]), array([0., 0., 0., ..., 0., 0., 0.]), array([0., 0., 0., ..., 0., 0., 0.]), array([0.   , 0.   , 0.   , ..., 6.776, 0.   , 0.   ]), array([0., 0., 0., ..., 0., 0., 0.]), array([0., 0., 0., ..., 0., 0., 0.]), array([0., 0., 0., ..., 0., 0., 0.]), array([0., 0., 0., ..., 0., 0., 0.]), array([ 0.   ,  0.   ,  0.   , ...,  0.   ,  0.   , 22.726]), array([0., 0., 0., ..., 0., 0., 0.]), array([0., 0., 0., ..., 0., 0., 0.]), array([0., 0., 0., ..., 0., 0., 0.]), array([91.045401, 71.540171, 88.719978, ...,  0.      ,  0.      ,\n",
      "        0.      ]), array([ 0.   ,  0.   ,  0.   , ..., 16.262, 15.54 , 15.334]), array([ 76.072595,  73.702272, 105.756588, ...,  32.285   ,  45.451   ,\n",
      "        24.72    ]), array([114.208023,  90.824154,  73.865365, ...,  22.485   ,   0.      ,\n",
      "         0.      ]), array([88.684532, 94.174921, 94.156469, ..., 37.291   , 47.706   ,\n",
      "        7.075   ])]\n"
     ]
    }
   ],
   "source": [
    "max_length = max(len(item['target']) for item in ds)\n",
    "print(max_length)\n",
    "padded_targets = [np.pad(arr['target'], (max_length - len(arr['target']), 0), mode='constant') for arr in ds]\n",
    "print(padded_targets)\n",
    "target = np.vstack(padded_targets)"
   ]
  },
  {
   "cell_type": "code",
   "execution_count": 70,
   "metadata": {},
   "outputs": [
    {
     "data": {
      "text/plain": [
       "45"
      ]
     },
     "execution_count": 70,
     "metadata": {},
     "output_type": "execute_result"
    }
   ],
   "source": [
    "len(target)"
   ]
  },
  {
   "cell_type": "code",
   "execution_count": 48,
   "metadata": {},
   "outputs": [
    {
     "data": {
      "text/plain": [
       "45"
      ]
     },
     "execution_count": 48,
     "metadata": {},
     "output_type": "execute_result"
    }
   ],
   "source": [
    "len(dfs_dict)"
   ]
  },
  {
   "cell_type": "code",
   "execution_count": 47,
   "metadata": {},
   "outputs": [
    {
     "data": {
      "text/plain": [
       "45"
      ]
     },
     "execution_count": 47,
     "metadata": {},
     "output_type": "execute_result"
    }
   ],
   "source": [
    "len(ds)"
   ]
  },
  {
   "cell_type": "code",
   "execution_count": 46,
   "metadata": {},
   "outputs": [
    {
     "data": {
      "text/plain": [
       "1614"
      ]
     },
     "execution_count": 46,
     "metadata": {},
     "output_type": "execute_result"
    }
   ],
   "source": [
    "len(target[0])"
   ]
  },
  {
   "cell_type": "code",
   "execution_count": 49,
   "metadata": {},
   "outputs": [],
   "source": [
    "max_length_counts = max(len(item) for item in counts)\n",
    "padded_counts = [np.pad(arr, (max_length_counts - len(arr), 0), mode='constant') for arr in counts]\n",
    "padded_counts_stack = np.vstack(padded_counts)"
   ]
  },
  {
   "cell_type": "code",
   "execution_count": 50,
   "metadata": {},
   "outputs": [],
   "source": [
    "max_length_duration = max(len(item) for item in charge_duration)\n",
    "padded_duration = [np.pad(arr, (max_length_duration - len(arr), 0), mode='constant') for arr in charge_duration]\n",
    "padded_duration_stack = np.vstack(padded_duration)"
   ]
  },
  {
   "cell_type": "code",
   "execution_count": 67,
   "metadata": {},
   "outputs": [
    {
     "data": {
      "text/plain": [
       "array([[  0.      ,   0.      ,   0.      , ...,   0.      ,   0.      ,\n",
       "          0.      ],\n",
       "       [ 65.93578 ,  37.078389,  31.307831, ...,   0.      ,   0.      ,\n",
       "          0.      ],\n",
       "       [ 62.881228,  38.366218,  50.434908, ...,   0.      ,   0.      ,\n",
       "          0.      ],\n",
       "       ...,\n",
       "       [ 76.072595,  73.702272, 105.756588, ...,  32.285   ,  45.451   ,\n",
       "         24.72    ],\n",
       "       [114.208023,  90.824154,  73.865365, ...,  22.485   ,   0.      ,\n",
       "          0.      ],\n",
       "       [ 88.684532,  94.174921,  94.156469, ...,  37.291   ,  47.706   ,\n",
       "          7.075   ]])"
      ]
     },
     "execution_count": 67,
     "metadata": {},
     "output_type": "execute_result"
    }
   ],
   "source": [
    "target"
   ]
  },
  {
   "cell_type": "code",
   "execution_count": 52,
   "metadata": {},
   "outputs": [
    {
     "data": {
      "text/plain": [
       "2"
      ]
     },
     "execution_count": 52,
     "metadata": {},
     "output_type": "execute_result"
    }
   ],
   "source": [
    "target.ndim"
   ]
  },
  {
   "cell_type": "code",
   "execution_count": 53,
   "metadata": {},
   "outputs": [
    {
     "data": {
      "text/plain": [
       "45"
      ]
     },
     "execution_count": 53,
     "metadata": {},
     "output_type": "execute_result"
    }
   ],
   "source": [
    "len(target[:, :train_length])"
   ]
  },
  {
   "cell_type": "code",
   "execution_count": 65,
   "metadata": {},
   "outputs": [
    {
     "data": {
      "text/plain": [
       "range(0, 45)"
      ]
     },
     "execution_count": 65,
     "metadata": {},
     "output_type": "execute_result"
    }
   ],
   "source": [
    "range(len(target))"
   ]
  },
  {
   "cell_type": "code",
   "execution_count": 66,
   "metadata": {},
   "outputs": [
    {
     "data": {
      "text/plain": [
       "Period('2016-08-01', 'D')"
      ]
     },
     "execution_count": 66,
     "metadata": {},
     "output_type": "execute_result"
    }
   ],
   "source": [
    "start_date_period = pd.Period(EVdata.index.min(), freq=freq)\n",
    "start_date_period"
   ]
  },
  {
   "cell_type": "code",
   "execution_count": 54,
   "metadata": {},
   "outputs": [],
   "source": [
    "start_date_period = pd.Period(EVdata.index.min(), freq=freq)\n",
    "start_stack = [start_date_period for _ in range(len(target))]"
   ]
  },
  {
   "cell_type": "code",
   "execution_count": null,
   "metadata": {},
   "outputs": [],
   "source": [
    "[pd.Period('2016-08-01', 'D') for _ in range(0, 45)]"
   ]
  },
  {
   "cell_type": "code",
   "execution_count": 62,
   "metadata": {},
   "outputs": [
    {
     "data": {
      "text/plain": [
       "[Period('2016-08-01', 'D'),\n",
       " Period('2016-08-01', 'D'),\n",
       " Period('2016-08-01', 'D'),\n",
       " Period('2016-08-01', 'D'),\n",
       " Period('2016-08-01', 'D'),\n",
       " Period('2016-08-01', 'D'),\n",
       " Period('2016-08-01', 'D'),\n",
       " Period('2016-08-01', 'D'),\n",
       " Period('2016-08-01', 'D'),\n",
       " Period('2016-08-01', 'D'),\n",
       " Period('2016-08-01', 'D'),\n",
       " Period('2016-08-01', 'D'),\n",
       " Period('2016-08-01', 'D'),\n",
       " Period('2016-08-01', 'D'),\n",
       " Period('2016-08-01', 'D'),\n",
       " Period('2016-08-01', 'D'),\n",
       " Period('2016-08-01', 'D'),\n",
       " Period('2016-08-01', 'D'),\n",
       " Period('2016-08-01', 'D'),\n",
       " Period('2016-08-01', 'D'),\n",
       " Period('2016-08-01', 'D'),\n",
       " Period('2016-08-01', 'D'),\n",
       " Period('2016-08-01', 'D'),\n",
       " Period('2016-08-01', 'D'),\n",
       " Period('2016-08-01', 'D'),\n",
       " Period('2016-08-01', 'D'),\n",
       " Period('2016-08-01', 'D'),\n",
       " Period('2016-08-01', 'D'),\n",
       " Period('2016-08-01', 'D'),\n",
       " Period('2016-08-01', 'D'),\n",
       " Period('2016-08-01', 'D'),\n",
       " Period('2016-08-01', 'D'),\n",
       " Period('2016-08-01', 'D'),\n",
       " Period('2016-08-01', 'D'),\n",
       " Period('2016-08-01', 'D'),\n",
       " Period('2016-08-01', 'D'),\n",
       " Period('2016-08-01', 'D'),\n",
       " Period('2016-08-01', 'D'),\n",
       " Period('2016-08-01', 'D'),\n",
       " Period('2016-08-01', 'D'),\n",
       " Period('2016-08-01', 'D'),\n",
       " Period('2016-08-01', 'D'),\n",
       " Period('2016-08-01', 'D'),\n",
       " Period('2016-08-01', 'D'),\n",
       " Period('2016-08-01', 'D')]"
      ]
     },
     "execution_count": 62,
     "metadata": {},
     "output_type": "execute_result"
    }
   ],
   "source": [
    "start_stack"
   ]
  },
  {
   "cell_type": "code",
   "execution_count": 58,
   "metadata": {},
   "outputs": [
    {
     "data": {
      "text/plain": [
       "'1D'"
      ]
     },
     "execution_count": 58,
     "metadata": {},
     "output_type": "execute_result"
    }
   ],
   "source": [
    "freq"
   ]
  },
  {
   "cell_type": "code",
   "execution_count": 59,
   "metadata": {},
   "outputs": [
    {
     "data": {
      "text/plain": [
       "81"
      ]
     },
     "execution_count": 59,
     "metadata": {},
     "output_type": "execute_result"
    }
   ],
   "source": [
    "len(target[:, :train_length][0])"
   ]
  },
  {
   "cell_type": "code",
   "execution_count": 60,
   "metadata": {},
   "outputs": [
    {
     "data": {
      "text/plain": [
       "1614"
      ]
     },
     "execution_count": 60,
     "metadata": {},
     "output_type": "execute_result"
    }
   ],
   "source": [
    "len(day_of_week_variable[:][:train_length][0])"
   ]
  },
  {
   "cell_type": "code",
   "execution_count": 64,
   "metadata": {},
   "outputs": [],
   "source": [
    "train_ds = ListDataset(\n",
    "    [\n",
    "        {\n",
    "            FieldName.TARGET: target,\n",
    "            FieldName.START: start,\n",
    "            FieldName.FEAT_DYNAMIC_REAL: [counts, dayofweek, monthofyear],\n",
    "        }\n",
    "        for (target, start, counts, duration, dayofweek, monthofyear) in zip(\n",
    "            target[:, :train_length],\n",
    "            start_stack,\n",
    "            padded_counts_stack[:, :train_length],\n",
    "            padded_duration_stack[:, :train_length],\n",
    "            day_of_week_variable[:, :train_length],\n",
    "            month_of_year_variable[:, :train_length]\n",
    "        )\n",
    "    ],\n",
    "    freq=freq,\n",
    ")"
   ]
  },
  {
   "cell_type": "code",
   "execution_count": 41,
   "metadata": {},
   "outputs": [],
   "source": [
    "val_ds = ListDataset(\n",
    "    [\n",
    "        {\n",
    "            FieldName.TARGET: target,\n",
    "            FieldName.START: start,\n",
    "            FieldName.FEAT_DYNAMIC_REAL: [counts, dayofweek, monthofyear],\n",
    "        }\n",
    "        for (target, start, counts, duration, dayofweek, monthofyear) in zip(\n",
    "            target[:, :-prediction_length],\n",
    "            start_stack,\n",
    "            padded_counts_stack[:, :-prediction_length],\n",
    "            padded_duration_stack[:, :-prediction_length],\n",
    "            day_of_week_variable[:, :-prediction_length],\n",
    "            month_of_year_variable[:, :-prediction_length]\n",
    "        )\n",
    "    ],\n",
    "    freq=freq,\n",
    ")"
   ]
  },
  {
   "cell_type": "code",
   "execution_count": 42,
   "metadata": {},
   "outputs": [],
   "source": [
    "test_ds = ListDataset(\n",
    "    [\n",
    "        {\n",
    "            FieldName.TARGET: target,\n",
    "            FieldName.START: start,\n",
    "            FieldName.FEAT_DYNAMIC_REAL: [counts, dayofweek, monthofyear],\n",
    "        }\n",
    "        for (target, start, counts, duration, dayofweek, monthofyear) in zip(\n",
    "            target,\n",
    "            start_stack,\n",
    "            padded_counts_stack,\n",
    "            padded_duration_stack,\n",
    "            day_of_week_variable,\n",
    "            month_of_year_variable\n",
    "        )\n",
    "    ],\n",
    "    freq=freq,\n",
    ")"
   ]
  },
  {
   "cell_type": "code",
   "execution_count": 43,
   "metadata": {},
   "outputs": [],
   "source": [
    "def check_train_val_test_data(train_ds, val_ds, test_ds):\n",
    "    print(\"training data: \\n \\t {} \\n\".format(train_ds))\n",
    "    print(\"validation data: \\n \\t {} \\n\".format(val_ds))\n",
    "    print(\"testing data: \\n \\t {} \\n\".format(test_ds))"
   ]
  },
  {
   "cell_type": "code",
   "execution_count": 44,
   "metadata": {},
   "outputs": [
    {
     "name": "stdout",
     "output_type": "stream",
     "text": [
      "training data: \n",
      " \t [{'target': array([ 0.   ,  0.   ,  0.   , ...,  2.236, 14.95 , 13.872], dtype=float32), 'start': Period('2011-07-29', 'D'), 'feat_dynamic_real': array([[ 0.        ,  0.        ,  0.        , ...,  1.        ,\n",
      "         2.        ,  1.        ],\n",
      "       [ 0.16666667,  0.33333334,  0.5       , ...,  0.5       ,\n",
      "        -0.5       , -0.33333334],\n",
      "       [ 0.04545455,  0.04545455,  0.04545455, ..., -0.5       ,\n",
      "        -0.5       , -0.5       ]], dtype=float32)}, {'target': array([ 0.   ,  0.   ,  0.   , ...,  0.   , 14.535, 18.047], dtype=float32), 'start': Period('2011-07-29', 'D'), 'feat_dynamic_real': array([[ 0.        ,  0.        ,  0.        , ...,  0.        ,\n",
      "         1.        ,  1.        ],\n",
      "       [ 0.16666667,  0.33333334,  0.5       , ...,  0.5       ,\n",
      "        -0.5       , -0.33333334],\n",
      "       [ 0.04545455,  0.04545455,  0.04545455, ..., -0.5       ,\n",
      "        -0.5       , -0.5       ]], dtype=float32)}, {'target': array([ 0.   ,  0.   ,  0.   , ..., 14.596, 18.964, 22.849], dtype=float32), 'start': Period('2011-07-29', 'D'), 'feat_dynamic_real': array([[ 0.        ,  0.        ,  0.        , ...,  3.        ,\n",
      "         2.        ,  2.        ],\n",
      "       [ 0.16666667,  0.33333334,  0.5       , ...,  0.5       ,\n",
      "        -0.5       , -0.33333334],\n",
      "       [ 0.04545455,  0.04545455,  0.04545455, ..., -0.5       ,\n",
      "        -0.5       , -0.5       ]], dtype=float32)}, {'target': array([ 0.   ,  0.   ,  0.   , ..., 12.592, 42.897, 11.607], dtype=float32), 'start': Period('2011-07-29', 'D'), 'feat_dynamic_real': array([[ 0.        ,  0.        ,  0.        , ...,  2.        ,\n",
      "         5.        ,  1.        ],\n",
      "       [ 0.16666667,  0.33333334,  0.5       , ...,  0.5       ,\n",
      "        -0.5       , -0.33333334],\n",
      "       [ 0.04545455,  0.04545455,  0.04545455, ..., -0.5       ,\n",
      "        -0.5       , -0.5       ]], dtype=float32)}, {'target': array([ 0.   ,  0.   ,  0.   , ..., 20.095, 44.688, 33.997], dtype=float32), 'start': Period('2011-07-29', 'D'), 'feat_dynamic_real': array([[ 0.        ,  0.        ,  0.        , ...,  2.        ,\n",
      "         5.        ,  4.        ],\n",
      "       [ 0.16666667,  0.33333334,  0.5       , ...,  0.5       ,\n",
      "        -0.5       , -0.33333334],\n",
      "       [ 0.04545455,  0.04545455,  0.04545455, ..., -0.5       ,\n",
      "        -0.5       , -0.5       ]], dtype=float32)}, {'target': array([ 0.   ,  0.   ,  0.   , ..., 14.287, 32.645, 29.158], dtype=float32), 'start': Period('2011-07-29', 'D'), 'feat_dynamic_real': array([[ 0.        ,  0.        ,  0.        , ...,  2.        ,\n",
      "         5.        ,  4.        ],\n",
      "       [ 0.16666667,  0.33333334,  0.5       , ...,  0.5       ,\n",
      "        -0.5       , -0.33333334],\n",
      "       [ 0.04545455,  0.04545455,  0.04545455, ..., -0.5       ,\n",
      "        -0.5       , -0.5       ]], dtype=float32)}, {'target': array([ 0.   ,  0.   ,  0.   , ..., 27.932, 57.61 , 76.941], dtype=float32), 'start': Period('2011-07-29', 'D'), 'feat_dynamic_real': array([[ 0.        ,  0.        ,  0.        , ...,  9.        ,\n",
      "         8.        ,  8.        ],\n",
      "       [ 0.16666667,  0.33333334,  0.5       , ...,  0.5       ,\n",
      "        -0.5       , -0.33333334],\n",
      "       [ 0.04545455,  0.04545455,  0.04545455, ..., -0.5       ,\n",
      "        -0.5       , -0.5       ]], dtype=float32)}, {'target': array([ 0.   ,  0.   ,  0.   , ..., 31.588, 56.063, 92.499], dtype=float32), 'start': Period('2011-07-29', 'D'), 'feat_dynamic_real': array([[ 0.        ,  0.        ,  0.        , ...,  4.        ,\n",
      "         6.        , 10.        ],\n",
      "       [ 0.16666667,  0.33333334,  0.5       , ...,  0.5       ,\n",
      "        -0.5       , -0.33333334],\n",
      "       [ 0.04545455,  0.04545455,  0.04545455, ..., -0.5       ,\n",
      "        -0.5       , -0.5       ]], dtype=float32)}, {'target': array([0., 0., 0., ..., 0., 0., 0.], dtype=float32), 'start': Period('2011-07-29', 'D'), 'feat_dynamic_real': array([[ 0.        ,  0.        ,  0.        , ...,  0.        ,\n",
      "         0.        ,  0.        ],\n",
      "       [ 0.16666667,  0.33333334,  0.5       , ...,  0.5       ,\n",
      "        -0.5       , -0.33333334],\n",
      "       [ 0.04545455,  0.04545455,  0.04545455, ..., -0.5       ,\n",
      "        -0.5       , -0.5       ]], dtype=float32)}, {'target': array([0., 0., 0., ..., 0., 0., 0.], dtype=float32), 'start': Period('2011-07-29', 'D'), 'feat_dynamic_real': array([[ 0.        ,  0.        ,  0.        , ...,  0.        ,\n",
      "         0.        ,  0.        ],\n",
      "       [ 0.16666667,  0.33333334,  0.5       , ...,  0.5       ,\n",
      "        -0.5       , -0.33333334],\n",
      "       [ 0.04545455,  0.04545455,  0.04545455, ..., -0.5       ,\n",
      "        -0.5       , -0.5       ]], dtype=float32)}, {'target': array([0., 0., 0., ..., 0., 0., 0.], dtype=float32), 'start': Period('2011-07-29', 'D'), 'feat_dynamic_real': array([[ 0.        ,  0.        ,  0.        , ...,  0.        ,\n",
      "         0.        ,  0.        ],\n",
      "       [ 0.16666667,  0.33333334,  0.5       , ...,  0.5       ,\n",
      "        -0.5       , -0.33333334],\n",
      "       [ 0.04545455,  0.04545455,  0.04545455, ..., -0.5       ,\n",
      "        -0.5       , -0.5       ]], dtype=float32)}, {'target': array([ 6.249457, 28.978653, 37.209164, ..., 44.837   , 35.469   ,\n",
      "       54.849   ], dtype=float32), 'start': Period('2011-07-29', 'D'), 'feat_dynamic_real': array([[ 1.        ,  5.        ,  3.        , ...,  4.        ,\n",
      "         5.        ,  5.        ],\n",
      "       [ 0.16666667,  0.33333334,  0.5       , ...,  0.5       ,\n",
      "        -0.5       , -0.33333334],\n",
      "       [ 0.04545455,  0.04545455,  0.04545455, ..., -0.5       ,\n",
      "        -0.5       , -0.5       ]], dtype=float32)}, {'target': array([ 0.   ,  0.   ,  0.   , ..., 74.156, 50.217, 80.729], dtype=float32), 'start': Period('2011-07-29', 'D'), 'feat_dynamic_real': array([[ 0.        ,  0.        ,  0.        , ...,  7.        ,\n",
      "         7.        , 11.        ],\n",
      "       [ 0.16666667,  0.33333334,  0.5       , ...,  0.5       ,\n",
      "        -0.5       , -0.33333334],\n",
      "       [ 0.04545455,  0.04545455,  0.04545455, ..., -0.5       ,\n",
      "        -0.5       , -0.5       ]], dtype=float32)}, {'target': array([ 0.   ,  0.   ,  0.   , ..., 37.624, 35.492, 36.998], dtype=float32), 'start': Period('2011-07-29', 'D'), 'feat_dynamic_real': array([[ 0.        ,  0.        ,  0.        , ...,  6.        ,\n",
      "         3.        ,  2.        ],\n",
      "       [ 0.16666667,  0.33333334,  0.5       , ...,  0.5       ,\n",
      "        -0.5       , -0.33333334],\n",
      "       [ 0.04545455,  0.04545455,  0.04545455, ..., -0.5       ,\n",
      "        -0.5       , -0.5       ]], dtype=float32)}, {'target': array([ 0.   ,  0.   ,  0.   , ..., 62.724, 39.945, 18.043], dtype=float32), 'start': Period('2011-07-29', 'D'), 'feat_dynamic_real': array([[ 0.        ,  0.        ,  0.        , ...,  5.        ,\n",
      "         4.        ,  3.        ],\n",
      "       [ 0.16666667,  0.33333334,  0.5       , ...,  0.5       ,\n",
      "        -0.5       , -0.33333334],\n",
      "       [ 0.04545455,  0.04545455,  0.04545455, ..., -0.5       ,\n",
      "        -0.5       , -0.5       ]], dtype=float32)}, {'target': array([ 0.   ,  0.   ,  0.   , ..., 56.556, 39.67 , 46.206], dtype=float32), 'start': Period('2011-07-29', 'D'), 'feat_dynamic_real': array([[ 0.        ,  0.        ,  0.        , ...,  4.        ,\n",
      "         6.        ,  6.        ],\n",
      "       [ 0.16666667,  0.33333334,  0.5       , ...,  0.5       ,\n",
      "        -0.5       , -0.33333334],\n",
      "       [ 0.04545455,  0.04545455,  0.04545455, ..., -0.5       ,\n",
      "        -0.5       , -0.5       ]], dtype=float32)}, {'target': array([ 0.   ,  0.   ,  0.   , ...,  9.499, 55.236, 11.743], dtype=float32), 'start': Period('2011-07-29', 'D'), 'feat_dynamic_real': array([[ 0.        ,  0.        ,  0.        , ...,  1.        ,\n",
      "         3.        ,  2.        ],\n",
      "       [ 0.16666667,  0.33333334,  0.5       , ...,  0.5       ,\n",
      "        -0.5       , -0.33333334],\n",
      "       [ 0.04545455,  0.04545455,  0.04545455, ..., -0.5       ,\n",
      "        -0.5       , -0.5       ]], dtype=float32)}, {'target': array([0., 0., 0., ..., 0., 0., 0.], dtype=float32), 'start': Period('2011-07-29', 'D'), 'feat_dynamic_real': array([[ 0.        ,  0.        ,  0.        , ...,  0.        ,\n",
      "         0.        ,  0.        ],\n",
      "       [ 0.16666667,  0.33333334,  0.5       , ...,  0.5       ,\n",
      "        -0.5       , -0.33333334],\n",
      "       [ 0.04545455,  0.04545455,  0.04545455, ..., -0.5       ,\n",
      "        -0.5       , -0.5       ]], dtype=float32)}, {'target': array([0., 0., 0., ..., 0., 0., 0.], dtype=float32), 'start': Period('2011-07-29', 'D'), 'feat_dynamic_real': array([[ 0.        ,  0.        ,  0.        , ...,  0.        ,\n",
      "         0.        ,  0.        ],\n",
      "       [ 0.16666667,  0.33333334,  0.5       , ...,  0.5       ,\n",
      "        -0.5       , -0.33333334],\n",
      "       [ 0.04545455,  0.04545455,  0.04545455, ..., -0.5       ,\n",
      "        -0.5       , -0.5       ]], dtype=float32)}, {'target': array([0.   , 0.   , 0.   , ..., 0.   , 6.754, 6.653], dtype=float32), 'start': Period('2011-07-29', 'D'), 'feat_dynamic_real': array([[ 0.        ,  0.        ,  0.        , ...,  0.        ,\n",
      "         1.        ,  1.        ],\n",
      "       [ 0.16666667,  0.33333334,  0.5       , ...,  0.5       ,\n",
      "        -0.5       , -0.33333334],\n",
      "       [ 0.04545455,  0.04545455,  0.04545455, ..., -0.5       ,\n",
      "        -0.5       , -0.5       ]], dtype=float32)}, {'target': array([ 0.   ,  0.   ,  0.   , ..., 21.407, 45.66 , 25.64 ], dtype=float32), 'start': Period('2011-07-29', 'D'), 'feat_dynamic_real': array([[ 0.        ,  0.        ,  0.        , ...,  4.        ,\n",
      "         5.        ,  3.        ],\n",
      "       [ 0.16666667,  0.33333334,  0.5       , ...,  0.5       ,\n",
      "        -0.5       , -0.33333334],\n",
      "       [ 0.04545455,  0.04545455,  0.04545455, ..., -0.5       ,\n",
      "        -0.5       , -0.5       ]], dtype=float32)}, {'target': array([ 0.   ,  0.   ,  0.   , ..., 49.072,  2.533, 43.561], dtype=float32), 'start': Period('2011-07-29', 'D'), 'feat_dynamic_real': array([[ 0.        ,  0.        ,  0.        , ...,  3.        ,\n",
      "         1.        ,  2.        ],\n",
      "       [ 0.16666667,  0.33333334,  0.5       , ...,  0.5       ,\n",
      "        -0.5       , -0.33333334],\n",
      "       [ 0.04545455,  0.04545455,  0.04545455, ..., -0.5       ,\n",
      "        -0.5       , -0.5       ]], dtype=float32)}, {'target': array([ 0.   ,  0.   ,  0.   , ..., 24.357, 19.986, 31.53 ], dtype=float32), 'start': Period('2011-07-29', 'D'), 'feat_dynamic_real': array([[ 0.        ,  0.        ,  0.        , ...,  4.        ,\n",
      "         3.        ,  4.        ],\n",
      "       [ 0.16666667,  0.33333334,  0.5       , ...,  0.5       ,\n",
      "        -0.5       , -0.33333334],\n",
      "       [ 0.04545455,  0.04545455,  0.04545455, ..., -0.5       ,\n",
      "        -0.5       , -0.5       ]], dtype=float32)}, {'target': array([ 0.   ,  0.   ,  0.   , ..., 10.812, 11.965, 11.76 ], dtype=float32), 'start': Period('2011-07-29', 'D'), 'feat_dynamic_real': array([[ 0.        ,  0.        ,  0.        , ...,  2.        ,\n",
      "         1.        ,  1.        ],\n",
      "       [ 0.16666667,  0.33333334,  0.5       , ...,  0.5       ,\n",
      "        -0.5       , -0.33333334],\n",
      "       [ 0.04545455,  0.04545455,  0.04545455, ..., -0.5       ,\n",
      "        -0.5       , -0.5       ]], dtype=float32)}, {'target': array([ 0.   ,  0.   ,  0.   , ..., 21.538,  7.997,  8.564], dtype=float32), 'start': Period('2011-07-29', 'D'), 'feat_dynamic_real': array([[ 0.        ,  0.        ,  0.        , ...,  2.        ,\n",
      "         1.        ,  2.        ],\n",
      "       [ 0.16666667,  0.33333334,  0.5       , ...,  0.5       ,\n",
      "        -0.5       , -0.33333334],\n",
      "       [ 0.04545455,  0.04545455,  0.04545455, ..., -0.5       ,\n",
      "        -0.5       , -0.5       ]], dtype=float32)}, {'target': array([ 0.   ,  0.   ,  0.   , ..., 34.056,  9.494, 19.59 ], dtype=float32), 'start': Period('2011-07-29', 'D'), 'feat_dynamic_real': array([[ 0.        ,  0.        ,  0.        , ...,  2.        ,\n",
      "         1.        ,  2.        ],\n",
      "       [ 0.16666667,  0.33333334,  0.5       , ...,  0.5       ,\n",
      "        -0.5       , -0.33333334],\n",
      "       [ 0.04545455,  0.04545455,  0.04545455, ..., -0.5       ,\n",
      "        -0.5       , -0.5       ]], dtype=float32)}, {'target': array([0., 0., 0., ..., 0., 0., 0.], dtype=float32), 'start': Period('2011-07-29', 'D'), 'feat_dynamic_real': array([[ 0.        ,  0.        ,  0.        , ...,  0.        ,\n",
      "         0.        ,  0.        ],\n",
      "       [ 0.16666667,  0.33333334,  0.5       , ...,  0.5       ,\n",
      "        -0.5       , -0.33333334],\n",
      "       [ 0.04545455,  0.04545455,  0.04545455, ..., -0.5       ,\n",
      "        -0.5       , -0.5       ]], dtype=float32)}, {'target': array([0., 0., 0., ..., 0., 0., 0.], dtype=float32), 'start': Period('2011-07-29', 'D'), 'feat_dynamic_real': array([[ 0.        ,  0.        ,  0.        , ...,  0.        ,\n",
      "         0.        ,  0.        ],\n",
      "       [ 0.16666667,  0.33333334,  0.5       , ...,  0.5       ,\n",
      "        -0.5       , -0.33333334],\n",
      "       [ 0.04545455,  0.04545455,  0.04545455, ..., -0.5       ,\n",
      "        -0.5       , -0.5       ]], dtype=float32)}, {'target': array([0., 0., 0., ..., 0., 0., 0.], dtype=float32), 'start': Period('2011-07-29', 'D'), 'feat_dynamic_real': array([[ 0.        ,  0.        ,  0.        , ...,  0.        ,\n",
      "         0.        ,  0.        ],\n",
      "       [ 0.16666667,  0.33333334,  0.5       , ...,  0.5       ,\n",
      "        -0.5       , -0.33333334],\n",
      "       [ 0.04545455,  0.04545455,  0.04545455, ..., -0.5       ,\n",
      "        -0.5       , -0.5       ]], dtype=float32)}, {'target': array([0., 0., 0., ..., 0., 0., 0.], dtype=float32), 'start': Period('2011-07-29', 'D'), 'feat_dynamic_real': array([[ 0.        ,  0.        ,  0.        , ...,  0.        ,\n",
      "         0.        ,  0.        ],\n",
      "       [ 0.16666667,  0.33333334,  0.5       , ...,  0.5       ,\n",
      "        -0.5       , -0.33333334],\n",
      "       [ 0.04545455,  0.04545455,  0.04545455, ..., -0.5       ,\n",
      "        -0.5       , -0.5       ]], dtype=float32)}, {'target': array([0., 0., 0., ..., 0., 0., 0.], dtype=float32), 'start': Period('2011-07-29', 'D'), 'feat_dynamic_real': array([[ 0.        ,  0.        ,  0.        , ...,  0.        ,\n",
      "         0.        ,  0.        ],\n",
      "       [ 0.16666667,  0.33333334,  0.5       , ...,  0.5       ,\n",
      "        -0.5       , -0.33333334],\n",
      "       [ 0.04545455,  0.04545455,  0.04545455, ..., -0.5       ,\n",
      "        -0.5       , -0.5       ]], dtype=float32)}, {'target': array([0., 0., 0., ..., 0., 0., 0.], dtype=float32), 'start': Period('2011-07-29', 'D'), 'feat_dynamic_real': array([[ 0.        ,  0.        ,  0.        , ...,  0.        ,\n",
      "         0.        ,  0.        ],\n",
      "       [ 0.16666667,  0.33333334,  0.5       , ...,  0.5       ,\n",
      "        -0.5       , -0.33333334],\n",
      "       [ 0.04545455,  0.04545455,  0.04545455, ..., -0.5       ,\n",
      "        -0.5       , -0.5       ]], dtype=float32)}, {'target': array([0., 0., 0., ..., 0., 0., 0.], dtype=float32), 'start': Period('2011-07-29', 'D'), 'feat_dynamic_real': array([[ 0.        ,  0.        ,  0.        , ...,  0.        ,\n",
      "         0.        ,  0.        ],\n",
      "       [ 0.16666667,  0.33333334,  0.5       , ...,  0.5       ,\n",
      "        -0.5       , -0.33333334],\n",
      "       [ 0.04545455,  0.04545455,  0.04545455, ..., -0.5       ,\n",
      "        -0.5       , -0.5       ]], dtype=float32)}, {'target': array([0., 0., 0., ..., 0., 0., 0.], dtype=float32), 'start': Period('2011-07-29', 'D'), 'feat_dynamic_real': array([[ 0.        ,  0.        ,  0.        , ...,  0.        ,\n",
      "         0.        ,  0.        ],\n",
      "       [ 0.16666667,  0.33333334,  0.5       , ...,  0.5       ,\n",
      "        -0.5       , -0.33333334],\n",
      "       [ 0.04545455,  0.04545455,  0.04545455, ..., -0.5       ,\n",
      "        -0.5       , -0.5       ]], dtype=float32)}, {'target': array([0., 0., 0., ..., 0., 0., 0.], dtype=float32), 'start': Period('2011-07-29', 'D'), 'feat_dynamic_real': array([[ 0.        ,  0.        ,  0.        , ...,  0.        ,\n",
      "         0.        ,  0.        ],\n",
      "       [ 0.16666667,  0.33333334,  0.5       , ...,  0.5       ,\n",
      "        -0.5       , -0.33333334],\n",
      "       [ 0.04545455,  0.04545455,  0.04545455, ..., -0.5       ,\n",
      "        -0.5       , -0.5       ]], dtype=float32)}, {'target': array([0., 0., 0., ..., 0., 0., 0.], dtype=float32), 'start': Period('2011-07-29', 'D'), 'feat_dynamic_real': array([[ 0.        ,  0.        ,  0.        , ...,  0.        ,\n",
      "         0.        ,  0.        ],\n",
      "       [ 0.16666667,  0.33333334,  0.5       , ...,  0.5       ,\n",
      "        -0.5       , -0.33333334],\n",
      "       [ 0.04545455,  0.04545455,  0.04545455, ..., -0.5       ,\n",
      "        -0.5       , -0.5       ]], dtype=float32)}, {'target': array([0., 0., 0., ..., 0., 0., 0.], dtype=float32), 'start': Period('2011-07-29', 'D'), 'feat_dynamic_real': array([[ 0.        ,  0.        ,  0.        , ...,  0.        ,\n",
      "         0.        ,  0.        ],\n",
      "       [ 0.16666667,  0.33333334,  0.5       , ...,  0.5       ,\n",
      "        -0.5       , -0.33333334],\n",
      "       [ 0.04545455,  0.04545455,  0.04545455, ..., -0.5       ,\n",
      "        -0.5       , -0.5       ]], dtype=float32)}, {'target': array([0., 0., 0., ..., 0., 0., 0.], dtype=float32), 'start': Period('2011-07-29', 'D'), 'feat_dynamic_real': array([[ 0.        ,  0.        ,  0.        , ...,  0.        ,\n",
      "         0.        ,  0.        ],\n",
      "       [ 0.16666667,  0.33333334,  0.5       , ...,  0.5       ,\n",
      "        -0.5       , -0.33333334],\n",
      "       [ 0.04545455,  0.04545455,  0.04545455, ..., -0.5       ,\n",
      "        -0.5       , -0.5       ]], dtype=float32)}, {'target': array([0., 0., 0., ..., 0., 0., 0.], dtype=float32), 'start': Period('2011-07-29', 'D'), 'feat_dynamic_real': array([[ 0.        ,  0.        ,  0.        , ...,  0.        ,\n",
      "         0.        ,  0.        ],\n",
      "       [ 0.16666667,  0.33333334,  0.5       , ...,  0.5       ,\n",
      "        -0.5       , -0.33333334],\n",
      "       [ 0.04545455,  0.04545455,  0.04545455, ..., -0.5       ,\n",
      "        -0.5       , -0.5       ]], dtype=float32)}, {'target': array([ 0.   ,  0.   ,  0.   , ..., 60.086, 77.179, 87.307], dtype=float32), 'start': Period('2011-07-29', 'D'), 'feat_dynamic_real': array([[ 0.        ,  0.        ,  0.        , ...,  5.        ,\n",
      "         7.        ,  8.        ],\n",
      "       [ 0.16666667,  0.33333334,  0.5       , ...,  0.5       ,\n",
      "        -0.5       , -0.33333334],\n",
      "       [ 0.04545455,  0.04545455,  0.04545455, ..., -0.5       ,\n",
      "        -0.5       , -0.5       ]], dtype=float32)}, {'target': array([0., 0., 0., ..., 0., 0., 0.], dtype=float32), 'start': Period('2011-07-29', 'D'), 'feat_dynamic_real': array([[ 0.        ,  0.        ,  0.        , ...,  0.        ,\n",
      "         0.        ,  0.        ],\n",
      "       [ 0.16666667,  0.33333334,  0.5       , ...,  0.5       ,\n",
      "        -0.5       , -0.33333334],\n",
      "       [ 0.04545455,  0.04545455,  0.04545455, ..., -0.5       ,\n",
      "        -0.5       , -0.5       ]], dtype=float32)}, {'target': array([0., 0., 0., ..., 0., 0., 0.], dtype=float32), 'start': Period('2011-07-29', 'D'), 'feat_dynamic_real': array([[ 0.        ,  0.        ,  0.        , ...,  0.        ,\n",
      "         0.        ,  0.        ],\n",
      "       [ 0.16666667,  0.33333334,  0.5       , ...,  0.5       ,\n",
      "        -0.5       , -0.33333334],\n",
      "       [ 0.04545455,  0.04545455,  0.04545455, ..., -0.5       ,\n",
      "        -0.5       , -0.5       ]], dtype=float32)}, {'target': array([0., 0., 0., ..., 0., 0., 0.], dtype=float32), 'start': Period('2011-07-29', 'D'), 'feat_dynamic_real': array([[ 0.        ,  0.        ,  0.        , ...,  0.        ,\n",
      "         0.        ,  0.        ],\n",
      "       [ 0.16666667,  0.33333334,  0.5       , ...,  0.5       ,\n",
      "        -0.5       , -0.33333334],\n",
      "       [ 0.04545455,  0.04545455,  0.04545455, ..., -0.5       ,\n",
      "        -0.5       , -0.5       ]], dtype=float32)}, {'target': array([ 0.   ,  0.   ,  0.   , ..., 32.983, 59.425, 66.573], dtype=float32), 'start': Period('2011-07-29', 'D'), 'feat_dynamic_real': array([[ 0.        ,  0.        ,  0.        , ...,  4.        ,\n",
      "         6.        , 10.        ],\n",
      "       [ 0.16666667,  0.33333334,  0.5       , ...,  0.5       ,\n",
      "        -0.5       , -0.33333334],\n",
      "       [ 0.04545455,  0.04545455,  0.04545455, ..., -0.5       ,\n",
      "        -0.5       , -0.5       ]], dtype=float32)}, {'target': array([ 0.   ,  0.   ,  0.   , ...,  7.114, 81.144, 50.671], dtype=float32), 'start': Period('2011-07-29', 'D'), 'feat_dynamic_real': array([[ 0.        ,  0.        ,  0.        , ...,  2.        ,\n",
      "         7.        ,  7.        ],\n",
      "       [ 0.16666667,  0.33333334,  0.5       , ...,  0.5       ,\n",
      "        -0.5       , -0.33333334],\n",
      "       [ 0.04545455,  0.04545455,  0.04545455, ..., -0.5       ,\n",
      "        -0.5       , -0.5       ]], dtype=float32)}, {'target': array([ 0.   ,  0.   ,  0.   , ..., 51.053, 40.58 , 27.216], dtype=float32), 'start': Period('2011-07-29', 'D'), 'feat_dynamic_real': array([[ 0.        ,  0.        ,  0.        , ...,  3.        ,\n",
      "         7.        ,  5.        ],\n",
      "       [ 0.16666667,  0.33333334,  0.5       , ...,  0.5       ,\n",
      "        -0.5       , -0.33333334],\n",
      "       [ 0.04545455,  0.04545455,  0.04545455, ..., -0.5       ,\n",
      "        -0.5       , -0.5       ]], dtype=float32)}] \n",
      "\n",
      "validation data: \n",
      " \t [{'target': array([ 0.   ,  0.   ,  0.   , ...,  8.171,  9.762, 30.411], dtype=float32), 'start': Period('2011-07-29', 'D'), 'feat_dynamic_real': array([[ 0.        ,  0.        ,  0.        , ...,  1.        ,\n",
      "         3.        ,  3.        ],\n",
      "       [ 0.16666667,  0.33333334,  0.5       , ..., -0.33333334,\n",
      "        -0.16666667,  0.        ],\n",
      "       [ 0.04545455,  0.04545455,  0.04545455, ..., -0.5       ,\n",
      "        -0.5       , -0.5       ]], dtype=float32)}, {'target': array([ 0.   ,  0.   ,  0.   , ..., 31.694, 51.859, 29.307], dtype=float32), 'start': Period('2011-07-29', 'D'), 'feat_dynamic_real': array([[ 0.        ,  0.        ,  0.        , ...,  4.        ,\n",
      "         5.        ,  3.        ],\n",
      "       [ 0.16666667,  0.33333334,  0.5       , ..., -0.33333334,\n",
      "        -0.16666667,  0.        ],\n",
      "       [ 0.04545455,  0.04545455,  0.04545455, ..., -0.5       ,\n",
      "        -0.5       , -0.5       ]], dtype=float32)}, {'target': array([ 0.   ,  0.   ,  0.   , ..., 20.877, 31.751, 21.099], dtype=float32), 'start': Period('2011-07-29', 'D'), 'feat_dynamic_real': array([[ 0.        ,  0.        ,  0.        , ...,  3.        ,\n",
      "         3.        ,  2.        ],\n",
      "       [ 0.16666667,  0.33333334,  0.5       , ..., -0.33333334,\n",
      "        -0.16666667,  0.        ],\n",
      "       [ 0.04545455,  0.04545455,  0.04545455, ..., -0.5       ,\n",
      "        -0.5       , -0.5       ]], dtype=float32)}, {'target': array([ 0.   ,  0.   ,  0.   , ..., 38.561, 57.064, 63.158], dtype=float32), 'start': Period('2011-07-29', 'D'), 'feat_dynamic_real': array([[ 0.        ,  0.        ,  0.        , ...,  3.        ,\n",
      "         4.        ,  5.        ],\n",
      "       [ 0.16666667,  0.33333334,  0.5       , ..., -0.33333334,\n",
      "        -0.16666667,  0.        ],\n",
      "       [ 0.04545455,  0.04545455,  0.04545455, ..., -0.5       ,\n",
      "        -0.5       , -0.5       ]], dtype=float32)}, {'target': array([ 0.   ,  0.   ,  0.   , ..., 66.589, 63.016, 29.031], dtype=float32), 'start': Period('2011-07-29', 'D'), 'feat_dynamic_real': array([[ 0.        ,  0.        ,  0.        , ...,  6.        ,\n",
      "         7.        ,  4.        ],\n",
      "       [ 0.16666667,  0.33333334,  0.5       , ..., -0.33333334,\n",
      "        -0.16666667,  0.        ],\n",
      "       [ 0.04545455,  0.04545455,  0.04545455, ..., -0.5       ,\n",
      "        -0.5       , -0.5       ]], dtype=float32)}, {'target': array([ 0.   ,  0.   ,  0.   , ..., 48.945, 65.675, 22.869], dtype=float32), 'start': Period('2011-07-29', 'D'), 'feat_dynamic_real': array([[ 0.        ,  0.        ,  0.        , ...,  5.        ,\n",
      "         6.        ,  5.        ],\n",
      "       [ 0.16666667,  0.33333334,  0.5       , ..., -0.33333334,\n",
      "        -0.16666667,  0.        ],\n",
      "       [ 0.04545455,  0.04545455,  0.04545455, ..., -0.5       ,\n",
      "        -0.5       , -0.5       ]], dtype=float32)}, {'target': array([ 0.   ,  0.   ,  0.   , ..., 65.669, 44.24 , 53.4  ], dtype=float32), 'start': Period('2011-07-29', 'D'), 'feat_dynamic_real': array([[ 0.        ,  0.        ,  0.        , ...,  7.        ,\n",
      "         9.        ,  7.        ],\n",
      "       [ 0.16666667,  0.33333334,  0.5       , ..., -0.33333334,\n",
      "        -0.16666667,  0.        ],\n",
      "       [ 0.04545455,  0.04545455,  0.04545455, ..., -0.5       ,\n",
      "        -0.5       , -0.5       ]], dtype=float32)}, {'target': array([ 0.   ,  0.   ,  0.   , ..., 48.894, 48.72 , 30.974], dtype=float32), 'start': Period('2011-07-29', 'D'), 'feat_dynamic_real': array([[ 0.        ,  0.        ,  0.        , ...,  5.        ,\n",
      "         7.        ,  2.        ],\n",
      "       [ 0.16666667,  0.33333334,  0.5       , ..., -0.33333334,\n",
      "        -0.16666667,  0.        ],\n",
      "       [ 0.04545455,  0.04545455,  0.04545455, ..., -0.5       ,\n",
      "        -0.5       , -0.5       ]], dtype=float32)}, {'target': array([ 0.   ,  0.   ,  0.   , ..., 61.116, 72.972, 81.713], dtype=float32), 'start': Period('2011-07-29', 'D'), 'feat_dynamic_real': array([[ 0.        ,  0.        ,  0.        , ...,  9.        ,\n",
      "        12.        ,  9.        ],\n",
      "       [ 0.16666667,  0.33333334,  0.5       , ..., -0.33333334,\n",
      "        -0.16666667,  0.        ],\n",
      "       [ 0.04545455,  0.04545455,  0.04545455, ..., -0.5       ,\n",
      "        -0.5       , -0.5       ]], dtype=float32)}, {'target': array([ 0.   ,  0.   ,  0.   , ..., 35.235, 63.616, 59.156], dtype=float32), 'start': Period('2011-07-29', 'D'), 'feat_dynamic_real': array([[ 0.        ,  0.        ,  0.        , ...,  4.        ,\n",
      "         8.        ,  9.        ],\n",
      "       [ 0.16666667,  0.33333334,  0.5       , ..., -0.33333334,\n",
      "        -0.16666667,  0.        ],\n",
      "       [ 0.04545455,  0.04545455,  0.04545455, ..., -0.5       ,\n",
      "        -0.5       , -0.5       ]], dtype=float32)}, {'target': array([ 0.   ,  0.   ,  0.   , ..., 19.121, 31.791, 66.054], dtype=float32), 'start': Period('2011-07-29', 'D'), 'feat_dynamic_real': array([[ 0.        ,  0.        ,  0.        , ...,  3.        ,\n",
      "         4.        ,  6.        ],\n",
      "       [ 0.16666667,  0.33333334,  0.5       , ..., -0.33333334,\n",
      "        -0.16666667,  0.        ],\n",
      "       [ 0.04545455,  0.04545455,  0.04545455, ..., -0.5       ,\n",
      "        -0.5       , -0.5       ]], dtype=float32)}, {'target': array([ 6.249457, 28.978653, 37.209164, ..., 39.058   , 32.015   ,\n",
      "       32.315   ], dtype=float32), 'start': Period('2011-07-29', 'D'), 'feat_dynamic_real': array([[ 1.        ,  5.        ,  3.        , ...,  6.        ,\n",
      "         5.        ,  3.        ],\n",
      "       [ 0.16666667,  0.33333334,  0.5       , ..., -0.33333334,\n",
      "        -0.16666667,  0.        ],\n",
      "       [ 0.04545455,  0.04545455,  0.04545455, ..., -0.5       ,\n",
      "        -0.5       , -0.5       ]], dtype=float32)}, {'target': array([ 0.   ,  0.   ,  0.   , ..., 73.245, 78.62 , 89.569], dtype=float32), 'start': Period('2011-07-29', 'D'), 'feat_dynamic_real': array([[ 0.        ,  0.        ,  0.        , ...,  9.        ,\n",
      "         8.        , 11.        ],\n",
      "       [ 0.16666667,  0.33333334,  0.5       , ..., -0.33333334,\n",
      "        -0.16666667,  0.        ],\n",
      "       [ 0.04545455,  0.04545455,  0.04545455, ..., -0.5       ,\n",
      "        -0.5       , -0.5       ]], dtype=float32)}, {'target': array([ 0.   ,  0.   ,  0.   , ..., 84.331, 84.383, 62.619], dtype=float32), 'start': Period('2011-07-29', 'D'), 'feat_dynamic_real': array([[ 0.        ,  0.        ,  0.        , ...,  5.        ,\n",
      "         3.        ,  5.        ],\n",
      "       [ 0.16666667,  0.33333334,  0.5       , ..., -0.33333334,\n",
      "        -0.16666667,  0.        ],\n",
      "       [ 0.04545455,  0.04545455,  0.04545455, ..., -0.5       ,\n",
      "        -0.5       , -0.5       ]], dtype=float32)}, {'target': array([ 0.   ,  0.   ,  0.   , ..., 82.88 , 78.702, 62.603], dtype=float32), 'start': Period('2011-07-29', 'D'), 'feat_dynamic_real': array([[ 0.        ,  0.        ,  0.        , ...,  9.        ,\n",
      "         8.        ,  7.        ],\n",
      "       [ 0.16666667,  0.33333334,  0.5       , ..., -0.33333334,\n",
      "        -0.16666667,  0.        ],\n",
      "       [ 0.04545455,  0.04545455,  0.04545455, ..., -0.5       ,\n",
      "        -0.5       , -0.5       ]], dtype=float32)}, {'target': array([ 0.   ,  0.   ,  0.   , ..., 88.299, 77.066, 95.54 ], dtype=float32), 'start': Period('2011-07-29', 'D'), 'feat_dynamic_real': array([[ 0.        ,  0.        ,  0.        , ...,  8.        ,\n",
      "         7.        ,  9.        ],\n",
      "       [ 0.16666667,  0.33333334,  0.5       , ..., -0.33333334,\n",
      "        -0.16666667,  0.        ],\n",
      "       [ 0.04545455,  0.04545455,  0.04545455, ..., -0.5       ,\n",
      "        -0.5       , -0.5       ]], dtype=float32)}, {'target': array([ 0.   ,  0.   ,  0.   , ..., 86.223, 42.901, 67.319], dtype=float32), 'start': Period('2011-07-29', 'D'), 'feat_dynamic_real': array([[ 0.        ,  0.        ,  0.        , ...,  7.        ,\n",
      "         4.        ,  6.        ],\n",
      "       [ 0.16666667,  0.33333334,  0.5       , ..., -0.33333334,\n",
      "        -0.16666667,  0.        ],\n",
      "       [ 0.04545455,  0.04545455,  0.04545455, ..., -0.5       ,\n",
      "        -0.5       , -0.5       ]], dtype=float32)}, {'target': array([0., 0., 0., ..., 0., 0., 0.], dtype=float32), 'start': Period('2011-07-29', 'D'), 'feat_dynamic_real': array([[ 0.        ,  0.        ,  0.        , ...,  0.        ,\n",
      "         0.        ,  0.        ],\n",
      "       [ 0.16666667,  0.33333334,  0.5       , ..., -0.33333334,\n",
      "        -0.16666667,  0.        ],\n",
      "       [ 0.04545455,  0.04545455,  0.04545455, ..., -0.5       ,\n",
      "        -0.5       , -0.5       ]], dtype=float32)}, {'target': array([0., 0., 0., ..., 0., 0., 0.], dtype=float32), 'start': Period('2011-07-29', 'D'), 'feat_dynamic_real': array([[ 0.        ,  0.        ,  0.        , ...,  0.        ,\n",
      "         0.        ,  0.        ],\n",
      "       [ 0.16666667,  0.33333334,  0.5       , ..., -0.33333334,\n",
      "        -0.16666667,  0.        ],\n",
      "       [ 0.04545455,  0.04545455,  0.04545455, ..., -0.5       ,\n",
      "        -0.5       , -0.5       ]], dtype=float32)}, {'target': array([0.  , 0.  , 0.  , ..., 0.  , 0.  , 9.05], dtype=float32), 'start': Period('2011-07-29', 'D'), 'feat_dynamic_real': array([[ 0.        ,  0.        ,  0.        , ...,  0.        ,\n",
      "         0.        ,  1.        ],\n",
      "       [ 0.16666667,  0.33333334,  0.5       , ..., -0.33333334,\n",
      "        -0.16666667,  0.        ],\n",
      "       [ 0.04545455,  0.04545455,  0.04545455, ..., -0.5       ,\n",
      "        -0.5       , -0.5       ]], dtype=float32)}, {'target': array([ 0.   ,  0.   ,  0.   , ..., 26.506, 38.887, 49.422], dtype=float32), 'start': Period('2011-07-29', 'D'), 'feat_dynamic_real': array([[ 0.        ,  0.        ,  0.        , ...,  3.        ,\n",
      "         4.        ,  4.        ],\n",
      "       [ 0.16666667,  0.33333334,  0.5       , ..., -0.33333334,\n",
      "        -0.16666667,  0.        ],\n",
      "       [ 0.04545455,  0.04545455,  0.04545455, ..., -0.5       ,\n",
      "        -0.5       , -0.5       ]], dtype=float32)}, {'target': array([ 0.   ,  0.   ,  0.   , ..., 32.319, 22.456, 38.459], dtype=float32), 'start': Period('2011-07-29', 'D'), 'feat_dynamic_real': array([[ 0.        ,  0.        ,  0.        , ...,  3.        ,\n",
      "         4.        ,  5.        ],\n",
      "       [ 0.16666667,  0.33333334,  0.5       , ..., -0.33333334,\n",
      "        -0.16666667,  0.        ],\n",
      "       [ 0.04545455,  0.04545455,  0.04545455, ..., -0.5       ,\n",
      "        -0.5       , -0.5       ]], dtype=float32)}, {'target': array([ 0.   ,  0.   ,  0.   , ..., 32.938, 33.352, 41.315], dtype=float32), 'start': Period('2011-07-29', 'D'), 'feat_dynamic_real': array([[ 0.        ,  0.        ,  0.        , ...,  6.        ,\n",
      "         4.        ,  7.        ],\n",
      "       [ 0.16666667,  0.33333334,  0.5       , ..., -0.33333334,\n",
      "        -0.16666667,  0.        ],\n",
      "       [ 0.04545455,  0.04545455,  0.04545455, ..., -0.5       ,\n",
      "        -0.5       , -0.5       ]], dtype=float32)}, {'target': array([ 0.   ,  0.   ,  0.   , ...,  0.   , 74.891, 22.628], dtype=float32), 'start': Period('2011-07-29', 'D'), 'feat_dynamic_real': array([[ 0.        ,  0.        ,  0.        , ...,  0.        ,\n",
      "         4.        ,  2.        ],\n",
      "       [ 0.16666667,  0.33333334,  0.5       , ..., -0.33333334,\n",
      "        -0.16666667,  0.        ],\n",
      "       [ 0.04545455,  0.04545455,  0.04545455, ..., -0.5       ,\n",
      "        -0.5       , -0.5       ]], dtype=float32)}, {'target': array([ 0.   ,  0.   ,  0.   , ..., 33.936, 23.332,  3.829], dtype=float32), 'start': Period('2011-07-29', 'D'), 'feat_dynamic_real': array([[ 0.        ,  0.        ,  0.        , ...,  2.        ,\n",
      "         3.        ,  1.        ],\n",
      "       [ 0.16666667,  0.33333334,  0.5       , ..., -0.33333334,\n",
      "        -0.16666667,  0.        ],\n",
      "       [ 0.04545455,  0.04545455,  0.04545455, ..., -0.5       ,\n",
      "        -0.5       , -0.5       ]], dtype=float32)}, {'target': array([ 0.   ,  0.   ,  0.   , ...,  9.282, 24.096,  8.921], dtype=float32), 'start': Period('2011-07-29', 'D'), 'feat_dynamic_real': array([[ 0.        ,  0.        ,  0.        , ...,  2.        ,\n",
      "         3.        ,  2.        ],\n",
      "       [ 0.16666667,  0.33333334,  0.5       , ..., -0.33333334,\n",
      "        -0.16666667,  0.        ],\n",
      "       [ 0.04545455,  0.04545455,  0.04545455, ..., -0.5       ,\n",
      "        -0.5       , -0.5       ]], dtype=float32)}, {'target': array([0., 0., 0., ..., 0., 0., 0.], dtype=float32), 'start': Period('2011-07-29', 'D'), 'feat_dynamic_real': array([[ 0.        ,  0.        ,  0.        , ...,  0.        ,\n",
      "         0.        ,  0.        ],\n",
      "       [ 0.16666667,  0.33333334,  0.5       , ..., -0.33333334,\n",
      "        -0.16666667,  0.        ],\n",
      "       [ 0.04545455,  0.04545455,  0.04545455, ..., -0.5       ,\n",
      "        -0.5       , -0.5       ]], dtype=float32)}, {'target': array([0., 0., 0., ..., 0., 0., 0.], dtype=float32), 'start': Period('2011-07-29', 'D'), 'feat_dynamic_real': array([[ 0.        ,  0.        ,  0.        , ...,  0.        ,\n",
      "         0.        ,  0.        ],\n",
      "       [ 0.16666667,  0.33333334,  0.5       , ..., -0.33333334,\n",
      "        -0.16666667,  0.        ],\n",
      "       [ 0.04545455,  0.04545455,  0.04545455, ..., -0.5       ,\n",
      "        -0.5       , -0.5       ]], dtype=float32)}, {'target': array([0., 0., 0., ..., 0., 0., 0.], dtype=float32), 'start': Period('2011-07-29', 'D'), 'feat_dynamic_real': array([[ 0.        ,  0.        ,  0.        , ...,  0.        ,\n",
      "         0.        ,  0.        ],\n",
      "       [ 0.16666667,  0.33333334,  0.5       , ..., -0.33333334,\n",
      "        -0.16666667,  0.        ],\n",
      "       [ 0.04545455,  0.04545455,  0.04545455, ..., -0.5       ,\n",
      "        -0.5       , -0.5       ]], dtype=float32)}, {'target': array([0., 0., 0., ..., 0., 0., 0.], dtype=float32), 'start': Period('2011-07-29', 'D'), 'feat_dynamic_real': array([[ 0.        ,  0.        ,  0.        , ...,  0.        ,\n",
      "         0.        ,  0.        ],\n",
      "       [ 0.16666667,  0.33333334,  0.5       , ..., -0.33333334,\n",
      "        -0.16666667,  0.        ],\n",
      "       [ 0.04545455,  0.04545455,  0.04545455, ..., -0.5       ,\n",
      "        -0.5       , -0.5       ]], dtype=float32)}, {'target': array([0., 0., 0., ..., 0., 0., 0.], dtype=float32), 'start': Period('2011-07-29', 'D'), 'feat_dynamic_real': array([[ 0.        ,  0.        ,  0.        , ...,  0.        ,\n",
      "         0.        ,  0.        ],\n",
      "       [ 0.16666667,  0.33333334,  0.5       , ..., -0.33333334,\n",
      "        -0.16666667,  0.        ],\n",
      "       [ 0.04545455,  0.04545455,  0.04545455, ..., -0.5       ,\n",
      "        -0.5       , -0.5       ]], dtype=float32)}, {'target': array([0., 0., 0., ..., 0., 0., 0.], dtype=float32), 'start': Period('2011-07-29', 'D'), 'feat_dynamic_real': array([[ 0.        ,  0.        ,  0.        , ...,  0.        ,\n",
      "         0.        ,  0.        ],\n",
      "       [ 0.16666667,  0.33333334,  0.5       , ..., -0.33333334,\n",
      "        -0.16666667,  0.        ],\n",
      "       [ 0.04545455,  0.04545455,  0.04545455, ..., -0.5       ,\n",
      "        -0.5       , -0.5       ]], dtype=float32)}, {'target': array([0., 0., 0., ..., 0., 0., 0.], dtype=float32), 'start': Period('2011-07-29', 'D'), 'feat_dynamic_real': array([[ 0.        ,  0.        ,  0.        , ...,  0.        ,\n",
      "         0.        ,  0.        ],\n",
      "       [ 0.16666667,  0.33333334,  0.5       , ..., -0.33333334,\n",
      "        -0.16666667,  0.        ],\n",
      "       [ 0.04545455,  0.04545455,  0.04545455, ..., -0.5       ,\n",
      "        -0.5       , -0.5       ]], dtype=float32)}, {'target': array([0., 0., 0., ..., 0., 0., 0.], dtype=float32), 'start': Period('2011-07-29', 'D'), 'feat_dynamic_real': array([[ 0.        ,  0.        ,  0.        , ...,  0.        ,\n",
      "         0.        ,  0.        ],\n",
      "       [ 0.16666667,  0.33333334,  0.5       , ..., -0.33333334,\n",
      "        -0.16666667,  0.        ],\n",
      "       [ 0.04545455,  0.04545455,  0.04545455, ..., -0.5       ,\n",
      "        -0.5       , -0.5       ]], dtype=float32)}, {'target': array([0., 0., 0., ..., 0., 0., 0.], dtype=float32), 'start': Period('2011-07-29', 'D'), 'feat_dynamic_real': array([[ 0.        ,  0.        ,  0.        , ...,  0.        ,\n",
      "         0.        ,  0.        ],\n",
      "       [ 0.16666667,  0.33333334,  0.5       , ..., -0.33333334,\n",
      "        -0.16666667,  0.        ],\n",
      "       [ 0.04545455,  0.04545455,  0.04545455, ..., -0.5       ,\n",
      "        -0.5       , -0.5       ]], dtype=float32)}, {'target': array([0., 0., 0., ..., 0., 0., 0.], dtype=float32), 'start': Period('2011-07-29', 'D'), 'feat_dynamic_real': array([[ 0.        ,  0.        ,  0.        , ...,  0.        ,\n",
      "         0.        ,  0.        ],\n",
      "       [ 0.16666667,  0.33333334,  0.5       , ..., -0.33333334,\n",
      "        -0.16666667,  0.        ],\n",
      "       [ 0.04545455,  0.04545455,  0.04545455, ..., -0.5       ,\n",
      "        -0.5       , -0.5       ]], dtype=float32)}, {'target': array([0., 0., 0., ..., 0., 0., 0.], dtype=float32), 'start': Period('2011-07-29', 'D'), 'feat_dynamic_real': array([[ 0.        ,  0.        ,  0.        , ...,  0.        ,\n",
      "         0.        ,  0.        ],\n",
      "       [ 0.16666667,  0.33333334,  0.5       , ..., -0.33333334,\n",
      "        -0.16666667,  0.        ],\n",
      "       [ 0.04545455,  0.04545455,  0.04545455, ..., -0.5       ,\n",
      "        -0.5       , -0.5       ]], dtype=float32)}, {'target': array([0., 0., 0., ..., 0., 0., 0.], dtype=float32), 'start': Period('2011-07-29', 'D'), 'feat_dynamic_real': array([[ 0.        ,  0.        ,  0.        , ...,  0.        ,\n",
      "         0.        ,  0.        ],\n",
      "       [ 0.16666667,  0.33333334,  0.5       , ..., -0.33333334,\n",
      "        -0.16666667,  0.        ],\n",
      "       [ 0.04545455,  0.04545455,  0.04545455, ..., -0.5       ,\n",
      "        -0.5       , -0.5       ]], dtype=float32)}, {'target': array([0., 0., 0., ..., 0., 0., 0.], dtype=float32), 'start': Period('2011-07-29', 'D'), 'feat_dynamic_real': array([[ 0.        ,  0.        ,  0.        , ...,  0.        ,\n",
      "         0.        ,  0.        ],\n",
      "       [ 0.16666667,  0.33333334,  0.5       , ..., -0.33333334,\n",
      "        -0.16666667,  0.        ],\n",
      "       [ 0.04545455,  0.04545455,  0.04545455, ..., -0.5       ,\n",
      "        -0.5       , -0.5       ]], dtype=float32)}, {'target': array([ 0.   ,  0.   ,  0.   , ..., 73.816, 78.866, 73.202], dtype=float32), 'start': Period('2011-07-29', 'D'), 'feat_dynamic_real': array([[ 0.        ,  0.        ,  0.        , ...,  7.        ,\n",
      "         7.        ,  8.        ],\n",
      "       [ 0.16666667,  0.33333334,  0.5       , ..., -0.33333334,\n",
      "        -0.16666667,  0.        ],\n",
      "       [ 0.04545455,  0.04545455,  0.04545455, ..., -0.5       ,\n",
      "        -0.5       , -0.5       ]], dtype=float32)}, {'target': array([ 0.   ,  0.   ,  0.   , ..., 29.264, 72.283, 53.189], dtype=float32), 'start': Period('2011-07-29', 'D'), 'feat_dynamic_real': array([[ 0.        ,  0.        ,  0.        , ...,  4.        ,\n",
      "         6.        ,  5.        ],\n",
      "       [ 0.16666667,  0.33333334,  0.5       , ..., -0.33333334,\n",
      "        -0.16666667,  0.        ],\n",
      "       [ 0.04545455,  0.04545455,  0.04545455, ..., -0.5       ,\n",
      "        -0.5       , -0.5       ]], dtype=float32)}, {'target': array([ 0.   ,  0.   ,  0.   , ..., 83.739, 84.167, 41.391], dtype=float32), 'start': Period('2011-07-29', 'D'), 'feat_dynamic_real': array([[ 0.        ,  0.        ,  0.        , ...,  7.        ,\n",
      "         8.        ,  5.        ],\n",
      "       [ 0.16666667,  0.33333334,  0.5       , ..., -0.33333334,\n",
      "        -0.16666667,  0.        ],\n",
      "       [ 0.04545455,  0.04545455,  0.04545455, ..., -0.5       ,\n",
      "        -0.5       , -0.5       ]], dtype=float32)}, {'target': array([ 0.   ,  0.   ,  0.   , ..., 91.218, 40.381, 35.716], dtype=float32), 'start': Period('2011-07-29', 'D'), 'feat_dynamic_real': array([[ 0.        ,  0.        ,  0.        , ...,  7.        ,\n",
      "         5.        ,  5.        ],\n",
      "       [ 0.16666667,  0.33333334,  0.5       , ..., -0.33333334,\n",
      "        -0.16666667,  0.        ],\n",
      "       [ 0.04545455,  0.04545455,  0.04545455, ..., -0.5       ,\n",
      "        -0.5       , -0.5       ]], dtype=float32)}, {'target': array([  0.   ,   0.   ,   0.   , ..., 216.809, 104.827, 106.034],\n",
      "      dtype=float32), 'start': Period('2011-07-29', 'D'), 'feat_dynamic_real': array([[ 0.        ,  0.        ,  0.        , ...,  5.        ,\n",
      "         8.        ,  9.        ],\n",
      "       [ 0.16666667,  0.33333334,  0.5       , ..., -0.33333334,\n",
      "        -0.16666667,  0.        ],\n",
      "       [ 0.04545455,  0.04545455,  0.04545455, ..., -0.5       ,\n",
      "        -0.5       , -0.5       ]], dtype=float32)}, {'target': array([ 0.   ,  0.   ,  0.   , ..., 67.643, 56.419, 35.515], dtype=float32), 'start': Period('2011-07-29', 'D'), 'feat_dynamic_real': array([[ 0.        ,  0.        ,  0.        , ...,  5.        ,\n",
      "         6.        ,  4.        ],\n",
      "       [ 0.16666667,  0.33333334,  0.5       , ..., -0.33333334,\n",
      "        -0.16666667,  0.        ],\n",
      "       [ 0.04545455,  0.04545455,  0.04545455, ..., -0.5       ,\n",
      "        -0.5       , -0.5       ]], dtype=float32)}, {'target': array([ 0.   ,  0.   ,  0.   , ..., 60.307, 72.082, 89.061], dtype=float32), 'start': Period('2011-07-29', 'D'), 'feat_dynamic_real': array([[ 0.        ,  0.        ,  0.        , ...,  6.        ,\n",
      "         7.        ,  6.        ],\n",
      "       [ 0.16666667,  0.33333334,  0.5       , ..., -0.33333334,\n",
      "        -0.16666667,  0.        ],\n",
      "       [ 0.04545455,  0.04545455,  0.04545455, ..., -0.5       ,\n",
      "        -0.5       , -0.5       ]], dtype=float32)}] \n",
      "\n",
      "testing data: \n",
      " \t [{'target': array([0., 0., 0., ..., 0., 0., 0.], dtype=float32), 'start': Period('2011-07-29', 'D'), 'feat_dynamic_real': array([[ 0.        ,  0.        ,  0.        , ...,  0.        ,\n",
      "         0.        ,  0.        ],\n",
      "       [ 0.16666667,  0.33333334,  0.5       , ..., -0.33333334,\n",
      "        -0.16666667,  0.        ],\n",
      "       [ 0.04545455,  0.04545455,  0.04545455, ...,  0.5       ,\n",
      "         0.5       ,  0.5       ]], dtype=float32)}, {'target': array([0., 0., 0., ..., 0., 0., 0.], dtype=float32), 'start': Period('2011-07-29', 'D'), 'feat_dynamic_real': array([[ 0.        ,  0.        ,  0.        , ...,  0.        ,\n",
      "         0.        ,  0.        ],\n",
      "       [ 0.16666667,  0.33333334,  0.5       , ..., -0.33333334,\n",
      "        -0.16666667,  0.        ],\n",
      "       [ 0.04545455,  0.04545455,  0.04545455, ...,  0.5       ,\n",
      "         0.5       ,  0.5       ]], dtype=float32)}, {'target': array([0., 0., 0., ..., 0., 0., 0.], dtype=float32), 'start': Period('2011-07-29', 'D'), 'feat_dynamic_real': array([[ 0.        ,  0.        ,  0.        , ...,  0.        ,\n",
      "         0.        ,  0.        ],\n",
      "       [ 0.16666667,  0.33333334,  0.5       , ..., -0.33333334,\n",
      "        -0.16666667,  0.        ],\n",
      "       [ 0.04545455,  0.04545455,  0.04545455, ...,  0.5       ,\n",
      "         0.5       ,  0.5       ]], dtype=float32)}, {'target': array([ 0.   ,  0.   ,  0.   , ...,  5.903, 14.727, 41.626], dtype=float32), 'start': Period('2011-07-29', 'D'), 'feat_dynamic_real': array([[ 0.        ,  0.        ,  0.        , ...,  1.        ,\n",
      "         2.        ,  1.        ],\n",
      "       [ 0.16666667,  0.33333334,  0.5       , ..., -0.33333334,\n",
      "        -0.16666667,  0.        ],\n",
      "       [ 0.04545455,  0.04545455,  0.04545455, ...,  0.5       ,\n",
      "         0.5       ,  0.5       ]], dtype=float32)}, {'target': array([0., 0., 0., ..., 0., 0., 0.], dtype=float32), 'start': Period('2011-07-29', 'D'), 'feat_dynamic_real': array([[ 0.        ,  0.        ,  0.        , ...,  0.        ,\n",
      "         0.        ,  0.        ],\n",
      "       [ 0.16666667,  0.33333334,  0.5       , ..., -0.33333334,\n",
      "        -0.16666667,  0.        ],\n",
      "       [ 0.04545455,  0.04545455,  0.04545455, ...,  0.5       ,\n",
      "         0.5       ,  0.5       ]], dtype=float32)}, {'target': array([ 0.   ,  0.   ,  0.   , ..., 16.918, 22.023,  0.   ], dtype=float32), 'start': Period('2011-07-29', 'D'), 'feat_dynamic_real': array([[ 0.        ,  0.        ,  0.        , ...,  2.        ,\n",
      "         2.        ,  0.        ],\n",
      "       [ 0.16666667,  0.33333334,  0.5       , ..., -0.33333334,\n",
      "        -0.16666667,  0.        ],\n",
      "       [ 0.04545455,  0.04545455,  0.04545455, ...,  0.5       ,\n",
      "         0.5       ,  0.5       ]], dtype=float32)}, {'target': array([0.   , 0.   , 0.   , ..., 8.731, 5.518, 7.768], dtype=float32), 'start': Period('2011-07-29', 'D'), 'feat_dynamic_real': array([[ 0.        ,  0.        ,  0.        , ...,  2.        ,\n",
      "         1.        ,  2.        ],\n",
      "       [ 0.16666667,  0.33333334,  0.5       , ..., -0.33333334,\n",
      "        -0.16666667,  0.        ],\n",
      "       [ 0.04545455,  0.04545455,  0.04545455, ...,  0.5       ,\n",
      "         0.5       ,  0.5       ]], dtype=float32)}, {'target': array([0.   , 0.   , 0.   , ..., 2.627, 0.   , 0.   ], dtype=float32), 'start': Period('2011-07-29', 'D'), 'feat_dynamic_real': array([[ 0.        ,  0.        ,  0.        , ...,  1.        ,\n",
      "         0.        ,  0.        ],\n",
      "       [ 0.16666667,  0.33333334,  0.5       , ..., -0.33333334,\n",
      "        -0.16666667,  0.        ],\n",
      "       [ 0.04545455,  0.04545455,  0.04545455, ...,  0.5       ,\n",
      "         0.5       ,  0.5       ]], dtype=float32)}, {'target': array([0.   , 0.   , 0.   , ..., 6.125, 7.961, 7.123], dtype=float32), 'start': Period('2011-07-29', 'D'), 'feat_dynamic_real': array([[ 0.        ,  0.        ,  0.        , ...,  1.        ,\n",
      "         1.        ,  2.        ],\n",
      "       [ 0.16666667,  0.33333334,  0.5       , ..., -0.33333334,\n",
      "        -0.16666667,  0.        ],\n",
      "       [ 0.04545455,  0.04545455,  0.04545455, ...,  0.5       ,\n",
      "         0.5       ,  0.5       ]], dtype=float32)}, {'target': array([0.   , 0.   , 0.   , ..., 1.898, 0.   , 7.27 ], dtype=float32), 'start': Period('2011-07-29', 'D'), 'feat_dynamic_real': array([[ 0.        ,  0.        ,  0.        , ...,  1.        ,\n",
      "         0.        ,  3.        ],\n",
      "       [ 0.16666667,  0.33333334,  0.5       , ..., -0.33333334,\n",
      "        -0.16666667,  0.        ],\n",
      "       [ 0.04545455,  0.04545455,  0.04545455, ...,  0.5       ,\n",
      "         0.5       ,  0.5       ]], dtype=float32)}, {'target': array([ 0.   ,  0.   ,  0.   , ..., 12.651,  5.223,  3.003], dtype=float32), 'start': Period('2011-07-29', 'D'), 'feat_dynamic_real': array([[ 0.        ,  0.        ,  0.        , ...,  2.        ,\n",
      "         2.        ,  2.        ],\n",
      "       [ 0.16666667,  0.33333334,  0.5       , ..., -0.33333334,\n",
      "        -0.16666667,  0.        ],\n",
      "       [ 0.04545455,  0.04545455,  0.04545455, ...,  0.5       ,\n",
      "         0.5       ,  0.5       ]], dtype=float32)}, {'target': array([ 6.249457, 28.978653, 37.209164, ...,  0.      ,  0.      ,\n",
      "        0.      ], dtype=float32), 'start': Period('2011-07-29', 'D'), 'feat_dynamic_real': array([[ 1.        ,  5.        ,  3.        , ...,  0.        ,\n",
      "         0.        ,  0.        ],\n",
      "       [ 0.16666667,  0.33333334,  0.5       , ..., -0.33333334,\n",
      "        -0.16666667,  0.        ],\n",
      "       [ 0.04545455,  0.04545455,  0.04545455, ...,  0.5       ,\n",
      "         0.5       ,  0.5       ]], dtype=float32)}, {'target': array([0., 0., 0., ..., 0., 0., 0.], dtype=float32), 'start': Period('2011-07-29', 'D'), 'feat_dynamic_real': array([[ 0.        ,  0.        ,  0.        , ...,  0.        ,\n",
      "         0.        ,  0.        ],\n",
      "       [ 0.16666667,  0.33333334,  0.5       , ..., -0.33333334,\n",
      "        -0.16666667,  0.        ],\n",
      "       [ 0.04545455,  0.04545455,  0.04545455, ...,  0.5       ,\n",
      "         0.5       ,  0.5       ]], dtype=float32)}, {'target': array([ 0.   ,  0.   ,  0.   , ..., 52.039,  0.   , 24.125], dtype=float32), 'start': Period('2011-07-29', 'D'), 'feat_dynamic_real': array([[ 0.        ,  0.        ,  0.        , ...,  2.        ,\n",
      "         0.        ,  1.        ],\n",
      "       [ 0.16666667,  0.33333334,  0.5       , ..., -0.33333334,\n",
      "        -0.16666667,  0.        ],\n",
      "       [ 0.04545455,  0.04545455,  0.04545455, ...,  0.5       ,\n",
      "         0.5       ,  0.5       ]], dtype=float32)}, {'target': array([ 0.   ,  0.   ,  0.   , ..., 21.056, 12.876, 14.239], dtype=float32), 'start': Period('2011-07-29', 'D'), 'feat_dynamic_real': array([[ 0.        ,  0.        ,  0.        , ...,  2.        ,\n",
      "         2.        ,  1.        ],\n",
      "       [ 0.16666667,  0.33333334,  0.5       , ..., -0.33333334,\n",
      "        -0.16666667,  0.        ],\n",
      "       [ 0.04545455,  0.04545455,  0.04545455, ...,  0.5       ,\n",
      "         0.5       ,  0.5       ]], dtype=float32)}, {'target': array([ 0.   ,  0.   ,  0.   , ...,  0.   , 15.798,  0.   ], dtype=float32), 'start': Period('2011-07-29', 'D'), 'feat_dynamic_real': array([[ 0.        ,  0.        ,  0.        , ...,  0.        ,\n",
      "         1.        ,  0.        ],\n",
      "       [ 0.16666667,  0.33333334,  0.5       , ..., -0.33333334,\n",
      "        -0.16666667,  0.        ],\n",
      "       [ 0.04545455,  0.04545455,  0.04545455, ...,  0.5       ,\n",
      "         0.5       ,  0.5       ]], dtype=float32)}, {'target': array([0., 0., 0., ..., 0., 0., 0.], dtype=float32), 'start': Period('2011-07-29', 'D'), 'feat_dynamic_real': array([[ 0.        ,  0.        ,  0.        , ...,  0.        ,\n",
      "         0.        ,  0.        ],\n",
      "       [ 0.16666667,  0.33333334,  0.5       , ..., -0.33333334,\n",
      "        -0.16666667,  0.        ],\n",
      "       [ 0.04545455,  0.04545455,  0.04545455, ...,  0.5       ,\n",
      "         0.5       ,  0.5       ]], dtype=float32)}, {'target': array([0., 0., 0., ..., 0., 0., 0.], dtype=float32), 'start': Period('2011-07-29', 'D'), 'feat_dynamic_real': array([[ 0.        ,  0.        ,  0.        , ...,  0.        ,\n",
      "         0.        ,  0.        ],\n",
      "       [ 0.16666667,  0.33333334,  0.5       , ..., -0.33333334,\n",
      "        -0.16666667,  0.        ],\n",
      "       [ 0.04545455,  0.04545455,  0.04545455, ...,  0.5       ,\n",
      "         0.5       ,  0.5       ]], dtype=float32)}, {'target': array([0., 0., 0., ..., 0., 0., 0.], dtype=float32), 'start': Period('2011-07-29', 'D'), 'feat_dynamic_real': array([[ 0.        ,  0.        ,  0.        , ...,  0.        ,\n",
      "         0.        ,  0.        ],\n",
      "       [ 0.16666667,  0.33333334,  0.5       , ..., -0.33333334,\n",
      "        -0.16666667,  0.        ],\n",
      "       [ 0.04545455,  0.04545455,  0.04545455, ...,  0.5       ,\n",
      "         0.5       ,  0.5       ]], dtype=float32)}, {'target': array([0., 0., 0., ..., 0., 0., 0.], dtype=float32), 'start': Period('2011-07-29', 'D'), 'feat_dynamic_real': array([[ 0.        ,  0.        ,  0.        , ...,  0.        ,\n",
      "         0.        ,  0.        ],\n",
      "       [ 0.16666667,  0.33333334,  0.5       , ..., -0.33333334,\n",
      "        -0.16666667,  0.        ],\n",
      "       [ 0.04545455,  0.04545455,  0.04545455, ...,  0.5       ,\n",
      "         0.5       ,  0.5       ]], dtype=float32)}, {'target': array([ 0.   ,  0.   ,  0.   , ..., 17.797,  0.   , 32.274], dtype=float32), 'start': Period('2011-07-29', 'D'), 'feat_dynamic_real': array([[ 0.        ,  0.        ,  0.        , ...,  2.        ,\n",
      "         0.        ,  2.        ],\n",
      "       [ 0.16666667,  0.33333334,  0.5       , ..., -0.33333334,\n",
      "        -0.16666667,  0.        ],\n",
      "       [ 0.04545455,  0.04545455,  0.04545455, ...,  0.5       ,\n",
      "         0.5       ,  0.5       ]], dtype=float32)}, {'target': array([ 0.   ,  0.   ,  0.   , ..., 32.217, 36.042,  5.829], dtype=float32), 'start': Period('2011-07-29', 'D'), 'feat_dynamic_real': array([[ 0.        ,  0.        ,  0.        , ...,  1.        ,\n",
      "         1.        ,  1.        ],\n",
      "       [ 0.16666667,  0.33333334,  0.5       , ..., -0.33333334,\n",
      "        -0.16666667,  0.        ],\n",
      "       [ 0.04545455,  0.04545455,  0.04545455, ...,  0.5       ,\n",
      "         0.5       ,  0.5       ]], dtype=float32)}, {'target': array([ 0.   ,  0.   ,  0.   , ..., 33.423, 10.039, 29.954], dtype=float32), 'start': Period('2011-07-29', 'D'), 'feat_dynamic_real': array([[ 0.        ,  0.        ,  0.        , ...,  3.        ,\n",
      "         2.        ,  1.        ],\n",
      "       [ 0.16666667,  0.33333334,  0.5       , ..., -0.33333334,\n",
      "        -0.16666667,  0.        ],\n",
      "       [ 0.04545455,  0.04545455,  0.04545455, ...,  0.5       ,\n",
      "         0.5       ,  0.5       ]], dtype=float32)}, {'target': array([0., 0., 0., ..., 0., 0., 0.], dtype=float32), 'start': Period('2011-07-29', 'D'), 'feat_dynamic_real': array([[ 0.        ,  0.        ,  0.        , ...,  0.        ,\n",
      "         0.        ,  0.        ],\n",
      "       [ 0.16666667,  0.33333334,  0.5       , ..., -0.33333334,\n",
      "        -0.16666667,  0.        ],\n",
      "       [ 0.04545455,  0.04545455,  0.04545455, ...,  0.5       ,\n",
      "         0.5       ,  0.5       ]], dtype=float32)}, {'target': array([0., 0., 0., ..., 0., 0., 0.], dtype=float32), 'start': Period('2011-07-29', 'D'), 'feat_dynamic_real': array([[ 0.        ,  0.        ,  0.        , ...,  0.        ,\n",
      "         0.        ,  0.        ],\n",
      "       [ 0.16666667,  0.33333334,  0.5       , ..., -0.33333334,\n",
      "        -0.16666667,  0.        ],\n",
      "       [ 0.04545455,  0.04545455,  0.04545455, ...,  0.5       ,\n",
      "         0.5       ,  0.5       ]], dtype=float32)}, {'target': array([0., 0., 0., ..., 0., 0., 0.], dtype=float32), 'start': Period('2011-07-29', 'D'), 'feat_dynamic_real': array([[ 0.        ,  0.        ,  0.        , ...,  0.        ,\n",
      "         0.        ,  0.        ],\n",
      "       [ 0.16666667,  0.33333334,  0.5       , ..., -0.33333334,\n",
      "        -0.16666667,  0.        ],\n",
      "       [ 0.04545455,  0.04545455,  0.04545455, ...,  0.5       ,\n",
      "         0.5       ,  0.5       ]], dtype=float32)}, {'target': array([ 0.   ,  0.   ,  0.   , ...,  0.   , 21.037, 27.861], dtype=float32), 'start': Period('2011-07-29', 'D'), 'feat_dynamic_real': array([[ 0.        ,  0.        ,  0.        , ...,  0.        ,\n",
      "         1.        ,  1.        ],\n",
      "       [ 0.16666667,  0.33333334,  0.5       , ..., -0.33333334,\n",
      "        -0.16666667,  0.        ],\n",
      "       [ 0.04545455,  0.04545455,  0.04545455, ...,  0.5       ,\n",
      "         0.5       ,  0.5       ]], dtype=float32)}, {'target': array([ 0.   ,  0.   ,  0.   , ..., 17.154,  0.   ,  0.   ], dtype=float32), 'start': Period('2011-07-29', 'D'), 'feat_dynamic_real': array([[ 0.        ,  0.        ,  0.        , ...,  1.        ,\n",
      "         0.        ,  0.        ],\n",
      "       [ 0.16666667,  0.33333334,  0.5       , ..., -0.33333334,\n",
      "        -0.16666667,  0.        ],\n",
      "       [ 0.04545455,  0.04545455,  0.04545455, ...,  0.5       ,\n",
      "         0.5       ,  0.5       ]], dtype=float32)}, {'target': array([0., 0., 0., ..., 0., 0., 0.], dtype=float32), 'start': Period('2011-07-29', 'D'), 'feat_dynamic_real': array([[ 0.        ,  0.        ,  0.        , ...,  0.        ,\n",
      "         0.        ,  0.        ],\n",
      "       [ 0.16666667,  0.33333334,  0.5       , ..., -0.33333334,\n",
      "        -0.16666667,  0.        ],\n",
      "       [ 0.04545455,  0.04545455,  0.04545455, ...,  0.5       ,\n",
      "         0.5       ,  0.5       ]], dtype=float32)}, {'target': array([0., 0., 0., ..., 0., 0., 0.], dtype=float32), 'start': Period('2011-07-29', 'D'), 'feat_dynamic_real': array([[ 0.        ,  0.        ,  0.        , ...,  0.        ,\n",
      "         0.        ,  0.        ],\n",
      "       [ 0.16666667,  0.33333334,  0.5       , ..., -0.33333334,\n",
      "        -0.16666667,  0.        ],\n",
      "       [ 0.04545455,  0.04545455,  0.04545455, ...,  0.5       ,\n",
      "         0.5       ,  0.5       ]], dtype=float32)}, {'target': array([0.   , 0.   , 0.   , ..., 6.776, 0.   , 0.   ], dtype=float32), 'start': Period('2011-07-29', 'D'), 'feat_dynamic_real': array([[ 0.        ,  0.        ,  0.        , ...,  1.        ,\n",
      "         0.        ,  0.        ],\n",
      "       [ 0.16666667,  0.33333334,  0.5       , ..., -0.33333334,\n",
      "        -0.16666667,  0.        ],\n",
      "       [ 0.04545455,  0.04545455,  0.04545455, ...,  0.5       ,\n",
      "         0.5       ,  0.5       ]], dtype=float32)}, {'target': array([0., 0., 0., ..., 0., 0., 0.], dtype=float32), 'start': Period('2011-07-29', 'D'), 'feat_dynamic_real': array([[ 0.        ,  0.        ,  0.        , ...,  0.        ,\n",
      "         0.        ,  0.        ],\n",
      "       [ 0.16666667,  0.33333334,  0.5       , ..., -0.33333334,\n",
      "        -0.16666667,  0.        ],\n",
      "       [ 0.04545455,  0.04545455,  0.04545455, ...,  0.5       ,\n",
      "         0.5       ,  0.5       ]], dtype=float32)}, {'target': array([0., 0., 0., ..., 0., 0., 0.], dtype=float32), 'start': Period('2011-07-29', 'D'), 'feat_dynamic_real': array([[ 0.        ,  0.        ,  0.        , ...,  0.        ,\n",
      "         0.        ,  0.        ],\n",
      "       [ 0.16666667,  0.33333334,  0.5       , ..., -0.33333334,\n",
      "        -0.16666667,  0.        ],\n",
      "       [ 0.04545455,  0.04545455,  0.04545455, ...,  0.5       ,\n",
      "         0.5       ,  0.5       ]], dtype=float32)}, {'target': array([0., 0., 0., ..., 0., 0., 0.], dtype=float32), 'start': Period('2011-07-29', 'D'), 'feat_dynamic_real': array([[ 0.        ,  0.        ,  0.        , ...,  0.        ,\n",
      "         0.        ,  0.        ],\n",
      "       [ 0.16666667,  0.33333334,  0.5       , ..., -0.33333334,\n",
      "        -0.16666667,  0.        ],\n",
      "       [ 0.04545455,  0.04545455,  0.04545455, ...,  0.5       ,\n",
      "         0.5       ,  0.5       ]], dtype=float32)}, {'target': array([0., 0., 0., ..., 0., 0., 0.], dtype=float32), 'start': Period('2011-07-29', 'D'), 'feat_dynamic_real': array([[ 0.        ,  0.        ,  0.        , ...,  0.        ,\n",
      "         0.        ,  0.        ],\n",
      "       [ 0.16666667,  0.33333334,  0.5       , ..., -0.33333334,\n",
      "        -0.16666667,  0.        ],\n",
      "       [ 0.04545455,  0.04545455,  0.04545455, ...,  0.5       ,\n",
      "         0.5       ,  0.5       ]], dtype=float32)}, {'target': array([ 0.   ,  0.   ,  0.   , ...,  0.   ,  0.   , 22.726], dtype=float32), 'start': Period('2011-07-29', 'D'), 'feat_dynamic_real': array([[ 0.        ,  0.        ,  0.        , ...,  0.        ,\n",
      "         0.        ,  1.        ],\n",
      "       [ 0.16666667,  0.33333334,  0.5       , ..., -0.33333334,\n",
      "        -0.16666667,  0.        ],\n",
      "       [ 0.04545455,  0.04545455,  0.04545455, ...,  0.5       ,\n",
      "         0.5       ,  0.5       ]], dtype=float32)}, {'target': array([0., 0., 0., ..., 0., 0., 0.], dtype=float32), 'start': Period('2011-07-29', 'D'), 'feat_dynamic_real': array([[ 0.        ,  0.        ,  0.        , ...,  0.        ,\n",
      "         0.        ,  0.        ],\n",
      "       [ 0.16666667,  0.33333334,  0.5       , ..., -0.33333334,\n",
      "        -0.16666667,  0.        ],\n",
      "       [ 0.04545455,  0.04545455,  0.04545455, ...,  0.5       ,\n",
      "         0.5       ,  0.5       ]], dtype=float32)}, {'target': array([0., 0., 0., ..., 0., 0., 0.], dtype=float32), 'start': Period('2011-07-29', 'D'), 'feat_dynamic_real': array([[ 0.        ,  0.        ,  0.        , ...,  0.        ,\n",
      "         0.        ,  0.        ],\n",
      "       [ 0.16666667,  0.33333334,  0.5       , ..., -0.33333334,\n",
      "        -0.16666667,  0.        ],\n",
      "       [ 0.04545455,  0.04545455,  0.04545455, ...,  0.5       ,\n",
      "         0.5       ,  0.5       ]], dtype=float32)}, {'target': array([0., 0., 0., ..., 0., 0., 0.], dtype=float32), 'start': Period('2011-07-29', 'D'), 'feat_dynamic_real': array([[ 0.        ,  0.        ,  0.        , ...,  0.        ,\n",
      "         0.        ,  0.        ],\n",
      "       [ 0.16666667,  0.33333334,  0.5       , ..., -0.33333334,\n",
      "        -0.16666667,  0.        ],\n",
      "       [ 0.04545455,  0.04545455,  0.04545455, ...,  0.5       ,\n",
      "         0.5       ,  0.5       ]], dtype=float32)}, {'target': array([0., 0., 0., ..., 0., 0., 0.], dtype=float32), 'start': Period('2011-07-29', 'D'), 'feat_dynamic_real': array([[ 0.        ,  0.        ,  0.        , ...,  0.        ,\n",
      "         0.        ,  0.        ],\n",
      "       [ 0.16666667,  0.33333334,  0.5       , ..., -0.33333334,\n",
      "        -0.16666667,  0.        ],\n",
      "       [ 0.04545455,  0.04545455,  0.04545455, ...,  0.5       ,\n",
      "         0.5       ,  0.5       ]], dtype=float32)}, {'target': array([0., 0., 0., ..., 0., 0., 0.], dtype=float32), 'start': Period('2011-07-29', 'D'), 'feat_dynamic_real': array([[ 0.        ,  0.        ,  0.        , ...,  0.        ,\n",
      "         0.        ,  0.        ],\n",
      "       [ 0.16666667,  0.33333334,  0.5       , ..., -0.33333334,\n",
      "        -0.16666667,  0.        ],\n",
      "       [ 0.04545455,  0.04545455,  0.04545455, ...,  0.5       ,\n",
      "         0.5       ,  0.5       ]], dtype=float32)}, {'target': array([ 0.   ,  0.   ,  0.   , ..., 11.877,  1.518,  1.841], dtype=float32), 'start': Period('2011-07-29', 'D'), 'feat_dynamic_real': array([[ 0.        ,  0.        ,  0.        , ...,  1.        ,\n",
      "         1.        ,  1.        ],\n",
      "       [ 0.16666667,  0.33333334,  0.5       , ..., -0.33333334,\n",
      "        -0.16666667,  0.        ],\n",
      "       [ 0.04545455,  0.04545455,  0.04545455, ...,  0.5       ,\n",
      "         0.5       ,  0.5       ]], dtype=float32)}, {'target': array([ 0.   ,  0.   ,  0.   , ..., 16.262, 15.54 , 15.334], dtype=float32), 'start': Period('2011-07-29', 'D'), 'feat_dynamic_real': array([[ 0.        ,  0.        ,  0.        , ...,  2.        ,\n",
      "         1.        ,  1.        ],\n",
      "       [ 0.16666667,  0.33333334,  0.5       , ..., -0.33333334,\n",
      "        -0.16666667,  0.        ],\n",
      "       [ 0.04545455,  0.04545455,  0.04545455, ...,  0.5       ,\n",
      "         0.5       ,  0.5       ]], dtype=float32)}, {'target': array([ 0.   ,  0.   ,  0.   , ..., 32.285, 45.451, 24.72 ], dtype=float32), 'start': Period('2011-07-29', 'D'), 'feat_dynamic_real': array([[ 0.        ,  0.        ,  0.        , ...,  3.        ,\n",
      "         4.        ,  2.        ],\n",
      "       [ 0.16666667,  0.33333334,  0.5       , ..., -0.33333334,\n",
      "        -0.16666667,  0.        ],\n",
      "       [ 0.04545455,  0.04545455,  0.04545455, ...,  0.5       ,\n",
      "         0.5       ,  0.5       ]], dtype=float32)}, {'target': array([ 0.   ,  0.   ,  0.   , ..., 22.485,  0.   ,  0.   ], dtype=float32), 'start': Period('2011-07-29', 'D'), 'feat_dynamic_real': array([[ 0.        ,  0.        ,  0.        , ...,  2.        ,\n",
      "         0.        ,  0.        ],\n",
      "       [ 0.16666667,  0.33333334,  0.5       , ..., -0.33333334,\n",
      "        -0.16666667,  0.        ],\n",
      "       [ 0.04545455,  0.04545455,  0.04545455, ...,  0.5       ,\n",
      "         0.5       ,  0.5       ]], dtype=float32)}, {'target': array([ 0.   ,  0.   ,  0.   , ..., 37.291, 47.706,  7.075], dtype=float32), 'start': Period('2011-07-29', 'D'), 'feat_dynamic_real': array([[ 0.        ,  0.        ,  0.        , ...,  3.        ,\n",
      "         2.        ,  1.        ],\n",
      "       [ 0.16666667,  0.33333334,  0.5       , ..., -0.33333334,\n",
      "        -0.16666667,  0.        ],\n",
      "       [ 0.04545455,  0.04545455,  0.04545455, ...,  0.5       ,\n",
      "         0.5       ,  0.5       ]], dtype=float32)}] \n",
      "\n"
     ]
    }
   ],
   "source": [
    "check_train_val_test_data(train_ds, val_ds, test_ds)"
   ]
  },
  {
   "cell_type": "markdown",
   "metadata": {},
   "source": [
    "#### Visualize the dataset"
   ]
  },
  {
   "cell_type": "code",
   "execution_count": 45,
   "metadata": {},
   "outputs": [],
   "source": [
    "def visualize_train_val_test_data(train_ds, val_ds, test_ds):\n",
    "    train_entry = next(iter(train_ds))\n",
    "    train_series = to_pandas(train_entry)\n",
    "    \n",
    "    val_entry = next(iter(val_ds))\n",
    "    val_series = to_pandas(val_entry)\n",
    "\n",
    "    test_entry = next(iter(test_ds))\n",
    "    test_series = to_pandas(test_entry)\n",
    "\n",
    "    plt.figure(figsize=(10, 6))\n",
    "    \n",
    "    test_series.plot(color = \"grey\")\n",
    "    plt.axvline(train_series.index[-1], color=\"red\")  # end of train dataset\n",
    "    plt.axvline(val_series.index[-1], color=\"blue\")  # end of train dataset\n",
    "    plt.grid(which=\"both\")\n",
    "    plt.legend([\"test series\", \"end of train series\", \"end of val series\"], loc=\"upper left\")\n",
    "    plt.show()\n",
    "\n",
    "    plt.savefig('train_val_test_data_vis.jpg')"
   ]
  },
  {
   "cell_type": "code",
   "execution_count": 46,
   "metadata": {},
   "outputs": [
    {
     "data": {
      "image/png": "[encoded data removed]",
      "text/plain": [
       "<Figure size 1000x600 with 1 Axes>"
      ]
     },
     "metadata": {},
     "output_type": "display_data"
    },
    {
     "data": {
      "text/plain": [
       "<Figure size 640x480 with 0 Axes>"
      ]
     },
     "metadata": {},
     "output_type": "display_data"
    }
   ],
   "source": [
    "visualize_train_val_test_data(train_ds, val_ds, test_ds)"
   ]
  },
  {
   "cell_type": "markdown",
   "metadata": {},
   "source": [
    "#### Train and prediction"
   ]
  },
  {
   "cell_type": "code",
   "execution_count": 47,
   "metadata": {},
   "outputs": [],
   "source": [
    "from gluonts.model.predictor import Predictor"
   ]
  },
  {
   "cell_type": "markdown",
   "metadata": {},
   "source": [
    "##### Simple feed forward estimator"
   ]
  },
  {
   "cell_type": "code",
   "execution_count": 49,
   "metadata": {},
   "outputs": [],
   "source": [
    "# defining a callback, which will log the training loss for each epoch\n",
    "history = TrainingHistory()"
   ]
  },
  {
   "cell_type": "code",
   "execution_count": 87,
   "metadata": {},
   "outputs": [],
   "source": [
    "simple_feed_forward_estimator = SimpleFeedForwardEstimator(\n",
    "    num_hidden_dimensions=[50], ## default: 50\n",
    "    prediction_length=prediction_length,\n",
    "    batch_normalization = False, ## default: false\n",
    "    mean_scaling = True, ## default: true\n",
    "    context_length=100,\n",
    "    trainer=Trainer(\n",
    "        ctx=\"cpu\", \n",
    "        epochs=2, \n",
    "        callbacks=[history],\n",
    "        learning_rate=1e-3, \n",
    "        num_batches_per_epoch=100\n",
    "    ),\n",
    ")"
   ]
  },
  {
   "cell_type": "markdown",
   "metadata": {},
   "source": [
    "##### MQCNN estimator"
   ]
  },
  {
   "cell_type": "code",
   "execution_count": 51,
   "metadata": {},
   "outputs": [],
   "source": [
    "from gluonts.mx import MQCNNEstimator, Trainer"
   ]
  },
  {
   "cell_type": "code",
   "execution_count": 52,
   "metadata": {},
   "outputs": [],
   "source": [
    "mqcnn_estimator = MQCNNEstimator(\n",
    "    freq = freq,\n",
    "    prediction_length=prediction_length,\n",
    "    use_feat_dynamic_real=True,\n",
    "    # context_length=100, ## Default: 4 * prediction_length\n",
    "    trainer=Trainer(\n",
    "        ctx=\"cpu\", \n",
    "        epochs=10, \n",
    "        callbacks=[history],\n",
    "        learning_rate=1e-3, \n",
    "        num_batches_per_epoch=100\n",
    "    ),\n",
    ")"
   ]
  },
  {
   "cell_type": "markdown",
   "metadata": {},
   "source": [
    "##### MQRNN estimator"
   ]
  },
  {
   "cell_type": "code",
   "execution_count": 53,
   "metadata": {},
   "outputs": [],
   "source": [
    "from gluonts.mx import MQRNNEstimator, Trainer"
   ]
  },
  {
   "cell_type": "code",
   "execution_count": 54,
   "metadata": {},
   "outputs": [],
   "source": [
    "mqrnn_estimator = MQRNNEstimator(\n",
    "    freq = freq,\n",
    "    prediction_length=prediction_length,\n",
    "    # context_length=100, ## Default: 4 * prediction_length\n",
    "    trainer=Trainer(\n",
    "        ctx=\"cpu\", \n",
    "        epochs=10, \n",
    "        callbacks=[history],\n",
    "        learning_rate=1e-3, \n",
    "        num_batches_per_epoch=100\n",
    "    ),\n",
    ")"
   ]
  },
  {
   "cell_type": "markdown",
   "metadata": {},
   "source": [
    "##### DeepAR estimator"
   ]
  },
  {
   "cell_type": "code",
   "execution_count": 55,
   "metadata": {},
   "outputs": [],
   "source": [
    "from gluonts.mx import DeepAREstimator, Trainer"
   ]
  },
  {
   "cell_type": "code",
   "execution_count": 56,
   "metadata": {},
   "outputs": [],
   "source": [
    "deepAR_estimator = DeepAREstimator(\n",
    "    freq = freq,\n",
    "    prediction_length = prediction_length,\n",
    "    num_layers = 2, ## number of LSTM layers\n",
    "    use_feat_dynamic_real=True,\n",
    "    dropout_rate = 0.1,\n",
    "    trainer=Trainer(\n",
    "        ctx=\"cpu\", \n",
    "        epochs=2, \n",
    "        callbacks=[history],\n",
    "        learning_rate=1e-3, \n",
    "        num_batches_per_epoch=100\n",
    "    ),\n",
    ")"
   ]
  },
  {
   "cell_type": "markdown",
   "metadata": {},
   "source": [
    "##### DeepVAR estimator"
   ]
  },
  {
   "cell_type": "code",
   "execution_count": 57,
   "metadata": {},
   "outputs": [],
   "source": [
    "from gluonts.mx import DeepVAREstimator, Trainer"
   ]
  },
  {
   "cell_type": "code",
   "execution_count": 58,
   "metadata": {},
   "outputs": [],
   "source": [
    "deepVAR_estimator = DeepVAREstimator(\n",
    "    freq = freq,\n",
    "    prediction_length = prediction_length,\n",
    "    num_layers = 2, ## number of LSTM layers\n",
    "    dropout_rate=0.1,\n",
    "    use_feat_dynamic_real=True,\n",
    "    target_dim= 1,\n",
    "    trainer=Trainer(\n",
    "        ctx=\"cpu\", \n",
    "        epochs=2, \n",
    "        callbacks=[history],\n",
    "        learning_rate=1e-3, \n",
    "        num_batches_per_epoch=100\n",
    "    ),\n",
    ")"
   ]
  },
  {
   "cell_type": "markdown",
   "metadata": {},
   "source": [
    "##### LSTNet"
   ]
  },
  {
   "cell_type": "code",
   "execution_count": 59,
   "metadata": {},
   "outputs": [],
   "source": [
    "from gluonts.mx import LSTNetEstimator, Trainer"
   ]
  },
  {
   "cell_type": "code",
   "execution_count": 60,
   "metadata": {},
   "outputs": [],
   "source": [
    "lstnet_estimator = LSTNetEstimator(\n",
    "    num_series = 46,\n",
    "    prediction_length = prediction_length,\n",
    "    ar_window = 10,\n",
    "    channels = 1,\n",
    "    context_length = 20,\n",
    "    kernel_size = 2,\n",
    "    skip_size = 1,\n",
    "    dropout_rate=0.1,\n",
    "    trainer=Trainer(\n",
    "        ctx=\"cpu\", \n",
    "        epochs=2, \n",
    "        callbacks=[history],\n",
    "        learning_rate=1e-3, \n",
    "        num_batches_per_epoch=100\n",
    "    ),\n",
    ")"
   ]
  },
  {
   "cell_type": "markdown",
   "metadata": {},
   "source": [
    "##### Temporal fusion transformer"
   ]
  },
  {
   "cell_type": "code",
   "execution_count": 61,
   "metadata": {},
   "outputs": [],
   "source": [
    "from gluonts.mx import TemporalFusionTransformerEstimator, Trainer"
   ]
  },
  {
   "cell_type": "code",
   "execution_count": 62,
   "metadata": {},
   "outputs": [],
   "source": [
    "tft_estimator = TemporalFusionTransformerEstimator(\n",
    "    freq = freq,\n",
    "    prediction_length = prediction_length,\n",
    "    hidden_dim = 20,\n",
    "    num_heads = 8,\n",
    "    dropout_rate=0.1,\n",
    "    trainer=Trainer(\n",
    "        ctx=\"cpu\", \n",
    "        epochs=2, \n",
    "        callbacks=[history],\n",
    "        learning_rate=1e-3, \n",
    "        num_batches_per_epoch=100\n",
    "    ),\n",
    ")"
   ]
  },
  {
   "cell_type": "markdown",
   "metadata": {},
   "source": [
    "##### Transformer estimator"
   ]
  },
  {
   "cell_type": "code",
   "execution_count": 63,
   "metadata": {},
   "outputs": [],
   "source": [
    "from gluonts.mx import TransformerEstimator, Trainer"
   ]
  },
  {
   "cell_type": "code",
   "execution_count": 64,
   "metadata": {},
   "outputs": [],
   "source": [
    "transformer_estimator = TransformerEstimator(\n",
    "    freq = freq,\n",
    "    prediction_length = prediction_length,\n",
    "    use_feat_dynamic_real=True,\n",
    "    context_length = 100,\n",
    "    num_heads = 8,\n",
    "    dropout_rate=0.1,\n",
    "    trainer=Trainer(\n",
    "        ctx=\"cpu\", \n",
    "        epochs=20, \n",
    "        callbacks=[history],\n",
    "        learning_rate=1e-3, \n",
    "        num_batches_per_epoch=100\n",
    "    ),\n",
    ")"
   ]
  },
  {
   "cell_type": "markdown",
   "metadata": {},
   "source": [
    "##### Deepfactor estimator"
   ]
  },
  {
   "cell_type": "code",
   "execution_count": 65,
   "metadata": {},
   "outputs": [],
   "source": [
    "from gluonts.mx import DeepFactorEstimator, Trainer"
   ]
  },
  {
   "cell_type": "code",
   "execution_count": 66,
   "metadata": {},
   "outputs": [],
   "source": [
    "deepFactor_estimator = TransformerEstimator(\n",
    "    freq = freq,\n",
    "    prediction_length = prediction_length,\n",
    "    use_feat_dynamic_real=True,\n",
    "    trainer=Trainer(\n",
    "        ctx=\"cpu\", \n",
    "        epochs=20, \n",
    "        callbacks=[history],\n",
    "        learning_rate=1e-3, \n",
    "        num_batches_per_epoch=100\n",
    "    ),\n",
    ")"
   ]
  },
  {
   "cell_type": "markdown",
   "metadata": {},
   "source": [
    "##### GP estimator"
   ]
  },
  {
   "cell_type": "code",
   "execution_count": 67,
   "metadata": {},
   "outputs": [],
   "source": [
    "from gluonts.mx import GaussianProcessEstimator, Trainer"
   ]
  },
  {
   "cell_type": "code",
   "execution_count": 68,
   "metadata": {},
   "outputs": [],
   "source": [
    "gp_estimator = GaussianProcessEstimator(\n",
    "    freq = freq,\n",
    "    prediction_length = prediction_length,\n",
    "    cardinality = 1,\n",
    "    trainer=Trainer(\n",
    "        ctx=\"cpu\", \n",
    "        epochs=20, \n",
    "        callbacks=[history],\n",
    "        learning_rate=1e-3, \n",
    "        num_batches_per_epoch=100\n",
    "    ),\n",
    ")"
   ]
  },
  {
   "cell_type": "markdown",
   "metadata": {},
   "source": [
    "##### Naive predictor"
   ]
  },
  {
   "cell_type": "code",
   "execution_count": 69,
   "metadata": {},
   "outputs": [],
   "source": [
    "from gluonts.ext.naive_2 import Naive2Predictor"
   ]
  },
  {
   "cell_type": "code",
   "execution_count": 70,
   "metadata": {},
   "outputs": [],
   "source": [
    "naive_predictor = Naive2Predictor(\n",
    "    prediction_length = prediction_length,\n",
    "    season_length = 100\n",
    ")"
   ]
  },
  {
   "cell_type": "markdown",
   "metadata": {},
   "source": [
    "##### Train and predict"
   ]
  },
  {
   "cell_type": "code",
   "execution_count": 88,
   "metadata": {},
   "outputs": [],
   "source": [
    "def train_and_predict(train_dataset, val_dataset, test_dataset, estimator, negative_control):\n",
    "    predictor = estimator.train(training_data = train_dataset, validation_data = val_dataset)\n",
    "\n",
    "    forecast_it, ts_it = make_evaluation_predictions(\n",
    "        dataset = test_dataset, predictor = predictor\n",
    "    )\n",
    "    \n",
    "    return predictor, list(forecast_it), list(ts_it)\n"
   ]
  },
  {
   "cell_type": "code",
   "execution_count": 72,
   "metadata": {},
   "outputs": [],
   "source": [
    "def get_model_name(estimator):\n",
    "    s = str(estimator)\n",
    "\n",
    "    start_marker = \".model.\"\n",
    "    end_marker = \"._estimator\"\n",
    "\n",
    "    start_index = s.find(start_marker)\n",
    "    if(start_index == -1):\n",
    "        raise ValueError(\"Couldn't find start index!\")\n",
    "\n",
    "    end_index = s.find(end_marker, start_index)\n",
    "    if(end_index == -1):\n",
    "        return ValueError(\"Couldn't find end index!\")\n",
    "    \n",
    "    start_index += len(start_marker)\n",
    "    return s[start_index: end_index]"
   ]
  },
  {
   "cell_type": "code",
   "execution_count": 89,
   "metadata": {},
   "outputs": [],
   "source": [
    "def replace_negatives_with_zero(data):\n",
    "    return [max(0, x) for x in data]"
   ]
  },
  {
   "cell_type": "code",
   "execution_count": 94,
   "metadata": {},
   "outputs": [],
   "source": [
    "def multiple_models(train_ds, val_ds, test_ds, estimators, samples):\n",
    "    predictors_all = []\n",
    "    agg_metrics_all = []\n",
    "    item_metrics_all = []\n",
    "    forecast_it_all = []\n",
    "    ts_it_all = []\n",
    "    for estimator in estimators:\n",
    "        \n",
    "        ## model training\n",
    "        predictor, forecast_it, ts_it = train_and_predict(train_ds, val_ds, test_ds, estimator, negative_control = True)\n",
    "\n",
    "        ## loss curve\n",
    "        loss_data_framework = get_loss_curve(history)\n",
    "        export_loss_curve(loss_data_framework, estimator)\n",
    "        plot_loss_curve(loss_data_framework, estimator)\n",
    "\n",
    "        ## evluation metrics\n",
    "        print_forecast_basic_info(forecast_it, ts_it)\n",
    "        export_original_time_series_no_missing_values(ts_it)\n",
    "        export_predicted_values(ts_it, forecast_it, estimator)\n",
    "        plot_orginal_prediction(forecast_it, ts_it, estimator, samples)\n",
    "        agg_metrics, item_metrics = get_evaluation_metrics(forecast_it, ts_it)\n",
    "        export_eval_metrics(agg_metrics, item_metrics, estimator)\n",
    "\n",
    "        predictors_all.append(predictor)\n",
    "        agg_metrics_all.append(agg_metrics)\n",
    "        item_metrics_all.append(item_metrics)\n",
    "        forecast_it_all.append(forecast_it)\n",
    "        ts_it_all.append(ts_it)\n",
    "\n",
    "        return predictors_all, agg_metrics_all, item_metrics_all, forecast_it_all, ts_it_all\n",
    "    "
   ]
  },
  {
   "cell_type": "code",
   "execution_count": 95,
   "metadata": {},
   "outputs": [],
   "source": [
    "def get_loss_curve(history):\n",
    "    loss_data_framework = pd.DataFrame({\n",
    "        \"training_loss\": history.loss_history,\n",
    "        \"val_loss\": history.validation_loss_history\n",
    "    })\n",
    "    loss_data_framework.head()\n",
    "    return loss_data_framework"
   ]
  },
  {
   "cell_type": "code",
   "execution_count": 96,
   "metadata": {},
   "outputs": [],
   "source": [
    "def export_loss_curve(loss_data_framework, estimator):\n",
    "    loss_curve_name = \"loss_curve_model_{}.csv\".format(get_model_name(estimator))\n",
    "    loss_data_framework.to_csv(loss_curve_name)"
   ]
  },
  {
   "cell_type": "code",
   "execution_count": 97,
   "metadata": {},
   "outputs": [],
   "source": [
    "def plot_loss_curve(loss_data_framework, estimator):\n",
    "    # Clear the current figure\n",
    "    plt.clf()\n",
    "\n",
    "    loss_data_framework[\"epochs\"] = range(1, len(loss_data_framework) + 1)\n",
    "\n",
    "    plt.plot(loss_data_framework[\"epochs\"], loss_data_framework[\"training_loss\"], 'o-', label='Training Loss', color='blue', linestyle='--')\n",
    "    plt.plot(loss_data_framework[\"epochs\"], loss_data_framework[\"val_loss\"], 's-', label='Validation Loss', color='red', linestyle='-.')\n",
    "\n",
    "    plt.title('Training and Validation Loss')\n",
    "    plt.xlabel('Epochs')\n",
    "    plt.ylabel('Loss')\n",
    "    plt.legend()\n",
    "    plt.grid(True)\n",
    "    plt.show()\n",
    "\n",
    "    plt.savefig(f'{get_model_name(estimator)}_train_val_loss.jpg')"
   ]
  },
  {
   "cell_type": "code",
   "execution_count": 98,
   "metadata": {},
   "outputs": [],
   "source": [
    "def print_forecast_basic_info(forecast_it, ts_it):\n",
    "    forecast_entry = forecast_it[0]\n",
    "    ts_entry = ts_it[0]\n",
    "\n",
    "    print(f\"Number of sample paths: {forecast_entry.num_samples}\")\n",
    "    print(f\"Dimension of samples: {forecast_entry.samples.shape}\")\n",
    "    print(f\"Start date of the forecast window: {forecast_entry.start_date}\")\n",
    "    print(f\"Frequency of the time series: {forecast_entry.freq}\")"
   ]
  },
  {
   "cell_type": "code",
   "execution_count": 99,
   "metadata": {},
   "outputs": [],
   "source": [
    "def export_original_time_series_no_missing_values(ts_it):\n",
    "\n",
    "    ts_entry = ts_it[0]\n",
    "    \n",
    "    time_series_original = pd.DataFrame(ts_entry)\n",
    "    time_series_original.columns = ['true_value']\n",
    "    time_series_original.to_csv(\"time_series_original_no_missing_values.csv\")"
   ]
  },
  {
   "cell_type": "code",
   "execution_count": 100,
   "metadata": {},
   "outputs": [],
   "source": [
    "def export_predicted_values(ts_it, forecast_it, estimator):\n",
    "    forecast_entry = forecast_it[0]\n",
    "    ts_entry = ts_it[0]\n",
    "    \n",
    "    predicted_values = \"predicted_values_model_{}.csv\".format(get_model_name(estimator))\n",
    "    predicted_values_100_series = pd.DataFrame(forecast_entry.samples.T)\n",
    "    predicted_values_100_series.to_csv(predicted_values)"
   ]
  },
  {
   "cell_type": "code",
   "execution_count": 101,
   "metadata": {},
   "outputs": [],
   "source": [
    "def plot_orginal_prediction(forecast_it, ts_it, estimator, samples):\n",
    "    # Clear the current figure\n",
    "    plt.figure(figsize=[10, 6])\n",
    "    \n",
    "    for i in samples:\n",
    "        plt.clf()\n",
    "        forecast_entry = forecast_it[i]\n",
    "        ts_entry = ts_it[i]\n",
    "\n",
    "        plt.plot(ts_entry[-800:].to_timestamp())\n",
    "        forecast_entry.plot(show_label=True)\n",
    "        plt.legend()\n",
    "        plt.savefig(\"testing_{}{}.png\".format(get_model_name(estimator), i))"
   ]
  },
  {
   "cell_type": "code",
   "execution_count": 102,
   "metadata": {},
   "outputs": [],
   "source": [
    "def get_evaluation_metrics(forecast_it, ts_it):\n",
    "\n",
    "    evaluator = Evaluator(quantiles=[0.1, 0.5, 0.9])\n",
    "    agg_metrics, item_metrics = evaluator(ts_it, forecast_it)\n",
    "\n",
    "    return agg_metrics, item_metrics"
   ]
  },
  {
   "cell_type": "code",
   "execution_count": 103,
   "metadata": {},
   "outputs": [],
   "source": [
    "def export_eval_metrics(agg_metrics, item_metrics, estimator):\n",
    "    ## agg_metrics\n",
    "    print(\"Evaluation metrics: {}\".format(get_model_name(estimator)))\n",
    "    agg_metrics_data_frame = pd.DataFrame([agg_metrics])\n",
    "\n",
    "    agg_metrics_csv_name = \"agg_metrics_{}.csv\".format(get_model_name(estimator))\n",
    "\n",
    "    item_metrics_csv_name = \"item_metrics_{}.csv\".format(get_model_name(estimator))\n",
    "\n",
    "    agg_metrics_data_frame.to_csv(agg_metrics_csv_name)\n",
    "    item_metrics.to_csv(item_metrics_csv_name)"
   ]
  },
  {
   "cell_type": "code",
   "execution_count": 104,
   "metadata": {},
   "outputs": [],
   "source": [
    "def map_station_name_index(station_samples):\n",
    "    station_name_index = station_name_map[station_name_map[\"Station Name\"].isin(station_samples)]\n",
    "    samples_index = station_name_index['item_id'].tolist()\n",
    "    return samples_index"
   ]
  },
  {
   "cell_type": "code",
   "execution_count": 105,
   "metadata": {},
   "outputs": [
    {
     "name": "stderr",
     "output_type": "stream",
     "text": [
      "100%|██████████| 100/100 [00:02<00:00, 41.39it/s, epoch=1/2, avg_epoch_loss=2.99]\n",
      "2it [00:00, 96.73it/s, epoch=1/2, validation_avg_epoch_loss=3.99]\n",
      "100%|██████████| 100/100 [00:02<00:00, 43.40it/s, epoch=2/2, avg_epoch_loss=1.24]\n",
      "2it [00:00, 110.61it/s, epoch=2/2, validation_avg_epoch_loss=3.31]\n",
      "/var/folders/32/16m3_s4n0nxfr4l3yr1wflmm0000gn/T/ipykernel_82898/2191677596.py:7: UserWarning: linestyle is redundantly defined by the 'linestyle' keyword argument and the fmt string \"o-\" (-> linestyle='-'). The keyword argument will take precedence.\n",
      "  plt.plot(loss_data_framework[\"epochs\"], loss_data_framework[\"training_loss\"], 'o-', label='Training Loss', color='blue', linestyle='--')\n",
      "/var/folders/32/16m3_s4n0nxfr4l3yr1wflmm0000gn/T/ipykernel_82898/2191677596.py:8: UserWarning: linestyle is redundantly defined by the 'linestyle' keyword argument and the fmt string \"s-\" (-> linestyle='-'). The keyword argument will take precedence.\n",
      "  plt.plot(loss_data_framework[\"epochs\"], loss_data_framework[\"val_loss\"], 's-', label='Validation Loss', color='red', linestyle='-.')\n"
     ]
    },
    {
     "data": {
      "image/png": "[encoded data removed]",
      "text/plain": [
       "<Figure size 640x480 with 1 Axes>"
      ]
     },
     "metadata": {},
     "output_type": "display_data"
    },
    {
     "name": "stdout",
     "output_type": "stream",
     "text": [
      "Number of sample paths: 100\n",
      "Dimension of samples: (100, 336)\n",
      "Start date of the forecast window: 2020-01-31\n",
      "Frequency of the time series: <Day>\n"
     ]
    },
    {
     "name": "stderr",
     "output_type": "stream",
     "text": [
      "Running evaluation: 46it [00:00, 173.19it/s]\n",
      "/usr/local/lib/python3.10/site-packages/gluonts/evaluation/metrics.py:105: RuntimeWarning: divide by zero encountered in double_scalars\n",
      "  return np.mean(np.abs(target - forecast)) / seasonal_error\n",
      "/usr/local/lib/python3.10/site-packages/gluonts/evaluation/metrics.py:154: RuntimeWarning: divide by zero encountered in double_scalars\n",
      "  return numerator / seasonal_error\n",
      "/usr/local/lib/python3.10/site-packages/gluonts/evaluation/metrics.py:105: RuntimeWarning: divide by zero encountered in double_scalars\n",
      "  return np.mean(np.abs(target - forecast)) / seasonal_error\n",
      "/usr/local/lib/python3.10/site-packages/gluonts/evaluation/metrics.py:154: RuntimeWarning: divide by zero encountered in double_scalars\n",
      "  return numerator / seasonal_error\n"
     ]
    },
    {
     "name": "stdout",
     "output_type": "stream",
     "text": [
      "Evaluation metrics: simple_feedforward\n"
     ]
    },
    {
     "data": {
      "text/plain": [
       "<Figure size 640x480 with 0 Axes>"
      ]
     },
     "metadata": {},
     "output_type": "display_data"
    },
    {
     "data": {
      "image/png": "[encoded data removed]",
      "text/plain": [
       "<Figure size 1000x600 with 1 Axes>"
      ]
     },
     "metadata": {},
     "output_type": "display_data"
    }
   ],
   "source": [
    "## Available estmators: \n",
    "## transformer_estimator: transformer\n",
    "## tft_estimator: temporal fusion transformer\n",
    "## lstnet_estimator: LSTnet\n",
    "## deepVAR_estimator: DeepVAR\n",
    "## deepAR_estimator: DeepAR\n",
    "## simple_feed_forward_estimator: MLP\n",
    "## deepFactor_estimator: deep factor\n",
    "## gp_estimator: gaussian process\n",
    "## mqcnn_estimator: MQ CNN\n",
    "## rnn_estimator: RNN\n",
    "\n",
    "# estimators = [simple_feed_forward_estimator, \\\n",
    "#               deepAR_estimator, \\\n",
    "#               deepVAR_estimator, \\\n",
    "#               lstNetEstimator, \\\n",
    "#               transformer_estimator, \\\n",
    "#               mqcnn_estimator]\n",
    "\n",
    "estimators = [simple_feed_forward_estimator]\n",
    "model_metrics = {}\n",
    "\n",
    "## name of sample stations you'd like to plot\n",
    "station_samples = [\"WEBSTER 1\", \"MPL 5\", \"RINCONADA LIB 1\", \"BRYANT 4\"]\n",
    "samples_index = map_station_name_index(station_samples)\n",
    "\n",
    "predictor, agg_metrics, item_metrics, forecast_it, ts_it = multiple_models(train_ds, val_ds, test_ds, estimators, samples_index)"
   ]
  },
  {
   "cell_type": "markdown",
   "metadata": {},
   "source": [
    "#### Model selection"
   ]
  },
  {
   "cell_type": "code",
   "execution_count": null,
   "metadata": {},
   "outputs": [
    {
     "data": {
      "text/plain": [
       "[{'MSE': 856.8198626987,\n",
       "  'abs_error': 224233.24285888672,\n",
       "  'abs_target_sum': 283714.34564971924,\n",
       "  'abs_target_mean': 27.035862935936652,\n",
       "  'seasonal_error': 8.500527619251853,\n",
       "  'MASE': 3.268932909278521,\n",
       "  'MAPE': 2.437122489187763,\n",
       "  'sMAPE': 0.9813909557903063,\n",
       "  'MSIS': 27.01888258833913,\n",
       "  'QuantileLoss[0.1]': 96864.84714901751,\n",
       "  'Coverage[0.1]': 0.21221650466933487,\n",
       "  'QuantileLoss[0.5]': 224233.2440755961,\n",
       "  'Coverage[0.5]': 0.6422717743472461,\n",
       "  'QuantileLoss[0.9]': 110040.03873657812,\n",
       "  'Coverage[0.9]': 0.9067085953878407,\n",
       "  'RMSE': 29.271485488418588,\n",
       "  'NRMSE': 1.0826910003863903,\n",
       "  'ND': 0.7903486245835826,\n",
       "  'wQuantileLoss[0.1]': 0.3414168110787364,\n",
       "  'wQuantileLoss[0.5]': 0.790348628872084,\n",
       "  'wQuantileLoss[0.9]': 0.38785503949256156,\n",
       "  'mean_absolute_QuantileLoss': 143712.70998706392,\n",
       "  'mean_wQuantileLoss': 0.5065401598144607,\n",
       "  'MAE_Coverage': 0.4067085953878406,\n",
       "  'OWA': nan}]"
      ]
     },
     "execution_count": 250,
     "metadata": {},
     "output_type": "execute_result"
    }
   ],
   "source": [
    "agg_metrics"
   ]
  },
  {
   "cell_type": "code",
   "execution_count": 263,
   "metadata": {},
   "outputs": [
    {
     "name": "stdout",
     "output_type": "stream",
     "text": [
      "simple_feedforward\n"
     ]
    }
   ],
   "source": [
    "weights = {\n",
    "    'MSE': 0.4,\n",
    "    'MASE': 0.3,\n",
    "    'RMSE': 0.2,\n",
    "    'MSIS': 0.1\n",
    "}\n",
    "\n",
    "estimators = [simple_feed_forward_estimator]\n",
    "agg_metrics_multiple_models = {}\n",
    "\n",
    "for index, value in enumerate(estimators):\n",
    "    combined_score = sum(weights[metric] * agg_metrics[index][metric] for metric in weights)\n",
    "    agg_metrics_multiple_models[get_model_name(value)] = combined_score\n",
    "\n",
    "best_model = min(agg_metrics_multiple_models, key=agg_metrics_multiple_models.get)\n",
    "print(best_model)"
   ]
  },
  {
   "cell_type": "markdown",
   "metadata": {},
   "source": [
    "#### Fine tuning"
   ]
  },
  {
   "cell_type": "code",
   "execution_count": 219,
   "metadata": {},
   "outputs": [],
   "source": [
    "import optuna\n",
    "import torch\n",
    "from gluonts.dataset.split import split\n",
    "from gluonts.evaluation import Evaluator\n",
    "from gluonts.torch.model.deepar import DeepAREstimator"
   ]
  },
  {
   "cell_type": "code",
   "execution_count": 220,
   "metadata": {},
   "outputs": [],
   "source": [
    "def dataentry_to_dataframe(entry):\n",
    "    df = pd.DataFrame(\n",
    "        entry[\"target\"],\n",
    "        columns=[entry.get(\"item_id\")],\n",
    "        index=pd.period_range(\n",
    "            start=entry[\"start\"], periods=len(entry[\"target\"]), freq=entry[\"start\"].freq\n",
    "        ),\n",
    "    )\n",
    "\n",
    "    return df"
   ]
  },
  {
   "cell_type": "code",
   "execution_count": 343,
   "metadata": {},
   "outputs": [],
   "source": [
    "class modelTuningObjective:\n",
    "    def __init__(\n",
    "        self, dataset, prediction_length, freq, metric_type=\"mean_wQuantileLoss\"\n",
    "    ):\n",
    "        self.dataset = dataset\n",
    "        self.prediction_length = prediction_length\n",
    "        self.freq = freq\n",
    "        self.metric_type = metric_type\n",
    "\n",
    "        self.train, test_template = split(dataset, offset=-self.prediction_length)\n",
    "        validation = test_template.generate_instances(\n",
    "            prediction_length=prediction_length\n",
    "        )\n",
    "        self.validation_input = [entry[0] for entry in validation]\n",
    "        self.validation_label = [\n",
    "            dataentry_to_dataframe(entry[1]) for entry in validation\n",
    "        ]\n",
    "\n",
    "    def get_params(self, trial) -> dict:\n",
    "        return {\n",
    "            \"num_layers\": trial.suggest_int(\"num_layers\", 1, 5),\n",
    "            \"hidden_size\": trial.suggest_int(\"hidden_size\", 10, 50),\n",
    "            \"num_hidden_dimensions\": trial.suggest_int(\"num_hidden_dimensions\", 20, 80),\n",
    "            \"context_length\": trial.suggest_int(\"context_length\", 20, 140),\n",
    "            \"learning_rate\": trial.suggest_uniform(\"learning_rate\", 0.001, 0.1),\n",
    "            \"num_batches_per_epoch\": trial.suggest_int(\"num_batches_per_epoch\", 20, 120),\n",
    "            \"dropout_rate\": trial.suggest_uniform(\"dropout_rate\", 0.0, 0.3),\n",
    "            \"num_layers\": trial.suggest_int(\"num_layers\", 2, 8),\n",
    "            \"num_heads\": trial.suggest_int(\"num_heads\", 2, 16),\n",
    "        }\n",
    "\n",
    "    def __call__(self, trial):\n",
    "        params = self.get_params(trial)\n",
    "        estimator = DeepAREstimator(\n",
    "                num_layers=params[\"num_layers\"],\n",
    "                prediction_length=self.prediction_length,\n",
    "                freq=self.freq,\n",
    "                trainer=Trainer(\n",
    "                    ctx=\"cpu\", \n",
    "                    epochs=1, \n",
    "                    learning_rate=1e-3, \n",
    "                    num_batches_per_epoch=100\n",
    "                ),\n",
    "            )\n",
    "\n",
    "        if(best_model == \"simple_feed_forward_estimator\"):\n",
    "            estimator = SimpleFeedForwardEstimator(\n",
    "                num_hidden_dimensions=[params[\"num_hidden_dimensions\"]], ## default: 50\n",
    "                prediction_length=self.prediction_length,\n",
    "                batch_normalization = False, ## default: false\n",
    "                mean_scaling = True, ## default: true\n",
    "                context_length=100,\n",
    "                freq=self.freq,\n",
    "                trainer=Trainer(\n",
    "                    ctx=\"cpu\", \n",
    "                    epochs=1, \n",
    "                    learning_rate=1e-3, \n",
    "                    num_batches_per_epoch=100\n",
    "                ),\n",
    "            )\n",
    "\n",
    "        elif(best_model == \"gp_estimator\"):\n",
    "            estimator = GaussianProcessEstimator(\n",
    "                freq = self.freq,\n",
    "                prediction_length = self.prediction_length,\n",
    "                cardinality = 1,\n",
    "                trainer=Trainer(\n",
    "                    ctx=\"cpu\", \n",
    "                    epochs=1, \n",
    "                    learning_rate=params[\"learning_rate\"], \n",
    "                    num_batches_per_epoch=params[\"num_batches_per_epoch\"]\n",
    "                ),\n",
    "            )\n",
    "            \n",
    "        elif(best_model == \"transformer_estimator\"):\n",
    "            estimator = TransformerEstimator(\n",
    "                freq = self.freq,\n",
    "                prediction_length = self.prediction_length,\n",
    "                use_feat_dynamic_real=True,\n",
    "                context_length = 100,\n",
    "                dropout_rate=params[\"learning_rate\"],\n",
    "                num_heads = params[\"num_heads\"],\n",
    "                trainer=Trainer(\n",
    "                    ctx=\"cpu\", \n",
    "                    epochs=1, \n",
    "                    learning_rate=1e-3, \n",
    "                    num_batches_per_epoch=100\n",
    "                ),\n",
    "            )\n",
    "\n",
    "        elif(best_model == \"deepFactor_estimator\"):\n",
    "            estimator = TransformerEstimator(\n",
    "                freq = self.freq,\n",
    "                prediction_length = prediction_length,\n",
    "                use_feat_dynamic_real=True,\n",
    "                trainer=Trainer(\n",
    "                    ctx=\"cpu\", \n",
    "                    epochs=20, \n",
    "                    learning_rate=1e-3, \n",
    "                    num_batches_per_epoch=100\n",
    "                ),\n",
    "            )\n",
    "\n",
    "        elif(best_model == \"tft_estimator\"):\n",
    "            estimator = TemporalFusionTransformerEstimator(\n",
    "                freq = self.freq,\n",
    "                prediction_length = prediction_length,\n",
    "                hidden_dim = 20,\n",
    "                num_heads = params[\"num_heads\"],\n",
    "                dropout_rate=0.1,\n",
    "                trainer=Trainer(\n",
    "                    ctx=\"cpu\", \n",
    "                    epochs=1, \n",
    "                    learning_rate=params[\"learning_rate\"], \n",
    "                    num_batches_per_epoch=params[\"num_batches_per_epoch\"]\n",
    "                ),\n",
    "            )\n",
    "\n",
    "        elif(best_model == \"deepVAR_estimator\"):\n",
    "            estimator = DeepVAREstimator(\n",
    "                freq = self.freq,\n",
    "                prediction_length = prediction_length,\n",
    "                num_layers = params[\"num_layers\"], ## number of LSTM layers\n",
    "                dropout_rate=0.1,\n",
    "                use_feat_dynamic_real=True,\n",
    "                target_dim= 1,\n",
    "                trainer=Trainer(\n",
    "                    ctx=\"cpu\", \n",
    "                    epochs=1, \n",
    "                    learning_rate=params[\"learning_rate\"], \n",
    "                    num_batches_per_epoch=params[\"num_batches_per_epoch\"]\n",
    "                ),\n",
    "            )\n",
    "\n",
    "        predictor = estimator.train(self.train, cache_data=True)\n",
    "        forecast_it = predictor.predict(self.validation_input)\n",
    "\n",
    "        forecasts = list(forecast_it)\n",
    "\n",
    "        evaluator = Evaluator(quantiles=[0.1, 0.5, 0.9])\n",
    "        agg_metrics, item_metrics = evaluator(\n",
    "            self.validation_label, forecasts, num_series=len(self.dataset)\n",
    "        )\n",
    "        return agg_metrics[self.metric_type]"
   ]
  },
  {
   "cell_type": "code",
   "execution_count": null,
   "metadata": {},
   "outputs": [],
   "source": [
    "## transformer_estimator: transformer\n",
    "## tft_estimator: temporal fusion transformer\n",
    "## lstnet_estimator: LSTnet\n",
    "## deepVAR_estimator: DeepVAR\n",
    "## deepAR_estimator: DeepAR\n",
    "## simple_feed_forward_estimator: MLP\n",
    "## deepFactor_estimator: deep factor\n",
    "## gp_estimator: gaussian process\n",
    "## mqcnn_estimator: MQ CNN\n",
    "## rnn_estimator: RNN"
   ]
  },
  {
   "cell_type": "code",
   "execution_count": 344,
   "metadata": {},
   "outputs": [
    {
     "name": "stderr",
     "output_type": "stream",
     "text": [
      "[I 2024-08-24 14:23:52,538] A new study created in memory with name: no-name-ff63b282-0de7-4e87-a9ed-b67faaa26d8f\n",
      "/var/folders/32/16m3_s4n0nxfr4l3yr1wflmm0000gn/T/ipykernel_46365/1290062508.py:25: FutureWarning: suggest_uniform has been deprecated in v3.0.0. This feature will be removed in v6.0.0. See https://github.com/optuna/optuna/releases/tag/v3.0.0. Use suggest_float instead.\n",
      "  \"learning_rate\": trial.suggest_uniform(\"learning_rate\", 0.001, 0.1),\n",
      "/var/folders/32/16m3_s4n0nxfr4l3yr1wflmm0000gn/T/ipykernel_46365/1290062508.py:27: FutureWarning: suggest_uniform has been deprecated in v3.0.0. This feature will be removed in v6.0.0. See https://github.com/optuna/optuna/releases/tag/v3.0.0. Use suggest_float instead.\n",
      "  \"dropout_rate\": trial.suggest_uniform(\"dropout_rate\", 0.0, 0.3),\n",
      "/usr/local/lib/python3.10/site-packages/optuna/trial/_trial.py:676: RuntimeWarning: Inconsistent parameter values for distribution with name \"num_layers\"! This might be a configuration mistake. Optuna allows to call the same distribution with the same name more than once in a trial. When the parameter values are inconsistent optuna only uses the values of the first call and ignores all following. Using these values: {'log': False, 'step': 1, 'low': 1, 'high': 5}\n",
      "  warnings.warn(\n",
      "  0%|          | 0/100 [00:00<?, ?it/s]"
     ]
    },
    {
     "name": "stderr",
     "output_type": "stream",
     "text": [
      "100%|██████████| 100/100 [02:31<00:00,  1.52s/it, epoch=1/1, avg_epoch_loss=1.55]\n",
      "Running evaluation: 100%|██████████| 33/33 [00:00<00:00, 63.54it/s]\n",
      "/usr/local/lib/python3.10/site-packages/gluonts/evaluation/metrics.py:105: RuntimeWarning: divide by zero encountered in divide\n",
      "  return np.mean(np.abs(target - forecast)) / seasonal_error\n",
      "/usr/local/lib/python3.10/site-packages/gluonts/evaluation/metrics.py:154: RuntimeWarning: divide by zero encountered in divide\n",
      "  return numerator / seasonal_error\n",
      "/usr/local/lib/python3.10/site-packages/gluonts/evaluation/metrics.py:105: RuntimeWarning: divide by zero encountered in divide\n",
      "  return np.mean(np.abs(target - forecast)) / seasonal_error\n",
      "/usr/local/lib/python3.10/site-packages/gluonts/evaluation/metrics.py:154: RuntimeWarning: divide by zero encountered in divide\n",
      "  return numerator / seasonal_error\n",
      "/usr/local/lib/python3.10/site-packages/pandas/core/dtypes/astype.py:170: UserWarning: Warning: converting a masked element to nan.\n",
      "  return arr.astype(dtype, copy=True)\n",
      "[I 2024-08-24 14:26:57,231] Trial 0 finished with value: 0.5231997782731125 and parameters: {'num_layers': 2, 'hidden_size': 38, 'num_hidden_dimensions': 20, 'context_length': 130, 'learning_rate': 0.013936127179091286, 'num_batches_per_epoch': 76, 'dropout_rate': 0.05406844007812004, 'num_heads': 11}. Best is trial 0 with value: 0.5231997782731125.\n"
     ]
    },
    {
     "name": "stdout",
     "output_type": "stream",
     "text": [
      "Number of finished trials: 1\n",
      "Best trial:\n",
      "  Value: 0.5231997782731125\n",
      "  Params: \n",
      "    num_layers: 2\n",
      "    hidden_size: 38\n",
      "    num_hidden_dimensions: 20\n",
      "    context_length: 130\n",
      "    learning_rate: 0.013936127179091286\n",
      "    num_batches_per_epoch: 76\n",
      "    dropout_rate: 0.05406844007812004\n",
      "    num_heads: 11\n",
      "184.70775604248047\n"
     ]
    }
   ],
   "source": [
    "import time\n",
    "\n",
    "best_model == \"transformer_estimator\"\n",
    "\n",
    "start_time = time.time()\n",
    "study = optuna.create_study(direction=\"minimize\")\n",
    "study.optimize(\n",
    "    modelTuningObjective(\n",
    "        val_ds, validation_length, freq\n",
    "    ),\n",
    "    n_trials=1,\n",
    ")\n",
    "\n",
    "print(\"Number of finished trials: {}\".format(len(study.trials)))\n",
    "\n",
    "print(\"Best trial:\")\n",
    "trial = study.best_trial\n",
    "\n",
    "print(\"  Value: {}\".format(trial.value))\n",
    "\n",
    "print(\"  Params: \")\n",
    "for key, value in trial.params.items():\n",
    "    print(\"    {}: {}\".format(key, value))\n",
    "    \n",
    "print(time.time() - start_time)"
   ]
  },
  {
   "cell_type": "markdown",
   "metadata": {},
   "source": [
    "### Re-training the model"
   ]
  },
  {
   "cell_type": "code",
   "execution_count": 345,
   "metadata": {},
   "outputs": [],
   "source": [
    "final_estimator = DeepAREstimator(\n",
    "    freq = freq,\n",
    "    num_layers=trial.params[\"num_layers\"],\n",
    "    prediction_length = validation_length,\n",
    "    use_feat_dynamic_real=True,\n",
    "    trainer=Trainer(\n",
    "        ctx=\"cpu\", \n",
    "        epochs=5, \n",
    "        callbacks=[history],\n",
    "        learning_rate=1e-3, \n",
    "        num_batches_per_epoch=100\n",
    "    ),\n",
    ")\n",
    "\n",
    "if(best_model == \"simple_feed_forward_estimator\"):\n",
    "    final_estimator  = SimpleFeedForwardEstimator(\n",
    "        num_hidden_dimensions=[params[\"num_hidden_dimensions\"]], ## default: 50\n",
    "        prediction_length=self.prediction_length,\n",
    "        batch_normalization = False, ## default: false\n",
    "        mean_scaling = True, ## default: true\n",
    "        context_length=100,\n",
    "        freq=self.freq,\n",
    "        trainer=Trainer(\n",
    "            ctx=\"cpu\", \n",
    "            epochs=5, \n",
    "            learning_rate=1e-3, \n",
    "            num_batches_per_epoch=100\n",
    "        ),\n",
    "    )\n",
    "\n",
    "elif(best_model == \"gp_estimator\"):\n",
    "    final_estimator  = GaussianProcessEstimator(\n",
    "        freq = self.freq,\n",
    "        prediction_length = self.prediction_length,\n",
    "        cardinality = 1,\n",
    "        trainer=Trainer(\n",
    "            ctx=\"cpu\", \n",
    "            epochs=5, \n",
    "            learning_rate=params[\"learning_rate\"], \n",
    "            num_batches_per_epoch=params[\"num_batches_per_epoch\"]\n",
    "        ),\n",
    "    )\n",
    "            \n",
    "elif(best_model == \"transformer_estimator\"):\n",
    "    final_estimator  = TransformerEstimator(\n",
    "        freq = self.freq,\n",
    "        prediction_length = self.prediction_length,\n",
    "        use_feat_dynamic_real=True,\n",
    "        context_length = 100,\n",
    "        dropout_rate=params[\"learning_rate\"],\n",
    "        num_heads = params[\"num_heads\"],\n",
    "        trainer=Trainer(\n",
    "            ctx=\"cpu\", \n",
    "            epochs=5, \n",
    "            learning_rate=1e-3, \n",
    "            num_batches_per_epoch=100\n",
    "        ),\n",
    "    )\n",
    "\n",
    "elif(best_model == \"deepFactor_estimator\"):\n",
    "    final_estimator  = TransformerEstimator(\n",
    "        freq = self.freq,\n",
    "        prediction_length = prediction_length,\n",
    "        use_feat_dynamic_real=True,\n",
    "        trainer=Trainer(\n",
    "            ctx=\"cpu\", \n",
    "            epochs=5, \n",
    "            learning_rate=1e-3, \n",
    "            num_batches_per_epoch=100\n",
    "        ),\n",
    "    )\n",
    "\n",
    "elif(best_model == \"tft_estimator\"):\n",
    "    final_estimator  = TemporalFusionTransformerEstimator(\n",
    "        freq = self.freq,\n",
    "        prediction_length = prediction_length,\n",
    "        hidden_dim = 20,\n",
    "        num_heads = params[\"num_heads\"],\n",
    "        dropout_rate=0.1,\n",
    "        trainer=Trainer(\n",
    "            ctx=\"cpu\", \n",
    "            epochs=5, \n",
    "            learning_rate=params[\"learning_rate\"], \n",
    "            num_batches_per_epoch=params[\"num_batches_per_epoch\"]\n",
    "        ),\n",
    "    )\n",
    "\n",
    "elif(best_model == \"deepVAR_estimator\"):\n",
    "    final_estimator  = DeepVAREstimator(\n",
    "        freq = self.freq,\n",
    "        prediction_length = prediction_length,\n",
    "        num_layers = params[\"num_layers\"], ## number of LSTM layers\n",
    "        dropout_rate=0.1,\n",
    "        use_feat_dynamic_real=True,\n",
    "        target_dim= 1,\n",
    "        trainer=Trainer(\n",
    "            ctx=\"cpu\", \n",
    "            epochs=5, \n",
    "            learning_rate=params[\"learning_rate\"], \n",
    "            num_batches_per_epoch=params[\"num_batches_per_epoch\"]\n",
    "        ),\n",
    "    )"
   ]
  },
  {
   "cell_type": "code",
   "execution_count": 346,
   "metadata": {},
   "outputs": [
    {
     "name": "stderr",
     "output_type": "stream",
     "text": [
      "  0%|          | 0/100 [00:00<?, ?it/s]"
     ]
    },
    {
     "name": "stderr",
     "output_type": "stream",
     "text": [
      "100%|██████████| 100/100 [02:24<00:00,  1.44s/it, epoch=1/5, avg_epoch_loss=1.28]\n",
      "2it [00:04,  2.42s/it, epoch=1/5, validation_avg_epoch_loss=3.66]\n",
      "100%|██████████| 100/100 [02:15<00:00,  1.35s/it, epoch=2/5, avg_epoch_loss=0.594]\n",
      "2it [00:00,  3.91it/s, epoch=2/5, validation_avg_epoch_loss=3.67]\n",
      "100%|██████████| 100/100 [02:21<00:00,  1.41s/it, epoch=3/5, avg_epoch_loss=0.281]\n",
      "2it [00:00,  3.25it/s, epoch=3/5, validation_avg_epoch_loss=3.49]\n",
      "100%|██████████| 100/100 [02:18<00:00,  1.38s/it, epoch=4/5, avg_epoch_loss=0.441]\n",
      "2it [00:00,  3.29it/s, epoch=4/5, validation_avg_epoch_loss=3.5]\n",
      "100%|██████████| 100/100 [02:18<00:00,  1.39s/it, epoch=5/5, avg_epoch_loss=0.0675]\n",
      "2it [00:00,  3.77it/s, epoch=5/5, validation_avg_epoch_loss=3.4]\n"
     ]
    }
   ],
   "source": [
    "final_predictor = final_estimator.train(training_data = train_ds, validation_data = val_ds)"
   ]
  },
  {
   "cell_type": "code",
   "execution_count": 347,
   "metadata": {},
   "outputs": [],
   "source": [
    "from gluonts.evaluation import make_evaluation_predictions\n",
    "\n",
    "forecast_it, ts_it = make_evaluation_predictions(\n",
    "    dataset=test_ds,\n",
    "    predictor=final_predictor,\n",
    ")"
   ]
  },
  {
   "cell_type": "code",
   "execution_count": 348,
   "metadata": {},
   "outputs": [],
   "source": [
    "forecasts = list(forecast_it)\n",
    "tss = list(ts_it)"
   ]
  },
  {
   "cell_type": "code",
   "execution_count": 350,
   "metadata": {},
   "outputs": [
    {
     "data": {
      "text/plain": [
       "<matplotlib.legend.Legend at 0x17c0f92a0>"
      ]
     },
     "execution_count": 350,
     "metadata": {},
     "output_type": "execute_result"
    },
    {
     "data": {
      "image/png": "[encoded data removed]",
      "text/plain": [
       "<Figure size 1000x600 with 1 Axes>"
      ]
     },
     "metadata": {},
     "output_type": "display_data"
    }
   ],
   "source": [
    "plt.figure(figsize = [10, 6])\n",
    "plt.plot(tss[0][-800:].to_timestamp())\n",
    "forecasts[0].plot(show_label=True)\n",
    "plt.legend()"
   ]
  },
  {
   "cell_type": "code",
   "execution_count": 351,
   "metadata": {},
   "outputs": [
    {
     "name": "stderr",
     "output_type": "stream",
     "text": [
      "Running evaluation: 33it [00:00, 64.86it/s]\n"
     ]
    }
   ],
   "source": [
    "evaluator = Evaluator(quantiles=[0.1, 0.5, 0.9])\n",
    "agg_metrics, item_metrics = evaluator(tss, forecasts)"
   ]
  },
  {
   "cell_type": "code",
   "execution_count": 352,
   "metadata": {},
   "outputs": [
    {
     "name": "stdout",
     "output_type": "stream",
     "text": [
      "{\n",
      "    \"MSE\": 337.32617464350915,\n",
      "    \"abs_error\": 258513.86889648438,\n",
      "    \"abs_target_sum\": 628497.1832275391,\n",
      "    \"abs_target_mean\": 29.945549038857393,\n",
      "    \"seasonal_error\": 7.338608075601793,\n",
      "    \"MASE\": 4.031481251252466,\n",
      "    \"MAPE\": 0.7406278837668889,\n",
      "    \"sMAPE\": 0.8012976023908659,\n",
      "    \"MSIS\": 48.971383673901684,\n",
      "    \"QuantileLoss[0.1]\": 85093.24119773698,\n",
      "    \"Coverage[0.1]\": 0.09538784067085952,\n",
      "    \"QuantileLoss[0.5]\": 258513.86919797107,\n",
      "    \"Coverage[0.5]\": 0.44863731656184486,\n",
      "    \"QuantileLoss[0.9]\": 206261.12291025434,\n",
      "    \"Coverage[0.9]\": 0.7140270630836669,\n",
      "    \"RMSE\": 18.366441534589903,\n",
      "    \"NRMSE\": 0.6133279276582165,\n",
      "    \"ND\": 0.41132064835824866,\n",
      "    \"wQuantileLoss[0.1]\": 0.13539160312661275,\n",
      "    \"wQuantileLoss[0.5]\": 0.4113206488379432,\n",
      "    \"wQuantileLoss[0.9]\": 0.32818145954296224,\n",
      "    \"mean_absolute_QuantileLoss\": 183289.41110198747,\n",
      "    \"mean_wQuantileLoss\": 0.2916312371691727,\n",
      "    \"MAE_Coverage\": 0.338009021027889,\n",
      "    \"OWA\": NaN\n",
      "}\n"
     ]
    }
   ],
   "source": [
    "print(json.dumps(agg_metrics, indent=4))"
   ]
  },
  {
   "cell_type": "code",
   "execution_count": 353,
   "metadata": {},
   "outputs": [
    {
     "data": {
      "text/html": [
       "<div>\n",
       "<style scoped>\n",
       "    .dataframe tbody tr th:only-of-type {\n",
       "        vertical-align: middle;\n",
       "    }\n",
       "\n",
       "    .dataframe tbody tr th {\n",
       "        vertical-align: top;\n",
       "    }\n",
       "\n",
       "    .dataframe thead th {\n",
       "        text-align: right;\n",
       "    }\n",
       "</style>\n",
       "<table border=\"1\" class=\"dataframe\">\n",
       "  <thead>\n",
       "    <tr style=\"text-align: right;\">\n",
       "      <th></th>\n",
       "      <th>item_id</th>\n",
       "      <th>forecast_start</th>\n",
       "      <th>MSE</th>\n",
       "      <th>abs_error</th>\n",
       "      <th>abs_target_sum</th>\n",
       "      <th>abs_target_mean</th>\n",
       "      <th>seasonal_error</th>\n",
       "      <th>MASE</th>\n",
       "      <th>MAPE</th>\n",
       "      <th>sMAPE</th>\n",
       "      <th>ND</th>\n",
       "      <th>MSIS</th>\n",
       "      <th>QuantileLoss[0.1]</th>\n",
       "      <th>Coverage[0.1]</th>\n",
       "      <th>QuantileLoss[0.5]</th>\n",
       "      <th>Coverage[0.5]</th>\n",
       "      <th>QuantileLoss[0.9]</th>\n",
       "      <th>Coverage[0.9]</th>\n",
       "    </tr>\n",
       "  </thead>\n",
       "  <tbody>\n",
       "    <tr>\n",
       "      <th>0</th>\n",
       "      <td>None</td>\n",
       "      <td>2018-10-04</td>\n",
       "      <td>131.027921</td>\n",
       "      <td>4804.730469</td>\n",
       "      <td>11239.745117</td>\n",
       "      <td>17.672555</td>\n",
       "      <td>14.177859</td>\n",
       "      <td>0.532845</td>\n",
       "      <td>0.400037</td>\n",
       "      <td>0.775413</td>\n",
       "      <td>0.427477</td>\n",
       "      <td>6.207161</td>\n",
       "      <td>1577.067090</td>\n",
       "      <td>0.012579</td>\n",
       "      <td>4804.730328</td>\n",
       "      <td>0.248428</td>\n",
       "      <td>4213.884938</td>\n",
       "      <td>0.591195</td>\n",
       "    </tr>\n",
       "    <tr>\n",
       "      <th>1</th>\n",
       "      <td>None</td>\n",
       "      <td>2018-10-04</td>\n",
       "      <td>171.571148</td>\n",
       "      <td>5366.705078</td>\n",
       "      <td>12366.260742</td>\n",
       "      <td>19.443806</td>\n",
       "      <td>14.518088</td>\n",
       "      <td>0.581221</td>\n",
       "      <td>0.864169</td>\n",
       "      <td>0.747048</td>\n",
       "      <td>0.433980</td>\n",
       "      <td>7.023239</td>\n",
       "      <td>1725.099325</td>\n",
       "      <td>0.036164</td>\n",
       "      <td>5366.705323</td>\n",
       "      <td>0.308176</td>\n",
       "      <td>4705.345126</td>\n",
       "      <td>0.630503</td>\n",
       "    </tr>\n",
       "    <tr>\n",
       "      <th>2</th>\n",
       "      <td>None</td>\n",
       "      <td>2018-10-04</td>\n",
       "      <td>175.486316</td>\n",
       "      <td>5490.879883</td>\n",
       "      <td>10674.236328</td>\n",
       "      <td>16.783390</td>\n",
       "      <td>4.939351</td>\n",
       "      <td>1.747893</td>\n",
       "      <td>1.963200</td>\n",
       "      <td>0.883876</td>\n",
       "      <td>0.514405</td>\n",
       "      <td>22.767583</td>\n",
       "      <td>1679.078052</td>\n",
       "      <td>0.056604</td>\n",
       "      <td>5490.879727</td>\n",
       "      <td>0.317610</td>\n",
       "      <td>5167.631041</td>\n",
       "      <td>0.589623</td>\n",
       "    </tr>\n",
       "    <tr>\n",
       "      <th>3</th>\n",
       "      <td>None</td>\n",
       "      <td>2018-10-04</td>\n",
       "      <td>342.590654</td>\n",
       "      <td>8403.558594</td>\n",
       "      <td>19039.054688</td>\n",
       "      <td>29.935621</td>\n",
       "      <td>3.323311</td>\n",
       "      <td>3.975897</td>\n",
       "      <td>0.464102</td>\n",
       "      <td>0.716048</td>\n",
       "      <td>0.441385</td>\n",
       "      <td>33.853508</td>\n",
       "      <td>2679.603926</td>\n",
       "      <td>0.031447</td>\n",
       "      <td>8403.558814</td>\n",
       "      <td>0.314465</td>\n",
       "      <td>6286.646862</td>\n",
       "      <td>0.647799</td>\n",
       "    </tr>\n",
       "    <tr>\n",
       "      <th>4</th>\n",
       "      <td>None</td>\n",
       "      <td>2018-10-04</td>\n",
       "      <td>273.799946</td>\n",
       "      <td>7935.820312</td>\n",
       "      <td>25315.136719</td>\n",
       "      <td>39.803674</td>\n",
       "      <td>3.578113</td>\n",
       "      <td>3.487230</td>\n",
       "      <td>0.420809</td>\n",
       "      <td>0.558546</td>\n",
       "      <td>0.313481</td>\n",
       "      <td>21.518697</td>\n",
       "      <td>2837.845733</td>\n",
       "      <td>0.081761</td>\n",
       "      <td>7935.820287</td>\n",
       "      <td>0.454403</td>\n",
       "      <td>4194.211054</td>\n",
       "      <td>0.812893</td>\n",
       "    </tr>\n",
       "  </tbody>\n",
       "</table>\n",
       "</div>"
      ],
      "text/plain": [
       "  item_id forecast_start         MSE    abs_error  abs_target_sum  \\\n",
       "0    None     2018-10-04  131.027921  4804.730469    11239.745117   \n",
       "1    None     2018-10-04  171.571148  5366.705078    12366.260742   \n",
       "2    None     2018-10-04  175.486316  5490.879883    10674.236328   \n",
       "3    None     2018-10-04  342.590654  8403.558594    19039.054688   \n",
       "4    None     2018-10-04  273.799946  7935.820312    25315.136719   \n",
       "\n",
       "   abs_target_mean  seasonal_error      MASE      MAPE     sMAPE        ND  \\\n",
       "0        17.672555       14.177859  0.532845  0.400037  0.775413  0.427477   \n",
       "1        19.443806       14.518088  0.581221  0.864169  0.747048  0.433980   \n",
       "2        16.783390        4.939351  1.747893  1.963200  0.883876  0.514405   \n",
       "3        29.935621        3.323311  3.975897  0.464102  0.716048  0.441385   \n",
       "4        39.803674        3.578113  3.487230  0.420809  0.558546  0.313481   \n",
       "\n",
       "        MSIS  QuantileLoss[0.1]  Coverage[0.1]  QuantileLoss[0.5]  \\\n",
       "0   6.207161        1577.067090       0.012579        4804.730328   \n",
       "1   7.023239        1725.099325       0.036164        5366.705323   \n",
       "2  22.767583        1679.078052       0.056604        5490.879727   \n",
       "3  33.853508        2679.603926       0.031447        8403.558814   \n",
       "4  21.518697        2837.845733       0.081761        7935.820287   \n",
       "\n",
       "   Coverage[0.5]  QuantileLoss[0.9]  Coverage[0.9]  \n",
       "0       0.248428        4213.884938       0.591195  \n",
       "1       0.308176        4705.345126       0.630503  \n",
       "2       0.317610        5167.631041       0.589623  \n",
       "3       0.314465        6286.646862       0.647799  \n",
       "4       0.454403        4194.211054       0.812893  "
      ]
     },
     "execution_count": 353,
     "metadata": {},
     "output_type": "execute_result"
    }
   ],
   "source": [
    "item_metrics.head()"
   ]
  },
  {
   "cell_type": "markdown",
   "metadata": {},
   "source": [
    "### Save existing model"
   ]
  },
  {
   "cell_type": "code",
   "execution_count": null,
   "metadata": {},
   "outputs": [],
   "source": [
    "# save the trained model in tmp/\n",
    "from pathlib import Path\n",
    "final_predictor.serialize(Path(\"/tmp/\"))\n",
    "\n",
    "# loads it back\n",
    "from gluonts.model.predictor import Predictor\n",
    "final_predictor_deserialized = Predictor.deserialize(Path(\"/tmp/\"))"
   ]
  }
 ],
 "metadata": {
  "kernelspec": {
   "display_name": "Python 3",
   "language": "python",
   "name": "python3"
  },
  "language_info": {
   "codemirror_mode": {
    "name": "ipython",
    "version": 3
   },
   "file_extension": ".py",
   "mimetype": "text/x-python",
   "name": "python",
   "nbconvert_exporter": "python",
   "pygments_lexer": "ipython3",
   "version": "3.10.10"
  },
  "orig_nbformat": 4
 },
 "nbformat": 4,
 "nbformat_minor": 2
}
