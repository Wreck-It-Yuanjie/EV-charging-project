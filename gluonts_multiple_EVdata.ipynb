{
 "cells": [
  {
   "cell_type": "code",
   "execution_count": 220,
   "metadata": {},
   "outputs": [],
   "source": [
    "%matplotlib inline\n",
    "import numpy as np\n",
    "import pandas as pd\n",
    "import matplotlib.pyplot as plt\n",
    "import json\n",
    "from gluonts.dataset.repository import get_dataset, dataset_names\n",
    "from gluonts.dataset.util import to_pandas\n",
    "from gluonts.mx import SimpleFeedForwardEstimator, Trainer\n",
    "from gluonts.evaluation import make_evaluation_predictions\n",
    "from gluonts.dataset.common import ListDataset\n",
    "from gluonts.dataset.pandas import PandasDataset"
   ]
  },
  {
   "cell_type": "markdown",
   "metadata": {},
   "source": [
    "#### Read dataset"
   ]
  },
  {
   "cell_type": "code",
   "execution_count": 3,
   "metadata": {},
   "outputs": [],
   "source": [
    "EVdata = pd.read_csv(\"stationAggDaytoDay2011_2020May12.csv\", header = 0, index_col = 0)"
   ]
  },
  {
   "cell_type": "code",
   "execution_count": 4,
   "metadata": {},
   "outputs": [],
   "source": [
    "EVdata.set_index('StartDate', inplace=True)"
   ]
  },
  {
   "cell_type": "code",
   "execution_count": 15,
   "metadata": {},
   "outputs": [
    {
     "data": {
      "text/html": [
       "<div>\n",
       "<style scoped>\n",
       "    .dataframe tbody tr th:only-of-type {\n",
       "        vertical-align: middle;\n",
       "    }\n",
       "\n",
       "    .dataframe tbody tr th {\n",
       "        vertical-align: top;\n",
       "    }\n",
       "\n",
       "    .dataframe thead th {\n",
       "        text-align: right;\n",
       "    }\n",
       "</style>\n",
       "<table border=\"1\" class=\"dataframe\">\n",
       "  <thead>\n",
       "    <tr style=\"text-align: right;\">\n",
       "      <th></th>\n",
       "      <th>Station Name</th>\n",
       "      <th>counts</th>\n",
       "      <th>Energy (kWh)</th>\n",
       "      <th>GHG Savings (kg)</th>\n",
       "      <th>Gasoline Savings (gallons)</th>\n",
       "    </tr>\n",
       "    <tr>\n",
       "      <th>StartDate</th>\n",
       "      <th></th>\n",
       "      <th></th>\n",
       "      <th></th>\n",
       "      <th></th>\n",
       "      <th></th>\n",
       "    </tr>\n",
       "  </thead>\n",
       "  <tbody>\n",
       "    <tr>\n",
       "      <th>2011-10-13</th>\n",
       "      <td>BRYANT 1</td>\n",
       "      <td>2</td>\n",
       "      <td>8.262052</td>\n",
       "      <td>3.470</td>\n",
       "      <td>1.037</td>\n",
       "    </tr>\n",
       "    <tr>\n",
       "      <th>2011-10-14</th>\n",
       "      <td>BRYANT 1</td>\n",
       "      <td>1</td>\n",
       "      <td>6.259466</td>\n",
       "      <td>2.629</td>\n",
       "      <td>0.786</td>\n",
       "    </tr>\n",
       "    <tr>\n",
       "      <th>2011-10-15</th>\n",
       "      <td>BRYANT 1</td>\n",
       "      <td>1</td>\n",
       "      <td>4.622894</td>\n",
       "      <td>1.942</td>\n",
       "      <td>0.580</td>\n",
       "    </tr>\n",
       "    <tr>\n",
       "      <th>2011-10-17</th>\n",
       "      <td>BRYANT 1</td>\n",
       "      <td>1</td>\n",
       "      <td>4.023361</td>\n",
       "      <td>1.690</td>\n",
       "      <td>0.505</td>\n",
       "    </tr>\n",
       "    <tr>\n",
       "      <th>2011-10-18</th>\n",
       "      <td>BRYANT 1</td>\n",
       "      <td>1</td>\n",
       "      <td>15.474944</td>\n",
       "      <td>6.499</td>\n",
       "      <td>1.942</td>\n",
       "    </tr>\n",
       "    <tr>\n",
       "      <th>...</th>\n",
       "      <td>...</td>\n",
       "      <td>...</td>\n",
       "      <td>...</td>\n",
       "      <td>...</td>\n",
       "      <td>...</td>\n",
       "    </tr>\n",
       "    <tr>\n",
       "      <th>2020-12-25</th>\n",
       "      <td>WEBSTER 3</td>\n",
       "      <td>1</td>\n",
       "      <td>9.897000</td>\n",
       "      <td>4.157</td>\n",
       "      <td>1.242</td>\n",
       "    </tr>\n",
       "    <tr>\n",
       "      <th>2020-12-26</th>\n",
       "      <td>WEBSTER 3</td>\n",
       "      <td>1</td>\n",
       "      <td>10.359000</td>\n",
       "      <td>4.351</td>\n",
       "      <td>1.300</td>\n",
       "    </tr>\n",
       "    <tr>\n",
       "      <th>2020-12-29</th>\n",
       "      <td>WEBSTER 3</td>\n",
       "      <td>3</td>\n",
       "      <td>37.291000</td>\n",
       "      <td>15.662</td>\n",
       "      <td>4.680</td>\n",
       "    </tr>\n",
       "    <tr>\n",
       "      <th>2020-12-30</th>\n",
       "      <td>WEBSTER 3</td>\n",
       "      <td>2</td>\n",
       "      <td>47.706000</td>\n",
       "      <td>20.037</td>\n",
       "      <td>5.987</td>\n",
       "    </tr>\n",
       "    <tr>\n",
       "      <th>2020-12-31</th>\n",
       "      <td>WEBSTER 3</td>\n",
       "      <td>1</td>\n",
       "      <td>7.075000</td>\n",
       "      <td>2.972</td>\n",
       "      <td>0.888</td>\n",
       "    </tr>\n",
       "  </tbody>\n",
       "</table>\n",
       "<p>55075 rows × 5 columns</p>\n",
       "</div>"
      ],
      "text/plain": [
       "           Station Name  counts  Energy (kWh)  GHG Savings (kg)  \\\n",
       "StartDate                                                         \n",
       "2011-10-13     BRYANT 1       2      8.262052             3.470   \n",
       "2011-10-14     BRYANT 1       1      6.259466             2.629   \n",
       "2011-10-15     BRYANT 1       1      4.622894             1.942   \n",
       "2011-10-17     BRYANT 1       1      4.023361             1.690   \n",
       "2011-10-18     BRYANT 1       1     15.474944             6.499   \n",
       "...                 ...     ...           ...               ...   \n",
       "2020-12-25    WEBSTER 3       1      9.897000             4.157   \n",
       "2020-12-26    WEBSTER 3       1     10.359000             4.351   \n",
       "2020-12-29    WEBSTER 3       3     37.291000            15.662   \n",
       "2020-12-30    WEBSTER 3       2     47.706000            20.037   \n",
       "2020-12-31    WEBSTER 3       1      7.075000             2.972   \n",
       "\n",
       "            Gasoline Savings (gallons)  \n",
       "StartDate                               \n",
       "2011-10-13                       1.037  \n",
       "2011-10-14                       0.786  \n",
       "2011-10-15                       0.580  \n",
       "2011-10-17                       0.505  \n",
       "2011-10-18                       1.942  \n",
       "...                                ...  \n",
       "2020-12-25                       1.242  \n",
       "2020-12-26                       1.300  \n",
       "2020-12-29                       4.680  \n",
       "2020-12-30                       5.987  \n",
       "2020-12-31                       0.888  \n",
       "\n",
       "[55075 rows x 5 columns]"
      ]
     },
     "execution_count": 15,
     "metadata": {},
     "output_type": "execute_result"
    }
   ],
   "source": [
    "EVdata"
   ]
  },
  {
   "cell_type": "markdown",
   "metadata": {},
   "source": [
    "##### TestData: one time series"
   ]
  },
  {
   "cell_type": "code",
   "execution_count": 16,
   "metadata": {},
   "outputs": [],
   "source": [
    "testData= EVdata.loc[EVdata[\"Station Name\"] == \"HAMILTON 1\", [\"counts\", \"Energy (kWh)\"]]"
   ]
  },
  {
   "cell_type": "code",
   "execution_count": 17,
   "metadata": {},
   "outputs": [],
   "source": [
    "testData = testData.rename(columns = {\"Energy (kWh)\": \"target\"})"
   ]
  },
  {
   "cell_type": "code",
   "execution_count": 18,
   "metadata": {},
   "outputs": [],
   "source": [
    "testData[\"item_id\"] = \"HAMILTON 1\""
   ]
  },
  {
   "cell_type": "code",
   "execution_count": 28,
   "metadata": {},
   "outputs": [
    {
     "data": {
      "text/html": [
       "<div>\n",
       "<style scoped>\n",
       "    .dataframe tbody tr th:only-of-type {\n",
       "        vertical-align: middle;\n",
       "    }\n",
       "\n",
       "    .dataframe tbody tr th {\n",
       "        vertical-align: top;\n",
       "    }\n",
       "\n",
       "    .dataframe thead th {\n",
       "        text-align: right;\n",
       "    }\n",
       "</style>\n",
       "<table border=\"1\" class=\"dataframe\">\n",
       "  <thead>\n",
       "    <tr style=\"text-align: right;\">\n",
       "      <th></th>\n",
       "      <th>counts</th>\n",
       "      <th>target</th>\n",
       "      <th>item_id</th>\n",
       "    </tr>\n",
       "    <tr>\n",
       "      <th>StartDate</th>\n",
       "      <th></th>\n",
       "      <th></th>\n",
       "      <th></th>\n",
       "    </tr>\n",
       "  </thead>\n",
       "  <tbody>\n",
       "    <tr>\n",
       "      <th>2011-07-29</th>\n",
       "      <td>1</td>\n",
       "      <td>6.249457</td>\n",
       "      <td>HAMILTON 1</td>\n",
       "    </tr>\n",
       "    <tr>\n",
       "      <th>2011-07-30</th>\n",
       "      <td>5</td>\n",
       "      <td>28.978653</td>\n",
       "      <td>HAMILTON 1</td>\n",
       "    </tr>\n",
       "    <tr>\n",
       "      <th>2011-07-31</th>\n",
       "      <td>3</td>\n",
       "      <td>37.209163</td>\n",
       "      <td>HAMILTON 1</td>\n",
       "    </tr>\n",
       "    <tr>\n",
       "      <th>2011-08-01</th>\n",
       "      <td>1</td>\n",
       "      <td>5.041244</td>\n",
       "      <td>HAMILTON 1</td>\n",
       "    </tr>\n",
       "    <tr>\n",
       "      <th>2011-08-02</th>\n",
       "      <td>1</td>\n",
       "      <td>4.197217</td>\n",
       "      <td>HAMILTON 1</td>\n",
       "    </tr>\n",
       "  </tbody>\n",
       "</table>\n",
       "</div>"
      ],
      "text/plain": [
       "            counts     target     item_id\n",
       "StartDate                                \n",
       "2011-07-29       1   6.249457  HAMILTON 1\n",
       "2011-07-30       5  28.978653  HAMILTON 1\n",
       "2011-07-31       3  37.209163  HAMILTON 1\n",
       "2011-08-01       1   5.041244  HAMILTON 1\n",
       "2011-08-02       1   4.197217  HAMILTON 1"
      ]
     },
     "execution_count": 28,
     "metadata": {},
     "output_type": "execute_result"
    }
   ],
   "source": [
    "testData.head()"
   ]
  },
  {
   "cell_type": "code",
   "execution_count": 221,
   "metadata": {},
   "outputs": [],
   "source": [
    "def one_or_multiple_time_series(data, station_name_list, target, item_id, fields):\n",
    "    '''\n",
    "    purpose: \n",
    "        1. select one or multiple time series\n",
    "        2. change the column names\n",
    "\n",
    "    input variables:\n",
    "        data: input dataframe\n",
    "        station_name_list: the station name list (each one is a time series)\n",
    "        target: the target variable name\n",
    "        item_id: id of each time series, here it means station name list\n",
    "        fields: input fields from the input data\n",
    "    '''\n",
    "    testData= data.loc[EVdata[\"Station Name\"] == station_name_list, fields]\n",
    "    testData = testData.rename(columns = {target: \"target\"})\n",
    "    testData[\"item_id\"] = item_id\n",
    "    return testData"
   ]
  },
  {
   "cell_type": "code",
   "execution_count": 219,
   "metadata": {},
   "outputs": [
    {
     "data": {
      "text/html": [
       "<div>\n",
       "<style scoped>\n",
       "    .dataframe tbody tr th:only-of-type {\n",
       "        vertical-align: middle;\n",
       "    }\n",
       "\n",
       "    .dataframe tbody tr th {\n",
       "        vertical-align: top;\n",
       "    }\n",
       "\n",
       "    .dataframe thead th {\n",
       "        text-align: right;\n",
       "    }\n",
       "</style>\n",
       "<table border=\"1\" class=\"dataframe\">\n",
       "  <thead>\n",
       "    <tr style=\"text-align: right;\">\n",
       "      <th></th>\n",
       "      <th>counts</th>\n",
       "      <th>target</th>\n",
       "      <th>item_id</th>\n",
       "    </tr>\n",
       "    <tr>\n",
       "      <th>StartDate</th>\n",
       "      <th></th>\n",
       "      <th></th>\n",
       "      <th></th>\n",
       "    </tr>\n",
       "  </thead>\n",
       "  <tbody>\n",
       "    <tr>\n",
       "      <th>2011-07-29</th>\n",
       "      <td>1</td>\n",
       "      <td>6.249457</td>\n",
       "      <td>HAMILTON 1</td>\n",
       "    </tr>\n",
       "    <tr>\n",
       "      <th>2011-07-30</th>\n",
       "      <td>5</td>\n",
       "      <td>28.978653</td>\n",
       "      <td>HAMILTON 1</td>\n",
       "    </tr>\n",
       "    <tr>\n",
       "      <th>2011-07-31</th>\n",
       "      <td>3</td>\n",
       "      <td>37.209163</td>\n",
       "      <td>HAMILTON 1</td>\n",
       "    </tr>\n",
       "    <tr>\n",
       "      <th>2011-08-01</th>\n",
       "      <td>1</td>\n",
       "      <td>5.041244</td>\n",
       "      <td>HAMILTON 1</td>\n",
       "    </tr>\n",
       "    <tr>\n",
       "      <th>2011-08-02</th>\n",
       "      <td>1</td>\n",
       "      <td>4.197217</td>\n",
       "      <td>HAMILTON 1</td>\n",
       "    </tr>\n",
       "  </tbody>\n",
       "</table>\n",
       "</div>"
      ],
      "text/plain": [
       "            counts     target     item_id\n",
       "StartDate                                \n",
       "2011-07-29       1   6.249457  HAMILTON 1\n",
       "2011-07-30       5  28.978653  HAMILTON 1\n",
       "2011-07-31       3  37.209163  HAMILTON 1\n",
       "2011-08-01       1   5.041244  HAMILTON 1\n",
       "2011-08-02       1   4.197217  HAMILTON 1"
      ]
     },
     "execution_count": 219,
     "metadata": {},
     "output_type": "execute_result"
    }
   ],
   "source": [
    "data = EVdata\n",
    "station_name_list = \"HAMILTON 1\"\n",
    "target = \"Energy (kWh)\"\n",
    "item_id = \"HAMILTON 1\"\n",
    "fields = [\"counts\", \"Energy (kWh)\"]\n",
    "\n",
    "testData = one_or_multiple_time_series(EVdata, station_name_list, target, item_id, fields)\n",
    "testData.head()\n"
   ]
  },
  {
   "cell_type": "markdown",
   "metadata": {},
   "source": [
    "#### Handle missing data"
   ]
  },
  {
   "cell_type": "code",
   "execution_count": 226,
   "metadata": {},
   "outputs": [],
   "source": [
    "def fill_missing_data(testData, predictor_list):\n",
    "    '''\n",
    "    purpose: \n",
    "        1. fill in missing dates with 0\n",
    "        2. extract target and predictors\n",
    "\n",
    "    input variables:\n",
    "        testData: input data\n",
    "        predictor_list: a list of predictors\n",
    "    '''\n",
    "    max_end = max(testData.groupby(\"item_id\").apply(lambda _df: _df.index[-1]))\n",
    "    dfs_dict = {}\n",
    "    for item_id, gdf in testData.groupby(\"item_id\"): ## gdf is all features for each item_id\n",
    "        new_index = pd.date_range(gdf.index[0], end=max_end, freq=\"1D\")\n",
    "        dfs_dict[item_id] = gdf.reindex(new_index).drop(\"item_id\", axis=1)\n",
    "        dfs_dict[item_id][np.isnan(dfs_dict[item_id])] = 0\n",
    "\n",
    "    ds = PandasDataset(dfs_dict, target=\"target\")\n",
    "    counts = dfs_dict[\"HAMILTON 1\"].loc[:, predictor_list].to_numpy()\n",
    "    return ds, counts"
   ]
  },
  {
   "cell_type": "code",
   "execution_count": 227,
   "metadata": {},
   "outputs": [],
   "source": [
    "predictor_list = \"counts\"\n",
    "ds, counts = fill_missing_data(testData, predictor_list)"
   ]
  },
  {
   "cell_type": "code",
   "execution_count": 229,
   "metadata": {},
   "outputs": [],
   "source": [
    "def print_predictor_list(predict_list):\n",
    "    print(predict_list)"
   ]
  },
  {
   "cell_type": "code",
   "execution_count": 233,
   "metadata": {},
   "outputs": [],
   "source": [
    "def print_dataset(dataset):\n",
    "    print(next(iter(dataset)))"
   ]
  },
  {
   "cell_type": "code",
   "execution_count": 232,
   "metadata": {},
   "outputs": [
    {
     "name": "stdout",
     "output_type": "stream",
     "text": [
      "counts\n"
     ]
    }
   ],
   "source": [
    "predict_list = \"counts\"\n",
    "print_predictor_list(predict_list)"
   ]
  },
  {
   "cell_type": "code",
   "execution_count": 234,
   "metadata": {},
   "outputs": [
    {
     "name": "stdout",
     "output_type": "stream",
     "text": [
      "{'start': Period('2011-07-29', 'D'), 'target': array([0., 0., 0., ..., 0., 0., 0.]), 'item_id': 'HAMILTON 1'}\n"
     ]
    }
   ],
   "source": [
    "dataset = ds\n",
    "print_dataset(dataset)"
   ]
  },
  {
   "cell_type": "markdown",
   "metadata": {},
   "source": [
    "#### Add multiple features"
   ]
  },
  {
   "cell_type": "markdown",
   "metadata": {},
   "source": [
    "##### Number of counts"
   ]
  },
  {
   "cell_type": "code",
   "execution_count": 47,
   "metadata": {},
   "outputs": [],
   "source": [
    "prediction_length = 500\n",
    "freq = \"1D\"\n",
    "start = pd.Period('2011-07-29', freq = freq)"
   ]
  },
  {
   "cell_type": "code",
   "execution_count": 39,
   "metadata": {},
   "outputs": [],
   "source": [
    "from gluonts.dataset.field_names import FieldName"
   ]
  },
  {
   "cell_type": "code",
   "execution_count": 59,
   "metadata": {},
   "outputs": [
    {
     "data": {
      "text/plain": [
       "(3386,)"
      ]
     },
     "execution_count": 59,
     "metadata": {},
     "output_type": "execute_result"
    }
   ],
   "source": [
    "next(iter(ds))[\"target\"].shape"
   ]
  },
  {
   "cell_type": "code",
   "execution_count": 58,
   "metadata": {},
   "outputs": [
    {
     "data": {
      "text/plain": [
       "(2886,)"
      ]
     },
     "execution_count": 58,
     "metadata": {},
     "output_type": "execute_result"
    }
   ],
   "source": [
    "next(iter(ds))[\"target\"][: -prediction_length].shape"
   ]
  },
  {
   "cell_type": "markdown",
   "metadata": {},
   "source": [
    "##### Temporal variables"
   ]
  },
  {
   "cell_type": "code",
   "execution_count": 87,
   "metadata": {},
   "outputs": [],
   "source": [
    "from gluonts.time_feature import (\n",
    "    day_of_week,\n",
    "    day_of_month,\n",
    "    day_of_year,\n",
    "    week_of_year,\n",
    "    month_of_year,\n",
    ")"
   ]
  },
  {
   "cell_type": "code",
   "execution_count": 111,
   "metadata": {},
   "outputs": [],
   "source": [
    "from gluonts.time_feature.holiday import (\n",
    "   squared_exponential_kernel,\n",
    "   SpecialDateFeatureSet,\n",
    "   CHRISTMAS_DAY,\n",
    "   CHRISTMAS_EVE\n",
    ")"
   ]
  },
  {
   "cell_type": "code",
   "execution_count": 112,
   "metadata": {},
   "outputs": [],
   "source": [
    "holidat_set = SpecialDateFeatureSet([CHRISTMAS_EVE, CHRISTMAS_DAY])"
   ]
  },
  {
   "cell_type": "code",
   "execution_count": 98,
   "metadata": {},
   "outputs": [
    {
     "data": {
      "text/plain": [
       "(Timestamp('2011-07-29 00:00:00'), Timestamp('2020-11-03 00:00:00'))"
      ]
     },
     "execution_count": 98,
     "metadata": {},
     "output_type": "execute_result"
    }
   ],
   "source": [
    "start_date = testData.index[0]\n",
    "end_date = testData.index[-1]\n",
    "start_date, end_date"
   ]
  },
  {
   "cell_type": "code",
   "execution_count": 99,
   "metadata": {},
   "outputs": [],
   "source": [
    "date_indices = pd.date_range(\n",
    "    start = start_date,\n",
    "    end = end_date,\n",
    "    freq = 'D'\n",
    ")"
   ]
  },
  {
   "cell_type": "code",
   "execution_count": 102,
   "metadata": {},
   "outputs": [],
   "source": [
    "day_of_week_variable = day_of_week(date_indices)\n",
    "day_of_month_variable = day_of_month(date_indices)\n",
    "day_year_variable = day_of_year(date_indices)\n",
    "week_of_year_variable = week_of_year(date_indices)\n",
    "month_of_year_variable = month_of_year(date_indices)"
   ]
  },
  {
   "cell_type": "markdown",
   "metadata": {},
   "source": [
    "#### Use train and split"
   ]
  },
  {
   "cell_type": "code",
   "execution_count": 105,
   "metadata": {},
   "outputs": [],
   "source": [
    "train_ds = ListDataset(\n",
    "    [\n",
    "        {\n",
    "            FieldName.TARGET: target,\n",
    "            FieldName.START: start,\n",
    "            FieldName.FEAT_DYNAMIC_REAL: [counts, dayofweek, monthofyear],\n",
    "        }\n",
    "        for (target, start, counts, dayofweek, monthofyear) in zip(\n",
    "            next(iter(ds))[\"target\"][: -prediction_length].reshape(1, next(iter(ds))[\"target\"][: -prediction_length].shape[0]),\n",
    "            [next(iter(ds))[\"start\"]],\n",
    "            counts[: -prediction_length].reshape(1, counts[: -prediction_length].shape[0]),\n",
    "            day_of_week_variable[: -prediction_length].reshape(1, day_of_week_variable[: -prediction_length].shape[0]),\n",
    "            month_of_year_variable[: -prediction_length].reshape(1, month_of_year_variable[: -prediction_length].shape[0])\n",
    "        )\n",
    "    ],\n",
    "    freq=freq,\n",
    ")"
   ]
  },
  {
   "cell_type": "code",
   "execution_count": 108,
   "metadata": {},
   "outputs": [],
   "source": [
    "test_ds = ListDataset(\n",
    "    [\n",
    "        {\n",
    "            FieldName.TARGET: target,\n",
    "            FieldName.START: start,\n",
    "            FieldName.FEAT_DYNAMIC_REAL: [counts, day_of_week_variable, month_of_year_variable],\n",
    "        }\n",
    "        for (target, start, counts, dayofweek, monthofyear) in zip(\n",
    "            next(iter(ds))[\"target\"].reshape(1, next(iter(ds))[\"target\"].shape[0]),\n",
    "            [next(iter(ds))[\"start\"]],\n",
    "            counts.reshape(1, counts.shape[0]),\n",
    "            day_of_week_variable.reshape(1, day_of_week_variable.shape[0]),\n",
    "            month_of_year_variable.reshape(1, month_of_year_variable.shape[0])\n",
    "        )\n",
    "    ],\n",
    "    freq=freq,\n",
    ")"
   ]
  },
  {
   "cell_type": "code",
   "execution_count": 109,
   "metadata": {},
   "outputs": [
    {
     "data": {
      "text/plain": [
       "[{'target': array([ 6.249457, 28.978653, 37.209164, ..., 24.684   , 19.295   ,\n",
       "         16.339   ], dtype=float32),\n",
       "  'start': Period('2011-07-29', 'D'),\n",
       "  'feat_dynamic_real': array([[ 1.        ,  5.        ,  3.        , ...,  4.        ,\n",
       "           4.        ,  5.        ],\n",
       "         [ 0.16666667,  0.33333334,  0.5       , ...,  0.        ,\n",
       "           0.16666667,  0.33333334],\n",
       "         [ 0.04545455,  0.04545455,  0.04545455, ..., -0.04545455,\n",
       "          -0.04545455, -0.04545455]], dtype=float32)}]"
      ]
     },
     "execution_count": 109,
     "metadata": {},
     "output_type": "execute_result"
    }
   ],
   "source": [
    "train_ds"
   ]
  },
  {
   "cell_type": "code",
   "execution_count": 110,
   "metadata": {},
   "outputs": [
    {
     "data": {
      "text/plain": [
       "[{'target': array([ 6.249457, 28.978653, 37.209164, ..., 44.383   ,  0.      ,\n",
       "          6.545   ], dtype=float32),\n",
       "  'start': Period('2011-07-29', 'D'),\n",
       "  'feat_dynamic_real': array([[ 1.        ,  5.        ,  3.        , ...,  2.        ,\n",
       "           0.        ,  1.        ],\n",
       "         [ 0.16666667,  0.33333334,  0.5       , ...,  0.5       ,\n",
       "          -0.5       , -0.33333334],\n",
       "         [ 0.04545455,  0.04545455,  0.04545455, ...,  0.4090909 ,\n",
       "           0.4090909 ,  0.4090909 ]], dtype=float32)}]"
      ]
     },
     "execution_count": 110,
     "metadata": {},
     "output_type": "execute_result"
    }
   ],
   "source": [
    "test_ds"
   ]
  },
  {
   "cell_type": "markdown",
   "metadata": {},
   "source": [
    "#### Visualize the dataset"
   ]
  },
  {
   "cell_type": "code",
   "execution_count": 113,
   "metadata": {},
   "outputs": [
    {
     "data": {
      "text/plain": [
       "2011-07-29     6.249457\n",
       "2011-07-30    28.978653\n",
       "2011-07-31    37.209164\n",
       "2011-08-01     5.041244\n",
       "2011-08-02     4.197217\n",
       "                ...    \n",
       "2019-06-18    40.965000\n",
       "2019-06-19    42.328999\n",
       "2019-06-20    24.684000\n",
       "2019-06-21    19.295000\n",
       "2019-06-22    16.339001\n",
       "Freq: D, Length: 2886, dtype: float32"
      ]
     },
     "execution_count": 113,
     "metadata": {},
     "output_type": "execute_result"
    }
   ],
   "source": [
    "entry = next(iter(train_ds))\n",
    "train_series = to_pandas(entry)\n",
    "train_series"
   ]
  },
  {
   "cell_type": "code",
   "execution_count": 114,
   "metadata": {},
   "outputs": [
    {
     "data": {
      "image/png": "[encoded data removed]",
      "text/plain": [
       "<Figure size 640x480 with 1 Axes>"
      ]
     },
     "metadata": {},
     "output_type": "display_data"
    }
   ],
   "source": [
    "train_series.plot()\n",
    "plt.grid(which=\"both\")\n",
    "plt.legend([\"train series\"], loc=\"upper left\")\n",
    "plt.show()"
   ]
  },
  {
   "cell_type": "code",
   "execution_count": 115,
   "metadata": {},
   "outputs": [
    {
     "data": {
      "image/png": "[encoded data removed]",
      "text/plain": [
       "<Figure size 640x480 with 1 Axes>"
      ]
     },
     "metadata": {},
     "output_type": "display_data"
    }
   ],
   "source": [
    "entry = next(iter(test_ds))\n",
    "test_series = to_pandas(entry)\n",
    "test_series.plot()\n",
    "plt.axvline(train_series.index[-1], color=\"r\")  # end of train dataset\n",
    "plt.grid(which=\"both\")\n",
    "plt.legend([\"test series\", \"end of train series\"], loc=\"upper left\")\n",
    "plt.show()"
   ]
  },
  {
   "cell_type": "code",
   "execution_count": 116,
   "metadata": {},
   "outputs": [
    {
     "name": "stdout",
     "output_type": "stream",
     "text": [
      "Length of forecasting window in test dataset: 500\n",
      "Recommended prediction horizon: 500\n",
      "Frequency of the time series: 1D\n"
     ]
    }
   ],
   "source": [
    "print(\n",
    "    f\"Length of forecasting window in test dataset: {prediction_length}\"\n",
    ")\n",
    "print(f\"Recommended prediction horizon: {prediction_length}\")\n",
    "print(f\"Frequency of the time series: {freq}\")"
   ]
  },
  {
   "cell_type": "code",
   "execution_count": 117,
   "metadata": {},
   "outputs": [
    {
     "data": {
      "text/plain": [
       "['target', 'start', 'feat_dynamic_real']"
      ]
     },
     "execution_count": 117,
     "metadata": {},
     "output_type": "execute_result"
    }
   ],
   "source": [
    "train_entry = next(iter(train_ds))\n",
    "[k for k in train_entry.keys()]"
   ]
  },
  {
   "cell_type": "code",
   "execution_count": 118,
   "metadata": {},
   "outputs": [
    {
     "data": {
      "text/plain": [
       "['target', 'start', 'feat_dynamic_real']"
      ]
     },
     "execution_count": 118,
     "metadata": {},
     "output_type": "execute_result"
    }
   ],
   "source": [
    "test_entry = next(iter(test_ds))\n",
    "[k for k in test_entry.keys()]"
   ]
  },
  {
   "cell_type": "markdown",
   "metadata": {},
   "source": [
    "#### Train and prediction"
   ]
  },
  {
   "cell_type": "markdown",
   "metadata": {},
   "source": [
    "##### Simple feed forward estimator"
   ]
  },
  {
   "cell_type": "code",
   "execution_count": 238,
   "metadata": {},
   "outputs": [],
   "source": [
    "simple_feed_forward_estimator = SimpleFeedForwardEstimator(\n",
    "    num_hidden_dimensions=[50], ## default: 50\n",
    "    prediction_length=prediction_length,\n",
    "    batch_normalization = False, ## default: false\n",
    "    mean_scaling = True, ## default: true\n",
    "    context_length=100,\n",
    "    trainer=Trainer(\n",
    "        ctx=\"cpu\", \n",
    "        epochs=20, \n",
    "        learning_rate=1e-3, \n",
    "        num_batches_per_epoch=10\n",
    "    ),\n",
    ")"
   ]
  },
  {
   "cell_type": "markdown",
   "metadata": {},
   "source": [
    "##### MQCNN estimator"
   ]
  },
  {
   "cell_type": "code",
   "execution_count": 121,
   "metadata": {},
   "outputs": [],
   "source": [
    "from gluonts.mx import MQCNNEstimator, Trainer"
   ]
  },
  {
   "cell_type": "code",
   "execution_count": 239,
   "metadata": {},
   "outputs": [],
   "source": [
    "mqcnn_estimator = MQCNNEstimator(\n",
    "    freq = freq,\n",
    "    prediction_length=prediction_length,\n",
    "    use_feat_dynamic_real=True,\n",
    "    # context_length=100, ## Default: 4 * prediction_length\n",
    "    trainer=Trainer(\n",
    "        ctx=\"cpu\", \n",
    "        epochs=20, \n",
    "        learning_rate=1e-3, \n",
    "        num_batches_per_epoch=10\n",
    "    ),\n",
    ")"
   ]
  },
  {
   "cell_type": "markdown",
   "metadata": {},
   "source": [
    "##### MQRNN estimator"
   ]
  },
  {
   "cell_type": "code",
   "execution_count": 123,
   "metadata": {},
   "outputs": [],
   "source": [
    "from gluonts.mx import MQRNNEstimator, Trainer"
   ]
  },
  {
   "cell_type": "code",
   "execution_count": 240,
   "metadata": {},
   "outputs": [],
   "source": [
    "mqrnn_estimator = MQRNNEstimator(\n",
    "    freq = freq,\n",
    "    prediction_length=prediction_length,\n",
    "    # context_length=100, ## Default: 4 * prediction_length\n",
    "    trainer=Trainer(\n",
    "        ctx=\"cpu\", \n",
    "        epochs=20, \n",
    "        learning_rate=1e-3, \n",
    "        num_batches_per_epoch=10\n",
    "    ),\n",
    ")"
   ]
  },
  {
   "cell_type": "markdown",
   "metadata": {},
   "source": [
    "##### DeepAR estimator"
   ]
  },
  {
   "cell_type": "code",
   "execution_count": 125,
   "metadata": {},
   "outputs": [],
   "source": [
    "from gluonts.mx import DeepAREstimator, Trainer"
   ]
  },
  {
   "cell_type": "code",
   "execution_count": 241,
   "metadata": {},
   "outputs": [],
   "source": [
    "deepAR_estimator = DeepAREstimator(\n",
    "    freq = freq,\n",
    "    prediction_length = prediction_length,\n",
    "    use_feat_dynamic_real=True,\n",
    "    trainer=Trainer(\n",
    "        ctx=\"cpu\", \n",
    "        epochs=20, \n",
    "        learning_rate=1e-3, \n",
    "        num_batches_per_epoch=100\n",
    "    ),\n",
    ")"
   ]
  },
  {
   "cell_type": "markdown",
   "metadata": {},
   "source": [
    "##### DeepVAR estimator"
   ]
  },
  {
   "cell_type": "code",
   "execution_count": 127,
   "metadata": {},
   "outputs": [],
   "source": [
    "from gluonts.mx import DeepVAREstimator, Trainer"
   ]
  },
  {
   "cell_type": "code",
   "execution_count": 242,
   "metadata": {},
   "outputs": [],
   "source": [
    "deepVAR_estimator = DeepVAREstimator(\n",
    "    freq = freq,\n",
    "    prediction_length = prediction_length,\n",
    "    use_feat_dynamic_real=True,\n",
    "    target_dim= 1,\n",
    "    trainer=Trainer(\n",
    "        ctx=\"cpu\", \n",
    "        epochs=20, \n",
    "        learning_rate=1e-3, \n",
    "        num_batches_per_epoch=100\n",
    "    ),\n",
    ")"
   ]
  },
  {
   "cell_type": "markdown",
   "metadata": {},
   "source": [
    "##### LSTNet"
   ]
  },
  {
   "cell_type": "code",
   "execution_count": 129,
   "metadata": {},
   "outputs": [],
   "source": [
    "from gluonts.mx import LSTNetEstimator, Trainer"
   ]
  },
  {
   "cell_type": "code",
   "execution_count": 243,
   "metadata": {},
   "outputs": [],
   "source": [
    "lstnet_estimator = LSTNetEstimator(\n",
    "    num_series = 1,\n",
    "    prediction_length = prediction_length,\n",
    "    ar_window = 10,\n",
    "    channels = 1,\n",
    "    context_length = 20,\n",
    "    skip_size = 1,\n",
    "    trainer=Trainer(\n",
    "        ctx=\"cpu\", \n",
    "        epochs=20, \n",
    "        learning_rate=1e-3, \n",
    "        num_batches_per_epoch=100\n",
    "    ),\n",
    ")"
   ]
  },
  {
   "cell_type": "markdown",
   "metadata": {},
   "source": [
    "##### Temporal fusion transformer"
   ]
  },
  {
   "cell_type": "code",
   "execution_count": 131,
   "metadata": {},
   "outputs": [],
   "source": [
    "from gluonts.mx import TemporalFusionTransformerEstimator, Trainer"
   ]
  },
  {
   "cell_type": "code",
   "execution_count": 244,
   "metadata": {},
   "outputs": [],
   "source": [
    "tft_estimator = TemporalFusionTransformerEstimator(\n",
    "    freq = freq,\n",
    "    prediction_length = prediction_length,\n",
    "    hidden_dim = 10,\n",
    "    trainer=Trainer(\n",
    "        ctx=\"cpu\", \n",
    "        epochs=20, \n",
    "        learning_rate=1e-3, \n",
    "        num_batches_per_epoch=100\n",
    "    ),\n",
    ")"
   ]
  },
  {
   "cell_type": "markdown",
   "metadata": {},
   "source": [
    "##### Transformer estimator"
   ]
  },
  {
   "cell_type": "code",
   "execution_count": 133,
   "metadata": {},
   "outputs": [],
   "source": [
    "from gluonts.mx import TransformerEstimator, Trainer"
   ]
  },
  {
   "cell_type": "code",
   "execution_count": 246,
   "metadata": {},
   "outputs": [],
   "source": [
    "transformer_estimator = TransformerEstimator(\n",
    "    freq = freq,\n",
    "    prediction_length = prediction_length,\n",
    "    use_feat_dynamic_real=True,\n",
    "    context_length = 100,\n",
    "    trainer=Trainer(\n",
    "        ctx=\"cpu\", \n",
    "        epochs=20, \n",
    "        learning_rate=1e-3, \n",
    "        num_batches_per_epoch=100\n",
    "    ),\n",
    ")"
   ]
  },
  {
   "cell_type": "markdown",
   "metadata": {},
   "source": [
    "##### Deepfactor estimator"
   ]
  },
  {
   "cell_type": "code",
   "execution_count": 135,
   "metadata": {},
   "outputs": [],
   "source": [
    "from gluonts.mx import DeepFactorEstimator, Trainer"
   ]
  },
  {
   "cell_type": "code",
   "execution_count": 247,
   "metadata": {},
   "outputs": [],
   "source": [
    "deepFactor_estimator = TransformerEstimator(\n",
    "    freq = freq,\n",
    "    prediction_length = prediction_length,\n",
    "    use_feat_dynamic_real=True,\n",
    "    trainer=Trainer(\n",
    "        ctx=\"cpu\", \n",
    "        epochs=20, \n",
    "        learning_rate=1e-3, \n",
    "        num_batches_per_epoch=100\n",
    "    ),\n",
    ")"
   ]
  },
  {
   "cell_type": "markdown",
   "metadata": {},
   "source": [
    "##### GP estimator"
   ]
  },
  {
   "cell_type": "code",
   "execution_count": 137,
   "metadata": {},
   "outputs": [],
   "source": [
    "from gluonts.mx import GaussianProcessEstimator, Trainer"
   ]
  },
  {
   "cell_type": "code",
   "execution_count": 248,
   "metadata": {},
   "outputs": [],
   "source": [
    "gp_estimator = GaussianProcessEstimator(\n",
    "    freq = freq,\n",
    "    prediction_length = prediction_length,\n",
    "    cardinality = 1,\n",
    "    trainer=Trainer(\n",
    "        ctx=\"cpu\", \n",
    "        epochs=20, \n",
    "        learning_rate=1e-3, \n",
    "        num_batches_per_epoch=100\n",
    "    ),\n",
    ")"
   ]
  },
  {
   "cell_type": "markdown",
   "metadata": {},
   "source": [
    "##### Naive predictor"
   ]
  },
  {
   "cell_type": "code",
   "execution_count": 139,
   "metadata": {},
   "outputs": [],
   "source": [
    "from gluonts.ext.naive_2 import Naive2Predictor"
   ]
  },
  {
   "cell_type": "code",
   "execution_count": 249,
   "metadata": {},
   "outputs": [],
   "source": [
    "naive_predictor = Naive2Predictor(\n",
    "    prediction_length = prediction_length,\n",
    "    season_length = 100\n",
    ")"
   ]
  },
  {
   "cell_type": "markdown",
   "metadata": {},
   "source": [
    "##### Train and predict"
   ]
  },
  {
   "cell_type": "code",
   "execution_count": 250,
   "metadata": {},
   "outputs": [],
   "source": [
    "from gluonts.mx import DeepAREstimator, Trainer\n",
    "from gluonts.evaluation import make_evaluation_predictions, Evaluator\n",
    "\n",
    "def train_and_predict(train_dataset, test_dataset, estimator):\n",
    "    predictor = estimator.train(train_dataset)\n",
    "    forecast_it, ts_it = make_evaluation_predictions(\n",
    "        dataset = test_dataset, predictor = predictor\n",
    "    )\n",
    "    \n",
    "    return forecast_it, ts_it\n"
   ]
  },
  {
   "cell_type": "code",
   "execution_count": 261,
   "metadata": {},
   "outputs": [],
   "source": [
    "## Available estmators: \n",
    "## transformer_estimator: transformer\n",
    "## tft_estimator: temporal fusion transformer\n",
    "## lstNetEstimator: LSTnet\n",
    "## deepVAR_estimator: DeepVAR\n",
    "## deepAR_estimator: DeepAR\n",
    "## simple_feed_forward_estimator: MLP\n",
    "## deepFactor_estimator: deep factor\n",
    "## gp_estimator: gaussian process\n",
    "## mqcnn_estimator: MQ CNN\n",
    "## rnn_estimator: RNN\n",
    "estimator = deepAR_estimator"
   ]
  },
  {
   "cell_type": "code",
   "execution_count": 262,
   "metadata": {},
   "outputs": [
    {
     "name": "stderr",
     "output_type": "stream",
     "text": [
      "  0%|          | 0/100 [00:00<?, ?it/s]"
     ]
    },
    {
     "name": "stderr",
     "output_type": "stream",
     "text": [
      " 16%|█▌        | 16/100 [00:37<02:46,  1.98s/it, epoch=1/20, avg_epoch_loss=4.57]"
     ]
    }
   ],
   "source": [
    "forecast_it, ts_it = train_and_predict(train_ds, test_ds, estimator)"
   ]
  },
  {
   "cell_type": "markdown",
   "metadata": {},
   "source": [
    "##### Evaluation"
   ]
  },
  {
   "cell_type": "code",
   "execution_count": 253,
   "metadata": {},
   "outputs": [],
   "source": [
    "forecast = list(forecast_it)\n",
    "tss = list(ts_it)"
   ]
  },
  {
   "cell_type": "code",
   "execution_count": 254,
   "metadata": {},
   "outputs": [],
   "source": [
    "forecast_entry = forecast[0]\n",
    "ts_entry = tss[0]"
   ]
  },
  {
   "cell_type": "code",
   "execution_count": 255,
   "metadata": {},
   "outputs": [
    {
     "name": "stdout",
     "output_type": "stream",
     "text": [
      "Number of sample paths: 100\n",
      "Dimension of samples: (100, 500)\n",
      "Start date of the forecast window: 2019-06-23\n",
      "Frequency of the time series: <Day>\n"
     ]
    }
   ],
   "source": [
    "print(f\"Number of sample paths: {forecast_entry.num_samples}\")\n",
    "print(f\"Dimension of samples: {forecast_entry.samples.shape}\")\n",
    "print(f\"Start date of the forecast window: {forecast_entry.start_date}\")\n",
    "print(f\"Frequency of the time series: {forecast_entry.freq}\")"
   ]
  },
  {
   "cell_type": "code",
   "execution_count": 256,
   "metadata": {},
   "outputs": [
    {
     "name": "stdout",
     "output_type": "stream",
     "text": [
      "                    0\n",
      "2011-07-29   6.249457\n",
      "2011-07-30  28.978653\n",
      "2011-07-31  37.209164\n",
      "2011-08-01   5.041244\n",
      "2011-08-02   4.197217\n",
      "...               ...\n",
      "2020-10-30  25.440001\n",
      "2020-10-31  15.122000\n",
      "2020-11-01  44.382999\n",
      "2020-11-02   0.000000\n",
      "2020-11-03   6.545000\n",
      "\n",
      "[3386 rows x 1 columns]\n"
     ]
    }
   ],
   "source": [
    "print(ts_entry)"
   ]
  },
  {
   "cell_type": "code",
   "execution_count": 257,
   "metadata": {},
   "outputs": [
    {
     "data": {
      "text/plain": [
       "<matplotlib.legend.Legend at 0x141f69e70>"
      ]
     },
     "execution_count": 257,
     "metadata": {},
     "output_type": "execute_result"
    },
    {
     "data": {
      "image/png": "[encoded data removed]",
      "text/plain": [
       "<Figure size 640x480 with 1 Axes>"
      ]
     },
     "metadata": {},
     "output_type": "display_data"
    }
   ],
   "source": [
    "plt.plot(ts_entry[-700:].to_timestamp())\n",
    "forecast_entry.plot(show_label=True)\n",
    "plt.legend()"
   ]
  },
  {
   "cell_type": "code",
   "execution_count": 258,
   "metadata": {},
   "outputs": [
    {
     "name": "stderr",
     "output_type": "stream",
     "text": [
      "Running evaluation: 1it [00:00,  2.34it/s]\n"
     ]
    }
   ],
   "source": [
    "evaluator = Evaluator(quantiles=[0.1, 0.5, 0.9])\n",
    "agg_metrics, item_metrics = evaluator(tss, forecast)"
   ]
  },
  {
   "cell_type": "code",
   "execution_count": 259,
   "metadata": {},
   "outputs": [
    {
     "name": "stdout",
     "output_type": "stream",
     "text": [
      "gluonts.mx.model.simple_feedforward._estimator.SimpleFeedForwardEstimator(batch_normalization=False, batch_size=32, context_length=100, distr_output=gluonts.mx.distribution.student_t.StudentTOutput(), imputation_method=None, mean_scaling=True, num_hidden_dimensions=[50], num_parallel_samples=100, prediction_length=500, sampling=True, train_sampler=None, trainer=gluonts.mx.trainer._base.Trainer(add_default_callbacks=True, callbacks=None, clip_gradient=10.0, ctx=cpu(0), epochs=20, hybridize=True, init='xavier', learning_rate=0.001, num_batches_per_epoch=10, weight_decay=1e-08), validation_sampler=None) {\n",
      "    \"MSE\": 547.942625,\n",
      "    \"abs_error\": 9715.791015625,\n",
      "    \"abs_target_sum\": 10153.2109375,\n",
      "    \"abs_target_mean\": 20.306421875,\n",
      "    \"seasonal_error\": 15.414398288561525,\n",
      "    \"MASE\": 1.2606124266082759,\n",
      "    \"MAPE\": 1.9536664739001397,\n",
      "    \"sMAPE\": 0.94046142578125,\n",
      "    \"MSIS\": 8.011889326659205,\n",
      "    \"QuantileLoss[0.1]\": 6290.658263382315,\n",
      "    \"Coverage[0.1]\": 0.424,\n",
      "    \"QuantileLoss[0.5]\": 9715.790832519531,\n",
      "    \"Coverage[0.5]\": 0.722,\n",
      "    \"QuantileLoss[0.9]\": 3558.9236988067623,\n",
      "    \"Coverage[0.9]\": 0.96,\n",
      "    \"RMSE\": 23.408174320095963,\n",
      "    \"NRMSE\": 1.152747365547184,\n",
      "    \"ND\": 0.9569180700994374,\n",
      "    \"wQuantileLoss[0.1]\": 0.6195732859393591,\n",
      "    \"wQuantileLoss[0.5]\": 0.9569180520651949,\n",
      "    \"wQuantileLoss[0.9]\": 0.35052198961632797,\n",
      "    \"mean_absolute_QuantileLoss\": 6521.790931569536,\n",
      "    \"mean_wQuantileLoss\": 0.6423377758736274,\n",
      "    \"MAE_Coverage\": 0.45999999999999996,\n",
      "    \"OWA\": NaN\n",
      "}\n"
     ]
    }
   ],
   "source": [
    "print(estimator, json.dumps(agg_metrics, indent=4))"
   ]
  },
  {
   "cell_type": "code",
   "execution_count": 214,
   "metadata": {},
   "outputs": [
    {
     "data": {
      "text/plain": [
       "153.74209375"
      ]
     },
     "execution_count": 214,
     "metadata": {},
     "output_type": "execute_result"
    }
   ],
   "source": [
    "agg_metrics[\"MSE\"]"
   ]
  },
  {
   "cell_type": "code",
   "execution_count": 215,
   "metadata": {},
   "outputs": [
    {
     "data": {
      "text/html": [
       "<div>\n",
       "<style scoped>\n",
       "    .dataframe tbody tr th:only-of-type {\n",
       "        vertical-align: middle;\n",
       "    }\n",
       "\n",
       "    .dataframe tbody tr th {\n",
       "        vertical-align: top;\n",
       "    }\n",
       "\n",
       "    .dataframe thead th {\n",
       "        text-align: right;\n",
       "    }\n",
       "</style>\n",
       "<table border=\"1\" class=\"dataframe\">\n",
       "  <thead>\n",
       "    <tr style=\"text-align: right;\">\n",
       "      <th></th>\n",
       "      <th>item_id</th>\n",
       "      <th>forecast_start</th>\n",
       "      <th>MSE</th>\n",
       "      <th>abs_error</th>\n",
       "      <th>abs_target_sum</th>\n",
       "      <th>abs_target_mean</th>\n",
       "      <th>seasonal_error</th>\n",
       "      <th>MASE</th>\n",
       "      <th>MAPE</th>\n",
       "      <th>sMAPE</th>\n",
       "      <th>ND</th>\n",
       "      <th>MSIS</th>\n",
       "      <th>QuantileLoss[0.1]</th>\n",
       "      <th>Coverage[0.1]</th>\n",
       "      <th>QuantileLoss[0.5]</th>\n",
       "      <th>Coverage[0.5]</th>\n",
       "      <th>QuantileLoss[0.9]</th>\n",
       "      <th>Coverage[0.9]</th>\n",
       "    </tr>\n",
       "  </thead>\n",
       "  <tbody>\n",
       "    <tr>\n",
       "      <th>0</th>\n",
       "      <td>None</td>\n",
       "      <td>2019-06-23</td>\n",
       "      <td>153.742094</td>\n",
       "      <td>4538.777344</td>\n",
       "      <td>10153.210938</td>\n",
       "      <td>20.306422</td>\n",
       "      <td>15.414398</td>\n",
       "      <td>0.588901</td>\n",
       "      <td>0.607894</td>\n",
       "      <td>0.917827</td>\n",
       "      <td>0.447029</td>\n",
       "      <td>6.510862</td>\n",
       "      <td>1681.47376</td>\n",
       "      <td>0.2</td>\n",
       "      <td>4538.777337</td>\n",
       "      <td>0.556</td>\n",
       "      <td>3314.538601</td>\n",
       "      <td>0.776</td>\n",
       "    </tr>\n",
       "  </tbody>\n",
       "</table>\n",
       "</div>"
      ],
      "text/plain": [
       "  item_id forecast_start         MSE    abs_error  abs_target_sum  \\\n",
       "0    None     2019-06-23  153.742094  4538.777344    10153.210938   \n",
       "\n",
       "   abs_target_mean  seasonal_error      MASE      MAPE     sMAPE        ND  \\\n",
       "0        20.306422       15.414398  0.588901  0.607894  0.917827  0.447029   \n",
       "\n",
       "       MSIS  QuantileLoss[0.1]  Coverage[0.1]  QuantileLoss[0.5]  \\\n",
       "0  6.510862         1681.47376            0.2        4538.777337   \n",
       "\n",
       "   Coverage[0.5]  QuantileLoss[0.9]  Coverage[0.9]  \n",
       "0          0.556        3314.538601          0.776  "
      ]
     },
     "execution_count": 215,
     "metadata": {},
     "output_type": "execute_result"
    }
   ],
   "source": [
    "item_metrics.head()"
   ]
  },
  {
   "cell_type": "code",
   "execution_count": 55,
   "metadata": {},
   "outputs": [
    {
     "data": {
      "image/png": "[encoded data removed]",
      "text/plain": [
       "<Figure size 640x480 with 1 Axes>"
      ]
     },
     "metadata": {},
     "output_type": "display_data"
    }
   ],
   "source": [
    "item_metrics.plot(x=\"MSIS\", y=\"MASE\", kind=\"scatter\")\n",
    "plt.grid(which=\"both\")\n",
    "plt.show()"
   ]
  },
  {
   "cell_type": "code",
   "execution_count": null,
   "metadata": {},
   "outputs": [],
   "source": []
  }
 ],
 "metadata": {
  "kernelspec": {
   "display_name": "Python 3",
   "language": "python",
   "name": "python3"
  },
  "language_info": {
   "codemirror_mode": {
    "name": "ipython",
    "version": 3
   },
   "file_extension": ".py",
   "mimetype": "text/x-python",
   "name": "python",
   "nbconvert_exporter": "python",
   "pygments_lexer": "ipython3",
   "version": "3.10.10"
  },
  "orig_nbformat": 4
 },
 "nbformat": 4,
 "nbformat_minor": 2
}
