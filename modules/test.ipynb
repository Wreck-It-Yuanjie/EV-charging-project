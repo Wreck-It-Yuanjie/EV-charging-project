{
 "cells": [
  {
   "cell_type": "code",
   "execution_count": 1,
   "metadata": {},
   "outputs": [],
   "source": [
    "import os\n",
    "import pandas as pd\n",
    "import data_loading\n",
    "import data_preprocessing\n",
    "import feature_engineering"
   ]
  },
  {
   "cell_type": "code",
   "execution_count": 3,
   "metadata": {},
   "outputs": [],
   "source": [
    "target = \"Energy (kWh)\"\n",
    "freq = '1D'\n",
    "fields = [\"Station Name\", \"Event Count\", \"Total Energy (kWh)\", f\"Total Charging Duration ({freq})\"]"
   ]
  },
  {
   "cell_type": "code",
   "execution_count": 4,
   "metadata": {},
   "outputs": [],
   "source": [
    "## Step 1: load and prepare data\n",
    "EVdf0 = data_loading.load_data(\"EVChargingData2010_2020.csv\")\n",
    "EVdf0 = data_preprocessing.preprocess_data(EVdf0)"
   ]
  },
  {
   "cell_type": "code",
   "execution_count": 5,
   "metadata": {},
   "outputs": [],
   "source": [
    "df_aggregated = feature_engineering.aggregate_ev_charging(EVdf0, time_window=freq)\n",
    "df_aggregated.set_index('Start Date', inplace=True)"
   ]
  },
  {
   "cell_type": "code",
   "execution_count": 6,
   "metadata": {},
   "outputs": [],
   "source": [
    "multiple_ts, station_name_map = feature_engineering.multiple_time_series(df_aggregated, target, fields)"
   ]
  },
  {
   "cell_type": "code",
   "execution_count": 7,
   "metadata": {},
   "outputs": [
    {
     "data": {
      "text/html": [
       "<div>\n",
       "<style scoped>\n",
       "    .dataframe tbody tr th:only-of-type {\n",
       "        vertical-align: middle;\n",
       "    }\n",
       "\n",
       "    .dataframe tbody tr th {\n",
       "        vertical-align: top;\n",
       "    }\n",
       "\n",
       "    .dataframe thead th {\n",
       "        text-align: right;\n",
       "    }\n",
       "</style>\n",
       "<table border=\"1\" class=\"dataframe\">\n",
       "  <thead>\n",
       "    <tr style=\"text-align: right;\">\n",
       "      <th></th>\n",
       "      <th>Event Count</th>\n",
       "      <th>target</th>\n",
       "      <th>Total Charging Duration (1D)</th>\n",
       "      <th>item_id</th>\n",
       "    </tr>\n",
       "    <tr>\n",
       "      <th>Start Date</th>\n",
       "      <th></th>\n",
       "      <th></th>\n",
       "      <th></th>\n",
       "      <th></th>\n",
       "    </tr>\n",
       "  </thead>\n",
       "  <tbody>\n",
       "    <tr>\n",
       "      <th>2020-09-06</th>\n",
       "      <td>1</td>\n",
       "      <td>5.355</td>\n",
       "      <td>0.069630</td>\n",
       "      <td>0</td>\n",
       "    </tr>\n",
       "    <tr>\n",
       "      <th>2020-09-07</th>\n",
       "      <td>0</td>\n",
       "      <td>0.000</td>\n",
       "      <td>0.000000</td>\n",
       "      <td>0</td>\n",
       "    </tr>\n",
       "    <tr>\n",
       "      <th>2020-09-08</th>\n",
       "      <td>0</td>\n",
       "      <td>0.000</td>\n",
       "      <td>0.000000</td>\n",
       "      <td>0</td>\n",
       "    </tr>\n",
       "    <tr>\n",
       "      <th>2020-09-09</th>\n",
       "      <td>0</td>\n",
       "      <td>0.000</td>\n",
       "      <td>0.000000</td>\n",
       "      <td>0</td>\n",
       "    </tr>\n",
       "    <tr>\n",
       "      <th>2020-09-10</th>\n",
       "      <td>0</td>\n",
       "      <td>0.000</td>\n",
       "      <td>0.000000</td>\n",
       "      <td>0</td>\n",
       "    </tr>\n",
       "    <tr>\n",
       "      <th>...</th>\n",
       "      <td>...</td>\n",
       "      <td>...</td>\n",
       "      <td>...</td>\n",
       "      <td>...</td>\n",
       "    </tr>\n",
       "    <tr>\n",
       "      <th>2020-12-27</th>\n",
       "      <td>0</td>\n",
       "      <td>0.000</td>\n",
       "      <td>0.000000</td>\n",
       "      <td>44</td>\n",
       "    </tr>\n",
       "    <tr>\n",
       "      <th>2020-12-28</th>\n",
       "      <td>0</td>\n",
       "      <td>0.000</td>\n",
       "      <td>0.000000</td>\n",
       "      <td>44</td>\n",
       "    </tr>\n",
       "    <tr>\n",
       "      <th>2020-12-29</th>\n",
       "      <td>3</td>\n",
       "      <td>37.291</td>\n",
       "      <td>0.254444</td>\n",
       "      <td>44</td>\n",
       "    </tr>\n",
       "    <tr>\n",
       "      <th>2020-12-30</th>\n",
       "      <td>2</td>\n",
       "      <td>47.706</td>\n",
       "      <td>0.330764</td>\n",
       "      <td>44</td>\n",
       "    </tr>\n",
       "    <tr>\n",
       "      <th>2020-12-31</th>\n",
       "      <td>1</td>\n",
       "      <td>7.075</td>\n",
       "      <td>0.048403</td>\n",
       "      <td>44</td>\n",
       "    </tr>\n",
       "  </tbody>\n",
       "</table>\n",
       "<p>45022 rows × 4 columns</p>\n",
       "</div>"
      ],
      "text/plain": [
       "            Event Count  target  Total Charging Duration (1D)  item_id\n",
       "Start Date                                                            \n",
       "2020-09-06            1   5.355                      0.069630        0\n",
       "2020-09-07            0   0.000                      0.000000        0\n",
       "2020-09-08            0   0.000                      0.000000        0\n",
       "2020-09-09            0   0.000                      0.000000        0\n",
       "2020-09-10            0   0.000                      0.000000        0\n",
       "...                 ...     ...                           ...      ...\n",
       "2020-12-27            0   0.000                      0.000000       44\n",
       "2020-12-28            0   0.000                      0.000000       44\n",
       "2020-12-29            3  37.291                      0.254444       44\n",
       "2020-12-30            2  47.706                      0.330764       44\n",
       "2020-12-31            1   7.075                      0.048403       44\n",
       "\n",
       "[45022 rows x 4 columns]"
      ]
     },
     "execution_count": 7,
     "metadata": {},
     "output_type": "execute_result"
    }
   ],
   "source": [
    "multiple_ts"
   ]
  },
  {
   "cell_type": "code",
   "execution_count": 8,
   "metadata": {},
   "outputs": [],
   "source": [
    "ds = feature_engineering.handle_missing_data(multiple_ts, freq=freq, target_column=\"target\")"
   ]
  },
  {
   "cell_type": "code",
   "execution_count": 8,
   "metadata": {},
   "outputs": [
    {
     "ename": "TypeError",
     "evalue": "'NoneType' object is not iterable",
     "output_type": "error",
     "traceback": [
      "\u001b[0;31m---------------------------------------------------------------------------\u001b[0m",
      "\u001b[0;31mTypeError\u001b[0m                                 Traceback (most recent call last)",
      "Cell \u001b[0;32mIn[8], line 2\u001b[0m\n\u001b[1;32m      1\u001b[0m train_val_test_ratio \u001b[39m=\u001b[39m [\u001b[39m0.7\u001b[39m, \u001b[39m0.2\u001b[39m, \u001b[39m0.1\u001b[39m]\n\u001b[0;32m----> 2\u001b[0m train_length, validation_length, prediction_length \u001b[39m=\u001b[39m feature_engineering\u001b[39m.\u001b[39;49mtrain_test_split(ds, train_val_test_ratio)\n",
      "File \u001b[0;32m~/Documents/EV_charging_demand_prediction_project/time_series_modeling/EV-charging-project/modules/feature_engineering.py:129\u001b[0m, in \u001b[0;36mtrain_test_split\u001b[0;34m(ds, train_val_test_split)\u001b[0m\n\u001b[1;32m    127\u001b[0m \u001b[39mdef\u001b[39;00m \u001b[39mtrain_test_split\u001b[39m(ds, train_val_test_split):\n\u001b[0;32m--> 129\u001b[0m     train_length \u001b[39m=\u001b[39m math\u001b[39m.\u001b[39mfloor(\u001b[39mnext\u001b[39m(\u001b[39miter\u001b[39;49m(ds))[\u001b[39m\"\u001b[39m\u001b[39mtarget\u001b[39m\u001b[39m\"\u001b[39m]\u001b[39m.\u001b[39mshape[\u001b[39m0\u001b[39m]\u001b[39m*\u001b[39mtrain_val_test_split[\u001b[39m0\u001b[39m])\n\u001b[1;32m    130\u001b[0m     validation_length \u001b[39m=\u001b[39m math\u001b[39m.\u001b[39mfloor(\u001b[39mnext\u001b[39m(\u001b[39miter\u001b[39m(ds))[\u001b[39m\"\u001b[39m\u001b[39mtarget\u001b[39m\u001b[39m\"\u001b[39m]\u001b[39m.\u001b[39mshape[\u001b[39m0\u001b[39m]\u001b[39m*\u001b[39mtrain_val_test_split[\u001b[39m1\u001b[39m])\n\u001b[1;32m    131\u001b[0m     prediction_length \u001b[39m=\u001b[39m math\u001b[39m.\u001b[39mfloor(\u001b[39mnext\u001b[39m(\u001b[39miter\u001b[39m(ds))[\u001b[39m\"\u001b[39m\u001b[39mtarget\u001b[39m\u001b[39m\"\u001b[39m]\u001b[39m.\u001b[39mshape[\u001b[39m0\u001b[39m]\u001b[39m*\u001b[39mtrain_val_test_split[\u001b[39m2\u001b[39m])\n",
      "\u001b[0;31mTypeError\u001b[0m: 'NoneType' object is not iterable"
     ]
    }
   ],
   "source": [
    "train_val_test_ratio = [0.7, 0.2, 0.1]\n",
    "train_length, validation_length, prediction_length = feature_engineering.train_test_split(ds, train_val_test_ratio)"
   ]
  },
  {
   "cell_type": "code",
   "execution_count": 29,
   "metadata": {},
   "outputs": [
    {
     "ename": "AttributeError",
     "evalue": "module 'feature_engineering' has no attribute 'train_test_split'",
     "output_type": "error",
     "traceback": [
      "\u001b[0;31m---------------------------------------------------------------------------\u001b[0m",
      "\u001b[0;31mAttributeError\u001b[0m                            Traceback (most recent call last)",
      "Cell \u001b[0;32mIn[29], line 1\u001b[0m\n\u001b[0;32m----> 1\u001b[0m feature_engineering\u001b[39m.\u001b[39;49mtrain_test_split(train_ratio, val_ratio, test_ratio)\n",
      "\u001b[0;31mAttributeError\u001b[0m: module 'feature_engineering' has no attribute 'train_test_split'"
     ]
    }
   ],
   "source": [
    "feature_engineering.train_test_split(train_ratio, val_ratio, test_ratio)"
   ]
  },
  {
   "cell_type": "code",
   "execution_count": 30,
   "metadata": {},
   "outputs": [
    {
     "ename": "AttributeError",
     "evalue": "module 'feature_engineering' has no attribute 'train_test_split'",
     "output_type": "error",
     "traceback": [
      "\u001b[0;31m---------------------------------------------------------------------------\u001b[0m",
      "\u001b[0;31mAttributeError\u001b[0m                            Traceback (most recent call last)",
      "Cell \u001b[0;32mIn[29], line 1\u001b[0m\n\u001b[0;32m----> 1\u001b[0m feature_engineering\u001b[39m.\u001b[39;49mtrain_test_split(train_ratio, val_ratio, test_ratio)\n",
      "\u001b[0;31mAttributeError\u001b[0m: module 'feature_engineering' has no attribute 'train_test_split'"
     ]
    }
   ],
   "source": [
    "%tb"
   ]
  },
  {
   "cell_type": "code",
   "execution_count": 11,
   "metadata": {},
   "outputs": [
    {
     "ename": "AttributeError",
     "evalue": "'PandasDataset' object has no attribute 'index'",
     "output_type": "error",
     "traceback": [
      "\u001b[0;31m---------------------------------------------------------------------------\u001b[0m",
      "\u001b[0;31mAttributeError\u001b[0m                            Traceback (most recent call last)",
      "Cell \u001b[0;32mIn[11], line 1\u001b[0m\n\u001b[0;32m----> 1\u001b[0m features \u001b[39m=\u001b[39m feature_engineering\u001b[39m.\u001b[39;49madd_multiple_features(missing_data_handled, freq\u001b[39m=\u001b[39;49mfreq)\n",
      "File \u001b[0;32m~/Documents/EV_charging_demand_prediction_project/time_series_modeling/EV-charging-project/modules/feature_engineering.py:142\u001b[0m, in \u001b[0;36madd_multiple_features\u001b[0;34m(EVdata, freq)\u001b[0m\n\u001b[1;32m    139\u001b[0m start_date \u001b[39m=\u001b[39m EVdata\u001b[39m.\u001b[39mindex\u001b[39m.\u001b[39mmin()\n\u001b[1;32m    140\u001b[0m end_date \u001b[39m=\u001b[39m EVdata\u001b[39m.\u001b[39mindex\u001b[39m.\u001b[39mmax()\n\u001b[0;32m--> 142\u001b[0m date_indices \u001b[39m=\u001b[39m pd\u001b[39m.\u001b[39mdate_range(start\u001b[39m=\u001b[39mstart_date, end\u001b[39m=\u001b[39mend_date, freq\u001b[39m=\u001b[39mfreq)\n\u001b[1;32m    144\u001b[0m day_of_week_variable \u001b[39m=\u001b[39m np\u001b[39m.\u001b[39marray([day_of_week(date_indices) \u001b[39mfor\u001b[39;00m item \u001b[39min\u001b[39;00m ds])\n\u001b[1;32m    145\u001b[0m day_of_month_variable \u001b[39m=\u001b[39m np\u001b[39m.\u001b[39marray([day_of_month(date_indices) \u001b[39mfor\u001b[39;00m item \u001b[39min\u001b[39;00m ds])\n",
      "\u001b[0;31mAttributeError\u001b[0m: 'PandasDataset' object has no attribute 'index'"
     ]
    }
   ],
   "source": [
    "features = feature_engineering.add_multiple_features(missing_data_handled, freq=freq)"
   ]
  },
  {
   "cell_type": "code",
   "execution_count": null,
   "metadata": {},
   "outputs": [],
   "source": []
  }
 ],
 "metadata": {
  "kernelspec": {
   "display_name": "Python 3",
   "language": "python",
   "name": "python3"
  },
  "language_info": {
   "codemirror_mode": {
    "name": "ipython",
    "version": 3
   },
   "file_extension": ".py",
   "mimetype": "text/x-python",
   "name": "python",
   "nbconvert_exporter": "python",
   "pygments_lexer": "ipython3",
   "version": "3.10.10"
  },
  "orig_nbformat": 4
 },
 "nbformat": 4,
 "nbformat_minor": 2
}
