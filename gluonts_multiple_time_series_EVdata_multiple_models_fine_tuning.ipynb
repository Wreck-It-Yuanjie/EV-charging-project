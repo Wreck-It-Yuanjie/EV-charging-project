{
 "cells": [
  {
   "cell_type": "code",
   "execution_count": 7,
   "metadata": {},
   "outputs": [],
   "source": [
    "%matplotlib inline\n",
    "import numpy as np\n",
    "import pandas as pd\n",
    "import matplotlib.pyplot as plt\n",
    "import json\n",
    "import math\n",
    "from gluonts.dataset.repository import get_dataset, dataset_names\n",
    "from gluonts.dataset.util import to_pandas\n",
    "from gluonts.mx import SimpleFeedForwardEstimator, Trainer\n",
    "from gluonts.evaluation import make_evaluation_predictions\n",
    "from gluonts.dataset.common import ListDataset\n",
    "from gluonts.dataset.pandas import PandasDataset\n",
    "from gluonts.mx import DeepAREstimator, Trainer\n",
    "from gluonts.evaluation import make_evaluation_predictions, Evaluator\n",
    "from gluonts.dataset.field_names import FieldName\n",
    "from gluonts.mx.trainer.callback import TrainingHistory\n",
    "\n",
    "from gluonts.time_feature import (\n",
    "    day_of_week,\n",
    "    day_of_month,\n",
    "    day_of_year,\n",
    "    week_of_year,\n",
    "    month_of_year,\n",
    ")\n",
    "\n",
    "from gluonts.time_feature.holiday import (\n",
    "   squared_exponential_kernel,\n",
    "   SpecialDateFeatureSet,\n",
    "   CHRISTMAS_DAY,\n",
    "   CHRISTMAS_EVE\n",
    ")"
   ]
  },
  {
   "cell_type": "markdown",
   "metadata": {},
   "source": [
    "#### Read dataset"
   ]
  },
  {
   "cell_type": "code",
   "execution_count": 8,
   "metadata": {},
   "outputs": [],
   "source": [
    "EVdata = pd.read_csv(\"stationAggDaytoDay2011_2020May12.csv\", header = 0, index_col = 0)"
   ]
  },
  {
   "cell_type": "code",
   "execution_count": 9,
   "metadata": {},
   "outputs": [],
   "source": [
    "EVdata = EVdata[EVdata['StartDate'] < '2020-07-01']"
   ]
  },
  {
   "cell_type": "code",
   "execution_count": 10,
   "metadata": {},
   "outputs": [],
   "source": [
    "EVdata.set_index('StartDate', inplace=True)"
   ]
  },
  {
   "cell_type": "code",
   "execution_count": 11,
   "metadata": {},
   "outputs": [
    {
     "data": {
      "text/html": [
       "<div>\n",
       "<style scoped>\n",
       "    .dataframe tbody tr th:only-of-type {\n",
       "        vertical-align: middle;\n",
       "    }\n",
       "\n",
       "    .dataframe tbody tr th {\n",
       "        vertical-align: top;\n",
       "    }\n",
       "\n",
       "    .dataframe thead th {\n",
       "        text-align: right;\n",
       "    }\n",
       "</style>\n",
       "<table border=\"1\" class=\"dataframe\">\n",
       "  <thead>\n",
       "    <tr style=\"text-align: right;\">\n",
       "      <th></th>\n",
       "      <th>Station Name</th>\n",
       "      <th>counts</th>\n",
       "      <th>Energy (kWh)</th>\n",
       "      <th>GHG Savings (kg)</th>\n",
       "      <th>Gasoline Savings (gallons)</th>\n",
       "    </tr>\n",
       "    <tr>\n",
       "      <th>StartDate</th>\n",
       "      <th></th>\n",
       "      <th></th>\n",
       "      <th></th>\n",
       "      <th></th>\n",
       "      <th></th>\n",
       "    </tr>\n",
       "  </thead>\n",
       "  <tbody>\n",
       "    <tr>\n",
       "      <th>2011-10-13</th>\n",
       "      <td>BRYANT 1</td>\n",
       "      <td>2</td>\n",
       "      <td>8.262052</td>\n",
       "      <td>3.470</td>\n",
       "      <td>1.037</td>\n",
       "    </tr>\n",
       "    <tr>\n",
       "      <th>2011-10-14</th>\n",
       "      <td>BRYANT 1</td>\n",
       "      <td>1</td>\n",
       "      <td>6.259466</td>\n",
       "      <td>2.629</td>\n",
       "      <td>0.786</td>\n",
       "    </tr>\n",
       "    <tr>\n",
       "      <th>2011-10-15</th>\n",
       "      <td>BRYANT 1</td>\n",
       "      <td>1</td>\n",
       "      <td>4.622894</td>\n",
       "      <td>1.942</td>\n",
       "      <td>0.580</td>\n",
       "    </tr>\n",
       "    <tr>\n",
       "      <th>2011-10-17</th>\n",
       "      <td>BRYANT 1</td>\n",
       "      <td>1</td>\n",
       "      <td>4.023361</td>\n",
       "      <td>1.690</td>\n",
       "      <td>0.505</td>\n",
       "    </tr>\n",
       "    <tr>\n",
       "      <th>2011-10-18</th>\n",
       "      <td>BRYANT 1</td>\n",
       "      <td>1</td>\n",
       "      <td>15.474944</td>\n",
       "      <td>6.499</td>\n",
       "      <td>1.942</td>\n",
       "    </tr>\n",
       "  </tbody>\n",
       "</table>\n",
       "</div>"
      ],
      "text/plain": [
       "           Station Name  counts  Energy (kWh)  GHG Savings (kg)  \\\n",
       "StartDate                                                         \n",
       "2011-10-13     BRYANT 1       2      8.262052             3.470   \n",
       "2011-10-14     BRYANT 1       1      6.259466             2.629   \n",
       "2011-10-15     BRYANT 1       1      4.622894             1.942   \n",
       "2011-10-17     BRYANT 1       1      4.023361             1.690   \n",
       "2011-10-18     BRYANT 1       1     15.474944             6.499   \n",
       "\n",
       "            Gasoline Savings (gallons)  \n",
       "StartDate                               \n",
       "2011-10-13                       1.037  \n",
       "2011-10-14                       0.786  \n",
       "2011-10-15                       0.580  \n",
       "2011-10-17                       0.505  \n",
       "2011-10-18                       1.942  "
      ]
     },
     "execution_count": 11,
     "metadata": {},
     "output_type": "execute_result"
    }
   ],
   "source": [
    "EVdata.head()"
   ]
  },
  {
   "cell_type": "markdown",
   "metadata": {},
   "source": [
    "##### TestData: one time series"
   ]
  },
  {
   "cell_type": "code",
   "execution_count": 12,
   "metadata": {},
   "outputs": [],
   "source": [
    "testData= EVdata.loc[EVdata[\"Station Name\"] == \"HAMILTON 1\", [\"counts\", \"Energy (kWh)\"]]"
   ]
  },
  {
   "cell_type": "code",
   "execution_count": 13,
   "metadata": {},
   "outputs": [],
   "source": [
    "testData = testData.rename(columns = {\"Energy (kWh)\": \"target\"})"
   ]
  },
  {
   "cell_type": "code",
   "execution_count": 14,
   "metadata": {},
   "outputs": [],
   "source": [
    "testData[\"item_id\"] = \"HAMILTON 1\""
   ]
  },
  {
   "cell_type": "code",
   "execution_count": 15,
   "metadata": {},
   "outputs": [
    {
     "data": {
      "text/html": [
       "<div>\n",
       "<style scoped>\n",
       "    .dataframe tbody tr th:only-of-type {\n",
       "        vertical-align: middle;\n",
       "    }\n",
       "\n",
       "    .dataframe tbody tr th {\n",
       "        vertical-align: top;\n",
       "    }\n",
       "\n",
       "    .dataframe thead th {\n",
       "        text-align: right;\n",
       "    }\n",
       "</style>\n",
       "<table border=\"1\" class=\"dataframe\">\n",
       "  <thead>\n",
       "    <tr style=\"text-align: right;\">\n",
       "      <th></th>\n",
       "      <th>counts</th>\n",
       "      <th>target</th>\n",
       "      <th>item_id</th>\n",
       "    </tr>\n",
       "    <tr>\n",
       "      <th>StartDate</th>\n",
       "      <th></th>\n",
       "      <th></th>\n",
       "      <th></th>\n",
       "    </tr>\n",
       "  </thead>\n",
       "  <tbody>\n",
       "    <tr>\n",
       "      <th>2011-07-29</th>\n",
       "      <td>1</td>\n",
       "      <td>6.249457</td>\n",
       "      <td>HAMILTON 1</td>\n",
       "    </tr>\n",
       "    <tr>\n",
       "      <th>2011-07-30</th>\n",
       "      <td>5</td>\n",
       "      <td>28.978653</td>\n",
       "      <td>HAMILTON 1</td>\n",
       "    </tr>\n",
       "    <tr>\n",
       "      <th>2011-07-31</th>\n",
       "      <td>3</td>\n",
       "      <td>37.209163</td>\n",
       "      <td>HAMILTON 1</td>\n",
       "    </tr>\n",
       "    <tr>\n",
       "      <th>2011-08-01</th>\n",
       "      <td>1</td>\n",
       "      <td>5.041244</td>\n",
       "      <td>HAMILTON 1</td>\n",
       "    </tr>\n",
       "    <tr>\n",
       "      <th>2011-08-02</th>\n",
       "      <td>1</td>\n",
       "      <td>4.197217</td>\n",
       "      <td>HAMILTON 1</td>\n",
       "    </tr>\n",
       "  </tbody>\n",
       "</table>\n",
       "</div>"
      ],
      "text/plain": [
       "            counts     target     item_id\n",
       "StartDate                                \n",
       "2011-07-29       1   6.249457  HAMILTON 1\n",
       "2011-07-30       5  28.978653  HAMILTON 1\n",
       "2011-07-31       3  37.209163  HAMILTON 1\n",
       "2011-08-01       1   5.041244  HAMILTON 1\n",
       "2011-08-02       1   4.197217  HAMILTON 1"
      ]
     },
     "execution_count": 15,
     "metadata": {},
     "output_type": "execute_result"
    }
   ],
   "source": [
    "testData.head()"
   ]
  },
  {
   "cell_type": "code",
   "execution_count": 16,
   "metadata": {},
   "outputs": [],
   "source": [
    "from sklearn.preprocessing import LabelEncoder"
   ]
  },
  {
   "cell_type": "code",
   "execution_count": 17,
   "metadata": {},
   "outputs": [],
   "source": [
    "def one_or_multiple_time_series(data, station_name_list, target, item_id, fields):\n",
    "    '''\n",
    "    purpose: \n",
    "        1. select one or multiple time series\n",
    "        2. change the column names\n",
    "\n",
    "    input variables:\n",
    "        data: input dataframe\n",
    "        station_name_list: the station name list (each one is a time series)\n",
    "        target: the target variable name\n",
    "        item_id: id of each time series, here it means station name list\n",
    "        fields: input fields from the input data\n",
    "    '''\n",
    "    testData= data.loc[EVdata[\"Station Name\"] == station_name_list, fields]\n",
    "    testData = testData.rename(columns = {target: \"target\"})\n",
    "    testData[\"item_id\"] = item_id\n",
    "    return testData"
   ]
  },
  {
   "cell_type": "code",
   "execution_count": 18,
   "metadata": {},
   "outputs": [],
   "source": [
    "def multiple_time_series(data, target, fields):\n",
    "    # Initialize LabelEncoder\n",
    "    label_encoder = LabelEncoder()\n",
    "    testData = data.loc[:, fields]\n",
    "    testData = testData.rename(columns = {target: \"target\"})\n",
    "    testData['item_id'] = label_encoder.fit_transform(testData['Station Name'])\n",
    "    station_name_map = testData[['Station Name', 'item_id']]\n",
    "    testData.drop(columns = ['Station Name'], inplace = True)\n",
    "    return testData, station_name_map"
   ]
  },
  {
   "cell_type": "code",
   "execution_count": 19,
   "metadata": {},
   "outputs": [
    {
     "data": {
      "text/html": [
       "<div>\n",
       "<style scoped>\n",
       "    .dataframe tbody tr th:only-of-type {\n",
       "        vertical-align: middle;\n",
       "    }\n",
       "\n",
       "    .dataframe tbody tr th {\n",
       "        vertical-align: top;\n",
       "    }\n",
       "\n",
       "    .dataframe thead th {\n",
       "        text-align: right;\n",
       "    }\n",
       "</style>\n",
       "<table border=\"1\" class=\"dataframe\">\n",
       "  <thead>\n",
       "    <tr style=\"text-align: right;\">\n",
       "      <th></th>\n",
       "      <th>counts</th>\n",
       "      <th>target</th>\n",
       "      <th>item_id</th>\n",
       "    </tr>\n",
       "    <tr>\n",
       "      <th>StartDate</th>\n",
       "      <th></th>\n",
       "      <th></th>\n",
       "      <th></th>\n",
       "    </tr>\n",
       "  </thead>\n",
       "  <tbody>\n",
       "    <tr>\n",
       "      <th>2011-10-13</th>\n",
       "      <td>2</td>\n",
       "      <td>8.262052</td>\n",
       "      <td>0</td>\n",
       "    </tr>\n",
       "    <tr>\n",
       "      <th>2011-10-14</th>\n",
       "      <td>1</td>\n",
       "      <td>6.259466</td>\n",
       "      <td>0</td>\n",
       "    </tr>\n",
       "    <tr>\n",
       "      <th>2011-10-15</th>\n",
       "      <td>1</td>\n",
       "      <td>4.622894</td>\n",
       "      <td>0</td>\n",
       "    </tr>\n",
       "    <tr>\n",
       "      <th>2011-10-17</th>\n",
       "      <td>1</td>\n",
       "      <td>4.023361</td>\n",
       "      <td>0</td>\n",
       "    </tr>\n",
       "    <tr>\n",
       "      <th>2011-10-18</th>\n",
       "      <td>1</td>\n",
       "      <td>15.474944</td>\n",
       "      <td>0</td>\n",
       "    </tr>\n",
       "  </tbody>\n",
       "</table>\n",
       "</div>"
      ],
      "text/plain": [
       "            counts     target  item_id\n",
       "StartDate                             \n",
       "2011-10-13       2   8.262052        0\n",
       "2011-10-14       1   6.259466        0\n",
       "2011-10-15       1   4.622894        0\n",
       "2011-10-17       1   4.023361        0\n",
       "2011-10-18       1  15.474944        0"
      ]
     },
     "execution_count": 19,
     "metadata": {},
     "output_type": "execute_result"
    }
   ],
   "source": [
    "data = EVdata\n",
    "station_name_list = \"HAMILTON 1\"\n",
    "target = \"Energy (kWh)\"\n",
    "item_id = \"HAMILTON 1\"\n",
    "# fields = [\"counts\", \"Energy (kWh)\"]\n",
    "fields = [\"Station Name\", \"counts\", \"Energy (kWh)\"]\n",
    "\n",
    "# testData = one_or_multiple_time_series(EVdata, station_name_list, target, item_id, fields)\n",
    "testData, station_name_map = multiple_time_series(EVdata, target, fields)\n",
    "testData.head()\n"
   ]
  },
  {
   "cell_type": "code",
   "execution_count": 102,
   "metadata": {},
   "outputs": [
    {
     "name": "stdout",
     "output_type": "stream",
     "text": [
      "       Station Name  item_id\n",
      "0          BRYANT 1        0\n",
      "1          BRYANT 2        1\n",
      "2          BRYANT 3        2\n",
      "3          BRYANT 4        3\n",
      "4          BRYANT 5        4\n",
      "5          BRYANT 6        5\n",
      "6       CAMBRIDGE 1        6\n",
      "7       CAMBRIDGE 2        7\n",
      "8       CAMBRIDGE 3        8\n",
      "9       CAMBRIDGE 4        9\n",
      "10      CAMBRIDGE 5       10\n",
      "11       HAMILTON 1       11\n",
      "12       HAMILTON 2       12\n",
      "13           HIGH 1       13\n",
      "14           HIGH 2       14\n",
      "15           HIGH 3       15\n",
      "16           HIGH 4       16\n",
      "17            MPL 1       17\n",
      "18            MPL 2       18\n",
      "19            MPL 3       19\n",
      "20            MPL 4       20\n",
      "21            MPL 5       21\n",
      "22            MPL 6       22\n",
      "23  RINCONADA LIB 1       23\n",
      "24  RINCONADA LIB 2       24\n",
      "25  RINCONADA LIB 3       25\n",
      "26   TED THOMPSON 1       26\n",
      "27   TED THOMPSON 2       27\n",
      "28   TED THOMPSON 3       28\n",
      "29   TED THOMPSON 4       29\n",
      "30        WEBSTER 1       30\n",
      "31        WEBSTER 2       31\n",
      "32        WEBSTER 3       32\n"
     ]
    }
   ],
   "source": [
    "station_name_map = station_name_map.reset_index().drop(columns = [\"StartDate\"]).drop_duplicates().reset_index().drop(columns = [\"index\"])\n",
    "print(station_name_map)"
   ]
  },
  {
   "cell_type": "markdown",
   "metadata": {},
   "source": [
    "#### Handle missing data"
   ]
  },
  {
   "cell_type": "code",
   "execution_count": 21,
   "metadata": {},
   "outputs": [],
   "source": [
    "ds = PandasDataset.from_long_dataframe(testData, target=\"target\", item_id=\"item_id\", freq = \"D\")"
   ]
  },
  {
   "cell_type": "code",
   "execution_count": 22,
   "metadata": {},
   "outputs": [
    {
     "name": "stdout",
     "output_type": "stream",
     "text": [
      "{0:             counts    target\n",
      "2011-10-13     2.0  8.262052\n",
      "2011-10-14     1.0  6.259466\n",
      "2011-10-15     1.0  4.622894\n",
      "2011-10-16     0.0  0.000000\n",
      "2011-10-17     1.0  4.023361\n",
      "...            ...       ...\n",
      "2020-06-26     0.0  0.000000\n",
      "2020-06-27     1.0  1.133000\n",
      "2020-06-28     0.0  0.000000\n",
      "2020-06-29     0.0  0.000000\n",
      "2020-06-30     1.0  0.969000\n",
      "\n",
      "[3184 rows x 2 columns], 1:             counts     target\n",
      "2011-10-10     2.0  16.764479\n",
      "2011-10-11     1.0  13.397377\n",
      "2011-10-12     2.0  16.016336\n",
      "2011-10-13     1.0  18.080227\n",
      "2011-10-14     1.0   5.648643\n",
      "...            ...        ...\n",
      "2020-06-26     0.0   0.000000\n",
      "2020-06-27     0.0   0.000000\n",
      "2020-06-28     0.0   0.000000\n",
      "2020-06-29     0.0   0.000000\n",
      "2020-06-30     0.0   0.000000\n",
      "\n",
      "[3187 rows x 2 columns], 2:             counts     target\n",
      "2016-01-14     4.0  17.080252\n",
      "2016-01-15     6.0  28.369562\n",
      "2016-01-16     5.0  31.712811\n",
      "2016-01-17     2.0   7.865278\n",
      "2016-01-18     5.0  52.964527\n",
      "...            ...        ...\n",
      "2020-06-26     0.0   0.000000\n",
      "2020-06-27     0.0   0.000000\n",
      "2020-06-28     1.0  22.764000\n",
      "2020-06-29     1.0   9.425000\n",
      "2020-06-30     0.0   0.000000\n",
      "\n",
      "[1630 rows x 2 columns], 3:             counts  target\n",
      "2017-07-05     1.0   5.463\n",
      "2017-07-06     5.0  70.373\n",
      "2017-07-07     7.0  57.283\n",
      "2017-07-08     1.0  18.578\n",
      "2017-07-09     2.0  13.711\n",
      "...            ...     ...\n",
      "2020-06-26     1.0  13.009\n",
      "2020-06-27     0.0   0.000\n",
      "2020-06-28     0.0   0.000\n",
      "2020-06-29     0.0   0.000\n",
      "2020-06-30     1.0  13.701\n",
      "\n",
      "[1092 rows x 2 columns], 4:             counts  target\n",
      "2017-07-05     2.0  23.115\n",
      "2017-07-06     2.0  46.042\n",
      "2017-07-07     8.0  53.924\n",
      "2017-07-08     5.0  34.893\n",
      "2017-07-09     4.0  27.266\n",
      "...            ...     ...\n",
      "2020-06-26     0.0   0.000\n",
      "2020-06-27     0.0   0.000\n",
      "2020-06-28     0.0   0.000\n",
      "2020-06-29     0.0   0.000\n",
      "2020-06-30     1.0  12.996\n",
      "\n",
      "[1092 rows x 2 columns], 5:             counts  target\n",
      "2017-07-05     1.0   9.043\n",
      "2017-07-06     4.0  28.440\n",
      "2017-07-07     6.0  76.208\n",
      "2017-07-08     4.0  39.403\n",
      "2017-07-09     4.0  24.106\n",
      "...            ...     ...\n",
      "2020-06-26     1.0   0.491\n",
      "2020-06-27     4.0  21.970\n",
      "2020-06-28     0.0   0.000\n",
      "2020-06-29     2.0  44.443\n",
      "2020-06-30     1.0   7.641\n",
      "\n",
      "[1092 rows x 2 columns], 6:             counts     target\n",
      "2016-01-14     4.0  22.990576\n",
      "2016-01-15     2.0  16.755621\n",
      "2016-01-16     4.0   8.404956\n",
      "2016-01-17     3.0  11.064756\n",
      "2016-01-18     3.0  31.885385\n",
      "...            ...        ...\n",
      "2020-06-26     2.0   9.439000\n",
      "2020-06-27     1.0  11.786000\n",
      "2020-06-28     5.0  20.764000\n",
      "2020-06-29     1.0   5.395000\n",
      "2020-06-30     2.0  10.417000\n",
      "\n",
      "[1630 rows x 2 columns], 7:             counts     target\n",
      "2016-01-14     2.0  16.682200\n",
      "2016-01-15     3.0  27.773435\n",
      "2016-01-16     2.0   4.627524\n",
      "2016-01-17     4.0  42.447534\n",
      "2016-01-18     4.0  34.093602\n",
      "...            ...        ...\n",
      "2020-06-26     4.0  27.946000\n",
      "2020-06-27     0.0   0.000000\n",
      "2020-06-28     0.0   0.000000\n",
      "2020-06-29     0.0   0.000000\n",
      "2020-06-30     1.0   2.645000\n",
      "\n",
      "[1630 rows x 2 columns], 8:             counts  target\n",
      "2018-03-22     1.0   5.585\n",
      "2018-03-23     1.0  19.972\n",
      "2018-03-24     0.0   0.000\n",
      "2018-03-25     0.0   0.000\n",
      "2018-03-26     1.0   7.136\n",
      "...            ...     ...\n",
      "2020-06-26     2.0  24.296\n",
      "2020-06-27     1.0  18.527\n",
      "2020-06-28     8.0  20.977\n",
      "2020-06-29     2.0  11.474\n",
      "2020-06-30     3.0  19.628\n",
      "\n",
      "[832 rows x 2 columns], 9:             counts  target\n",
      "2018-03-23     2.0  25.713\n",
      "2018-03-24     0.0   0.000\n",
      "2018-03-25     3.0  23.374\n",
      "2018-03-26     0.0   0.000\n",
      "2018-03-27     3.0  32.302\n",
      "...            ...     ...\n",
      "2020-06-26     3.0  32.413\n",
      "2020-06-27     2.0  21.683\n",
      "2020-06-28     4.0  15.876\n",
      "2020-06-29     0.0   0.000\n",
      "2020-06-30     2.0  52.991\n",
      "\n",
      "[831 rows x 2 columns], 10:             counts  target\n",
      "2018-03-21     1.0  12.683\n",
      "2018-03-22     0.0   0.000\n",
      "2018-03-23     1.0   7.000\n",
      "2018-03-24     0.0   0.000\n",
      "2018-03-25     2.0  23.929\n",
      "...            ...     ...\n",
      "2020-06-26     2.0  15.413\n",
      "2020-06-27     1.0  12.544\n",
      "2020-06-28     3.0  61.671\n",
      "2020-06-29     2.0  20.542\n",
      "2020-06-30     4.0  26.297\n",
      "\n",
      "[833 rows x 2 columns], 11:             counts     target\n",
      "2011-07-29     1.0   6.249457\n",
      "2011-07-30     5.0  28.978653\n",
      "2011-07-31     3.0  37.209163\n",
      "2011-08-01     1.0   5.041244\n",
      "2011-08-02     1.0   4.197217\n",
      "...            ...        ...\n",
      "2020-06-26     3.0   7.856000\n",
      "2020-06-27     0.0   0.000000\n",
      "2020-06-28     0.0   0.000000\n",
      "2020-06-29     0.0   0.000000\n",
      "2020-06-30     1.0  11.899000\n",
      "\n",
      "[3260 rows x 2 columns], 12:             counts     target\n",
      "2011-08-02     1.0   8.497075\n",
      "2011-08-03     2.0  13.453083\n",
      "2011-08-04     2.0   5.630705\n",
      "2011-08-05     3.0  14.443792\n",
      "2011-08-06     4.0  49.505553\n",
      "...            ...        ...\n",
      "2020-06-26     5.0  55.493000\n",
      "2020-06-27     5.0  51.491000\n",
      "2020-06-28     3.0  22.720000\n",
      "2020-06-29     3.0  51.982000\n",
      "2020-06-30     5.0  58.995000\n",
      "\n",
      "[3256 rows x 2 columns], 13:             counts     target\n",
      "2015-07-29     2.0  28.438739\n",
      "2015-07-30     6.0  49.675407\n",
      "2015-07-31     8.0  70.630027\n",
      "2015-08-01     5.0  38.161906\n",
      "2015-08-02     3.0  13.675883\n",
      "...            ...        ...\n",
      "2020-06-26     1.0  19.985000\n",
      "2020-06-27     1.0   0.303000\n",
      "2020-06-28     0.0   0.000000\n",
      "2020-06-29     0.0   0.000000\n",
      "2020-06-30     0.0   0.000000\n",
      "\n",
      "[1799 rows x 2 columns], 14:             counts  target\n",
      "2017-01-06     3.0  25.934\n",
      "2017-01-07     3.0  10.529\n",
      "2017-01-08     1.0   7.464\n",
      "2017-01-09     6.0  46.872\n",
      "2017-01-10    12.0  81.431\n",
      "...            ...     ...\n",
      "2020-06-26     1.0  12.982\n",
      "2020-06-27     0.0   0.000\n",
      "2020-06-28     0.0   0.000\n",
      "2020-06-29     2.0  20.150\n",
      "2020-06-30     2.0  22.462\n",
      "\n",
      "[1272 rows x 2 columns], 15:             counts  target\n",
      "2017-01-06     1.0   1.775\n",
      "2017-01-07     2.0  27.987\n",
      "2017-01-08     0.0   0.000\n",
      "2017-01-09     7.0  55.962\n",
      "2017-01-10     9.0  84.050\n",
      "...            ...     ...\n",
      "2020-06-26     3.0  32.042\n",
      "2020-06-27     1.0   2.515\n",
      "2020-06-28     2.0  53.586\n",
      "2020-06-29     4.0  18.747\n",
      "2020-06-30     4.0  29.108\n",
      "\n",
      "[1272 rows x 2 columns], 16:             counts     target\n",
      "2011-09-02     1.0   6.403768\n",
      "2011-09-03     0.0   0.000000\n",
      "2011-09-04     1.0  10.786432\n",
      "2011-09-05     0.0   0.000000\n",
      "2011-09-06     0.0   0.000000\n",
      "...            ...        ...\n",
      "2020-06-26     2.0  16.933000\n",
      "2020-06-27     1.0  13.496000\n",
      "2020-06-28     0.0   0.000000\n",
      "2020-06-29     0.0   0.000000\n",
      "2020-06-30     0.0   0.000000\n",
      "\n",
      "[3225 rows x 2 columns], 17:             counts     target\n",
      "2014-09-27     1.0  15.250512\n",
      "2014-09-28     0.0   0.000000\n",
      "2014-09-29     0.0   0.000000\n",
      "2014-09-30     0.0   0.000000\n",
      "2014-10-01     0.0   0.000000\n",
      "...            ...        ...\n",
      "2020-06-26     0.0   0.000000\n",
      "2020-06-27     0.0   0.000000\n",
      "2020-06-28     0.0   0.000000\n",
      "2020-06-29     0.0   0.000000\n",
      "2020-06-30     0.0   0.000000\n",
      "\n",
      "[2104 rows x 2 columns], 18:             counts     target\n",
      "2014-09-24     2.0   0.199938\n",
      "2014-09-25     0.0   0.000000\n",
      "2014-09-26     1.0  10.757406\n",
      "2014-09-27     0.0   0.000000\n",
      "2014-09-28     0.0   0.000000\n",
      "...            ...        ...\n",
      "2020-06-26     0.0   0.000000\n",
      "2020-06-27     0.0   0.000000\n",
      "2020-06-28     0.0   0.000000\n",
      "2020-06-29     0.0   0.000000\n",
      "2020-06-30     0.0   0.000000\n",
      "\n",
      "[2107 rows x 2 columns], 19:             counts    target\n",
      "2014-10-05     1.0  0.905227\n",
      "2014-10-06     0.0  0.000000\n",
      "2014-10-07     0.0  0.000000\n",
      "2014-10-08     0.0  0.000000\n",
      "2014-10-09     0.0  0.000000\n",
      "...            ...       ...\n",
      "2020-06-26     0.0  0.000000\n",
      "2020-06-27     0.0  0.000000\n",
      "2020-06-28     0.0  0.000000\n",
      "2020-06-29     0.0  0.000000\n",
      "2020-06-30     0.0  0.000000\n",
      "\n",
      "[2096 rows x 2 columns], 20:             counts     target\n",
      "2014-09-24     1.0   0.218730\n",
      "2014-09-25     0.0   0.000000\n",
      "2014-09-26     0.0   0.000000\n",
      "2014-09-27     5.0  16.590539\n",
      "2014-09-28     1.0   3.597551\n",
      "...            ...        ...\n",
      "2020-06-26     1.0  11.657000\n",
      "2020-06-27     3.0  21.522000\n",
      "2020-06-28     3.0  16.036000\n",
      "2020-06-29     1.0   8.118000\n",
      "2020-06-30     1.0   8.621000\n",
      "\n",
      "[2107 rows x 2 columns], 21:             counts     target\n",
      "2014-09-28     1.0   3.907685\n",
      "2014-09-29     0.0   0.000000\n",
      "2014-09-30     0.0   0.000000\n",
      "2014-10-01     1.0   0.081381\n",
      "2014-10-02     0.0   0.000000\n",
      "...            ...        ...\n",
      "2020-06-26     1.0  53.933000\n",
      "2020-06-27     0.0   0.000000\n",
      "2020-06-28     1.0   0.481000\n",
      "2020-06-29     0.0   0.000000\n",
      "2020-06-30     1.0   2.463000\n",
      "\n",
      "[2103 rows x 2 columns], 22:             counts     target\n",
      "2014-09-24     1.0   0.141441\n",
      "2014-09-25     0.0   0.000000\n",
      "2014-09-26     0.0   0.000000\n",
      "2014-09-27     3.0   5.084382\n",
      "2014-09-28     2.0  12.640538\n",
      "...            ...        ...\n",
      "2020-06-26     0.0   0.000000\n",
      "2020-06-27     1.0  24.121000\n",
      "2020-06-28     2.0  13.255000\n",
      "2020-06-29     0.0   0.000000\n",
      "2020-06-30     0.0   0.000000\n",
      "\n",
      "[2107 rows x 2 columns], 23:             counts     target\n",
      "2015-01-02     1.0   8.770614\n",
      "2015-01-03     2.0  12.737231\n",
      "2015-01-04     2.0  14.702372\n",
      "2015-01-05     2.0  16.759899\n",
      "2015-01-06     1.0  14.826820\n",
      "...            ...        ...\n",
      "2020-06-26     1.0   6.742000\n",
      "2020-06-27     0.0   0.000000\n",
      "2020-06-28     2.0  51.874000\n",
      "2020-06-29     2.0  71.357000\n",
      "2020-06-30     0.0   0.000000\n",
      "\n",
      "[2007 rows x 2 columns], 24:             counts     target\n",
      "2015-01-02     1.0   8.610813\n",
      "2015-01-03     1.0  10.643465\n",
      "2015-01-04     2.0  52.674403\n",
      "2015-01-05     1.0   5.648695\n",
      "2015-01-06     2.0  22.923458\n",
      "...            ...        ...\n",
      "2020-06-26     1.0  27.191000\n",
      "2020-06-27     3.0  27.683000\n",
      "2020-06-28     1.0   6.615000\n",
      "2020-06-29     1.0  16.324000\n",
      "2020-06-30     0.0   0.000000\n",
      "\n",
      "[2007 rows x 2 columns], 25:             counts     target\n",
      "2015-01-02     1.0   2.946523\n",
      "2015-01-03     2.0  14.424715\n",
      "2015-01-04     0.0   0.000000\n",
      "2015-01-05     3.0   5.872480\n",
      "2015-01-06     3.0   8.430862\n",
      "...            ...        ...\n",
      "2020-06-26     2.0  10.078000\n",
      "2020-06-27     3.0  24.052000\n",
      "2020-06-28     0.0   0.000000\n",
      "2020-06-29     2.0   6.328000\n",
      "2020-06-30     3.0  41.914000\n",
      "\n",
      "[2007 rows x 2 columns], 26:             counts     target\n",
      "2016-01-15     5.0  27.215989\n",
      "2016-01-16     4.0  29.167652\n",
      "2016-01-17     4.0  44.553846\n",
      "2016-01-18     6.0  23.520099\n",
      "2016-01-19     5.0  53.615784\n",
      "...            ...        ...\n",
      "2020-06-26     2.0  26.306000\n",
      "2020-06-27     1.0  30.618000\n",
      "2020-06-28     1.0  11.840000\n",
      "2020-06-29     1.0  15.907000\n",
      "2020-06-30     2.0  24.326000\n",
      "\n",
      "[1629 rows x 2 columns], 27:             counts  target\n",
      "2018-03-22     1.0   3.120\n",
      "2018-03-23     1.0  14.683\n",
      "2018-03-24     0.0   0.000\n",
      "2018-03-25     1.0  13.092\n",
      "2018-03-26     1.0   9.831\n",
      "...            ...     ...\n",
      "2020-06-26     0.0   0.000\n",
      "2020-06-27     0.0   0.000\n",
      "2020-06-28     3.0  14.872\n",
      "2020-06-29     0.0   0.000\n",
      "2020-06-30     0.0   0.000\n",
      "\n",
      "[832 rows x 2 columns], 28:             counts  target\n",
      "2018-03-21     2.0   8.469\n",
      "2018-03-22     2.0  15.824\n",
      "2018-03-23     3.0  25.734\n",
      "2018-03-24     2.0  16.191\n",
      "2018-03-25     0.0   0.000\n",
      "...            ...     ...\n",
      "2020-06-26     1.0  10.402\n",
      "2020-06-27     1.0  22.009\n",
      "2020-06-28     1.0   6.826\n",
      "2020-06-29     0.0   0.000\n",
      "2020-06-30     1.0  14.025\n",
      "\n",
      "[833 rows x 2 columns], 29:             counts  target\n",
      "2018-03-21     4.0  33.317\n",
      "2018-03-22     2.0  17.702\n",
      "2018-03-23     3.0  32.090\n",
      "2018-03-24     0.0   0.000\n",
      "2018-03-25     0.0   0.000\n",
      "...            ...     ...\n",
      "2020-06-26     1.0   6.836\n",
      "2020-06-27     0.0   0.000\n",
      "2020-06-28     1.0   1.814\n",
      "2020-06-29     0.0   0.000\n",
      "2020-06-30     0.0   0.000\n",
      "\n",
      "[833 rows x 2 columns], 30:             counts     target\n",
      "2015-07-29     5.0  31.960757\n",
      "2015-07-30     6.0  59.305799\n",
      "2015-07-31     8.0  55.570722\n",
      "2015-08-01     5.0  40.301019\n",
      "2015-08-02     5.0  27.998645\n",
      "...            ...        ...\n",
      "2020-06-26     2.0  26.156000\n",
      "2020-06-27     2.0  53.398000\n",
      "2020-06-28     3.0  13.803000\n",
      "2020-06-29     1.0  18.608000\n",
      "2020-06-30     2.0  19.683000\n",
      "\n",
      "[1799 rows x 2 columns], 31:             counts     target\n",
      "2015-07-29     1.0   6.898466\n",
      "2015-07-30     7.0  67.512257\n",
      "2015-07-31     8.0  77.708566\n",
      "2015-08-01     3.0  11.469147\n",
      "2015-08-02     3.0  25.937623\n",
      "...            ...        ...\n",
      "2020-06-26     2.0   4.633000\n",
      "2020-06-27     2.0  25.478000\n",
      "2020-06-28     1.0   5.935000\n",
      "2020-06-29     1.0   0.065000\n",
      "2020-06-30     2.0  58.624000\n",
      "\n",
      "[1799 rows x 2 columns], 32:             counts      target\n",
      "2016-01-14     5.0   43.324353\n",
      "2016-01-15    10.0   96.371328\n",
      "2016-01-16     8.0  123.129426\n",
      "2016-01-17     7.0   48.873312\n",
      "2016-01-18    10.0   73.200786\n",
      "...            ...         ...\n",
      "2020-06-26     1.0   35.477000\n",
      "2020-06-27     3.0   57.653000\n",
      "2020-06-28     0.0    0.000000\n",
      "2020-06-29     1.0   27.877000\n",
      "2020-06-30     2.0   23.996000\n",
      "\n",
      "[1630 rows x 2 columns]}\n"
     ]
    }
   ],
   "source": [
    "max_end = max(testData.groupby(\"item_id\").apply(lambda _df: _df.index[-1]))\n",
    "dfs_dict = {}\n",
    "for item_id, gdf in testData.groupby(\"item_id\"):\n",
    "    new_index = pd.date_range(gdf.index[0], end=max_end, freq=\"1D\")\n",
    "    dfs_dict[item_id] = gdf.reindex(new_index).drop(\"item_id\", axis=1)\n",
    "    dfs_dict[item_id][np.isnan(dfs_dict[item_id])] = 0\n",
    "print(dfs_dict)"
   ]
  },
  {
   "cell_type": "code",
   "execution_count": 23,
   "metadata": {},
   "outputs": [
    {
     "name": "stderr",
     "output_type": "stream",
     "text": [
      "/var/folders/32/16m3_s4n0nxfr4l3yr1wflmm0000gn/T/ipykernel_46365/188289404.py:2: VisibleDeprecationWarning: Creating an ndarray from ragged nested sequences (which is a list-or-tuple of lists-or-tuples-or ndarrays with different lengths or shapes) is deprecated. If you meant to do this, you must specify 'dtype=object' when creating the ndarray.\n",
      "  counts = np.array([dfs_dict[item].loc[:, \"counts\"].to_numpy() for item in dfs_dict])\n"
     ]
    }
   ],
   "source": [
    "ds = PandasDataset(dfs_dict, target=\"target\")\n",
    "counts = np.array([dfs_dict[item].loc[:, \"counts\"].to_numpy() for item in dfs_dict])\n",
    "# counts = dfs_dict[\"HAMILTON 1\"].loc[:, \"counts\"].to_numpy()"
   ]
  },
  {
   "cell_type": "markdown",
   "metadata": {},
   "source": [
    "#### Add multiple features"
   ]
  },
  {
   "cell_type": "markdown",
   "metadata": {},
   "source": [
    "##### Number of counts"
   ]
  },
  {
   "cell_type": "code",
   "execution_count": 24,
   "metadata": {},
   "outputs": [],
   "source": [
    "train_val_test_split = [0.7, 0.2, 0.1]\n",
    "train_length = math.floor(next(iter(ds))[\"target\"].shape[0]*train_val_test_split[0])\n",
    "validation_length = math.floor(next(iter(ds))[\"target\"].shape[0]*train_val_test_split[1])\n",
    "prediction_length = math.floor(next(iter(ds))[\"target\"].shape[0]*train_val_test_split[2])\n",
    "\n",
    "freq = \"1D\"\n",
    "train_start = pd.Period('2011-07-29', freq = freq)"
   ]
  },
  {
   "cell_type": "code",
   "execution_count": 25,
   "metadata": {},
   "outputs": [
    {
     "data": {
      "text/plain": [
       "(2228, 636, 318)"
      ]
     },
     "execution_count": 25,
     "metadata": {},
     "output_type": "execute_result"
    }
   ],
   "source": [
    "train_length, validation_length, prediction_length"
   ]
  },
  {
   "cell_type": "code",
   "execution_count": 26,
   "metadata": {},
   "outputs": [
    {
     "data": {
      "text/plain": [
       "(3184,)"
      ]
     },
     "execution_count": 26,
     "metadata": {},
     "output_type": "execute_result"
    }
   ],
   "source": [
    "next(iter(ds))[\"target\"].shape"
   ]
  },
  {
   "cell_type": "code",
   "execution_count": 27,
   "metadata": {},
   "outputs": [
    {
     "data": {
      "text/plain": [
       "(2866,)"
      ]
     },
     "execution_count": 27,
     "metadata": {},
     "output_type": "execute_result"
    }
   ],
   "source": [
    "next(iter(ds))[\"target\"][: -prediction_length].shape"
   ]
  },
  {
   "cell_type": "markdown",
   "metadata": {},
   "source": [
    "##### Temporal variables"
   ]
  },
  {
   "cell_type": "code",
   "execution_count": 28,
   "metadata": {},
   "outputs": [],
   "source": [
    "holidat_set = SpecialDateFeatureSet([CHRISTMAS_EVE, CHRISTMAS_DAY])"
   ]
  },
  {
   "cell_type": "code",
   "execution_count": 29,
   "metadata": {},
   "outputs": [
    {
     "data": {
      "text/html": [
       "<div>\n",
       "<style scoped>\n",
       "    .dataframe tbody tr th:only-of-type {\n",
       "        vertical-align: middle;\n",
       "    }\n",
       "\n",
       "    .dataframe tbody tr th {\n",
       "        vertical-align: top;\n",
       "    }\n",
       "\n",
       "    .dataframe thead th {\n",
       "        text-align: right;\n",
       "    }\n",
       "</style>\n",
       "<table border=\"1\" class=\"dataframe\">\n",
       "  <thead>\n",
       "    <tr style=\"text-align: right;\">\n",
       "      <th></th>\n",
       "      <th>Station Name</th>\n",
       "      <th>counts</th>\n",
       "      <th>Energy (kWh)</th>\n",
       "      <th>GHG Savings (kg)</th>\n",
       "      <th>Gasoline Savings (gallons)</th>\n",
       "    </tr>\n",
       "    <tr>\n",
       "      <th>StartDate</th>\n",
       "      <th></th>\n",
       "      <th></th>\n",
       "      <th></th>\n",
       "      <th></th>\n",
       "      <th></th>\n",
       "    </tr>\n",
       "  </thead>\n",
       "  <tbody>\n",
       "    <tr>\n",
       "      <th>2011-10-13</th>\n",
       "      <td>BRYANT 1</td>\n",
       "      <td>2</td>\n",
       "      <td>8.262052</td>\n",
       "      <td>3.470</td>\n",
       "      <td>1.037</td>\n",
       "    </tr>\n",
       "    <tr>\n",
       "      <th>2011-10-14</th>\n",
       "      <td>BRYANT 1</td>\n",
       "      <td>1</td>\n",
       "      <td>6.259466</td>\n",
       "      <td>2.629</td>\n",
       "      <td>0.786</td>\n",
       "    </tr>\n",
       "    <tr>\n",
       "      <th>2011-10-15</th>\n",
       "      <td>BRYANT 1</td>\n",
       "      <td>1</td>\n",
       "      <td>4.622894</td>\n",
       "      <td>1.942</td>\n",
       "      <td>0.580</td>\n",
       "    </tr>\n",
       "    <tr>\n",
       "      <th>2011-10-17</th>\n",
       "      <td>BRYANT 1</td>\n",
       "      <td>1</td>\n",
       "      <td>4.023361</td>\n",
       "      <td>1.690</td>\n",
       "      <td>0.505</td>\n",
       "    </tr>\n",
       "    <tr>\n",
       "      <th>2011-10-18</th>\n",
       "      <td>BRYANT 1</td>\n",
       "      <td>1</td>\n",
       "      <td>15.474944</td>\n",
       "      <td>6.499</td>\n",
       "      <td>1.942</td>\n",
       "    </tr>\n",
       "  </tbody>\n",
       "</table>\n",
       "</div>"
      ],
      "text/plain": [
       "           Station Name  counts  Energy (kWh)  GHG Savings (kg)  \\\n",
       "StartDate                                                         \n",
       "2011-10-13     BRYANT 1       2      8.262052             3.470   \n",
       "2011-10-14     BRYANT 1       1      6.259466             2.629   \n",
       "2011-10-15     BRYANT 1       1      4.622894             1.942   \n",
       "2011-10-17     BRYANT 1       1      4.023361             1.690   \n",
       "2011-10-18     BRYANT 1       1     15.474944             6.499   \n",
       "\n",
       "            Gasoline Savings (gallons)  \n",
       "StartDate                               \n",
       "2011-10-13                       1.037  \n",
       "2011-10-14                       0.786  \n",
       "2011-10-15                       0.580  \n",
       "2011-10-17                       0.505  \n",
       "2011-10-18                       1.942  "
      ]
     },
     "execution_count": 29,
     "metadata": {},
     "output_type": "execute_result"
    }
   ],
   "source": [
    "data.head()"
   ]
  },
  {
   "cell_type": "code",
   "execution_count": 30,
   "metadata": {},
   "outputs": [
    {
     "data": {
      "text/plain": [
       "('2011-07-29', '2020-06-30')"
      ]
     },
     "execution_count": 30,
     "metadata": {},
     "output_type": "execute_result"
    }
   ],
   "source": [
    "start_date = data.index.min()\n",
    "end_date = data.index.max()\n",
    "start_date, end_date"
   ]
  },
  {
   "cell_type": "code",
   "execution_count": 31,
   "metadata": {},
   "outputs": [],
   "source": [
    "date_indices = pd.date_range(\n",
    "    start = start_date,\n",
    "    end = end_date,\n",
    "    freq = 'D'\n",
    ")"
   ]
  },
  {
   "cell_type": "code",
   "execution_count": 32,
   "metadata": {},
   "outputs": [],
   "source": [
    "day_of_week_variable = np.array([day_of_week(date_indices) for item in ds])\n",
    "\n",
    "day_of_month_variable = np.array([day_of_month(date_indices) for item in ds])\n",
    "day_year_variable = np.array([day_of_year(date_indices) for item in ds])\n",
    "week_of_year_variable = np.array([week_of_year(date_indices) for item in ds])\n",
    "month_of_year_variable = np.array([month_of_year(date_indices) for item in ds])"
   ]
  },
  {
   "cell_type": "code",
   "execution_count": 33,
   "metadata": {},
   "outputs": [
    {
     "data": {
      "text/plain": [
       "3260"
      ]
     },
     "execution_count": 33,
     "metadata": {},
     "output_type": "execute_result"
    }
   ],
   "source": [
    "len(day_of_week_variable[0])"
   ]
  },
  {
   "cell_type": "code",
   "execution_count": 34,
   "metadata": {},
   "outputs": [
    {
     "data": {
      "text/plain": [
       "2228"
      ]
     },
     "execution_count": 34,
     "metadata": {},
     "output_type": "execute_result"
    }
   ],
   "source": [
    "len(day_of_week_variable[0][:train_length])"
   ]
  },
  {
   "cell_type": "markdown",
   "metadata": {},
   "source": [
    "#### Use train and split"
   ]
  },
  {
   "cell_type": "code",
   "execution_count": 35,
   "metadata": {},
   "outputs": [],
   "source": [
    "max_length = max(len(item['target']) for item in ds)\n",
    "padded_targets = [np.pad(arr['target'], (max_length - len(arr['target']), 0), mode='constant') for arr in ds]\n",
    "target = np.vstack(padded_targets)\n",
    "# next(iter(ds))[\"target\"][: train_length].reshape(1, next(iter(ds))[\"target\"][: train_length].shape[0])"
   ]
  },
  {
   "cell_type": "code",
   "execution_count": 36,
   "metadata": {},
   "outputs": [],
   "source": [
    "start = np.array([item['start'] for item in ds])"
   ]
  },
  {
   "cell_type": "code",
   "execution_count": 37,
   "metadata": {},
   "outputs": [],
   "source": [
    "max_length = max(len(item) for item in counts)\n",
    "padded_counts = [np.pad(arr, (max_length - len(arr), 0), mode='constant') for arr in counts]\n",
    "counts = np.vstack(padded_counts)"
   ]
  },
  {
   "cell_type": "code",
   "execution_count": 38,
   "metadata": {},
   "outputs": [
    {
     "data": {
      "text/plain": [
       "array([[ 0.   ,  0.   ,  0.   , ...,  0.   ,  0.   ,  0.969],\n",
       "       [ 0.   ,  0.   ,  0.   , ...,  0.   ,  0.   ,  0.   ],\n",
       "       [ 0.   ,  0.   ,  0.   , ..., 22.764,  9.425,  0.   ],\n",
       "       ...,\n",
       "       [ 0.   ,  0.   ,  0.   , ..., 13.803, 18.608, 19.683],\n",
       "       [ 0.   ,  0.   ,  0.   , ...,  5.935,  0.065, 58.624],\n",
       "       [ 0.   ,  0.   ,  0.   , ...,  0.   , 27.877, 23.996]])"
      ]
     },
     "execution_count": 38,
     "metadata": {},
     "output_type": "execute_result"
    }
   ],
   "source": [
    "target"
   ]
  },
  {
   "cell_type": "code",
   "execution_count": 39,
   "metadata": {},
   "outputs": [
    {
     "data": {
      "text/plain": [
       "2"
      ]
     },
     "execution_count": 39,
     "metadata": {},
     "output_type": "execute_result"
    }
   ],
   "source": [
    "target.ndim"
   ]
  },
  {
   "cell_type": "code",
   "execution_count": 40,
   "metadata": {},
   "outputs": [
    {
     "data": {
      "text/plain": [
       "33"
      ]
     },
     "execution_count": 40,
     "metadata": {},
     "output_type": "execute_result"
    }
   ],
   "source": [
    "len(target[:, :train_length])"
   ]
  },
  {
   "cell_type": "code",
   "execution_count": 104,
   "metadata": {},
   "outputs": [],
   "source": [
    "start_date_period = pd.Period(data.index.min(), freq='D')\n",
    "start = [start_date_period for _ in range(len(target))]"
   ]
  },
  {
   "cell_type": "code",
   "execution_count": 42,
   "metadata": {},
   "outputs": [
    {
     "data": {
      "text/plain": [
       "'1D'"
      ]
     },
     "execution_count": 42,
     "metadata": {},
     "output_type": "execute_result"
    }
   ],
   "source": [
    "freq"
   ]
  },
  {
   "cell_type": "code",
   "execution_count": 43,
   "metadata": {},
   "outputs": [
    {
     "data": {
      "text/plain": [
       "2228"
      ]
     },
     "execution_count": 43,
     "metadata": {},
     "output_type": "execute_result"
    }
   ],
   "source": [
    "len(target[:, :train_length][0])"
   ]
  },
  {
   "cell_type": "code",
   "execution_count": 44,
   "metadata": {},
   "outputs": [
    {
     "data": {
      "text/plain": [
       "3260"
      ]
     },
     "execution_count": 44,
     "metadata": {},
     "output_type": "execute_result"
    }
   ],
   "source": [
    "len(day_of_week_variable[:][:train_length][0])"
   ]
  },
  {
   "cell_type": "code",
   "execution_count": 45,
   "metadata": {},
   "outputs": [],
   "source": [
    "train_ds = ListDataset(\n",
    "    [\n",
    "        {\n",
    "            FieldName.TARGET: target,\n",
    "            FieldName.START: start,\n",
    "            FieldName.FEAT_DYNAMIC_REAL: [counts, dayofweek, monthofyear],\n",
    "        }\n",
    "        for (target, start, counts, dayofweek, monthofyear) in zip(\n",
    "            target[:, :train_length],\n",
    "            start,\n",
    "            counts[:, :train_length],\n",
    "            day_of_week_variable[:, :train_length],\n",
    "            month_of_year_variable[:, :train_length]\n",
    "        )\n",
    "    ],\n",
    "    freq=freq,\n",
    ")"
   ]
  },
  {
   "cell_type": "code",
   "execution_count": 46,
   "metadata": {},
   "outputs": [],
   "source": [
    "val_ds = ListDataset(\n",
    "    [\n",
    "        {\n",
    "            FieldName.TARGET: target,\n",
    "            FieldName.START: start,\n",
    "            FieldName.FEAT_DYNAMIC_REAL: [counts, dayofweek, monthofyear],\n",
    "        }\n",
    "        for (target, start, counts, dayofweek, monthofyear) in zip(\n",
    "            target[:, :-prediction_length],\n",
    "            start,\n",
    "            counts[:, :-prediction_length],\n",
    "            day_of_week_variable[:, :-prediction_length],\n",
    "            month_of_year_variable[:, :-prediction_length]\n",
    "        )\n",
    "    ],\n",
    "    freq=freq,\n",
    ")"
   ]
  },
  {
   "cell_type": "code",
   "execution_count": 47,
   "metadata": {},
   "outputs": [],
   "source": [
    "test_ds = ListDataset(\n",
    "    [\n",
    "        {\n",
    "            FieldName.TARGET: target,\n",
    "            FieldName.START: start,\n",
    "            FieldName.FEAT_DYNAMIC_REAL: [counts, dayofweek, monthofyear],\n",
    "        }\n",
    "        for (target, start, counts, dayofweek, monthofyear) in zip(\n",
    "            target,\n",
    "            start,\n",
    "            counts,\n",
    "            day_of_week_variable,\n",
    "            month_of_year_variable\n",
    "        )\n",
    "    ],\n",
    "    freq=freq,\n",
    ")"
   ]
  },
  {
   "cell_type": "code",
   "execution_count": 48,
   "metadata": {},
   "outputs": [],
   "source": [
    "def check_train_val_test_data(train_ds, val_ds, test_ds):\n",
    "    print(\"training data: \\n \\t {} \\n\".format(train_ds))\n",
    "    print(\"validation data: \\n \\t {} \\n\".format(val_ds))\n",
    "    print(\"testing data: \\n \\t {} \\n\".format(test_ds))"
   ]
  },
  {
   "cell_type": "code",
   "execution_count": 49,
   "metadata": {},
   "outputs": [
    {
     "name": "stdout",
     "output_type": "stream",
     "text": [
      "training data: \n",
      " \t [{'target': array([ 0.   ,  0.   ,  0.   , ..., 23.222, 58.488, 23.058], dtype=float32), 'start': Period('2011-07-29', 'D'), 'feat_dynamic_real': array([[0.        , 0.        , 0.        , ..., 2.        , 4.        ,\n",
      "        2.        ],\n",
      "       [0.16666667, 0.33333334, 0.5       , ..., 0.        , 0.16666667,\n",
      "        0.33333334],\n",
      "       [0.04545455, 0.04545455, 0.04545455, ..., 0.13636364, 0.22727273,\n",
      "        0.22727273]], dtype=float32)}, {'target': array([ 0.   ,  0.   ,  0.   , ..., 28.246, 25.99 ,  2.288], dtype=float32), 'start': Period('2011-07-29', 'D'), 'feat_dynamic_real': array([[0.        , 0.        , 0.        , ..., 3.        , 4.        ,\n",
      "        1.        ],\n",
      "       [0.16666667, 0.33333334, 0.5       , ..., 0.        , 0.16666667,\n",
      "        0.33333334],\n",
      "       [0.04545455, 0.04545455, 0.04545455, ..., 0.13636364, 0.22727273,\n",
      "        0.22727273]], dtype=float32)}, {'target': array([ 0.   ,  0.   ,  0.   , ..., 24.135, 33.996,  9.856], dtype=float32), 'start': Period('2011-07-29', 'D'), 'feat_dynamic_real': array([[0.        , 0.        , 0.        , ..., 3.        , 3.        ,\n",
      "        1.        ],\n",
      "       [0.16666667, 0.33333334, 0.5       , ..., 0.        , 0.16666667,\n",
      "        0.33333334],\n",
      "       [0.04545455, 0.04545455, 0.04545455, ..., 0.13636364, 0.22727273,\n",
      "        0.22727273]], dtype=float32)}, {'target': array([ 0.   ,  0.   ,  0.   , ..., 35.289, 25.353, 11.517], dtype=float32), 'start': Period('2011-07-29', 'D'), 'feat_dynamic_real': array([[0.        , 0.        , 0.        , ..., 4.        , 4.        ,\n",
      "        2.        ],\n",
      "       [0.16666667, 0.33333334, 0.5       , ..., 0.        , 0.16666667,\n",
      "        0.33333334],\n",
      "       [0.04545455, 0.04545455, 0.04545455, ..., 0.13636364, 0.22727273,\n",
      "        0.22727273]], dtype=float32)}, {'target': array([ 0.   ,  0.   ,  0.   , ..., 58.507, 47.663, 13.481], dtype=float32), 'start': Period('2011-07-29', 'D'), 'feat_dynamic_real': array([[0.        , 0.        , 0.        , ..., 4.        , 5.        ,\n",
      "        3.        ],\n",
      "       [0.16666667, 0.33333334, 0.5       , ..., 0.        , 0.16666667,\n",
      "        0.33333334],\n",
      "       [0.04545455, 0.04545455, 0.04545455, ..., 0.13636364, 0.22727273,\n",
      "        0.22727273]], dtype=float32)}, {'target': array([ 0.   ,  0.   ,  0.   , ..., 31.603, 59.432, 30.136], dtype=float32), 'start': Period('2011-07-29', 'D'), 'feat_dynamic_real': array([[0.        , 0.        , 0.        , ..., 4.        , 8.        ,\n",
      "        4.        ],\n",
      "       [0.16666667, 0.33333334, 0.5       , ..., 0.        , 0.16666667,\n",
      "        0.33333334],\n",
      "       [0.04545455, 0.04545455, 0.04545455, ..., 0.13636364, 0.22727273,\n",
      "        0.22727273]], dtype=float32)}, {'target': array([ 0.   ,  0.   ,  0.   , ..., 55.072, 55.314, 24.011], dtype=float32), 'start': Period('2011-07-29', 'D'), 'feat_dynamic_real': array([[ 0.        ,  0.        ,  0.        , ..., 11.        ,\n",
      "         8.        ,  5.        ],\n",
      "       [ 0.16666667,  0.33333334,  0.5       , ...,  0.        ,\n",
      "         0.16666667,  0.33333334],\n",
      "       [ 0.04545455,  0.04545455,  0.04545455, ...,  0.13636364,\n",
      "         0.22727273,  0.22727273]], dtype=float32)}, {'target': array([ 0.   ,  0.   ,  0.   , ..., 40.547, 21.929, 22.835], dtype=float32), 'start': Period('2011-07-29', 'D'), 'feat_dynamic_real': array([[0.        , 0.        , 0.        , ..., 7.        , 3.        ,\n",
      "        5.        ],\n",
      "       [0.16666667, 0.33333334, 0.5       , ..., 0.        , 0.16666667,\n",
      "        0.33333334],\n",
      "       [0.04545455, 0.04545455, 0.04545455, ..., 0.13636364, 0.22727273,\n",
      "        0.22727273]], dtype=float32)}, {'target': array([0., 0., 0., ..., 0., 0., 0.], dtype=float32), 'start': Period('2011-07-29', 'D'), 'feat_dynamic_real': array([[0.        , 0.        , 0.        , ..., 0.        , 0.        ,\n",
      "        0.        ],\n",
      "       [0.16666667, 0.33333334, 0.5       , ..., 0.        , 0.16666667,\n",
      "        0.33333334],\n",
      "       [0.04545455, 0.04545455, 0.04545455, ..., 0.13636364, 0.22727273,\n",
      "        0.22727273]], dtype=float32)}, {'target': array([0., 0., 0., ..., 0., 0., 0.], dtype=float32), 'start': Period('2011-07-29', 'D'), 'feat_dynamic_real': array([[0.        , 0.        , 0.        , ..., 0.        , 0.        ,\n",
      "        0.        ],\n",
      "       [0.16666667, 0.33333334, 0.5       , ..., 0.        , 0.16666667,\n",
      "        0.33333334],\n",
      "       [0.04545455, 0.04545455, 0.04545455, ..., 0.13636364, 0.22727273,\n",
      "        0.22727273]], dtype=float32)}, {'target': array([0., 0., 0., ..., 0., 0., 0.], dtype=float32), 'start': Period('2011-07-29', 'D'), 'feat_dynamic_real': array([[0.        , 0.        , 0.        , ..., 0.        , 0.        ,\n",
      "        0.        ],\n",
      "       [0.16666667, 0.33333334, 0.5       , ..., 0.        , 0.16666667,\n",
      "        0.33333334],\n",
      "       [0.04545455, 0.04545455, 0.04545455, ..., 0.13636364, 0.22727273,\n",
      "        0.22727273]], dtype=float32)}, {'target': array([ 6.249457, 28.978653, 37.209164, ..., 12.27    , 57.889   ,\n",
      "        2.685   ], dtype=float32), 'start': Period('2011-07-29', 'D'), 'feat_dynamic_real': array([[1.        , 5.        , 3.        , ..., 3.        , 7.        ,\n",
      "        1.        ],\n",
      "       [0.16666667, 0.33333334, 0.5       , ..., 0.        , 0.16666667,\n",
      "        0.33333334],\n",
      "       [0.04545455, 0.04545455, 0.04545455, ..., 0.13636364, 0.22727273,\n",
      "        0.22727273]], dtype=float32)}, {'target': array([ 0.   ,  0.   ,  0.   , ..., 84.21 , 80.399, 46.579], dtype=float32), 'start': Period('2011-07-29', 'D'), 'feat_dynamic_real': array([[ 0.        ,  0.        ,  0.        , ..., 12.        ,\n",
      "        11.        ,  7.        ],\n",
      "       [ 0.16666667,  0.33333334,  0.5       , ...,  0.        ,\n",
      "         0.16666667,  0.33333334],\n",
      "       [ 0.04545455,  0.04545455,  0.04545455, ...,  0.13636364,\n",
      "         0.22727273,  0.22727273]], dtype=float32)}, {'target': array([ 0.   ,  0.   ,  0.   , ..., 34.617, 33.202, 50.586], dtype=float32), 'start': Period('2011-07-29', 'D'), 'feat_dynamic_real': array([[0.        , 0.        , 0.        , ..., 3.        , 4.        ,\n",
      "        5.        ],\n",
      "       [0.16666667, 0.33333334, 0.5       , ..., 0.        , 0.16666667,\n",
      "        0.33333334],\n",
      "       [0.04545455, 0.04545455, 0.04545455, ..., 0.13636364, 0.22727273,\n",
      "        0.22727273]], dtype=float32)}, {'target': array([ 0.   ,  0.   ,  0.   , ..., 30.9  , 57.252, 26.145], dtype=float32), 'start': Period('2011-07-29', 'D'), 'feat_dynamic_real': array([[0.        , 0.        , 0.        , ..., 3.        , 7.        ,\n",
      "        4.        ],\n",
      "       [0.16666667, 0.33333334, 0.5       , ..., 0.        , 0.16666667,\n",
      "        0.33333334],\n",
      "       [0.04545455, 0.04545455, 0.04545455, ..., 0.13636364, 0.22727273,\n",
      "        0.22727273]], dtype=float32)}, {'target': array([ 0.   ,  0.   ,  0.   , ..., 24.107, 49.107, 55.539], dtype=float32), 'start': Period('2011-07-29', 'D'), 'feat_dynamic_real': array([[0.        , 0.        , 0.        , ..., 2.        , 7.        ,\n",
      "        3.        ],\n",
      "       [0.16666667, 0.33333334, 0.5       , ..., 0.        , 0.16666667,\n",
      "        0.33333334],\n",
      "       [0.04545455, 0.04545455, 0.04545455, ..., 0.13636364, 0.22727273,\n",
      "        0.22727273]], dtype=float32)}, {'target': array([ 0.   ,  0.   ,  0.   , ...,  4.833,  5.261, 18.876], dtype=float32), 'start': Period('2011-07-29', 'D'), 'feat_dynamic_real': array([[0.        , 0.        , 0.        , ..., 1.        , 2.        ,\n",
      "        3.        ],\n",
      "       [0.16666667, 0.33333334, 0.5       , ..., 0.        , 0.16666667,\n",
      "        0.33333334],\n",
      "       [0.04545455, 0.04545455, 0.04545455, ..., 0.13636364, 0.22727273,\n",
      "        0.22727273]], dtype=float32)}, {'target': array([0.   , 0.   , 0.   , ..., 0.   , 6.509, 0.   ], dtype=float32), 'start': Period('2011-07-29', 'D'), 'feat_dynamic_real': array([[0.        , 0.        , 0.        , ..., 0.        , 1.        ,\n",
      "        0.        ],\n",
      "       [0.16666667, 0.33333334, 0.5       , ..., 0.        , 0.16666667,\n",
      "        0.33333334],\n",
      "       [0.04545455, 0.04545455, 0.04545455, ..., 0.13636364, 0.22727273,\n",
      "        0.22727273]], dtype=float32)}, {'target': array([0., 0., 0., ..., 0., 0., 0.], dtype=float32), 'start': Period('2011-07-29', 'D'), 'feat_dynamic_real': array([[0.        , 0.        , 0.        , ..., 0.        , 0.        ,\n",
      "        0.        ],\n",
      "       [0.16666667, 0.33333334, 0.5       , ..., 0.        , 0.16666667,\n",
      "        0.33333334],\n",
      "       [0.04545455, 0.04545455, 0.04545455, ..., 0.13636364, 0.22727273,\n",
      "        0.22727273]], dtype=float32)}, {'target': array([0.   , 0.   , 0.   , ..., 7.767, 0.   , 0.   ], dtype=float32), 'start': Period('2011-07-29', 'D'), 'feat_dynamic_real': array([[0.        , 0.        , 0.        , ..., 2.        , 0.        ,\n",
      "        0.        ],\n",
      "       [0.16666667, 0.33333334, 0.5       , ..., 0.        , 0.16666667,\n",
      "        0.33333334],\n",
      "       [0.04545455, 0.04545455, 0.04545455, ..., 0.13636364, 0.22727273,\n",
      "        0.22727273]], dtype=float32)}, {'target': array([ 0.   ,  0.   ,  0.   , ..., 18.947, 19.899,  5.667], dtype=float32), 'start': Period('2011-07-29', 'D'), 'feat_dynamic_real': array([[0.        , 0.        , 0.        , ..., 3.        , 4.        ,\n",
      "        3.        ],\n",
      "       [0.16666667, 0.33333334, 0.5       , ..., 0.        , 0.16666667,\n",
      "        0.33333334],\n",
      "       [0.04545455, 0.04545455, 0.04545455, ..., 0.13636364, 0.22727273,\n",
      "        0.22727273]], dtype=float32)}, {'target': array([ 0.   ,  0.   ,  0.   , ..., 23.849,  6.797, 12.488], dtype=float32), 'start': Period('2011-07-29', 'D'), 'feat_dynamic_real': array([[0.        , 0.        , 0.        , ..., 3.        , 3.        ,\n",
      "        2.        ],\n",
      "       [0.16666667, 0.33333334, 0.5       , ..., 0.        , 0.16666667,\n",
      "        0.33333334],\n",
      "       [0.04545455, 0.04545455, 0.04545455, ..., 0.13636364, 0.22727273,\n",
      "        0.22727273]], dtype=float32)}, {'target': array([ 0.   ,  0.   ,  0.   , ..., 29.243, 16.026, 30.79 ], dtype=float32), 'start': Period('2011-07-29', 'D'), 'feat_dynamic_real': array([[0.        , 0.        , 0.        , ..., 3.        , 4.        ,\n",
      "        5.        ],\n",
      "       [0.16666667, 0.33333334, 0.5       , ..., 0.        , 0.16666667,\n",
      "        0.33333334],\n",
      "       [0.04545455, 0.04545455, 0.04545455, ..., 0.13636364, 0.22727273,\n",
      "        0.22727273]], dtype=float32)}, {'target': array([ 0.   ,  0.   ,  0.   , ..., 17.661, 26.968,  9.99 ], dtype=float32), 'start': Period('2011-07-29', 'D'), 'feat_dynamic_real': array([[0.        , 0.        , 0.        , ..., 4.        , 1.        ,\n",
      "        2.        ],\n",
      "       [0.16666667, 0.33333334, 0.5       , ..., 0.        , 0.16666667,\n",
      "        0.33333334],\n",
      "       [0.04545455, 0.04545455, 0.04545455, ..., 0.13636364, 0.22727273,\n",
      "        0.22727273]], dtype=float32)}, {'target': array([ 0.   ,  0.   ,  0.   , ...,  7.302, 15.942, 18.155], dtype=float32), 'start': Period('2011-07-29', 'D'), 'feat_dynamic_real': array([[0.        , 0.        , 0.        , ..., 3.        , 2.        ,\n",
      "        2.        ],\n",
      "       [0.16666667, 0.33333334, 0.5       , ..., 0.        , 0.16666667,\n",
      "        0.33333334],\n",
      "       [0.04545455, 0.04545455, 0.04545455, ..., 0.13636364, 0.22727273,\n",
      "        0.22727273]], dtype=float32)}, {'target': array([ 0.   ,  0.   ,  0.   , ..., 26.773,  0.   ,  7.553], dtype=float32), 'start': Period('2011-07-29', 'D'), 'feat_dynamic_real': array([[0.        , 0.        , 0.        , ..., 3.        , 0.        ,\n",
      "        1.        ],\n",
      "       [0.16666667, 0.33333334, 0.5       , ..., 0.        , 0.16666667,\n",
      "        0.33333334],\n",
      "       [0.04545455, 0.04545455, 0.04545455, ..., 0.13636364, 0.22727273,\n",
      "        0.22727273]], dtype=float32)}, {'target': array([ 0.   ,  0.   ,  0.   , ..., 79.652, 28.134, 10.63 ], dtype=float32), 'start': Period('2011-07-29', 'D'), 'feat_dynamic_real': array([[ 0.        ,  0.        ,  0.        , ..., 11.        ,\n",
      "         4.        ,  1.        ],\n",
      "       [ 0.16666667,  0.33333334,  0.5       , ...,  0.        ,\n",
      "         0.16666667,  0.33333334],\n",
      "       [ 0.04545455,  0.04545455,  0.04545455, ...,  0.13636364,\n",
      "         0.22727273,  0.22727273]], dtype=float32)}, {'target': array([0., 0., 0., ..., 0., 0., 0.], dtype=float32), 'start': Period('2011-07-29', 'D'), 'feat_dynamic_real': array([[0.        , 0.        , 0.        , ..., 0.        , 0.        ,\n",
      "        0.        ],\n",
      "       [0.16666667, 0.33333334, 0.5       , ..., 0.        , 0.16666667,\n",
      "        0.33333334],\n",
      "       [0.04545455, 0.04545455, 0.04545455, ..., 0.13636364, 0.22727273,\n",
      "        0.22727273]], dtype=float32)}, {'target': array([0., 0., 0., ..., 0., 0., 0.], dtype=float32), 'start': Period('2011-07-29', 'D'), 'feat_dynamic_real': array([[0.        , 0.        , 0.        , ..., 0.        , 0.        ,\n",
      "        0.        ],\n",
      "       [0.16666667, 0.33333334, 0.5       , ..., 0.        , 0.16666667,\n",
      "        0.33333334],\n",
      "       [0.04545455, 0.04545455, 0.04545455, ..., 0.13636364, 0.22727273,\n",
      "        0.22727273]], dtype=float32)}, {'target': array([0., 0., 0., ..., 0., 0., 0.], dtype=float32), 'start': Period('2011-07-29', 'D'), 'feat_dynamic_real': array([[0.        , 0.        , 0.        , ..., 0.        , 0.        ,\n",
      "        0.        ],\n",
      "       [0.16666667, 0.33333334, 0.5       , ..., 0.        , 0.16666667,\n",
      "        0.33333334],\n",
      "       [0.04545455, 0.04545455, 0.04545455, ..., 0.13636364, 0.22727273,\n",
      "        0.22727273]], dtype=float32)}, {'target': array([ 0.   ,  0.   ,  0.   , ..., 50.797, 63.378, 56.936], dtype=float32), 'start': Period('2011-07-29', 'D'), 'feat_dynamic_real': array([[0.        , 0.        , 0.        , ..., 7.        , 7.        ,\n",
      "        8.        ],\n",
      "       [0.16666667, 0.33333334, 0.5       , ..., 0.        , 0.16666667,\n",
      "        0.33333334],\n",
      "       [0.04545455, 0.04545455, 0.04545455, ..., 0.13636364, 0.22727273,\n",
      "        0.22727273]], dtype=float32)}, {'target': array([ 0.   ,  0.   ,  0.   , ..., 51.382, 55.719, 59.356], dtype=float32), 'start': Period('2011-07-29', 'D'), 'feat_dynamic_real': array([[0.        , 0.        , 0.        , ..., 6.        , 6.        ,\n",
      "        7.        ],\n",
      "       [0.16666667, 0.33333334, 0.5       , ..., 0.        , 0.16666667,\n",
      "        0.33333334],\n",
      "       [0.04545455, 0.04545455, 0.04545455, ..., 0.13636364, 0.22727273,\n",
      "        0.22727273]], dtype=float32)}, {'target': array([ 0.  ,  0.  ,  0.  , ..., 76.4 , 75.12, 28.48], dtype=float32), 'start': Period('2011-07-29', 'D'), 'feat_dynamic_real': array([[ 0.        ,  0.        ,  0.        , ...,  9.        ,\n",
      "        10.        ,  5.        ],\n",
      "       [ 0.16666667,  0.33333334,  0.5       , ...,  0.        ,\n",
      "         0.16666667,  0.33333334],\n",
      "       [ 0.04545455,  0.04545455,  0.04545455, ...,  0.13636364,\n",
      "         0.22727273,  0.22727273]], dtype=float32)}] \n",
      "\n",
      "validation data: \n",
      " \t [{'target': array([ 0.   ,  0.   ,  0.   , ..., 13.354,  4.26 , 10.018], dtype=float32), 'start': Period('2011-07-29', 'D'), 'feat_dynamic_real': array([[0.        , 0.        , 0.        , ..., 2.        , 2.        ,\n",
      "        2.        ],\n",
      "       [0.16666667, 0.33333334, 0.5       , ..., 0.        , 0.16666667,\n",
      "        0.33333334],\n",
      "       [0.04545455, 0.04545455, 0.04545455, ..., 0.13636364, 0.13636364,\n",
      "        0.13636364]], dtype=float32)}, {'target': array([ 0.   ,  0.   ,  0.   , ..., 24.477, 40.043,  5.276], dtype=float32), 'start': Period('2011-07-29', 'D'), 'feat_dynamic_real': array([[0.        , 0.        , 0.        , ..., 3.        , 4.        ,\n",
      "        1.        ],\n",
      "       [0.16666667, 0.33333334, 0.5       , ..., 0.        , 0.16666667,\n",
      "        0.33333334],\n",
      "       [0.04545455, 0.04545455, 0.04545455, ..., 0.13636364, 0.13636364,\n",
      "        0.13636364]], dtype=float32)}, {'target': array([ 0.   ,  0.   ,  0.   , ..., 15.805,  9.882,  4.25 ], dtype=float32), 'start': Period('2011-07-29', 'D'), 'feat_dynamic_real': array([[0.        , 0.        , 0.        , ..., 4.        , 3.        ,\n",
      "        1.        ],\n",
      "       [0.16666667, 0.33333334, 0.5       , ..., 0.        , 0.16666667,\n",
      "        0.33333334],\n",
      "       [0.04545455, 0.04545455, 0.04545455, ..., 0.13636364, 0.13636364,\n",
      "        0.13636364]], dtype=float32)}, {'target': array([ 0.   ,  0.   ,  0.   , ..., 80.792,  3.821, 22.574], dtype=float32), 'start': Period('2011-07-29', 'D'), 'feat_dynamic_real': array([[0.        , 0.        , 0.        , ..., 6.        , 2.        ,\n",
      "        3.        ],\n",
      "       [0.16666667, 0.33333334, 0.5       , ..., 0.        , 0.16666667,\n",
      "        0.33333334],\n",
      "       [0.04545455, 0.04545455, 0.04545455, ..., 0.13636364, 0.13636364,\n",
      "        0.13636364]], dtype=float32)}, {'target': array([ 0.   ,  0.   ,  0.   , ..., 30.835, 82.133, 23.107], dtype=float32), 'start': Period('2011-07-29', 'D'), 'feat_dynamic_real': array([[0.        , 0.        , 0.        , ..., 2.        , 6.        ,\n",
      "        6.        ],\n",
      "       [0.16666667, 0.33333334, 0.5       , ..., 0.        , 0.16666667,\n",
      "        0.33333334],\n",
      "       [0.04545455, 0.04545455, 0.04545455, ..., 0.13636364, 0.13636364,\n",
      "        0.13636364]], dtype=float32)}, {'target': array([ 0.   ,  0.   ,  0.   , ..., 69.655, 47.261, 28.502], dtype=float32), 'start': Period('2011-07-29', 'D'), 'feat_dynamic_real': array([[0.        , 0.        , 0.        , ..., 6.        , 8.        ,\n",
      "        3.        ],\n",
      "       [0.16666667, 0.33333334, 0.5       , ..., 0.        , 0.16666667,\n",
      "        0.33333334],\n",
      "       [0.04545455, 0.04545455, 0.04545455, ..., 0.13636364, 0.13636364,\n",
      "        0.13636364]], dtype=float32)}, {'target': array([ 0.   ,  0.   ,  0.   , ..., 75.725, 51.277, 17.038], dtype=float32), 'start': Period('2011-07-29', 'D'), 'feat_dynamic_real': array([[ 0.        ,  0.        ,  0.        , ..., 11.        ,\n",
      "        12.        ,  4.        ],\n",
      "       [ 0.16666667,  0.33333334,  0.5       , ...,  0.        ,\n",
      "         0.16666667,  0.33333334],\n",
      "       [ 0.04545455,  0.04545455,  0.04545455, ...,  0.13636364,\n",
      "         0.13636364,  0.13636364]], dtype=float32)}, {'target': array([ 0.   ,  0.   ,  0.   , ..., 13.855, 46.397,  9.108], dtype=float32), 'start': Period('2011-07-29', 'D'), 'feat_dynamic_real': array([[0.        , 0.        , 0.        , ..., 3.        , 7.        ,\n",
      "        1.        ],\n",
      "       [0.16666667, 0.33333334, 0.5       , ..., 0.        , 0.16666667,\n",
      "        0.33333334],\n",
      "       [0.04545455, 0.04545455, 0.04545455, ..., 0.13636364, 0.13636364,\n",
      "        0.13636364]], dtype=float32)}, {'target': array([  0.   ,   0.   ,   0.   , ..., 102.127,  69.733,  45.682],\n",
      "      dtype=float32), 'start': Period('2011-07-29', 'D'), 'feat_dynamic_real': array([[0.        , 0.        , 0.        , ..., 9.        , 8.        ,\n",
      "        7.        ],\n",
      "       [0.16666667, 0.33333334, 0.5       , ..., 0.        , 0.16666667,\n",
      "        0.33333334],\n",
      "       [0.04545455, 0.04545455, 0.04545455, ..., 0.13636364, 0.13636364,\n",
      "        0.13636364]], dtype=float32)}, {'target': array([ 0.   ,  0.   ,  0.   , ..., 74.296, 40.185, 33.812], dtype=float32), 'start': Period('2011-07-29', 'D'), 'feat_dynamic_real': array([[0.        , 0.        , 0.        , ..., 6.        , 7.        ,\n",
      "        3.        ],\n",
      "       [0.16666667, 0.33333334, 0.5       , ..., 0.        , 0.16666667,\n",
      "        0.33333334],\n",
      "       [0.04545455, 0.04545455, 0.04545455, ..., 0.13636364, 0.13636364,\n",
      "        0.13636364]], dtype=float32)}, {'target': array([ 0.   ,  0.   ,  0.   , ..., 64.263, 54.986, 31.298], dtype=float32), 'start': Period('2011-07-29', 'D'), 'feat_dynamic_real': array([[0.        , 0.        , 0.        , ..., 7.        , 8.        ,\n",
      "        5.        ],\n",
      "       [0.16666667, 0.33333334, 0.5       , ..., 0.        , 0.16666667,\n",
      "        0.33333334],\n",
      "       [0.04545455, 0.04545455, 0.04545455, ..., 0.13636364, 0.13636364,\n",
      "        0.13636364]], dtype=float32)}, {'target': array([ 6.249457, 28.978653, 37.209164, ..., 15.526   , 25.814   ,\n",
      "       37.419   ], dtype=float32), 'start': Period('2011-07-29', 'D'), 'feat_dynamic_real': array([[1.        , 5.        , 3.        , ..., 4.        , 3.        ,\n",
      "        5.        ],\n",
      "       [0.16666667, 0.33333334, 0.5       , ..., 0.        , 0.16666667,\n",
      "        0.33333334],\n",
      "       [0.04545455, 0.04545455, 0.04545455, ..., 0.13636364, 0.13636364,\n",
      "        0.13636364]], dtype=float32)}, {'target': array([ 0.   ,  0.   ,  0.   , ..., 86.637, 71.653, 66.996], dtype=float32), 'start': Period('2011-07-29', 'D'), 'feat_dynamic_real': array([[ 0.        ,  0.        ,  0.        , ..., 11.        ,\n",
      "         9.        , 11.        ],\n",
      "       [ 0.16666667,  0.33333334,  0.5       , ...,  0.        ,\n",
      "         0.16666667,  0.33333334],\n",
      "       [ 0.04545455,  0.04545455,  0.04545455, ...,  0.13636364,\n",
      "         0.13636364,  0.13636364]], dtype=float32)}, {'target': array([ 0.   ,  0.   ,  0.   , ..., 88.553, 60.483, 19.035], dtype=float32), 'start': Period('2011-07-29', 'D'), 'feat_dynamic_real': array([[0.        , 0.        , 0.        , ..., 8.        , 8.        ,\n",
      "        5.        ],\n",
      "       [0.16666667, 0.33333334, 0.5       , ..., 0.        , 0.16666667,\n",
      "        0.33333334],\n",
      "       [0.04545455, 0.04545455, 0.04545455, ..., 0.13636364, 0.13636364,\n",
      "        0.13636364]], dtype=float32)}, {'target': array([ 0.   ,  0.   ,  0.   , ..., 71.299, 44.399, 26.677], dtype=float32), 'start': Period('2011-07-29', 'D'), 'feat_dynamic_real': array([[0.        , 0.        , 0.        , ..., 8.        , 6.        ,\n",
      "        3.        ],\n",
      "       [0.16666667, 0.33333334, 0.5       , ..., 0.        , 0.16666667,\n",
      "        0.33333334],\n",
      "       [0.04545455, 0.04545455, 0.04545455, ..., 0.13636364, 0.13636364,\n",
      "        0.13636364]], dtype=float32)}, {'target': array([  0.   ,   0.   ,   0.   , ..., 102.465,  78.297,  41.319],\n",
      "      dtype=float32), 'start': Period('2011-07-29', 'D'), 'feat_dynamic_real': array([[ 0.        ,  0.        ,  0.        , ..., 10.        ,\n",
      "        10.        ,  7.        ],\n",
      "       [ 0.16666667,  0.33333334,  0.5       , ...,  0.        ,\n",
      "         0.16666667,  0.33333334],\n",
      "       [ 0.04545455,  0.04545455,  0.04545455, ...,  0.13636364,\n",
      "         0.13636364,  0.13636364]], dtype=float32)}, {'target': array([ 0.   ,  0.   ,  0.   , ..., 79.312, 24.856, 31.416], dtype=float32), 'start': Period('2011-07-29', 'D'), 'feat_dynamic_real': array([[0.        , 0.        , 0.        , ..., 4.        , 5.        ,\n",
      "        6.        ],\n",
      "       [0.16666667, 0.33333334, 0.5       , ..., 0.        , 0.16666667,\n",
      "        0.33333334],\n",
      "       [0.04545455, 0.04545455, 0.04545455, ..., 0.13636364, 0.13636364,\n",
      "        0.13636364]], dtype=float32)}, {'target': array([0., 0., 0., ..., 0., 0., 0.], dtype=float32), 'start': Period('2011-07-29', 'D'), 'feat_dynamic_real': array([[0.        , 0.        , 0.        , ..., 0.        , 0.        ,\n",
      "        0.        ],\n",
      "       [0.16666667, 0.33333334, 0.5       , ..., 0.        , 0.16666667,\n",
      "        0.33333334],\n",
      "       [0.04545455, 0.04545455, 0.04545455, ..., 0.13636364, 0.13636364,\n",
      "        0.13636364]], dtype=float32)}, {'target': array([0.   , 0.   , 0.   , ..., 0.   , 7.981, 0.   ], dtype=float32), 'start': Period('2011-07-29', 'D'), 'feat_dynamic_real': array([[0.        , 0.        , 0.        , ..., 0.        , 1.        ,\n",
      "        0.        ],\n",
      "       [0.16666667, 0.33333334, 0.5       , ..., 0.        , 0.16666667,\n",
      "        0.33333334],\n",
      "       [0.04545455, 0.04545455, 0.04545455, ..., 0.13636364, 0.13636364,\n",
      "        0.13636364]], dtype=float32)}, {'target': array([0., 0., 0., ..., 0., 0., 0.], dtype=float32), 'start': Period('2011-07-29', 'D'), 'feat_dynamic_real': array([[0.        , 0.        , 0.        , ..., 0.        , 0.        ,\n",
      "        0.        ],\n",
      "       [0.16666667, 0.33333334, 0.5       , ..., 0.        , 0.16666667,\n",
      "        0.33333334],\n",
      "       [0.04545455, 0.04545455, 0.04545455, ..., 0.13636364, 0.13636364,\n",
      "        0.13636364]], dtype=float32)}, {'target': array([ 0.   ,  0.   ,  0.   , ..., 73.263, 12.123, 26.051], dtype=float32), 'start': Period('2011-07-29', 'D'), 'feat_dynamic_real': array([[0.        , 0.        , 0.        , ..., 3.        , 2.        ,\n",
      "        5.        ],\n",
      "       [0.16666667, 0.33333334, 0.5       , ..., 0.        , 0.16666667,\n",
      "        0.33333334],\n",
      "       [0.04545455, 0.04545455, 0.04545455, ..., 0.13636364, 0.13636364,\n",
      "        0.13636364]], dtype=float32)}, {'target': array([ 0.   ,  0.   ,  0.   , ..., 14.558, 32.773, 31.606], dtype=float32), 'start': Period('2011-07-29', 'D'), 'feat_dynamic_real': array([[0.        , 0.        , 0.        , ..., 3.        , 4.        ,\n",
      "        4.        ],\n",
      "       [0.16666667, 0.33333334, 0.5       , ..., 0.        , 0.16666667,\n",
      "        0.33333334],\n",
      "       [0.04545455, 0.04545455, 0.04545455, ..., 0.13636364, 0.13636364,\n",
      "        0.13636364]], dtype=float32)}, {'target': array([ 0.   ,  0.   ,  0.   , ..., 39.952, 37.325, 57.321], dtype=float32), 'start': Period('2011-07-29', 'D'), 'feat_dynamic_real': array([[0.        , 0.        , 0.        , ..., 7.        , 4.        ,\n",
      "        6.        ],\n",
      "       [0.16666667, 0.33333334, 0.5       , ..., 0.        , 0.16666667,\n",
      "        0.33333334],\n",
      "       [0.04545455, 0.04545455, 0.04545455, ..., 0.13636364, 0.13636364,\n",
      "        0.13636364]], dtype=float32)}, {'target': array([ 0.   ,  0.   ,  0.   , ..., 44.925, 21.12 , 25.166], dtype=float32), 'start': Period('2011-07-29', 'D'), 'feat_dynamic_real': array([[0.        , 0.        , 0.        , ..., 2.        , 2.        ,\n",
      "        1.        ],\n",
      "       [0.16666667, 0.33333334, 0.5       , ..., 0.        , 0.16666667,\n",
      "        0.33333334],\n",
      "       [0.04545455, 0.04545455, 0.04545455, ..., 0.13636364, 0.13636364,\n",
      "        0.13636364]], dtype=float32)}, {'target': array([ 0.   ,  0.   ,  0.   , ..., 62.066,  3.923,  4.961], dtype=float32), 'start': Period('2011-07-29', 'D'), 'feat_dynamic_real': array([[0.        , 0.        , 0.        , ..., 7.        , 2.        ,\n",
      "        1.        ],\n",
      "       [0.16666667, 0.33333334, 0.5       , ..., 0.        , 0.16666667,\n",
      "        0.33333334],\n",
      "       [0.04545455, 0.04545455, 0.04545455, ..., 0.13636364, 0.13636364,\n",
      "        0.13636364]], dtype=float32)}, {'target': array([ 0.   ,  0.   ,  0.   , ..., 12.495, 11.524,  3.941], dtype=float32), 'start': Period('2011-07-29', 'D'), 'feat_dynamic_real': array([[0.        , 0.        , 0.        , ..., 3.        , 2.        ,\n",
      "        1.        ],\n",
      "       [0.16666667, 0.33333334, 0.5       , ..., 0.        , 0.16666667,\n",
      "        0.33333334],\n",
      "       [0.04545455, 0.04545455, 0.04545455, ..., 0.13636364, 0.13636364,\n",
      "        0.13636364]], dtype=float32)}, {'target': array([ 0.   ,  0.   ,  0.   , ..., 74.976, 51.496, 11.869], dtype=float32), 'start': Period('2011-07-29', 'D'), 'feat_dynamic_real': array([[0.        , 0.        , 0.        , ..., 7.        , 4.        ,\n",
      "        1.        ],\n",
      "       [0.16666667, 0.33333334, 0.5       , ..., 0.        , 0.16666667,\n",
      "        0.33333334],\n",
      "       [0.04545455, 0.04545455, 0.04545455, ..., 0.13636364, 0.13636364,\n",
      "        0.13636364]], dtype=float32)}, {'target': array([ 0.   ,  0.   ,  0.   , ..., 56.372, 67.505,  0.   ], dtype=float32), 'start': Period('2011-07-29', 'D'), 'feat_dynamic_real': array([[0.        , 0.        , 0.        , ..., 4.        , 4.        ,\n",
      "        0.        ],\n",
      "       [0.16666667, 0.33333334, 0.5       , ..., 0.        , 0.16666667,\n",
      "        0.33333334],\n",
      "       [0.04545455, 0.04545455, 0.04545455, ..., 0.13636364, 0.13636364,\n",
      "        0.13636364]], dtype=float32)}, {'target': array([  0.   ,   0.   ,   0.   , ..., 103.064,  12.742,   0.   ],\n",
      "      dtype=float32), 'start': Period('2011-07-29', 'D'), 'feat_dynamic_real': array([[0.        , 0.        , 0.        , ..., 5.        , 3.        ,\n",
      "        0.        ],\n",
      "       [0.16666667, 0.33333334, 0.5       , ..., 0.        , 0.16666667,\n",
      "        0.33333334],\n",
      "       [0.04545455, 0.04545455, 0.04545455, ..., 0.13636364, 0.13636364,\n",
      "        0.13636364]], dtype=float32)}, {'target': array([ 0.   ,  0.   ,  0.   , ..., 39.385, 31.051, 29.976], dtype=float32), 'start': Period('2011-07-29', 'D'), 'feat_dynamic_real': array([[0.        , 0.        , 0.        , ..., 5.        , 2.        ,\n",
      "        1.        ],\n",
      "       [0.16666667, 0.33333334, 0.5       , ..., 0.        , 0.16666667,\n",
      "        0.33333334],\n",
      "       [0.04545455, 0.04545455, 0.04545455, ..., 0.13636364, 0.13636364,\n",
      "        0.13636364]], dtype=float32)}, {'target': array([ 0.   ,  0.   ,  0.   , ..., 93.754, 82.367, 35.479], dtype=float32), 'start': Period('2011-07-29', 'D'), 'feat_dynamic_real': array([[0.        , 0.        , 0.        , ..., 8.        , 6.        ,\n",
      "        4.        ],\n",
      "       [0.16666667, 0.33333334, 0.5       , ..., 0.        , 0.16666667,\n",
      "        0.33333334],\n",
      "       [0.04545455, 0.04545455, 0.04545455, ..., 0.13636364, 0.13636364,\n",
      "        0.13636364]], dtype=float32)}, {'target': array([ 0.   ,  0.   ,  0.   , ..., 85.374, 56.076,  2.66 ], dtype=float32), 'start': Period('2011-07-29', 'D'), 'feat_dynamic_real': array([[0.        , 0.        , 0.        , ..., 7.        , 5.        ,\n",
      "        1.        ],\n",
      "       [0.16666667, 0.33333334, 0.5       , ..., 0.        , 0.16666667,\n",
      "        0.33333334],\n",
      "       [0.04545455, 0.04545455, 0.04545455, ..., 0.13636364, 0.13636364,\n",
      "        0.13636364]], dtype=float32)}, {'target': array([  0.   ,   0.   ,   0.   , ..., 115.467,  41.296,  22.541],\n",
      "      dtype=float32), 'start': Period('2011-07-29', 'D'), 'feat_dynamic_real': array([[0.        , 0.        , 0.        , ..., 7.        , 6.        ,\n",
      "        1.        ],\n",
      "       [0.16666667, 0.33333334, 0.5       , ..., 0.        , 0.16666667,\n",
      "        0.33333334],\n",
      "       [0.04545455, 0.04545455, 0.04545455, ..., 0.13636364, 0.13636364,\n",
      "        0.13636364]], dtype=float32)}] \n",
      "\n",
      "testing data: \n",
      " \t [{'target': array([0.   , 0.   , 0.   , ..., 0.   , 0.   , 0.969], dtype=float32), 'start': Period('2011-07-29', 'D'), 'feat_dynamic_real': array([[ 0.        ,  0.        ,  0.        , ...,  0.        ,\n",
      "         0.        ,  1.        ],\n",
      "       [ 0.16666667,  0.33333334,  0.5       , ...,  0.5       ,\n",
      "        -0.5       , -0.33333334],\n",
      "       [ 0.04545455,  0.04545455,  0.04545455, ..., -0.04545455,\n",
      "        -0.04545455, -0.04545455]], dtype=float32)}, {'target': array([0., 0., 0., ..., 0., 0., 0.], dtype=float32), 'start': Period('2011-07-29', 'D'), 'feat_dynamic_real': array([[ 0.        ,  0.        ,  0.        , ...,  0.        ,\n",
      "         0.        ,  0.        ],\n",
      "       [ 0.16666667,  0.33333334,  0.5       , ...,  0.5       ,\n",
      "        -0.5       , -0.33333334],\n",
      "       [ 0.04545455,  0.04545455,  0.04545455, ..., -0.04545455,\n",
      "        -0.04545455, -0.04545455]], dtype=float32)}, {'target': array([ 0.   ,  0.   ,  0.   , ..., 22.764,  9.425,  0.   ], dtype=float32), 'start': Period('2011-07-29', 'D'), 'feat_dynamic_real': array([[ 0.        ,  0.        ,  0.        , ...,  1.        ,\n",
      "         1.        ,  0.        ],\n",
      "       [ 0.16666667,  0.33333334,  0.5       , ...,  0.5       ,\n",
      "        -0.5       , -0.33333334],\n",
      "       [ 0.04545455,  0.04545455,  0.04545455, ..., -0.04545455,\n",
      "        -0.04545455, -0.04545455]], dtype=float32)}, {'target': array([ 0.   ,  0.   ,  0.   , ...,  0.   ,  0.   , 13.701], dtype=float32), 'start': Period('2011-07-29', 'D'), 'feat_dynamic_real': array([[ 0.        ,  0.        ,  0.        , ...,  0.        ,\n",
      "         0.        ,  1.        ],\n",
      "       [ 0.16666667,  0.33333334,  0.5       , ...,  0.5       ,\n",
      "        -0.5       , -0.33333334],\n",
      "       [ 0.04545455,  0.04545455,  0.04545455, ..., -0.04545455,\n",
      "        -0.04545455, -0.04545455]], dtype=float32)}, {'target': array([ 0.   ,  0.   ,  0.   , ...,  0.   ,  0.   , 12.996], dtype=float32), 'start': Period('2011-07-29', 'D'), 'feat_dynamic_real': array([[ 0.        ,  0.        ,  0.        , ...,  0.        ,\n",
      "         0.        ,  1.        ],\n",
      "       [ 0.16666667,  0.33333334,  0.5       , ...,  0.5       ,\n",
      "        -0.5       , -0.33333334],\n",
      "       [ 0.04545455,  0.04545455,  0.04545455, ..., -0.04545455,\n",
      "        -0.04545455, -0.04545455]], dtype=float32)}, {'target': array([ 0.   ,  0.   ,  0.   , ...,  0.   , 44.443,  7.641], dtype=float32), 'start': Period('2011-07-29', 'D'), 'feat_dynamic_real': array([[ 0.        ,  0.        ,  0.        , ...,  0.        ,\n",
      "         2.        ,  1.        ],\n",
      "       [ 0.16666667,  0.33333334,  0.5       , ...,  0.5       ,\n",
      "        -0.5       , -0.33333334],\n",
      "       [ 0.04545455,  0.04545455,  0.04545455, ..., -0.04545455,\n",
      "        -0.04545455, -0.04545455]], dtype=float32)}, {'target': array([ 0.   ,  0.   ,  0.   , ..., 20.764,  5.395, 10.417], dtype=float32), 'start': Period('2011-07-29', 'D'), 'feat_dynamic_real': array([[ 0.        ,  0.        ,  0.        , ...,  5.        ,\n",
      "         1.        ,  2.        ],\n",
      "       [ 0.16666667,  0.33333334,  0.5       , ...,  0.5       ,\n",
      "        -0.5       , -0.33333334],\n",
      "       [ 0.04545455,  0.04545455,  0.04545455, ..., -0.04545455,\n",
      "        -0.04545455, -0.04545455]], dtype=float32)}, {'target': array([0.   , 0.   , 0.   , ..., 0.   , 0.   , 2.645], dtype=float32), 'start': Period('2011-07-29', 'D'), 'feat_dynamic_real': array([[ 0.        ,  0.        ,  0.        , ...,  0.        ,\n",
      "         0.        ,  1.        ],\n",
      "       [ 0.16666667,  0.33333334,  0.5       , ...,  0.5       ,\n",
      "        -0.5       , -0.33333334],\n",
      "       [ 0.04545455,  0.04545455,  0.04545455, ..., -0.04545455,\n",
      "        -0.04545455, -0.04545455]], dtype=float32)}, {'target': array([ 0.   ,  0.   ,  0.   , ..., 20.977, 11.474, 19.628], dtype=float32), 'start': Period('2011-07-29', 'D'), 'feat_dynamic_real': array([[ 0.        ,  0.        ,  0.        , ...,  8.        ,\n",
      "         2.        ,  3.        ],\n",
      "       [ 0.16666667,  0.33333334,  0.5       , ...,  0.5       ,\n",
      "        -0.5       , -0.33333334],\n",
      "       [ 0.04545455,  0.04545455,  0.04545455, ..., -0.04545455,\n",
      "        -0.04545455, -0.04545455]], dtype=float32)}, {'target': array([ 0.   ,  0.   ,  0.   , ..., 15.876,  0.   , 52.991], dtype=float32), 'start': Period('2011-07-29', 'D'), 'feat_dynamic_real': array([[ 0.        ,  0.        ,  0.        , ...,  4.        ,\n",
      "         0.        ,  2.        ],\n",
      "       [ 0.16666667,  0.33333334,  0.5       , ...,  0.5       ,\n",
      "        -0.5       , -0.33333334],\n",
      "       [ 0.04545455,  0.04545455,  0.04545455, ..., -0.04545455,\n",
      "        -0.04545455, -0.04545455]], dtype=float32)}, {'target': array([ 0.   ,  0.   ,  0.   , ..., 61.671, 20.542, 26.297], dtype=float32), 'start': Period('2011-07-29', 'D'), 'feat_dynamic_real': array([[ 0.        ,  0.        ,  0.        , ...,  3.        ,\n",
      "         2.        ,  4.        ],\n",
      "       [ 0.16666667,  0.33333334,  0.5       , ...,  0.5       ,\n",
      "        -0.5       , -0.33333334],\n",
      "       [ 0.04545455,  0.04545455,  0.04545455, ..., -0.04545455,\n",
      "        -0.04545455, -0.04545455]], dtype=float32)}, {'target': array([ 6.249457, 28.978653, 37.209164, ...,  0.      ,  0.      ,\n",
      "       11.899   ], dtype=float32), 'start': Period('2011-07-29', 'D'), 'feat_dynamic_real': array([[ 1.        ,  5.        ,  3.        , ...,  0.        ,\n",
      "         0.        ,  1.        ],\n",
      "       [ 0.16666667,  0.33333334,  0.5       , ...,  0.5       ,\n",
      "        -0.5       , -0.33333334],\n",
      "       [ 0.04545455,  0.04545455,  0.04545455, ..., -0.04545455,\n",
      "        -0.04545455, -0.04545455]], dtype=float32)}, {'target': array([ 0.   ,  0.   ,  0.   , ..., 22.72 , 51.982, 58.995], dtype=float32), 'start': Period('2011-07-29', 'D'), 'feat_dynamic_real': array([[ 0.        ,  0.        ,  0.        , ...,  3.        ,\n",
      "         3.        ,  5.        ],\n",
      "       [ 0.16666667,  0.33333334,  0.5       , ...,  0.5       ,\n",
      "        -0.5       , -0.33333334],\n",
      "       [ 0.04545455,  0.04545455,  0.04545455, ..., -0.04545455,\n",
      "        -0.04545455, -0.04545455]], dtype=float32)}, {'target': array([0., 0., 0., ..., 0., 0., 0.], dtype=float32), 'start': Period('2011-07-29', 'D'), 'feat_dynamic_real': array([[ 0.        ,  0.        ,  0.        , ...,  0.        ,\n",
      "         0.        ,  0.        ],\n",
      "       [ 0.16666667,  0.33333334,  0.5       , ...,  0.5       ,\n",
      "        -0.5       , -0.33333334],\n",
      "       [ 0.04545455,  0.04545455,  0.04545455, ..., -0.04545455,\n",
      "        -0.04545455, -0.04545455]], dtype=float32)}, {'target': array([ 0.   ,  0.   ,  0.   , ...,  0.   , 20.15 , 22.462], dtype=float32), 'start': Period('2011-07-29', 'D'), 'feat_dynamic_real': array([[ 0.        ,  0.        ,  0.        , ...,  0.        ,\n",
      "         2.        ,  2.        ],\n",
      "       [ 0.16666667,  0.33333334,  0.5       , ...,  0.5       ,\n",
      "        -0.5       , -0.33333334],\n",
      "       [ 0.04545455,  0.04545455,  0.04545455, ..., -0.04545455,\n",
      "        -0.04545455, -0.04545455]], dtype=float32)}, {'target': array([ 0.   ,  0.   ,  0.   , ..., 53.586, 18.747, 29.108], dtype=float32), 'start': Period('2011-07-29', 'D'), 'feat_dynamic_real': array([[ 0.        ,  0.        ,  0.        , ...,  2.        ,\n",
      "         4.        ,  4.        ],\n",
      "       [ 0.16666667,  0.33333334,  0.5       , ...,  0.5       ,\n",
      "        -0.5       , -0.33333334],\n",
      "       [ 0.04545455,  0.04545455,  0.04545455, ..., -0.04545455,\n",
      "        -0.04545455, -0.04545455]], dtype=float32)}, {'target': array([0., 0., 0., ..., 0., 0., 0.], dtype=float32), 'start': Period('2011-07-29', 'D'), 'feat_dynamic_real': array([[ 0.        ,  0.        ,  0.        , ...,  0.        ,\n",
      "         0.        ,  0.        ],\n",
      "       [ 0.16666667,  0.33333334,  0.5       , ...,  0.5       ,\n",
      "        -0.5       , -0.33333334],\n",
      "       [ 0.04545455,  0.04545455,  0.04545455, ..., -0.04545455,\n",
      "        -0.04545455, -0.04545455]], dtype=float32)}, {'target': array([0., 0., 0., ..., 0., 0., 0.], dtype=float32), 'start': Period('2011-07-29', 'D'), 'feat_dynamic_real': array([[ 0.        ,  0.        ,  0.        , ...,  0.        ,\n",
      "         0.        ,  0.        ],\n",
      "       [ 0.16666667,  0.33333334,  0.5       , ...,  0.5       ,\n",
      "        -0.5       , -0.33333334],\n",
      "       [ 0.04545455,  0.04545455,  0.04545455, ..., -0.04545455,\n",
      "        -0.04545455, -0.04545455]], dtype=float32)}, {'target': array([0., 0., 0., ..., 0., 0., 0.], dtype=float32), 'start': Period('2011-07-29', 'D'), 'feat_dynamic_real': array([[ 0.        ,  0.        ,  0.        , ...,  0.        ,\n",
      "         0.        ,  0.        ],\n",
      "       [ 0.16666667,  0.33333334,  0.5       , ...,  0.5       ,\n",
      "        -0.5       , -0.33333334],\n",
      "       [ 0.04545455,  0.04545455,  0.04545455, ..., -0.04545455,\n",
      "        -0.04545455, -0.04545455]], dtype=float32)}, {'target': array([0., 0., 0., ..., 0., 0., 0.], dtype=float32), 'start': Period('2011-07-29', 'D'), 'feat_dynamic_real': array([[ 0.        ,  0.        ,  0.        , ...,  0.        ,\n",
      "         0.        ,  0.        ],\n",
      "       [ 0.16666667,  0.33333334,  0.5       , ...,  0.5       ,\n",
      "        -0.5       , -0.33333334],\n",
      "       [ 0.04545455,  0.04545455,  0.04545455, ..., -0.04545455,\n",
      "        -0.04545455, -0.04545455]], dtype=float32)}, {'target': array([ 0.   ,  0.   ,  0.   , ..., 16.036,  8.118,  8.621], dtype=float32), 'start': Period('2011-07-29', 'D'), 'feat_dynamic_real': array([[ 0.        ,  0.        ,  0.        , ...,  3.        ,\n",
      "         1.        ,  1.        ],\n",
      "       [ 0.16666667,  0.33333334,  0.5       , ...,  0.5       ,\n",
      "        -0.5       , -0.33333334],\n",
      "       [ 0.04545455,  0.04545455,  0.04545455, ..., -0.04545455,\n",
      "        -0.04545455, -0.04545455]], dtype=float32)}, {'target': array([0.   , 0.   , 0.   , ..., 0.481, 0.   , 2.463], dtype=float32), 'start': Period('2011-07-29', 'D'), 'feat_dynamic_real': array([[ 0.        ,  0.        ,  0.        , ...,  1.        ,\n",
      "         0.        ,  1.        ],\n",
      "       [ 0.16666667,  0.33333334,  0.5       , ...,  0.5       ,\n",
      "        -0.5       , -0.33333334],\n",
      "       [ 0.04545455,  0.04545455,  0.04545455, ..., -0.04545455,\n",
      "        -0.04545455, -0.04545455]], dtype=float32)}, {'target': array([ 0.   ,  0.   ,  0.   , ..., 13.255,  0.   ,  0.   ], dtype=float32), 'start': Period('2011-07-29', 'D'), 'feat_dynamic_real': array([[ 0.        ,  0.        ,  0.        , ...,  2.        ,\n",
      "         0.        ,  0.        ],\n",
      "       [ 0.16666667,  0.33333334,  0.5       , ...,  0.5       ,\n",
      "        -0.5       , -0.33333334],\n",
      "       [ 0.04545455,  0.04545455,  0.04545455, ..., -0.04545455,\n",
      "        -0.04545455, -0.04545455]], dtype=float32)}, {'target': array([ 0.   ,  0.   ,  0.   , ..., 51.874, 71.357,  0.   ], dtype=float32), 'start': Period('2011-07-29', 'D'), 'feat_dynamic_real': array([[ 0.        ,  0.        ,  0.        , ...,  2.        ,\n",
      "         2.        ,  0.        ],\n",
      "       [ 0.16666667,  0.33333334,  0.5       , ...,  0.5       ,\n",
      "        -0.5       , -0.33333334],\n",
      "       [ 0.04545455,  0.04545455,  0.04545455, ..., -0.04545455,\n",
      "        -0.04545455, -0.04545455]], dtype=float32)}, {'target': array([ 0.   ,  0.   ,  0.   , ...,  6.615, 16.324,  0.   ], dtype=float32), 'start': Period('2011-07-29', 'D'), 'feat_dynamic_real': array([[ 0.        ,  0.        ,  0.        , ...,  1.        ,\n",
      "         1.        ,  0.        ],\n",
      "       [ 0.16666667,  0.33333334,  0.5       , ...,  0.5       ,\n",
      "        -0.5       , -0.33333334],\n",
      "       [ 0.04545455,  0.04545455,  0.04545455, ..., -0.04545455,\n",
      "        -0.04545455, -0.04545455]], dtype=float32)}, {'target': array([ 0.   ,  0.   ,  0.   , ...,  0.   ,  6.328, 41.914], dtype=float32), 'start': Period('2011-07-29', 'D'), 'feat_dynamic_real': array([[ 0.        ,  0.        ,  0.        , ...,  0.        ,\n",
      "         2.        ,  3.        ],\n",
      "       [ 0.16666667,  0.33333334,  0.5       , ...,  0.5       ,\n",
      "        -0.5       , -0.33333334],\n",
      "       [ 0.04545455,  0.04545455,  0.04545455, ..., -0.04545455,\n",
      "        -0.04545455, -0.04545455]], dtype=float32)}, {'target': array([ 0.   ,  0.   ,  0.   , ..., 11.84 , 15.907, 24.326], dtype=float32), 'start': Period('2011-07-29', 'D'), 'feat_dynamic_real': array([[ 0.        ,  0.        ,  0.        , ...,  1.        ,\n",
      "         1.        ,  2.        ],\n",
      "       [ 0.16666667,  0.33333334,  0.5       , ...,  0.5       ,\n",
      "        -0.5       , -0.33333334],\n",
      "       [ 0.04545455,  0.04545455,  0.04545455, ..., -0.04545455,\n",
      "        -0.04545455, -0.04545455]], dtype=float32)}, {'target': array([ 0.   ,  0.   ,  0.   , ..., 14.872,  0.   ,  0.   ], dtype=float32), 'start': Period('2011-07-29', 'D'), 'feat_dynamic_real': array([[ 0.        ,  0.        ,  0.        , ...,  3.        ,\n",
      "         0.        ,  0.        ],\n",
      "       [ 0.16666667,  0.33333334,  0.5       , ...,  0.5       ,\n",
      "        -0.5       , -0.33333334],\n",
      "       [ 0.04545455,  0.04545455,  0.04545455, ..., -0.04545455,\n",
      "        -0.04545455, -0.04545455]], dtype=float32)}, {'target': array([ 0.   ,  0.   ,  0.   , ...,  6.826,  0.   , 14.025], dtype=float32), 'start': Period('2011-07-29', 'D'), 'feat_dynamic_real': array([[ 0.        ,  0.        ,  0.        , ...,  1.        ,\n",
      "         0.        ,  1.        ],\n",
      "       [ 0.16666667,  0.33333334,  0.5       , ...,  0.5       ,\n",
      "        -0.5       , -0.33333334],\n",
      "       [ 0.04545455,  0.04545455,  0.04545455, ..., -0.04545455,\n",
      "        -0.04545455, -0.04545455]], dtype=float32)}, {'target': array([0.   , 0.   , 0.   , ..., 1.814, 0.   , 0.   ], dtype=float32), 'start': Period('2011-07-29', 'D'), 'feat_dynamic_real': array([[ 0.        ,  0.        ,  0.        , ...,  1.        ,\n",
      "         0.        ,  0.        ],\n",
      "       [ 0.16666667,  0.33333334,  0.5       , ...,  0.5       ,\n",
      "        -0.5       , -0.33333334],\n",
      "       [ 0.04545455,  0.04545455,  0.04545455, ..., -0.04545455,\n",
      "        -0.04545455, -0.04545455]], dtype=float32)}, {'target': array([ 0.   ,  0.   ,  0.   , ..., 13.803, 18.608, 19.683], dtype=float32), 'start': Period('2011-07-29', 'D'), 'feat_dynamic_real': array([[ 0.        ,  0.        ,  0.        , ...,  3.        ,\n",
      "         1.        ,  2.        ],\n",
      "       [ 0.16666667,  0.33333334,  0.5       , ...,  0.5       ,\n",
      "        -0.5       , -0.33333334],\n",
      "       [ 0.04545455,  0.04545455,  0.04545455, ..., -0.04545455,\n",
      "        -0.04545455, -0.04545455]], dtype=float32)}, {'target': array([ 0.   ,  0.   ,  0.   , ...,  5.935,  0.065, 58.624], dtype=float32), 'start': Period('2011-07-29', 'D'), 'feat_dynamic_real': array([[ 0.        ,  0.        ,  0.        , ...,  1.        ,\n",
      "         1.        ,  2.        ],\n",
      "       [ 0.16666667,  0.33333334,  0.5       , ...,  0.5       ,\n",
      "        -0.5       , -0.33333334],\n",
      "       [ 0.04545455,  0.04545455,  0.04545455, ..., -0.04545455,\n",
      "        -0.04545455, -0.04545455]], dtype=float32)}, {'target': array([ 0.   ,  0.   ,  0.   , ...,  0.   , 27.877, 23.996], dtype=float32), 'start': Period('2011-07-29', 'D'), 'feat_dynamic_real': array([[ 0.        ,  0.        ,  0.        , ...,  0.        ,\n",
      "         1.        ,  2.        ],\n",
      "       [ 0.16666667,  0.33333334,  0.5       , ...,  0.5       ,\n",
      "        -0.5       , -0.33333334],\n",
      "       [ 0.04545455,  0.04545455,  0.04545455, ..., -0.04545455,\n",
      "        -0.04545455, -0.04545455]], dtype=float32)}] \n",
      "\n"
     ]
    }
   ],
   "source": [
    "check_train_val_test_data(train_ds, val_ds, test_ds)"
   ]
  },
  {
   "cell_type": "markdown",
   "metadata": {},
   "source": [
    "#### Visualize the dataset"
   ]
  },
  {
   "cell_type": "code",
   "execution_count": 105,
   "metadata": {},
   "outputs": [],
   "source": [
    "def visualize_train_val_test_data(train_ds, val_ds, test_ds):\n",
    "    train_entry = next(iter(train_ds))\n",
    "    train_series = to_pandas(train_entry)\n",
    "    \n",
    "    val_entry = next(iter(val_ds))\n",
    "    val_series = to_pandas(val_entry)\n",
    "\n",
    "    test_entry = next(iter(test_ds))\n",
    "    test_series = to_pandas(test_entry)\n",
    "\n",
    "    plt.figure(figsize=(10, 6))\n",
    "    \n",
    "    test_series.plot(color = \"grey\")\n",
    "    plt.axvline(train_series.index[-1], color=\"red\")  # end of train dataset\n",
    "    plt.axvline(val_series.index[-1], color=\"blue\")  # end of train dataset\n",
    "    plt.grid(which=\"both\")\n",
    "    plt.legend([\"test series\", \"end of train series\", \"end of val series\"], loc=\"upper left\")\n",
    "    plt.show()\n",
    "\n",
    "    plt.savefig('train_val_test_data_vis.jpg')"
   ]
  },
  {
   "cell_type": "code",
   "execution_count": 106,
   "metadata": {},
   "outputs": [
    {
     "data": {
      "image/png": "[encoded data removed]",
      "text/plain": [
       "<Figure size 1000x600 with 1 Axes>"
      ]
     },
     "metadata": {},
     "output_type": "display_data"
    },
    {
     "data": {
      "text/plain": [
       "<Figure size 640x480 with 0 Axes>"
      ]
     },
     "metadata": {},
     "output_type": "display_data"
    }
   ],
   "source": [
    "visualize_train_val_test_data(train_ds, val_ds, test_ds)"
   ]
  },
  {
   "cell_type": "markdown",
   "metadata": {},
   "source": [
    "#### Train and prediction"
   ]
  },
  {
   "cell_type": "markdown",
   "metadata": {},
   "source": [
    "##### Simple feed forward estimator"
   ]
  },
  {
   "cell_type": "code",
   "execution_count": 52,
   "metadata": {},
   "outputs": [],
   "source": [
    "# defining a callback, which will log the training loss for each epoch\n",
    "history = TrainingHistory()"
   ]
  },
  {
   "cell_type": "code",
   "execution_count": 217,
   "metadata": {},
   "outputs": [],
   "source": [
    "simple_feed_forward_estimator = SimpleFeedForwardEstimator(\n",
    "    num_hidden_dimensions=[50], ## default: 50\n",
    "    prediction_length=prediction_length,\n",
    "    batch_normalization = False, ## default: false\n",
    "    mean_scaling = True, ## default: true\n",
    "    context_length=100,\n",
    "    trainer=Trainer(\n",
    "        ctx=\"cpu\", \n",
    "        epochs=20, \n",
    "        callbacks=[history],\n",
    "        learning_rate=1e-3, \n",
    "        num_batches_per_epoch=100\n",
    "    ),\n",
    ")"
   ]
  },
  {
   "cell_type": "markdown",
   "metadata": {},
   "source": [
    "##### MQCNN estimator"
   ]
  },
  {
   "cell_type": "code",
   "execution_count": 165,
   "metadata": {},
   "outputs": [],
   "source": [
    "from gluonts.mx import MQCNNEstimator, Trainer"
   ]
  },
  {
   "cell_type": "code",
   "execution_count": 168,
   "metadata": {},
   "outputs": [],
   "source": [
    "mqcnn_estimator = MQCNNEstimator(\n",
    "    freq = freq,\n",
    "    prediction_length=prediction_length,\n",
    "    use_feat_dynamic_real=True,\n",
    "    # context_length=100, ## Default: 4 * prediction_length\n",
    "    trainer=Trainer(\n",
    "        ctx=\"cpu\", \n",
    "        epochs=10, \n",
    "        callbacks=[history],\n",
    "        learning_rate=1e-3, \n",
    "        num_batches_per_epoch=100\n",
    "    ),\n",
    ")"
   ]
  },
  {
   "cell_type": "markdown",
   "metadata": {},
   "source": [
    "##### MQRNN estimator"
   ]
  },
  {
   "cell_type": "code",
   "execution_count": 169,
   "metadata": {},
   "outputs": [],
   "source": [
    "from gluonts.mx import MQRNNEstimator, Trainer"
   ]
  },
  {
   "cell_type": "code",
   "execution_count": 170,
   "metadata": {},
   "outputs": [],
   "source": [
    "mqrnn_estimator = MQRNNEstimator(\n",
    "    freq = freq,\n",
    "    prediction_length=prediction_length,\n",
    "    # context_length=100, ## Default: 4 * prediction_length\n",
    "    trainer=Trainer(\n",
    "        ctx=\"cpu\", \n",
    "        epochs=10, \n",
    "        callbacks=[history],\n",
    "        learning_rate=1e-3, \n",
    "        num_batches_per_epoch=100\n",
    "    ),\n",
    ")"
   ]
  },
  {
   "cell_type": "markdown",
   "metadata": {},
   "source": [
    "##### DeepAR estimator"
   ]
  },
  {
   "cell_type": "code",
   "execution_count": 171,
   "metadata": {},
   "outputs": [],
   "source": [
    "from gluonts.mx import DeepAREstimator, Trainer"
   ]
  },
  {
   "cell_type": "code",
   "execution_count": 175,
   "metadata": {},
   "outputs": [],
   "source": [
    "deepAR_estimator = DeepAREstimator(\n",
    "    freq = freq,\n",
    "    prediction_length = prediction_length,\n",
    "    use_feat_dynamic_real=True,\n",
    "    trainer=Trainer(\n",
    "        ctx=\"cpu\", \n",
    "        epochs=20, \n",
    "        callbacks=[history],\n",
    "        learning_rate=1e-3, \n",
    "        num_batches_per_epoch=100\n",
    "    ),\n",
    ")"
   ]
  },
  {
   "cell_type": "markdown",
   "metadata": {},
   "source": [
    "##### DeepVAR estimator"
   ]
  },
  {
   "cell_type": "code",
   "execution_count": 176,
   "metadata": {},
   "outputs": [],
   "source": [
    "from gluonts.mx import DeepVAREstimator, Trainer"
   ]
  },
  {
   "cell_type": "code",
   "execution_count": 177,
   "metadata": {},
   "outputs": [],
   "source": [
    "deepVAR_estimator = DeepVAREstimator(\n",
    "    freq = freq,\n",
    "    prediction_length = prediction_length,\n",
    "    dropout_rate=0.1,\n",
    "    use_feat_dynamic_real=True,\n",
    "    target_dim= 1,\n",
    "    trainer=Trainer(\n",
    "        ctx=\"cpu\", \n",
    "        epochs=20, \n",
    "        callbacks=[history],\n",
    "        learning_rate=1e-3, \n",
    "        num_batches_per_epoch=100\n",
    "    ),\n",
    ")"
   ]
  },
  {
   "cell_type": "markdown",
   "metadata": {},
   "source": [
    "##### LSTNet"
   ]
  },
  {
   "cell_type": "code",
   "execution_count": 178,
   "metadata": {},
   "outputs": [],
   "source": [
    "from gluonts.mx import LSTNetEstimator, Trainer"
   ]
  },
  {
   "cell_type": "code",
   "execution_count": 179,
   "metadata": {},
   "outputs": [],
   "source": [
    "lstnet_estimator = LSTNetEstimator(\n",
    "    num_series = 46,\n",
    "    prediction_length = prediction_length,\n",
    "    ar_window = 10,\n",
    "    channels = 1,\n",
    "    context_length = 20,\n",
    "    skip_size = 1,\n",
    "    dropout_rate=0.1,\n",
    "    trainer=Trainer(\n",
    "        ctx=\"cpu\", \n",
    "        epochs=2, \n",
    "        callbacks=[history],\n",
    "        learning_rate=1e-3, \n",
    "        num_batches_per_epoch=100\n",
    "    ),\n",
    ")"
   ]
  },
  {
   "cell_type": "markdown",
   "metadata": {},
   "source": [
    "##### Temporal fusion transformer"
   ]
  },
  {
   "cell_type": "code",
   "execution_count": 180,
   "metadata": {},
   "outputs": [],
   "source": [
    "from gluonts.mx import TemporalFusionTransformerEstimator, Trainer"
   ]
  },
  {
   "cell_type": "code",
   "execution_count": 181,
   "metadata": {},
   "outputs": [],
   "source": [
    "tft_estimator = TemporalFusionTransformerEstimator(\n",
    "    freq = freq,\n",
    "    prediction_length = prediction_length,\n",
    "    hidden_dim = 20,\n",
    "    dropout_rate=0.1,\n",
    "    trainer=Trainer(\n",
    "        ctx=\"cpu\", \n",
    "        epochs=2, \n",
    "        callbacks=[history],\n",
    "        learning_rate=1e-3, \n",
    "        num_batches_per_epoch=100\n",
    "    ),\n",
    ")"
   ]
  },
  {
   "cell_type": "markdown",
   "metadata": {},
   "source": [
    "##### Transformer estimator"
   ]
  },
  {
   "cell_type": "code",
   "execution_count": 182,
   "metadata": {},
   "outputs": [],
   "source": [
    "from gluonts.mx import TransformerEstimator, Trainer"
   ]
  },
  {
   "cell_type": "code",
   "execution_count": 183,
   "metadata": {},
   "outputs": [],
   "source": [
    "transformer_estimator = TransformerEstimator(\n",
    "    freq = freq,\n",
    "    prediction_length = prediction_length,\n",
    "    use_feat_dynamic_real=True,\n",
    "    context_length = 100,\n",
    "    dropout_rate=0.1,\n",
    "    trainer=Trainer(\n",
    "        ctx=\"cpu\", \n",
    "        epochs=20, \n",
    "        callbacks=[history],\n",
    "        learning_rate=1e-3, \n",
    "        num_batches_per_epoch=100\n",
    "    ),\n",
    ")"
   ]
  },
  {
   "cell_type": "markdown",
   "metadata": {},
   "source": [
    "##### Deepfactor estimator"
   ]
  },
  {
   "cell_type": "code",
   "execution_count": 184,
   "metadata": {},
   "outputs": [],
   "source": [
    "from gluonts.mx import DeepFactorEstimator, Trainer"
   ]
  },
  {
   "cell_type": "code",
   "execution_count": 185,
   "metadata": {},
   "outputs": [],
   "source": [
    "deepFactor_estimator = TransformerEstimator(\n",
    "    freq = freq,\n",
    "    prediction_length = prediction_length,\n",
    "    use_feat_dynamic_real=True,\n",
    "    trainer=Trainer(\n",
    "        ctx=\"cpu\", \n",
    "        epochs=20, \n",
    "        callbacks=[history],\n",
    "        learning_rate=1e-3, \n",
    "        num_batches_per_epoch=100\n",
    "    ),\n",
    ")"
   ]
  },
  {
   "cell_type": "markdown",
   "metadata": {},
   "source": [
    "##### GP estimator"
   ]
  },
  {
   "cell_type": "code",
   "execution_count": 186,
   "metadata": {},
   "outputs": [],
   "source": [
    "from gluonts.mx import GaussianProcessEstimator, Trainer"
   ]
  },
  {
   "cell_type": "code",
   "execution_count": 187,
   "metadata": {},
   "outputs": [],
   "source": [
    "gp_estimator = GaussianProcessEstimator(\n",
    "    freq = freq,\n",
    "    prediction_length = prediction_length,\n",
    "    cardinality = 1,\n",
    "    trainer=Trainer(\n",
    "        ctx=\"cpu\", \n",
    "        epochs=20, \n",
    "        callbacks=[history],\n",
    "        learning_rate=1e-3, \n",
    "        num_batches_per_epoch=100\n",
    "    ),\n",
    ")"
   ]
  },
  {
   "cell_type": "markdown",
   "metadata": {},
   "source": [
    "##### Naive predictor"
   ]
  },
  {
   "cell_type": "code",
   "execution_count": 188,
   "metadata": {},
   "outputs": [],
   "source": [
    "from gluonts.ext.naive_2 import Naive2Predictor"
   ]
  },
  {
   "cell_type": "code",
   "execution_count": 189,
   "metadata": {},
   "outputs": [],
   "source": [
    "naive_predictor = Naive2Predictor(\n",
    "    prediction_length = prediction_length,\n",
    "    season_length = 100\n",
    ")"
   ]
  },
  {
   "cell_type": "markdown",
   "metadata": {},
   "source": [
    "##### Train and predict"
   ]
  },
  {
   "cell_type": "code",
   "execution_count": 190,
   "metadata": {},
   "outputs": [],
   "source": [
    "def train_and_predict(train_dataset, val_dataset, test_dataset, estimator):\n",
    "    predictor = estimator.train(training_data = train_dataset, validation_data = val_dataset)\n",
    "    forecast_it, ts_it = make_evaluation_predictions(\n",
    "        dataset = test_dataset, predictor = predictor\n",
    "    )\n",
    "    \n",
    "    return predictor, list(forecast_it), list(ts_it)\n"
   ]
  },
  {
   "cell_type": "code",
   "execution_count": 191,
   "metadata": {},
   "outputs": [],
   "source": [
    "def get_model_name(estimator):\n",
    "    s = str(estimator)\n",
    "\n",
    "    start_marker = \".model.\"\n",
    "    end_marker = \"._estimator\"\n",
    "\n",
    "    start_index = s.find(start_marker)\n",
    "    if(start_index == -1):\n",
    "        raise ValueError(\"Couldn't find start index!\")\n",
    "\n",
    "    end_index = s.find(end_marker, start_index)\n",
    "    if(end_index == -1):\n",
    "        return ValueError(\"Couldn't find end index!\")\n",
    "    \n",
    "    start_index += len(start_marker)\n",
    "    return s[start_index: end_index]"
   ]
  },
  {
   "cell_type": "code",
   "execution_count": 192,
   "metadata": {},
   "outputs": [],
   "source": [
    "def multiple_models(train_ds, val_ds, test_ds, estimators, samples):\n",
    "    predictors_all = []\n",
    "    agg_metrics_all = []\n",
    "    item_metrics_all = []\n",
    "    forecast_it_all = []\n",
    "    ts_it_all = []\n",
    "    for estimator in estimators:\n",
    "        \n",
    "        ## model training\n",
    "        predictor, forecast_it, ts_it = train_and_predict(train_ds, val_ds, test_ds, estimator)\n",
    "\n",
    "        ## loss curve\n",
    "        loss_data_framework = get_loss_curve(history)\n",
    "        export_loss_curve(loss_data_framework, estimator)\n",
    "        plot_loss_curve(loss_data_framework, estimator)\n",
    "\n",
    "        ## evluation metrics\n",
    "        print_forecast_basic_info(forecast_it, ts_it)\n",
    "        export_original_time_series_no_missing_values(ts_it)\n",
    "        export_predicted_values(ts_it, forecast_it, estimator)\n",
    "        plot_orginal_prediction(forecast_it, ts_it, estimator, samples)\n",
    "        agg_metrics, item_metrics = get_evaluation_metrics(forecast_it, ts_it)\n",
    "        export_eval_metrics(agg_metrics, item_metrics, estimator)\n",
    "\n",
    "        predictors_all.append(predictor)\n",
    "        agg_metrics_all.append(agg_metrics)\n",
    "        item_metrics_all.append(item_metrics)\n",
    "        forecast_it_all.append(forecast_it)\n",
    "        ts_it_all.append(ts_it)\n",
    "\n",
    "        return predictors_all, agg_metrics_all, item_metrics_all, forecast_it_all, ts_it_all\n",
    "    "
   ]
  },
  {
   "cell_type": "code",
   "execution_count": 193,
   "metadata": {},
   "outputs": [],
   "source": [
    "def get_loss_curve(history):\n",
    "    loss_data_framework = pd.DataFrame({\n",
    "        \"training_loss\": history.loss_history,\n",
    "        \"val_loss\": history.validation_loss_history\n",
    "    })\n",
    "    loss_data_framework.head()\n",
    "    return loss_data_framework"
   ]
  },
  {
   "cell_type": "code",
   "execution_count": 194,
   "metadata": {},
   "outputs": [],
   "source": [
    "def export_loss_curve(loss_data_framework, estimator):\n",
    "    loss_curve_name = \"loss_curve_model_{}.csv\".format(get_model_name(estimator))\n",
    "    loss_data_framework.to_csv(loss_curve_name)"
   ]
  },
  {
   "cell_type": "code",
   "execution_count": 216,
   "metadata": {},
   "outputs": [],
   "source": [
    "def plot_loss_curve(loss_data_framework, estimator):\n",
    "    # Clear the current figure\n",
    "    plt.clf()\n",
    "\n",
    "    loss_data_framework[\"epochs\"] = range(1, len(loss_data_framework) + 1)\n",
    "\n",
    "    plt.plot(loss_data_framework[\"epochs\"], loss_data_framework[\"training_loss\"], 'o-', label='Training Loss', color='blue', linestyle='--')\n",
    "    plt.plot(loss_data_framework[\"epochs\"], loss_data_framework[\"val_loss\"], 's-', label='Validation Loss', color='red', linestyle='-.')\n",
    "\n",
    "    plt.title('Training and Validation Loss')\n",
    "    plt.xlabel('Epochs')\n",
    "    plt.ylabel('Loss')\n",
    "    plt.legend()\n",
    "    plt.grid(True)\n",
    "    plt.show()\n",
    "\n",
    "    plt.savefig(f'{get_model_name(estimator)}_train_val_loss.jpg')"
   ]
  },
  {
   "cell_type": "code",
   "execution_count": 208,
   "metadata": {},
   "outputs": [],
   "source": [
    "def print_forecast_basic_info(forecast_it, ts_it):\n",
    "    forecast_entry = forecast_it[0]\n",
    "    ts_entry = ts_it[0]\n",
    "\n",
    "    print(f\"Number of sample paths: {forecast_entry.num_samples}\")\n",
    "    print(f\"Dimension of samples: {forecast_entry.samples.shape}\")\n",
    "    print(f\"Start date of the forecast window: {forecast_entry.start_date}\")\n",
    "    print(f\"Frequency of the time series: {forecast_entry.freq}\")"
   ]
  },
  {
   "cell_type": "code",
   "execution_count": 209,
   "metadata": {},
   "outputs": [],
   "source": [
    "def export_original_time_series_no_missing_values(ts_it):\n",
    "\n",
    "    ts_entry = ts_it[0]\n",
    "    \n",
    "    time_series_original = pd.DataFrame(ts_entry)\n",
    "    time_series_original.columns = ['true_value']\n",
    "    time_series_original.to_csv(\"time_series_original_no_missing_values.csv\")"
   ]
  },
  {
   "cell_type": "code",
   "execution_count": 210,
   "metadata": {},
   "outputs": [],
   "source": [
    "def export_predicted_values(ts_it, forecast_it, estimator):\n",
    "    forecast_entry = forecast_it[0]\n",
    "    ts_entry = ts_it[0]\n",
    "    \n",
    "    predicted_values = \"predicted_values_model_{}.csv\".format(get_model_name(estimator))\n",
    "    predicted_values_100_series = pd.DataFrame(forecast_entry.samples.T)\n",
    "    predicted_values_100_series.to_csv(predicted_values)"
   ]
  },
  {
   "cell_type": "code",
   "execution_count": 211,
   "metadata": {},
   "outputs": [],
   "source": [
    "def plot_orginal_prediction(forecast_it, ts_it, estimator, samples):\n",
    "    # Clear the current figure\n",
    "    plt.figure(figsize=[10, 6])\n",
    "    \n",
    "    for i in samples:\n",
    "        plt.clf()\n",
    "        forecast_entry = forecast_it[i]\n",
    "        ts_entry = ts_it[i]\n",
    "\n",
    "        plt.plot(ts_entry[-800:].to_timestamp())\n",
    "        forecast_entry.plot(show_label=True)\n",
    "        plt.legend()\n",
    "        plt.savefig(\"testing_{}{}.png\".format(get_model_name(estimator), i))"
   ]
  },
  {
   "cell_type": "code",
   "execution_count": 212,
   "metadata": {},
   "outputs": [],
   "source": [
    "def get_evaluation_metrics(forecast_it, ts_it):\n",
    "\n",
    "    evaluator = Evaluator(quantiles=[0.1, 0.5, 0.9])\n",
    "    agg_metrics, item_metrics = evaluator(ts_it, forecast_it)\n",
    "\n",
    "    return agg_metrics, item_metrics"
   ]
  },
  {
   "cell_type": "code",
   "execution_count": 213,
   "metadata": {},
   "outputs": [],
   "source": [
    "def export_eval_metrics(agg_metrics, item_metrics, estimator):\n",
    "    ## agg_metrics\n",
    "    print(\"Evaluation metrics: {}\".format(get_model_name(estimator)))\n",
    "    agg_metrics_data_frame = pd.DataFrame([agg_metrics])\n",
    "\n",
    "    agg_metrics_csv_name = \"agg_metrics_{}.csv\".format(get_model_name(estimator))\n",
    "\n",
    "    item_metrics_csv_name = \"item_metrics_{}.csv\".format(get_model_name(estimator))\n",
    "\n",
    "    agg_metrics_data_frame.to_csv(agg_metrics_csv_name)\n",
    "    item_metrics.to_csv(item_metrics_csv_name)"
   ]
  },
  {
   "cell_type": "code",
   "execution_count": 214,
   "metadata": {},
   "outputs": [],
   "source": [
    "def map_station_name_index(station_samples):\n",
    "    station_name_index = station_name_map[station_name_map[\"Station Name\"].isin(station_samples)]\n",
    "    samples_index = station_name_index['item_id'].tolist()\n",
    "    return samples_index"
   ]
  },
  {
   "cell_type": "code",
   "execution_count": 218,
   "metadata": {},
   "outputs": [
    {
     "name": "stderr",
     "output_type": "stream",
     "text": [
      "100%|██████████| 100/100 [00:01<00:00, 52.99it/s, epoch=1/20, avg_epoch_loss=3.43]\n",
      "2it [00:00, 122.38it/s, epoch=1/20, validation_avg_epoch_loss=4.63]\n",
      "100%|██████████| 100/100 [00:01<00:00, 58.26it/s, epoch=2/20, avg_epoch_loss=2.3]\n",
      "2it [00:00, 191.09it/s, epoch=2/20, validation_avg_epoch_loss=4.72]\n",
      "100%|██████████| 100/100 [00:01<00:00, 57.26it/s, epoch=3/20, avg_epoch_loss=0.97]\n",
      "2it [00:00, 130.11it/s, epoch=3/20, validation_avg_epoch_loss=4.81]\n",
      "100%|██████████| 100/100 [00:01<00:00, 53.86it/s, epoch=4/20, avg_epoch_loss=0.677]\n",
      "2it [00:00, 134.72it/s, epoch=4/20, validation_avg_epoch_loss=4.74]\n",
      "100%|██████████| 100/100 [00:01<00:00, 56.84it/s, epoch=5/20, avg_epoch_loss=0.654]\n",
      "2it [00:00, 165.43it/s, epoch=5/20, validation_avg_epoch_loss=4.93]\n",
      "100%|██████████| 100/100 [00:01<00:00, 52.84it/s, epoch=6/20, avg_epoch_loss=0.515]\n",
      "2it [00:00, 147.04it/s, epoch=6/20, validation_avg_epoch_loss=4.79]\n",
      "100%|██████████| 100/100 [00:01<00:00, 52.77it/s, epoch=7/20, avg_epoch_loss=0.302]\n",
      "2it [00:00, 136.67it/s, epoch=7/20, validation_avg_epoch_loss=4.85]\n",
      "100%|██████████| 100/100 [00:02<00:00, 46.03it/s, epoch=8/20, avg_epoch_loss=0.382]\n",
      "2it [00:00, 190.26it/s, epoch=8/20, validation_avg_epoch_loss=4.83]\n",
      "100%|██████████| 100/100 [00:02<00:00, 50.00it/s, epoch=9/20, avg_epoch_loss=0.225]\n",
      "2it [00:00, 167.90it/s, epoch=9/20, validation_avg_epoch_loss=4.64]\n",
      "100%|██████████| 100/100 [00:02<00:00, 45.81it/s, epoch=10/20, avg_epoch_loss=0.141]\n",
      "2it [00:00, 166.60it/s, epoch=10/20, validation_avg_epoch_loss=4.84]\n",
      "100%|██████████| 100/100 [00:01<00:00, 54.27it/s, epoch=11/20, avg_epoch_loss=0.434]\n",
      "2it [00:00, 188.47it/s, epoch=11/20, validation_avg_epoch_loss=4.84]\n",
      "100%|██████████| 100/100 [00:01<00:00, 52.84it/s, epoch=12/20, avg_epoch_loss=-.01]\n",
      "2it [00:00, 154.76it/s, epoch=12/20, validation_avg_epoch_loss=5.01]\n",
      "100%|██████████| 100/100 [00:01<00:00, 55.50it/s, epoch=13/20, avg_epoch_loss=-.296]\n",
      "2it [00:00, 152.57it/s, epoch=13/20, validation_avg_epoch_loss=4.8]\n",
      "100%|██████████| 100/100 [00:01<00:00, 54.51it/s, epoch=14/20, avg_epoch_loss=-.00214]\n",
      "2it [00:00, 170.34it/s, epoch=14/20, validation_avg_epoch_loss=4.75]\n",
      "100%|██████████| 100/100 [00:01<00:00, 54.55it/s, epoch=15/20, avg_epoch_loss=-.0652]\n",
      "2it [00:00, 161.90it/s, epoch=15/20, validation_avg_epoch_loss=4.63]\n",
      "100%|██████████| 100/100 [00:01<00:00, 55.72it/s, epoch=16/20, avg_epoch_loss=-.145]\n",
      "2it [00:00, 147.92it/s, epoch=16/20, validation_avg_epoch_loss=4.51]\n",
      "100%|██████████| 100/100 [00:02<00:00, 49.52it/s, epoch=17/20, avg_epoch_loss=0.108]\n",
      "2it [00:00, 156.31it/s, epoch=17/20, validation_avg_epoch_loss=4.6]\n",
      "100%|██████████| 100/100 [00:02<00:00, 47.46it/s, epoch=18/20, avg_epoch_loss=-.0316]\n",
      "2it [00:00, 179.66it/s, epoch=18/20, validation_avg_epoch_loss=4.5]\n",
      "100%|██████████| 100/100 [00:02<00:00, 49.56it/s, epoch=19/20, avg_epoch_loss=0.17]\n",
      "2it [00:00, 177.04it/s, epoch=19/20, validation_avg_epoch_loss=4.46]\n",
      "100%|██████████| 100/100 [00:01<00:00, 57.59it/s, epoch=20/20, avg_epoch_loss=0.0669]\n",
      "2it [00:00, 156.72it/s, epoch=20/20, validation_avg_epoch_loss=4.44]\n",
      "/var/folders/32/16m3_s4n0nxfr4l3yr1wflmm0000gn/T/ipykernel_46365/2191677596.py:7: UserWarning: linestyle is redundantly defined by the 'linestyle' keyword argument and the fmt string \"o-\" (-> linestyle='-'). The keyword argument will take precedence.\n",
      "  plt.plot(loss_data_framework[\"epochs\"], loss_data_framework[\"training_loss\"], 'o-', label='Training Loss', color='blue', linestyle='--')\n",
      "/var/folders/32/16m3_s4n0nxfr4l3yr1wflmm0000gn/T/ipykernel_46365/2191677596.py:8: UserWarning: linestyle is redundantly defined by the 'linestyle' keyword argument and the fmt string \"s-\" (-> linestyle='-'). The keyword argument will take precedence.\n",
      "  plt.plot(loss_data_framework[\"epochs\"], loss_data_framework[\"val_loss\"], 's-', label='Validation Loss', color='red', linestyle='-.')\n"
     ]
    },
    {
     "data": {
      "image/png": "[encoded data removed]",
      "text/plain": [
       "<Figure size 640x480 with 1 Axes>"
      ]
     },
     "metadata": {},
     "output_type": "display_data"
    },
    {
     "name": "stdout",
     "output_type": "stream",
     "text": [
      "Number of sample paths: 100\n",
      "Dimension of samples: (100, 318)\n",
      "Start date of the forecast window: 2019-08-18\n",
      "Frequency of the time series: <Day>\n"
     ]
    },
    {
     "name": "stderr",
     "output_type": "stream",
     "text": [
      "Running evaluation: 33it [00:00, 101.61it/s]\n"
     ]
    },
    {
     "name": "stdout",
     "output_type": "stream",
     "text": [
      "Evaluation metrics: simple_feedforward\n"
     ]
    },
    {
     "data": {
      "text/plain": [
       "<Figure size 640x480 with 0 Axes>"
      ]
     },
     "metadata": {},
     "output_type": "display_data"
    },
    {
     "data": {
      "image/png": "[encoded data removed]",
      "text/plain": [
       "<Figure size 1000x600 with 1 Axes>"
      ]
     },
     "metadata": {},
     "output_type": "display_data"
    }
   ],
   "source": [
    "## Available estmators: \n",
    "## transformer_estimator: transformer\n",
    "## tft_estimator: temporal fusion transformer\n",
    "## lstnet_estimator: LSTnet\n",
    "## deepVAR_estimator: DeepVAR\n",
    "## deepAR_estimator: DeepAR\n",
    "## simple_feed_forward_estimator: MLP\n",
    "## deepFactor_estimator: deep factor\n",
    "## gp_estimator: gaussian process\n",
    "## mqcnn_estimator: MQ CNN\n",
    "## rnn_estimator: RNN\n",
    "\n",
    "# estimators = [simple_feed_forward_estimator, \\\n",
    "#               deepAR_estimator, \\\n",
    "#               deepVAR_estimator, \\\n",
    "#               lstNetEstimator, \\\n",
    "#               transformer_estimator, \\\n",
    "#               mqcnn_estimator]\n",
    "\n",
    "estimators = [simple_feed_forward_estimator]\n",
    "model_metrics = {}\n",
    "\n",
    "## name of sample stations you'd like to plot\n",
    "station_samples = [\"WEBSTER 1\", \"MPL 5\", \"RINCONADA LIB 1\", \"BRYANT 4\"]\n",
    "samples_index = map_station_name_index(station_samples)\n",
    "\n",
    "predictor, agg_metrics, item_metrics, forecast_it, ts_it = multiple_models(train_ds, val_ds, test_ds, estimators, samples_index)"
   ]
  },
  {
   "cell_type": "markdown",
   "metadata": {},
   "source": [
    "#### Model selection"
   ]
  },
  {
   "cell_type": "code",
   "execution_count": null,
   "metadata": {},
   "outputs": [],
   "source": [
    "weights = {\n",
    "    'MSE': 0.4,\n",
    "    'MAE': 0.3,\n",
    "    'RMSE': 0.2,\n",
    "    'MSIS': 0.1\n",
    "}\n",
    "\n",
    "# agg_metrics, item_metrics\n",
    "\n",
    "estimators = [simple_feed_forward_estimator]\n",
    "\n",
    "for index, value in enumerate(estimators):\n",
    "    combined_score = sum(weights[metric] * agg_metrics[metric] for metric in weights)\n",
    "    print(combined_score)"
   ]
  },
  {
   "cell_type": "markdown",
   "metadata": {},
   "source": [
    "#### Fine tuning"
   ]
  },
  {
   "cell_type": "code",
   "execution_count": 219,
   "metadata": {},
   "outputs": [],
   "source": [
    "import optuna\n",
    "import torch\n",
    "from gluonts.dataset.split import split\n",
    "from gluonts.evaluation import Evaluator\n",
    "from gluonts.torch.model.deepar import DeepAREstimator"
   ]
  },
  {
   "cell_type": "code",
   "execution_count": 220,
   "metadata": {},
   "outputs": [],
   "source": [
    "def dataentry_to_dataframe(entry):\n",
    "    df = pd.DataFrame(\n",
    "        entry[\"target\"],\n",
    "        columns=[entry.get(\"item_id\")],\n",
    "        index=pd.period_range(\n",
    "            start=entry[\"start\"], periods=len(entry[\"target\"]), freq=entry[\"start\"].freq\n",
    "        ),\n",
    "    )\n",
    "\n",
    "    return df"
   ]
  },
  {
   "cell_type": "code",
   "execution_count": null,
   "metadata": {},
   "outputs": [],
   "source": [
    "class DeepARTuningObjective:\n",
    "    def __init__(\n",
    "        self, dataset, prediction_length, freq, metric_type=\"mean_wQuantileLoss\"\n",
    "    ):\n",
    "        self.dataset = dataset\n",
    "        self.prediction_length = prediction_length\n",
    "        self.freq = freq\n",
    "        self.metric_type = metric_type\n",
    "\n",
    "        self.train, test_template = split(dataset, offset=-self.prediction_length)\n",
    "        validation = test_template.generate_instances(\n",
    "            prediction_length=prediction_length\n",
    "        )\n",
    "        self.validation_input = [entry[0] for entry in validation]\n",
    "        self.validation_label = [\n",
    "            dataentry_to_dataframe(entry[1]) for entry in validation\n",
    "        ]\n",
    "\n",
    "    def get_params(self, trial) -> dict:\n",
    "        return {\n",
    "            \"num_layers\": trial.suggest_int(\"num_layers\", 1, 5),\n",
    "            \"hidden_size\": trial.suggest_int(\"hidden_size\", 10, 50),\n",
    "            \"batch_size\": trial.suggest_int(\"batch_size\", 30, 100),\n",
    "            \"learning_rate\": trial.suggest_int(\"learning_rate\", 0.001, 0.1)\n",
    "        }\n",
    "\n",
    "    def __call__(self, trial):\n",
    "        params = self.get_params(trial)\n",
    "        estimator = DeepAREstimator(\n",
    "            num_layers=params[\"num_layers\"],\n",
    "            hidden_size=params[\"hidden_size\"],\n",
    "            prediction_length=self.prediction_length,\n",
    "            freq=self.freq,\n",
    "            trainer_kwargs={\n",
    "                \"enable_progress_bar\": False,\n",
    "                \"enable_model_summary\": False,\n",
    "                \"max_epochs\": 5,\n",
    "            },\n",
    "        )\n",
    "\n",
    "        predictor = estimator.train(self.train, cache_data=True)\n",
    "        forecast_it = predictor.predict(self.validation_input)\n",
    "\n",
    "        forecasts = list(forecast_it)\n",
    "\n",
    "        evaluator = Evaluator(quantiles=[0.1, 0.5, 0.9])\n",
    "        agg_metrics, item_metrics = evaluator(\n",
    "            self.validation_label, forecasts, num_series=len(self.dataset)\n",
    "        )\n",
    "        return agg_metrics[self.metric_type]"
   ]
  },
  {
   "cell_type": "code",
   "execution_count": 222,
   "metadata": {},
   "outputs": [
    {
     "name": "stderr",
     "output_type": "stream",
     "text": [
      "[I 2024-08-24 11:22:59,354] A new study created in memory with name: no-name-d177c2a5-d025-4821-bf83-57d08da94d2a\n",
      "GPU available: False, used: False\n",
      "TPU available: False, using: 0 TPU cores\n",
      "IPU available: False, using: 0 IPUs\n",
      "HPU available: False, using: 0 HPUs\n",
      "/usr/local/lib/python3.10/site-packages/pytorch_lightning/trainer/configuration_validator.py:108: PossibleUserWarning: You defined a `validation_step` but have no `val_dataloader`. Skipping val loop.\n",
      "  rank_zero_warn(\n",
      "2024-08-24 11:23:07.115294: I tensorflow/core/platform/cpu_feature_guard.cc:182] This TensorFlow binary is optimized to use available CPU instructions in performance-critical operations.\n",
      "To enable the following instructions: AVX2 FMA, in other operations, rebuild TensorFlow with the appropriate compiler flags.\n",
      "Epoch 0, global step 50: 'train_loss' reached -10.34214 (best -10.34214), saving model to '/Users/tuyuanjie/Documents/EV_charging_demand_prediction_project/time_series_modeling/lightning_logs/version_5/checkpoints/epoch=0-step=50.ckpt' as top 1\n",
      "Epoch 1, global step 100: 'train_loss' reached -12.77228 (best -12.77228), saving model to '/Users/tuyuanjie/Documents/EV_charging_demand_prediction_project/time_series_modeling/lightning_logs/version_5/checkpoints/epoch=1-step=100.ckpt' as top 1\n",
      "Epoch 2, global step 150: 'train_loss' reached -12.85374 (best -12.85374), saving model to '/Users/tuyuanjie/Documents/EV_charging_demand_prediction_project/time_series_modeling/lightning_logs/version_5/checkpoints/epoch=2-step=150.ckpt' as top 1\n",
      "Epoch 3, global step 200: 'train_loss' was not in top 1\n",
      "Epoch 4, global step 250: 'train_loss' was not in top 1\n",
      "Epoch 5, global step 300: 'train_loss' was not in top 1\n",
      "Epoch 6, global step 350: 'train_loss' was not in top 1\n",
      "Epoch 7, global step 400: 'train_loss' was not in top 1\n",
      "Epoch 8, global step 450: 'train_loss' was not in top 1\n",
      "Epoch 9, global step 500: 'train_loss' reached -12.85810 (best -12.85810), saving model to '/Users/tuyuanjie/Documents/EV_charging_demand_prediction_project/time_series_modeling/lightning_logs/version_5/checkpoints/epoch=9-step=500.ckpt' as top 1\n",
      "`Trainer.fit` stopped: `max_epochs=10` reached.\n",
      "Running evaluation: 100%|██████████| 33/33 [00:00<00:00, 86.90it/s]\n",
      "/usr/local/lib/python3.10/site-packages/gluonts/evaluation/metrics.py:105: RuntimeWarning: divide by zero encountered in divide\n",
      "  return np.mean(np.abs(target - forecast)) / seasonal_error\n",
      "/usr/local/lib/python3.10/site-packages/gluonts/evaluation/metrics.py:154: RuntimeWarning: divide by zero encountered in divide\n",
      "  return numerator / seasonal_error\n",
      "/usr/local/lib/python3.10/site-packages/gluonts/evaluation/metrics.py:105: RuntimeWarning: divide by zero encountered in divide\n",
      "  return np.mean(np.abs(target - forecast)) / seasonal_error\n",
      "/usr/local/lib/python3.10/site-packages/gluonts/evaluation/metrics.py:154: RuntimeWarning: divide by zero encountered in divide\n",
      "  return numerator / seasonal_error\n",
      "/usr/local/lib/python3.10/site-packages/pandas/core/dtypes/astype.py:170: UserWarning: Warning: converting a masked element to nan.\n",
      "  return arr.astype(dtype, copy=True)\n",
      "[I 2024-08-24 11:42:21,287] Trial 0 finished with value: 0.8108318355860294 and parameters: {'num_layers': 5, 'hidden_size': 46}. Best is trial 0 with value: 0.8108318355860294.\n",
      "GPU available: False, used: False\n",
      "TPU available: False, using: 0 TPU cores\n",
      "IPU available: False, using: 0 IPUs\n",
      "HPU available: False, using: 0 HPUs\n",
      "/usr/local/lib/python3.10/site-packages/pytorch_lightning/trainer/configuration_validator.py:108: PossibleUserWarning: You defined a `validation_step` but have no `val_dataloader`. Skipping val loop.\n",
      "  rank_zero_warn(\n",
      "Epoch 0, global step 50: 'train_loss' reached -10.81319 (best -10.81319), saving model to '/Users/tuyuanjie/Documents/EV_charging_demand_prediction_project/time_series_modeling/lightning_logs/version_6/checkpoints/epoch=0-step=50.ckpt' as top 1\n",
      "Epoch 1, global step 100: 'train_loss' reached -12.60559 (best -12.60559), saving model to '/Users/tuyuanjie/Documents/EV_charging_demand_prediction_project/time_series_modeling/lightning_logs/version_6/checkpoints/epoch=1-step=100.ckpt' as top 1\n",
      "Epoch 2, global step 150: 'train_loss' reached -12.91582 (best -12.91582), saving model to '/Users/tuyuanjie/Documents/EV_charging_demand_prediction_project/time_series_modeling/lightning_logs/version_6/checkpoints/epoch=2-step=150.ckpt' as top 1\n",
      "Epoch 3, global step 200: 'train_loss' was not in top 1\n",
      "Epoch 4, global step 250: 'train_loss' was not in top 1\n",
      "Epoch 5, global step 300: 'train_loss' was not in top 1\n",
      "Epoch 6, global step 350: 'train_loss' reached -13.06660 (best -13.06660), saving model to '/Users/tuyuanjie/Documents/EV_charging_demand_prediction_project/time_series_modeling/lightning_logs/version_6/checkpoints/epoch=6-step=350.ckpt' as top 1\n",
      "Epoch 7, global step 400: 'train_loss' was not in top 1\n",
      "Epoch 8, global step 450: 'train_loss' was not in top 1\n",
      "Epoch 9, global step 500: 'train_loss' was not in top 1\n",
      "`Trainer.fit` stopped: `max_epochs=10` reached.\n",
      "Running evaluation: 100%|██████████| 33/33 [00:00<00:00, 118.46it/s]\n",
      "/usr/local/lib/python3.10/site-packages/gluonts/evaluation/metrics.py:105: RuntimeWarning: divide by zero encountered in divide\n",
      "  return np.mean(np.abs(target - forecast)) / seasonal_error\n",
      "/usr/local/lib/python3.10/site-packages/gluonts/evaluation/metrics.py:154: RuntimeWarning: divide by zero encountered in divide\n",
      "  return numerator / seasonal_error\n",
      "/usr/local/lib/python3.10/site-packages/gluonts/evaluation/metrics.py:105: RuntimeWarning: divide by zero encountered in divide\n",
      "  return np.mean(np.abs(target - forecast)) / seasonal_error\n",
      "/usr/local/lib/python3.10/site-packages/gluonts/evaluation/metrics.py:154: RuntimeWarning: divide by zero encountered in divide\n",
      "  return numerator / seasonal_error\n",
      "/usr/local/lib/python3.10/site-packages/pandas/core/dtypes/astype.py:170: UserWarning: Warning: converting a masked element to nan.\n",
      "  return arr.astype(dtype, copy=True)\n",
      "[I 2024-08-24 11:54:44,555] Trial 1 finished with value: 0.46182408982580836 and parameters: {'num_layers': 3, 'hidden_size': 49}. Best is trial 1 with value: 0.46182408982580836.\n",
      "GPU available: False, used: False\n",
      "TPU available: False, using: 0 TPU cores\n",
      "IPU available: False, using: 0 IPUs\n",
      "HPU available: False, using: 0 HPUs\n",
      "/usr/local/lib/python3.10/site-packages/pytorch_lightning/trainer/configuration_validator.py:108: PossibleUserWarning: You defined a `validation_step` but have no `val_dataloader`. Skipping val loop.\n",
      "  rank_zero_warn(\n",
      "Epoch 0, global step 50: 'train_loss' reached -10.27553 (best -10.27553), saving model to '/Users/tuyuanjie/Documents/EV_charging_demand_prediction_project/time_series_modeling/lightning_logs/version_7/checkpoints/epoch=0-step=50.ckpt' as top 1\n",
      "Epoch 1, global step 100: 'train_loss' reached -12.61058 (best -12.61058), saving model to '/Users/tuyuanjie/Documents/EV_charging_demand_prediction_project/time_series_modeling/lightning_logs/version_7/checkpoints/epoch=1-step=100.ckpt' as top 1\n",
      "Epoch 2, global step 150: 'train_loss' reached -13.12501 (best -13.12501), saving model to '/Users/tuyuanjie/Documents/EV_charging_demand_prediction_project/time_series_modeling/lightning_logs/version_7/checkpoints/epoch=2-step=150.ckpt' as top 1\n",
      "Epoch 3, global step 200: 'train_loss' reached -13.19491 (best -13.19491), saving model to '/Users/tuyuanjie/Documents/EV_charging_demand_prediction_project/time_series_modeling/lightning_logs/version_7/checkpoints/epoch=3-step=200.ckpt' as top 1\n",
      "Epoch 4, global step 250: 'train_loss' reached -13.79347 (best -13.79347), saving model to '/Users/tuyuanjie/Documents/EV_charging_demand_prediction_project/time_series_modeling/lightning_logs/version_7/checkpoints/epoch=4-step=250.ckpt' as top 1\n",
      "Epoch 5, global step 300: 'train_loss' was not in top 1\n",
      "Epoch 6, global step 350: 'train_loss' was not in top 1\n",
      "Epoch 7, global step 400: 'train_loss' was not in top 1\n",
      "Epoch 8, global step 450: 'train_loss' was not in top 1\n",
      "Epoch 9, global step 500: 'train_loss' reached -13.82735 (best -13.82735), saving model to '/Users/tuyuanjie/Documents/EV_charging_demand_prediction_project/time_series_modeling/lightning_logs/version_7/checkpoints/epoch=9-step=500.ckpt' as top 1\n",
      "`Trainer.fit` stopped: `max_epochs=10` reached.\n",
      "Running evaluation: 100%|██████████| 33/33 [00:00<00:00, 119.84it/s]\n",
      "/usr/local/lib/python3.10/site-packages/gluonts/evaluation/metrics.py:105: RuntimeWarning: divide by zero encountered in divide\n",
      "  return np.mean(np.abs(target - forecast)) / seasonal_error\n",
      "/usr/local/lib/python3.10/site-packages/gluonts/evaluation/metrics.py:154: RuntimeWarning: divide by zero encountered in divide\n",
      "  return numerator / seasonal_error\n",
      "/usr/local/lib/python3.10/site-packages/gluonts/evaluation/metrics.py:105: RuntimeWarning: divide by zero encountered in divide\n",
      "  return np.mean(np.abs(target - forecast)) / seasonal_error\n",
      "/usr/local/lib/python3.10/site-packages/gluonts/evaluation/metrics.py:154: RuntimeWarning: divide by zero encountered in divide\n",
      "  return numerator / seasonal_error\n",
      "/usr/local/lib/python3.10/site-packages/pandas/core/dtypes/astype.py:170: UserWarning: Warning: converting a masked element to nan.\n",
      "  return arr.astype(dtype, copy=True)\n",
      "[I 2024-08-24 12:04:55,131] Trial 2 finished with value: 0.5301113897030657 and parameters: {'num_layers': 3, 'hidden_size': 35}. Best is trial 1 with value: 0.46182408982580836.\n",
      "/usr/local/lib/python3.10/site-packages/torch/nn/modules/rnn.py:67: UserWarning: dropout option adds dropout after all but last recurrent layer, so non-zero dropout expects num_layers greater than 1, but got dropout=0.1 and num_layers=1\n",
      "  warnings.warn(\"dropout option adds dropout after all but last \"\n",
      "GPU available: False, used: False\n",
      "TPU available: False, using: 0 TPU cores\n",
      "IPU available: False, using: 0 IPUs\n",
      "HPU available: False, using: 0 HPUs\n",
      "/usr/local/lib/python3.10/site-packages/pytorch_lightning/trainer/configuration_validator.py:108: PossibleUserWarning: You defined a `validation_step` but have no `val_dataloader`. Skipping val loop.\n",
      "  rank_zero_warn(\n",
      "Epoch 0, global step 50: 'train_loss' reached -10.16923 (best -10.16923), saving model to '/Users/tuyuanjie/Documents/EV_charging_demand_prediction_project/time_series_modeling/lightning_logs/version_8/checkpoints/epoch=0-step=50.ckpt' as top 1\n",
      "Epoch 1, global step 100: 'train_loss' reached -12.06053 (best -12.06053), saving model to '/Users/tuyuanjie/Documents/EV_charging_demand_prediction_project/time_series_modeling/lightning_logs/version_8/checkpoints/epoch=1-step=100.ckpt' as top 1\n",
      "Epoch 2, global step 150: 'train_loss' reached -12.81963 (best -12.81963), saving model to '/Users/tuyuanjie/Documents/EV_charging_demand_prediction_project/time_series_modeling/lightning_logs/version_8/checkpoints/epoch=2-step=150.ckpt' as top 1\n",
      "Epoch 3, global step 200: 'train_loss' was not in top 1\n",
      "Epoch 4, global step 250: 'train_loss' reached -13.49782 (best -13.49782), saving model to '/Users/tuyuanjie/Documents/EV_charging_demand_prediction_project/time_series_modeling/lightning_logs/version_8/checkpoints/epoch=4-step=250.ckpt' as top 1\n",
      "Epoch 5, global step 300: 'train_loss' was not in top 1\n",
      "Epoch 6, global step 350: 'train_loss' was not in top 1\n",
      "Epoch 7, global step 400: 'train_loss' reached -14.17830 (best -14.17830), saving model to '/Users/tuyuanjie/Documents/EV_charging_demand_prediction_project/time_series_modeling/lightning_logs/version_8/checkpoints/epoch=7-step=400.ckpt' as top 1\n",
      "Epoch 8, global step 450: 'train_loss' was not in top 1\n",
      "Epoch 9, global step 500: 'train_loss' was not in top 1\n",
      "`Trainer.fit` stopped: `max_epochs=10` reached.\n",
      "Running evaluation: 100%|██████████| 33/33 [00:00<00:00, 114.61it/s]\n",
      "/usr/local/lib/python3.10/site-packages/gluonts/evaluation/metrics.py:105: RuntimeWarning: divide by zero encountered in divide\n",
      "  return np.mean(np.abs(target - forecast)) / seasonal_error\n",
      "/usr/local/lib/python3.10/site-packages/gluonts/evaluation/metrics.py:154: RuntimeWarning: divide by zero encountered in divide\n",
      "  return numerator / seasonal_error\n",
      "/usr/local/lib/python3.10/site-packages/gluonts/evaluation/metrics.py:105: RuntimeWarning: divide by zero encountered in divide\n",
      "  return np.mean(np.abs(target - forecast)) / seasonal_error\n",
      "/usr/local/lib/python3.10/site-packages/gluonts/evaluation/metrics.py:154: RuntimeWarning: divide by zero encountered in divide\n",
      "  return numerator / seasonal_error\n",
      "/usr/local/lib/python3.10/site-packages/pandas/core/dtypes/astype.py:170: UserWarning: Warning: converting a masked element to nan.\n",
      "  return arr.astype(dtype, copy=True)\n",
      "[I 2024-08-24 12:08:29,470] Trial 3 finished with value: 0.5098570656602016 and parameters: {'num_layers': 1, 'hidden_size': 35}. Best is trial 1 with value: 0.46182408982580836.\n",
      "GPU available: False, used: False\n",
      "TPU available: False, using: 0 TPU cores\n",
      "IPU available: False, using: 0 IPUs\n",
      "HPU available: False, using: 0 HPUs\n",
      "/usr/local/lib/python3.10/site-packages/pytorch_lightning/trainer/configuration_validator.py:108: PossibleUserWarning: You defined a `validation_step` but have no `val_dataloader`. Skipping val loop.\n",
      "  rank_zero_warn(\n",
      "Epoch 0, global step 50: 'train_loss' reached -10.84231 (best -10.84231), saving model to '/Users/tuyuanjie/Documents/EV_charging_demand_prediction_project/time_series_modeling/lightning_logs/version_9/checkpoints/epoch=0-step=50.ckpt' as top 1\n",
      "Epoch 1, global step 100: 'train_loss' reached -12.40117 (best -12.40117), saving model to '/Users/tuyuanjie/Documents/EV_charging_demand_prediction_project/time_series_modeling/lightning_logs/version_9/checkpoints/epoch=1-step=100.ckpt' as top 1\n",
      "Epoch 2, global step 150: 'train_loss' reached -13.11811 (best -13.11811), saving model to '/Users/tuyuanjie/Documents/EV_charging_demand_prediction_project/time_series_modeling/lightning_logs/version_9/checkpoints/epoch=2-step=150.ckpt' as top 1\n",
      "Epoch 3, global step 200: 'train_loss' reached -13.27907 (best -13.27907), saving model to '/Users/tuyuanjie/Documents/EV_charging_demand_prediction_project/time_series_modeling/lightning_logs/version_9/checkpoints/epoch=3-step=200.ckpt' as top 1\n",
      "Epoch 4, global step 250: 'train_loss' was not in top 1\n",
      "Epoch 5, global step 300: 'train_loss' was not in top 1\n",
      "Epoch 6, global step 350: 'train_loss' was not in top 1\n"
     ]
    }
   ],
   "source": [
    "import time\n",
    "\n",
    "start_time = time.time()\n",
    "study = optuna.create_study(direction=\"minimize\")\n",
    "study.optimize(\n",
    "    DeepARTuningObjective(\n",
    "        val_ds, validation_length, freq\n",
    "    ),\n",
    "    n_trials=5,\n",
    ")\n",
    "\n",
    "print(\"Number of finished trials: {}\".format(len(study.trials)))\n",
    "\n",
    "print(\"Best trial:\")\n",
    "trial = study.best_trial\n",
    "\n",
    "print(\"  Value: {}\".format(trial.value))\n",
    "\n",
    "print(\"  Params: \")\n",
    "for key, value in trial.params.items():\n",
    "    print(\"    {}: {}\".format(key, value))\n",
    "    \n",
    "print(time.time() - start_time)"
   ]
  },
  {
   "cell_type": "markdown",
   "metadata": {},
   "source": [
    "### Re-training the model"
   ]
  },
  {
   "cell_type": "code",
   "execution_count": null,
   "metadata": {},
   "outputs": [],
   "source": [
    "estimator = DeepAREstimator(\n",
    "    num_layers=trial.params[\"num_layers\"],\n",
    "    hidden_size=trial.params[\"hidden_size\"],\n",
    "    prediction_length=dataset.metadata.prediction_length,\n",
    "    context_length=100,\n",
    "    freq=dataset.metadata.freq,\n",
    "    trainer_kwargs={\n",
    "        \"enable_progress_bar\": False,\n",
    "        \"enable_model_summary\": False,\n",
    "        \"max_epochs\": 10,\n",
    "    },\n",
    ")"
   ]
  },
  {
   "cell_type": "code",
   "execution_count": null,
   "metadata": {},
   "outputs": [],
   "source": [
    "predictor = estimator.train(training_data = train_ds, validation_data = val_dataset, cache_data=True)"
   ]
  },
  {
   "cell_type": "code",
   "execution_count": null,
   "metadata": {},
   "outputs": [],
   "source": [
    "from gluonts.evaluation import make_evaluation_predictions\n",
    "\n",
    "forecast_it, ts_it = make_evaluation_predictions(\n",
    "    dataset=test_ds,\n",
    "    predictor=predictor,\n",
    ")"
   ]
  },
  {
   "cell_type": "code",
   "execution_count": null,
   "metadata": {},
   "outputs": [],
   "source": [
    "forecasts = list(forecast_it)\n",
    "tss = list(ts_it)"
   ]
  },
  {
   "cell_type": "code",
   "execution_count": null,
   "metadata": {},
   "outputs": [],
   "source": [
    "plt.figure(figsize = [10, 6])\n",
    "plt.plot(tss[0][-150:].to_timestamp())\n",
    "forecasts[0].plot(show_label=True)\n",
    "plt.legend()"
   ]
  },
  {
   "cell_type": "code",
   "execution_count": null,
   "metadata": {},
   "outputs": [],
   "source": [
    "evaluator = Evaluator(quantiles=[0.1, 0.5, 0.9])\n",
    "agg_metrics, item_metrics = evaluator(tss, forecasts)"
   ]
  },
  {
   "cell_type": "code",
   "execution_count": null,
   "metadata": {},
   "outputs": [],
   "source": [
    "print(json.dumps(agg_metrics, indent=4))"
   ]
  },
  {
   "cell_type": "code",
   "execution_count": null,
   "metadata": {},
   "outputs": [],
   "source": [
    "item_metrics.head()"
   ]
  },
  {
   "cell_type": "code",
   "execution_count": null,
   "metadata": {},
   "outputs": [],
   "source": [
    "item_metrics.plot(x=\"sMAPE\", y=\"MASE\", kind=\"scatter\")\n",
    "plt.grid(which=\"both\")\n",
    "plt.show()"
   ]
  },
  {
   "cell_type": "markdown",
   "metadata": {},
   "source": [
    "### Save existing model"
   ]
  },
  {
   "cell_type": "code",
   "execution_count": null,
   "metadata": {},
   "outputs": [],
   "source": [
    "# save the trained model in tmp/\n",
    "from pathlib import Path\n",
    "predictor.serialize(Path(\"/tmp/\"))\n",
    "\n",
    "# loads it back\n",
    "from gluonts.model.predictor import Predictor\n",
    "predictor_deserialized = Predictor.deserialize(Path(\"/tmp/\"))"
   ]
  }
 ],
 "metadata": {
  "kernelspec": {
   "display_name": "Python 3",
   "language": "python",
   "name": "python3"
  },
  "language_info": {
   "codemirror_mode": {
    "name": "ipython",
    "version": 3
   },
   "file_extension": ".py",
   "mimetype": "text/x-python",
   "name": "python",
   "nbconvert_exporter": "python",
   "pygments_lexer": "ipython3",
   "version": "3.10.10"
  },
  "orig_nbformat": 4
 },
 "nbformat": 4,
 "nbformat_minor": 2
}
