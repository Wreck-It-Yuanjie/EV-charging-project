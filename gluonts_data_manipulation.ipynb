{
 "cells": [
  {
   "cell_type": "markdown",
   "metadata": {},
   "source": [
    "#### Loading data from long data format"
   ]
  },
  {
   "cell_type": "code",
   "execution_count": 1,
   "metadata": {},
   "outputs": [],
   "source": [
    "import pandas as pd"
   ]
  },
  {
   "cell_type": "code",
   "execution_count": 2,
   "metadata": {},
   "outputs": [
    {
     "data": {
      "text/html": [
       "<div>\n",
       "<style scoped>\n",
       "    .dataframe tbody tr th:only-of-type {\n",
       "        vertical-align: middle;\n",
       "    }\n",
       "\n",
       "    .dataframe tbody tr th {\n",
       "        vertical-align: top;\n",
       "    }\n",
       "\n",
       "    .dataframe thead th {\n",
       "        text-align: right;\n",
       "    }\n",
       "</style>\n",
       "<table border=\"1\" class=\"dataframe\">\n",
       "  <thead>\n",
       "    <tr style=\"text-align: right;\">\n",
       "      <th></th>\n",
       "      <th>target</th>\n",
       "      <th>item_id</th>\n",
       "    </tr>\n",
       "  </thead>\n",
       "  <tbody>\n",
       "    <tr>\n",
       "      <th>2021-01-01 00:00:00</th>\n",
       "      <td>-1.3378</td>\n",
       "      <td>A</td>\n",
       "    </tr>\n",
       "    <tr>\n",
       "      <th>2021-01-01 01:00:00</th>\n",
       "      <td>-1.6111</td>\n",
       "      <td>A</td>\n",
       "    </tr>\n",
       "    <tr>\n",
       "      <th>2021-01-01 02:00:00</th>\n",
       "      <td>-1.9259</td>\n",
       "      <td>A</td>\n",
       "    </tr>\n",
       "    <tr>\n",
       "      <th>2021-01-01 03:00:00</th>\n",
       "      <td>-1.9184</td>\n",
       "      <td>A</td>\n",
       "    </tr>\n",
       "    <tr>\n",
       "      <th>2021-01-01 04:00:00</th>\n",
       "      <td>-1.9168</td>\n",
       "      <td>A</td>\n",
       "    </tr>\n",
       "  </tbody>\n",
       "</table>\n",
       "</div>"
      ],
      "text/plain": [
       "                     target item_id\n",
       "2021-01-01 00:00:00 -1.3378       A\n",
       "2021-01-01 01:00:00 -1.6111       A\n",
       "2021-01-01 02:00:00 -1.9259       A\n",
       "2021-01-01 03:00:00 -1.9184       A\n",
       "2021-01-01 04:00:00 -1.9168       A"
      ]
     },
     "execution_count": 2,
     "metadata": {},
     "output_type": "execute_result"
    }
   ],
   "source": [
    "url = (\n",
    "    \"https://gist.githubusercontent.com/rsnirwan/a8b424085c9f44ef2598da74ce43e7a3\"\n",
    "    \"/raw/b6fdef21fe1f654787fa0493846c546b7f9c4df2/ts_long.csv\"\n",
    ")\n",
    "df = pd.read_csv(url, index_col=0, parse_dates=True)\n",
    "df.head()"
   ]
  },
  {
   "cell_type": "code",
   "execution_count": 6,
   "metadata": {},
   "outputs": [
    {
     "data": {
      "text/plain": [
       "(2400, 2)"
      ]
     },
     "execution_count": 6,
     "metadata": {},
     "output_type": "execute_result"
    }
   ],
   "source": [
    "df.shape"
   ]
  },
  {
   "cell_type": "code",
   "execution_count": 3,
   "metadata": {},
   "outputs": [],
   "source": [
    "from gluonts.dataset.pandas import PandasDataset"
   ]
  },
  {
   "cell_type": "code",
   "execution_count": 4,
   "metadata": {},
   "outputs": [],
   "source": [
    "ds = PandasDataset.from_long_dataframe(df, target=\"target\", item_id=\"item_id\")"
   ]
  },
  {
   "cell_type": "code",
   "execution_count": 5,
   "metadata": {},
   "outputs": [
    {
     "data": {
      "text/plain": [
       "PandasDataset<size=10, freq=H, num_feat_dynamic_real=0, num_past_feat_dynamic_real=0, num_feat_static_real=0, num_feat_static_cat=0, static_cardinalities=[]>"
      ]
     },
     "execution_count": 5,
     "metadata": {},
     "output_type": "execute_result"
    }
   ],
   "source": [
    "ds"
   ]
  },
  {
   "cell_type": "code",
   "execution_count": 7,
   "metadata": {},
   "outputs": [
    {
     "name": "stderr",
     "output_type": "stream",
     "text": [
      "100%|██████████| 50/50 [00:03<00:00, 14.72it/s, epoch=1/1, avg_epoch_loss=0.651]\n"
     ]
    }
   ],
   "source": [
    "from gluonts.mx import DeepAREstimator, Trainer\n",
    "\n",
    "estimator = DeepAREstimator(\n",
    "    freq=ds.freq, prediction_length=24, trainer=Trainer(epochs=1)\n",
    ")\n",
    "predictor = estimator.train(ds)\n",
    "predictions = predictor.predict(ds)"
   ]
  },
  {
   "cell_type": "markdown",
   "metadata": {},
   "source": [
    "#### Loading data with missing values"
   ]
  },
  {
   "cell_type": "code",
   "execution_count": 40,
   "metadata": {},
   "outputs": [],
   "source": [
    "import pandas as pd\n",
    "import numpy as np\n",
    "\n",
    "url = (\n",
    "    \"https://gist.githubusercontent.com/rsnirwan/a8b424085c9f44ef2598da74ce43e7a3\"\n",
    "    \"/raw/b6fdef21fe1f654787fa0493846c546b7f9c4df2/ts_long.csv\"\n",
    ")\n",
    "df = pd.read_csv(url, index_col=0, parse_dates=True)\n",
    "remove_ind = np.random.choice(np.arange(df.shape[0]), size=100, replace=False)\n",
    "mask = [False if i in remove_ind else True for i in range(df.shape[0])]\n",
    "df_missing_val = df.loc[mask, :]  # dataframe with 100 rows removed from df"
   ]
  },
  {
   "cell_type": "code",
   "execution_count": 42,
   "metadata": {},
   "outputs": [
    {
     "data": {
      "text/plain": [
       "2400"
      ]
     },
     "execution_count": 42,
     "metadata": {},
     "output_type": "execute_result"
    }
   ],
   "source": [
    "len(df)"
   ]
  },
  {
   "cell_type": "code",
   "execution_count": 43,
   "metadata": {},
   "outputs": [
    {
     "data": {
      "text/plain": [
       "2300"
      ]
     },
     "execution_count": 43,
     "metadata": {},
     "output_type": "execute_result"
    }
   ],
   "source": [
    "len(df_missing_val)"
   ]
  },
  {
   "cell_type": "code",
   "execution_count": 41,
   "metadata": {},
   "outputs": [
    {
     "data": {
      "text/html": [
       "<div>\n",
       "<style scoped>\n",
       "    .dataframe tbody tr th:only-of-type {\n",
       "        vertical-align: middle;\n",
       "    }\n",
       "\n",
       "    .dataframe tbody tr th {\n",
       "        vertical-align: top;\n",
       "    }\n",
       "\n",
       "    .dataframe thead th {\n",
       "        text-align: right;\n",
       "    }\n",
       "</style>\n",
       "<table border=\"1\" class=\"dataframe\">\n",
       "  <thead>\n",
       "    <tr style=\"text-align: right;\">\n",
       "      <th></th>\n",
       "      <th>target</th>\n",
       "      <th>item_id</th>\n",
       "    </tr>\n",
       "  </thead>\n",
       "  <tbody>\n",
       "    <tr>\n",
       "      <th>2021-01-01 00:00:00</th>\n",
       "      <td>-1.3378</td>\n",
       "      <td>A</td>\n",
       "    </tr>\n",
       "    <tr>\n",
       "      <th>2021-01-01 01:00:00</th>\n",
       "      <td>-1.6111</td>\n",
       "      <td>A</td>\n",
       "    </tr>\n",
       "    <tr>\n",
       "      <th>2021-01-01 02:00:00</th>\n",
       "      <td>-1.9259</td>\n",
       "      <td>A</td>\n",
       "    </tr>\n",
       "    <tr>\n",
       "      <th>2021-01-01 03:00:00</th>\n",
       "      <td>-1.9184</td>\n",
       "      <td>A</td>\n",
       "    </tr>\n",
       "    <tr>\n",
       "      <th>2021-01-01 04:00:00</th>\n",
       "      <td>-1.9168</td>\n",
       "      <td>A</td>\n",
       "    </tr>\n",
       "    <tr>\n",
       "      <th>...</th>\n",
       "      <td>...</td>\n",
       "      <td>...</td>\n",
       "    </tr>\n",
       "    <tr>\n",
       "      <th>2021-01-10 18:00:00</th>\n",
       "      <td>0.8377</td>\n",
       "      <td>J</td>\n",
       "    </tr>\n",
       "    <tr>\n",
       "      <th>2021-01-10 20:00:00</th>\n",
       "      <td>1.1525</td>\n",
       "      <td>J</td>\n",
       "    </tr>\n",
       "    <tr>\n",
       "      <th>2021-01-10 21:00:00</th>\n",
       "      <td>1.1485</td>\n",
       "      <td>J</td>\n",
       "    </tr>\n",
       "    <tr>\n",
       "      <th>2021-01-10 22:00:00</th>\n",
       "      <td>1.3248</td>\n",
       "      <td>J</td>\n",
       "    </tr>\n",
       "    <tr>\n",
       "      <th>2021-01-10 23:00:00</th>\n",
       "      <td>1.1657</td>\n",
       "      <td>J</td>\n",
       "    </tr>\n",
       "  </tbody>\n",
       "</table>\n",
       "<p>2300 rows × 2 columns</p>\n",
       "</div>"
      ],
      "text/plain": [
       "                     target item_id\n",
       "2021-01-01 00:00:00 -1.3378       A\n",
       "2021-01-01 01:00:00 -1.6111       A\n",
       "2021-01-01 02:00:00 -1.9259       A\n",
       "2021-01-01 03:00:00 -1.9184       A\n",
       "2021-01-01 04:00:00 -1.9168       A\n",
       "...                     ...     ...\n",
       "2021-01-10 18:00:00  0.8377       J\n",
       "2021-01-10 20:00:00  1.1525       J\n",
       "2021-01-10 21:00:00  1.1485       J\n",
       "2021-01-10 22:00:00  1.3248       J\n",
       "2021-01-10 23:00:00  1.1657       J\n",
       "\n",
       "[2300 rows x 2 columns]"
      ]
     },
     "execution_count": 41,
     "metadata": {},
     "output_type": "execute_result"
    }
   ],
   "source": [
    "df_missing_val"
   ]
  },
  {
   "cell_type": "code",
   "execution_count": 44,
   "metadata": {},
   "outputs": [],
   "source": [
    "max_end = max(df.groupby(\"item_id\").apply(lambda _df: _df.index[-1]))"
   ]
  },
  {
   "cell_type": "code",
   "execution_count": 45,
   "metadata": {},
   "outputs": [
    {
     "data": {
      "text/plain": [
       "Timestamp('2021-01-10 23:00:00')"
      ]
     },
     "execution_count": 45,
     "metadata": {},
     "output_type": "execute_result"
    }
   ],
   "source": [
    "max_end"
   ]
  },
  {
   "cell_type": "code",
   "execution_count": 10,
   "metadata": {},
   "outputs": [],
   "source": [
    "dfs_dict = {}\n",
    "for item_id, gdf in df_missing_val.groupby(\"item_id\"):\n",
    "    new_index = pd.date_range(gdf.index[0], end=max_end, freq=\"1H\")\n",
    "    dfs_dict[item_id] = gdf.reindex(new_index).drop(\"item_id\", axis=1)\n",
    "\n",
    "ds = PandasDataset(dfs_dict, target=\"target\")"
   ]
  },
  {
   "cell_type": "code",
   "execution_count": 39,
   "metadata": {},
   "outputs": [
    {
     "data": {
      "text/plain": [
       "{'start': Period('2021-01-01 00:00', 'H'),\n",
       " 'target': array([ 0.01319757, -0.44706934, -0.00870165, -0.20113425, -0.31520442,\n",
       "        -0.07115253, -0.07849238,  0.14524787,  0.22352229,  0.39480437,\n",
       "         0.51226058,  0.145251  ,  0.24147066,  0.1027267 , -0.09703961,\n",
       "        -0.30291317, -0.85164453, -1.07405109, -1.34033317, -1.75158365,\n",
       "        -1.86245997, -2.07169491, -2.27476701, -2.28822964, -2.1752535 ,\n",
       "        -1.86768254, -1.80978528, -1.32450431, -1.10231172, -0.47112215,\n",
       "        -0.02871607,  0.48528145,  0.8355133 ,  1.30129467,  1.61948225,\n",
       "         1.98047662,  1.91600378,  2.11237811,  1.93913804,  2.23718416,\n",
       "         2.02328845,  1.60884919,  1.31898522,  1.08866958,  0.69462585,\n",
       "         0.31906504,  0.24532755,  0.21356948, -0.09712526, -0.2586003 ,\n",
       "        -0.19499721, -0.06593902, -0.04348295, -0.24013354,  0.24961397,\n",
       "         0.08792683,  0.12511533,  0.39537261,  0.34191513,  0.44017277,\n",
       "         0.30484319, -0.01831013, -0.34543726, -0.50539733, -0.76109907,\n",
       "        -0.96988525, -1.24303023, -1.6326481 , -1.97414889, -2.12655474,\n",
       "        -2.12552197, -2.04680669, -2.14610488, -1.63214117, -1.67684592,\n",
       "        -1.33356544, -0.83470211, -0.6092825 , -0.10065582,  0.47219349,\n",
       "         1.07141366,  1.40641934,  1.59668851,  1.83331538,  2.14187063,\n",
       "         2.16576913,  2.19814949,  2.12386271,  1.96533764,  1.54978571,\n",
       "         1.2643132 ,  1.1497241 ,  0.96243162,  0.5996482 ,  0.28435161,\n",
       "        -0.0594683 , -0.27423762, -0.29579642, -0.3480712 , -0.24094851,\n",
       "        -0.18367987, -0.08617869, -0.00923814,  0.30990622,  0.41162871,\n",
       "         0.30225478,  0.17109419,  0.16581437,  0.04902035,  0.19723943,\n",
       "        -0.22293888, -0.51800652, -0.55491578, -1.10994038, -1.25106351,\n",
       "        -1.72809718, -1.89218621, -2.18340672, -2.05971242, -2.21768081,\n",
       "        -2.06484325, -1.87984937, -1.74726012, -1.33857069, -0.92752767,\n",
       "        -0.61079355, -0.16024492,  0.35194231,  0.82486234,  1.3810649 ,\n",
       "         1.60586457,  1.68861199,  2.10308711,  1.97701371,  2.09082596,\n",
       "         1.84289397,  1.84367432,  1.74496116,  1.39666587,  0.91605721,\n",
       "         0.62530844,  0.33274911,  0.20359119, -0.07511581, -0.11936748,\n",
       "        -0.26246892, -0.28435906, -0.34620711, -0.03061876, -0.1406783 ,\n",
       "        -0.03685097,  0.10801755,  0.33418663,  0.44259413,  0.24179369,\n",
       "         0.22084662,  0.20537958,  0.30505053, -0.09371494, -0.27515478,\n",
       "        -0.667647  , -1.06406374, -1.42038555, -1.48186168, -1.91358746,\n",
       "        -2.20978372, -1.93524985, -2.26762794, -2.13262893, -1.96212865,\n",
       "        -1.78343543, -1.3786415 , -0.8115561 , -0.59464304,  0.01109607,\n",
       "         0.41701343,  0.85195389,  1.43280388,  1.47215073,  1.88661231,\n",
       "         2.16242942,  2.09848111,  1.88736369,  2.08777827,  1.8042323 ,\n",
       "         1.5837091 ,  1.45541237,  0.93398705,  0.60586404,  0.36111367,\n",
       "         0.17809657, -0.06190572, -0.17900812, -0.21156773, -0.31331159,\n",
       "        -0.2179541 , -0.2390102 ,  0.00422205, -0.18688507,  0.20477546,\n",
       "         0.32834801,  0.07015197,  0.41646459,  0.35568651,  0.32258833,\n",
       "         0.20416686, -0.35517548, -0.30912913, -0.70107753, -0.96329119,\n",
       "        -1.31283768, -1.64024986, -1.89526039, -2.04022254, -2.08238228,\n",
       "        -2.30246982, -2.07658271, -1.88798882, -1.71672193, -1.18917074,\n",
       "        -0.99640838, -0.61047031, -0.10745649,  0.30797732,  0.93939445,\n",
       "         1.18177724,  1.53617361,  1.84183627,  2.19362628,  2.03204686,\n",
       "         1.84162439,  1.98554504,  1.6787675 ,  1.57987642,  1.3190072 ,\n",
       "         1.06409558,  0.80325029,  0.61234048,  0.1689581 , -0.10432212]),\n",
       " 'item_id': 0}"
      ]
     },
     "execution_count": 39,
     "metadata": {},
     "output_type": "execute_result"
    }
   ],
   "source": [
    "next(iter(ds))"
   ]
  },
  {
   "cell_type": "markdown",
   "metadata": {},
   "source": [
    "#### Loading data from a wide dataframe"
   ]
  },
  {
   "cell_type": "code",
   "execution_count": 18,
   "metadata": {},
   "outputs": [
    {
     "name": "stdout",
     "output_type": "stream",
     "text": [
      "                          A       B       C       D       E       F       G  \\\n",
      "2021-01-01 00:00:00 -1.3378  0.1268 -0.3645 -1.0864 -2.3803 -0.2447  2.2647   \n",
      "2021-01-01 01:00:00 -1.6111  0.0926 -0.1364 -1.1613 -2.1421 -0.3477  2.4262   \n",
      "2021-01-01 02:00:00 -1.9259 -0.1420  0.1063 -1.0405 -2.1426 -0.3271  2.4434   \n",
      "2021-01-01 03:00:00 -1.9184 -0.4930  0.6269 -0.8531 -1.7060 -0.3088  2.4307   \n",
      "2021-01-01 04:00:00 -1.9168 -0.5057  0.9419 -0.7666 -1.4287 -0.4284  2.3258   \n",
      "\n",
      "                          H       I       J  \n",
      "2021-01-01 00:00:00 -0.7917  0.7071  1.3763  \n",
      "2021-01-01 01:00:00 -0.9609  0.6413  1.2750  \n",
      "2021-01-01 02:00:00 -0.9034  0.4323  0.6767  \n",
      "2021-01-01 03:00:00 -0.9602  0.3193  0.5150  \n",
      "2021-01-01 04:00:00 -1.2504  0.3660  0.1708  \n"
     ]
    }
   ],
   "source": [
    "url_wide = (\n",
    "    \"https://gist.githubusercontent.com/rsnirwan/c8c8654a98350fadd229b00167174ec4\"\n",
    "    \"/raw/a42101c7786d4bc7695228a0f2c8cea41340e18f/ts_wide.csv\"\n",
    ")\n",
    "df_wide = pd.read_csv(url_wide, index_col=0, parse_dates=True)\n",
    "print(df_wide.head())"
   ]
  },
  {
   "cell_type": "code",
   "execution_count": 19,
   "metadata": {},
   "outputs": [],
   "source": [
    "ds = PandasDataset(dict(df_wide))"
   ]
  },
  {
   "cell_type": "code",
   "execution_count": 24,
   "metadata": {},
   "outputs": [
    {
     "data": {
      "text/plain": [
       "{'start': Period('2021-01-01 00:00', 'H'),\n",
       " 'target': array([-1.3378e+00, -1.6111e+00, -1.9259e+00, -1.9184e+00, -1.9168e+00,\n",
       "        -1.9681e+00, -1.7846e+00, -1.5927e+00, -1.2477e+00, -9.5600e-01,\n",
       "        -5.3710e-01, -6.3500e-02,  2.4840e-01,  6.2010e-01,  5.0230e-01,\n",
       "         1.0044e+00,  8.5350e-01,  8.1800e-01,  8.1540e-01,  7.0800e-01,\n",
       "         6.3530e-01,  2.3250e-01, -4.4800e-02, -2.5390e-01, -5.3010e-01,\n",
       "        -5.6040e-01, -8.3440e-01, -5.7200e-01, -5.6040e-01, -4.8820e-01,\n",
       "        -2.4090e-01,  5.6700e-02,  3.9530e-01,  7.2090e-01,  9.3600e-01,\n",
       "         1.1985e+00,  1.4179e+00,  1.6294e+00,  1.6792e+00,  1.5665e+00,\n",
       "         1.4542e+00,  1.3784e+00,  1.0784e+00,  7.0940e-01,  3.7570e-01,\n",
       "         1.0000e-01, -3.8050e-01, -9.3510e-01, -1.2102e+00, -1.5725e+00,\n",
       "        -1.6813e+00, -1.8947e+00, -2.0547e+00, -1.7722e+00, -1.7434e+00,\n",
       "        -1.5327e+00, -1.2614e+00, -8.9450e-01, -3.9980e-01, -9.3100e-02,\n",
       "         1.5230e-01,  6.5690e-01,  7.8350e-01,  1.0239e+00,  9.2650e-01,\n",
       "         8.5530e-01,  8.3110e-01,  5.8270e-01,  2.3380e-01,  3.6780e-01,\n",
       "        -3.0000e-04, -2.3180e-01, -5.3310e-01, -5.1750e-01, -7.5910e-01,\n",
       "        -5.8570e-01, -7.1520e-01, -4.7390e-01, -1.9190e-01,  6.7700e-02,\n",
       "         3.0110e-01,  3.8140e-01,  1.0736e+00,  1.0480e+00,  1.5624e+00,\n",
       "         1.5342e+00,  1.6400e+00,  1.9690e+00,  1.6931e+00,  1.6014e+00,\n",
       "         1.1250e+00,  8.8650e-01,  3.8460e-01,  7.4200e-02, -4.3930e-01,\n",
       "        -7.1180e-01, -1.2834e+00, -1.3660e+00, -1.8014e+00, -1.8125e+00,\n",
       "        -2.0720e+00, -1.7771e+00, -1.6715e+00, -1.3671e+00, -1.1766e+00,\n",
       "        -7.2950e-01, -4.9870e-01, -2.2920e-01,  1.9330e-01,  4.6630e-01,\n",
       "         5.6590e-01,  7.1240e-01,  8.2800e-01,  9.0770e-01,  7.6100e-01,\n",
       "         7.1670e-01,  4.8430e-01,  2.1860e-01,  5.5800e-02, -1.7420e-01,\n",
       "        -4.8460e-01, -6.8600e-01, -7.6240e-01, -6.6450e-01, -4.3880e-01,\n",
       "        -3.7410e-01, -3.1860e-01,  2.7700e-02,  2.4120e-01,  5.0370e-01,\n",
       "         9.7740e-01,  1.1316e+00,  1.4632e+00,  1.5141e+00,  1.5481e+00,\n",
       "         1.6766e+00,  1.6539e+00,  1.3527e+00,  1.0780e+00,  7.5920e-01,\n",
       "         3.5090e-01,  5.3400e-02, -4.2560e-01, -8.4680e-01, -1.4270e+00,\n",
       "        -1.4515e+00, -1.6629e+00, -1.9128e+00, -2.0464e+00, -1.7418e+00,\n",
       "        -1.7011e+00, -1.4619e+00, -1.1527e+00, -8.7580e-01, -4.1150e-01,\n",
       "        -2.3890e-01,  2.9220e-01,  5.6420e-01,  5.8850e-01,  8.0700e-01,\n",
       "         8.5850e-01,  8.0560e-01,  8.0290e-01,  4.3370e-01,  2.5960e-01,\n",
       "         1.2200e-02,  5.2000e-03, -4.7270e-01, -5.5110e-01, -5.9320e-01,\n",
       "        -7.5050e-01, -4.9780e-01, -5.0510e-01, -3.7530e-01, -2.4400e-01,\n",
       "         9.5000e-03,  3.6920e-01,  7.8070e-01,  1.0135e+00,  1.1805e+00,\n",
       "         1.5927e+00,  1.6855e+00,  1.8593e+00,  1.6850e+00,  1.5527e+00,\n",
       "         1.3677e+00,  1.1558e+00,  8.1580e-01,  3.2670e-01,  1.8220e-01,\n",
       "        -4.2700e-01, -8.9170e-01, -1.3495e+00, -1.6403e+00, -1.8952e+00,\n",
       "        -1.9084e+00, -1.8111e+00, -1.7865e+00, -1.7594e+00, -1.2197e+00,\n",
       "        -1.3027e+00, -1.0029e+00, -5.5410e-01,  3.7000e-02,  1.8420e-01,\n",
       "         4.0910e-01,  5.9880e-01,  9.4570e-01,  1.0123e+00,  8.8280e-01,\n",
       "         1.0167e+00,  6.3060e-01,  3.6710e-01,  2.4540e-01,  1.8100e-02,\n",
       "        -3.4640e-01, -6.1850e-01, -7.7420e-01, -5.4660e-01, -5.4860e-01,\n",
       "        -8.0540e-01, -2.8900e-01, -3.2670e-01,  1.0670e-01,  2.9480e-01,\n",
       "         6.1680e-01,  1.0536e+00,  1.2386e+00,  1.5251e+00,  1.5295e+00,\n",
       "         1.8007e+00,  1.7723e+00,  1.6541e+00,  1.3049e+00,  1.0579e+00,\n",
       "         7.3280e-01,  4.9570e-01, -1.2090e-01, -5.0720e-01, -6.6610e-01]),\n",
       " 'item_id': 'A'}"
      ]
     },
     "execution_count": 24,
     "metadata": {},
     "output_type": "execute_result"
    }
   ],
   "source": [
    "next(iter(ds))"
   ]
  },
  {
   "cell_type": "markdown",
   "metadata": {},
   "source": [
    "#### Case study"
   ]
  },
  {
   "cell_type": "code",
   "execution_count": 25,
   "metadata": {},
   "outputs": [],
   "source": [
    "def generate_single_ts(date_range, item_id=None) -> pd.DataFrame:\n",
    "    \"\"\"create sum of `n_f` sin/cos curves with random scale and phase.\"\"\"\n",
    "    n_f = 2\n",
    "    period = np.array([24 / (i + 1) for i in range(n_f)]).reshape(1, n_f)\n",
    "    scale = np.random.normal(1, 0.3, size=(1, n_f))\n",
    "    phase = 2 * np.pi * np.random.uniform(size=(1, n_f))\n",
    "    periodic_f = lambda x: scale * np.sin(np.pi * x / period + phase)\n",
    "\n",
    "    t = np.arange(0, len(date_range)).reshape(-1, 1)\n",
    "    target = periodic_f(t).sum(axis=1) + np.random.normal(0, 0.1, size=len(t))\n",
    "    ts = pd.DataFrame({\"target\": target}, index=date_range)\n",
    "    if item_id is not None:\n",
    "        ts[\"item_id\"] = item_id\n",
    "    return ts"
   ]
  },
  {
   "cell_type": "code",
   "execution_count": 26,
   "metadata": {},
   "outputs": [
    {
     "name": "stdout",
     "output_type": "stream",
     "text": [
      "ts.shape: (240, 1)\n",
      "                       target\n",
      "2021-01-01 00:00:00  1.278172\n",
      "2021-01-01 01:00:00  0.762310\n",
      "2021-01-01 02:00:00  0.675674\n",
      "2021-01-01 03:00:00  0.092758\n",
      "2021-01-01 04:00:00 -0.197934\n"
     ]
    },
    {
     "data": {
      "text/plain": [
       "<Axes: >"
      ]
     },
     "execution_count": 26,
     "metadata": {},
     "output_type": "execute_result"
    },
    {
     "data": {
      "image/png": "[encoded data removed]",
      "text/plain": [
       "<Figure size 1000x500 with 1 Axes>"
      ]
     },
     "metadata": {},
     "output_type": "display_data"
    }
   ],
   "source": [
    "prediction_length, freq = 24, \"1H\"\n",
    "T = 10 * prediction_length\n",
    "date_range = pd.date_range(\"2021-01-01\", periods=T, freq=freq)\n",
    "ts = generate_single_ts(date_range)\n",
    "\n",
    "print(\"ts.shape:\", ts.shape)\n",
    "print(ts.head())\n",
    "ts.loc[:, \"target\"].plot(figsize=(10, 5))"
   ]
  },
  {
   "cell_type": "code",
   "execution_count": 27,
   "metadata": {},
   "outputs": [],
   "source": [
    "from gluonts.mx import DeepAREstimator, Trainer\n",
    "from gluonts.evaluation import make_evaluation_predictions, Evaluator\n",
    "\n",
    "\n",
    "def train_and_predict(dataset, estimator):\n",
    "    predictor = estimator.train(dataset)\n",
    "    forecast_it, ts_it = make_evaluation_predictions(\n",
    "        dataset=dataset, predictor=predictor\n",
    "    )\n",
    "    evaluator = Evaluator(quantiles=(np.arange(20) / 20.0)[1:])\n",
    "    agg_metrics, item_metrics = evaluator(ts_it, forecast_it, num_series=len(dataset))\n",
    "    return agg_metrics[\"MSE\"]\n",
    "\n",
    "\n",
    "estimator = DeepAREstimator(\n",
    "    freq=freq, prediction_length=prediction_length, trainer=Trainer(epochs=1)\n",
    ")"
   ]
  },
  {
   "cell_type": "code",
   "execution_count": 28,
   "metadata": {},
   "outputs": [
    {
     "name": "stderr",
     "output_type": "stream",
     "text": [
      "100%|██████████| 50/50 [00:05<00:00,  9.83it/s, epoch=1/1, avg_epoch_loss=0.469]\n",
      "Running evaluation: 100%|██████████| 1/1 [00:00<00:00,  2.09it/s]\n"
     ]
    },
    {
     "data": {
      "text/plain": [
       "0.04026231383406756"
      ]
     },
     "execution_count": 28,
     "metadata": {},
     "output_type": "execute_result"
    }
   ],
   "source": [
    "ds = PandasDataset(ts, target=\"target\", freq=freq)\n",
    "train_and_predict(ds, estimator)"
   ]
  },
  {
   "cell_type": "markdown",
   "metadata": {},
   "source": [
    "#### Multiple time series"
   ]
  },
  {
   "cell_type": "code",
   "execution_count": 36,
   "metadata": {},
   "outputs": [
    {
     "name": "stderr",
     "output_type": "stream",
     "text": [
      "100%|██████████| 50/50 [00:05<00:00,  9.74it/s, epoch=1/1, avg_epoch_loss=0.559]\n",
      "Running evaluation: 100%|██████████| 10/10 [00:00<00:00, 16.20it/s]\n"
     ]
    },
    {
     "data": {
      "text/plain": [
       "0.0507827239885144"
      ]
     },
     "execution_count": 36,
     "metadata": {},
     "output_type": "execute_result"
    }
   ],
   "source": [
    "N = 10\n",
    "multiple_ts = [generate_single_ts(date_range) for i in range(N)]\n",
    "\n",
    "ds = PandasDataset(multiple_ts, target=\"target\", freq=freq)\n",
    "train_and_predict(ds, estimator)"
   ]
  },
  {
   "cell_type": "markdown",
   "metadata": {},
   "source": [
    "##### If the data is in long format"
   ]
  },
  {
   "cell_type": "code",
   "execution_count": 37,
   "metadata": {},
   "outputs": [
    {
     "name": "stderr",
     "output_type": "stream",
     "text": [
      "100%|██████████| 50/50 [00:04<00:00, 10.21it/s, epoch=1/1, avg_epoch_loss=0.548]\n",
      "Running evaluation: 100%|██████████| 10/10 [00:00<00:00, 17.54it/s]\n"
     ]
    },
    {
     "data": {
      "text/plain": [
       "0.042260637834243386"
      ]
     },
     "execution_count": 37,
     "metadata": {},
     "output_type": "execute_result"
    }
   ],
   "source": [
    "ts_in_long_format = pd.concat(\n",
    "    [generate_single_ts(date_range, item_id=i) for i in range(N)]\n",
    ")\n",
    "\n",
    "# Note we need an item_id column now and provide its name to the constructor.\n",
    "# Otherwise, there is no way to distinguish different time series.\n",
    "ds = PandasDataset.from_long_dataframe(\n",
    "    ts_in_long_format, item_id=\"item_id\", target=\"target\", freq=freq\n",
    ")\n",
    "train_and_predict(ds, estimator)"
   ]
  },
  {
   "cell_type": "markdown",
   "metadata": {},
   "source": [
    "#### Include static and dynamic features"
   ]
  },
  {
   "cell_type": "code",
   "execution_count": 29,
   "metadata": {},
   "outputs": [
    {
     "data": {
      "text/html": [
       "<div>\n",
       "<style scoped>\n",
       "    .dataframe tbody tr th:only-of-type {\n",
       "        vertical-align: middle;\n",
       "    }\n",
       "\n",
       "    .dataframe tbody tr th {\n",
       "        vertical-align: top;\n",
       "    }\n",
       "\n",
       "    .dataframe thead th {\n",
       "        text-align: right;\n",
       "    }\n",
       "</style>\n",
       "<table border=\"1\" class=\"dataframe\">\n",
       "  <thead>\n",
       "    <tr style=\"text-align: right;\">\n",
       "      <th></th>\n",
       "      <th>target</th>\n",
       "      <th>item_id</th>\n",
       "      <th>dynamic_real_1</th>\n",
       "      <th>dynamic_real_2</th>\n",
       "    </tr>\n",
       "  </thead>\n",
       "  <tbody>\n",
       "    <tr>\n",
       "      <th>2021-01-01 00:00:00</th>\n",
       "      <td>-0.096223</td>\n",
       "      <td>0</td>\n",
       "      <td>0.840660</td>\n",
       "      <td>-1.746467</td>\n",
       "    </tr>\n",
       "    <tr>\n",
       "      <th>2021-01-01 01:00:00</th>\n",
       "      <td>-0.009629</td>\n",
       "      <td>0</td>\n",
       "      <td>-0.843931</td>\n",
       "      <td>0.691808</td>\n",
       "    </tr>\n",
       "    <tr>\n",
       "      <th>2021-01-01 02:00:00</th>\n",
       "      <td>0.252644</td>\n",
       "      <td>0</td>\n",
       "      <td>0.172577</td>\n",
       "      <td>-0.708763</td>\n",
       "    </tr>\n",
       "    <tr>\n",
       "      <th>2021-01-01 03:00:00</th>\n",
       "      <td>0.481907</td>\n",
       "      <td>0</td>\n",
       "      <td>-0.467744</td>\n",
       "      <td>0.179864</td>\n",
       "    </tr>\n",
       "    <tr>\n",
       "      <th>2021-01-01 04:00:00</th>\n",
       "      <td>0.719753</td>\n",
       "      <td>0</td>\n",
       "      <td>-0.877961</td>\n",
       "      <td>0.435121</td>\n",
       "    </tr>\n",
       "  </tbody>\n",
       "</table>\n",
       "</div>"
      ],
      "text/plain": [
       "                       target  item_id  dynamic_real_1  dynamic_real_2\n",
       "2021-01-01 00:00:00 -0.096223        0        0.840660       -1.746467\n",
       "2021-01-01 01:00:00 -0.009629        0       -0.843931        0.691808\n",
       "2021-01-01 02:00:00  0.252644        0        0.172577       -0.708763\n",
       "2021-01-01 03:00:00  0.481907        0       -0.467744        0.179864\n",
       "2021-01-01 04:00:00  0.719753        0       -0.877961        0.435121"
      ]
     },
     "execution_count": 29,
     "metadata": {},
     "output_type": "execute_result"
    }
   ],
   "source": [
    "def generate_single_ts_with_features(date_range, item_id) -> pd.DataFrame:\n",
    "    ts = generate_single_ts(date_range, item_id)\n",
    "    T = ts.shape[0]\n",
    "    # static features are constant for each series\n",
    "    ts[\"dynamic_real_1\"] = np.random.normal(size=T)\n",
    "    ts[\"dynamic_real_2\"] = np.random.normal(size=T)\n",
    "    # ... we can have as many static or dynamic features as we like\n",
    "    return ts\n",
    "\n",
    "\n",
    "ts = generate_single_ts_with_features(date_range, item_id=0)\n",
    "ts.head()"
   ]
  },
  {
   "cell_type": "code",
   "execution_count": 30,
   "metadata": {},
   "outputs": [],
   "source": [
    "estimator_with_features = DeepAREstimator(\n",
    "    freq=ds.freq,\n",
    "    prediction_length=prediction_length,\n",
    "    use_feat_dynamic_real=True,\n",
    "    use_feat_static_real=True,\n",
    "    use_feat_static_cat=True,\n",
    "    cardinality=[\n",
    "        3,\n",
    "    ],\n",
    "    trainer=Trainer(epochs=1),\n",
    ")"
   ]
  },
  {
   "cell_type": "code",
   "execution_count": 49,
   "metadata": {},
   "outputs": [],
   "source": [
    "N = 10\n",
    "\n",
    "multiple_ts = {\n",
    "    i: generate_single_ts_with_features(date_range, item_id=i) for i in range(N)\n",
    "}\n",
    "static_features = pd.DataFrame(\n",
    "    {\n",
    "        \"color\": pd.Categorical(np.random.choice([\"red\", \"green\", \"blue\"], size=N)),\n",
    "        \"height\": np.random.normal(loc=100, scale=15, size=N),\n",
    "    },\n",
    "    index=list(multiple_ts.keys()),\n",
    ")\n",
    "multiple_ts_long = pd.concat(multiple_ts.values())\n",
    "\n",
    "multiple_ts_dataset = PandasDataset(\n",
    "    multiple_ts,\n",
    "    feat_dynamic_real=[\"dynamic_real_1\", \"dynamic_real_2\"],\n",
    "    static_features=static_features,\n",
    ")\n",
    "# for long-dataset we use a different constructor and need a `item_id` column\n",
    "multiple_ts_long_dataset = PandasDataset.from_long_dataframe(\n",
    "    multiple_ts_long,\n",
    "    item_id=\"item_id\",\n",
    "    feat_dynamic_real=[\"dynamic_real_1\", \"dynamic_real_2\"],\n",
    "    static_features=static_features,\n",
    ")"
   ]
  },
  {
   "cell_type": "code",
   "execution_count": 50,
   "metadata": {},
   "outputs": [
    {
     "name": "stderr",
     "output_type": "stream",
     "text": [
      "  0%|          | 0/50 [00:00<?, ?it/s]"
     ]
    },
    {
     "name": "stderr",
     "output_type": "stream",
     "text": [
      "100%|██████████| 50/50 [00:04<00:00, 11.70it/s, epoch=1/1, avg_epoch_loss=1.45]\n",
      "Running evaluation: 100%|██████████| 10/10 [00:00<00:00, 22.18it/s]\n"
     ]
    },
    {
     "data": {
      "text/plain": [
       "0.47118815170323386"
      ]
     },
     "execution_count": 50,
     "metadata": {},
     "output_type": "execute_result"
    }
   ],
   "source": [
    "train_and_predict(multiple_ts_dataset, estimator_with_features)"
   ]
  },
  {
   "cell_type": "markdown",
   "metadata": {},
   "source": [
    "#### Use train/test split"
   ]
  },
  {
   "cell_type": "code",
   "execution_count": 52,
   "metadata": {},
   "outputs": [
    {
     "data": {
      "text/plain": [
       "dict_items"
      ]
     },
     "execution_count": 52,
     "metadata": {},
     "output_type": "execute_result"
    }
   ],
   "source": [
    "type(multiple_ts.items())"
   ]
  },
  {
   "cell_type": "code",
   "execution_count": 54,
   "metadata": {},
   "outputs": [
    {
     "data": {
      "text/plain": [
       "{0:                        target  item_id  dynamic_real_1  dynamic_real_2\n",
       " 2021-01-01 00:00:00 -0.398413        0        0.566860       -0.321943\n",
       " 2021-01-01 01:00:00 -0.500893        0       -1.035597        0.087413\n",
       " 2021-01-01 02:00:00 -0.403064        0        0.545287       -0.301794\n",
       " 2021-01-01 03:00:00 -0.260843        0       -0.850310       -0.571536\n",
       " 2021-01-01 04:00:00  0.122534        0       -0.254598        0.829014\n",
       " ...                       ...      ...             ...             ...\n",
       " 2021-01-10 19:00:00 -0.349312        0        1.367338       -1.166731\n",
       " 2021-01-10 20:00:00 -0.440241        0       -0.981674       -0.041918\n",
       " 2021-01-10 21:00:00 -0.420551        0        0.459643       -1.767719\n",
       " 2021-01-10 22:00:00 -0.312475        0       -0.159673       -0.684692\n",
       " 2021-01-10 23:00:00 -0.578216        0       -0.402539       -1.130743\n",
       " \n",
       " [240 rows x 4 columns],\n",
       " 1:                        target  item_id  dynamic_real_1  dynamic_real_2\n",
       " 2021-01-01 00:00:00 -1.559612        1       -2.295095       -0.764030\n",
       " 2021-01-01 01:00:00 -1.502288        1       -0.242604        0.578268\n",
       " 2021-01-01 02:00:00 -1.387672        1       -0.573870       -0.868196\n",
       " 2021-01-01 03:00:00 -1.405151        1       -1.165410        1.808967\n",
       " 2021-01-01 04:00:00 -1.156656        1        0.059993       -1.842050\n",
       " ...                       ...      ...             ...             ...\n",
       " 2021-01-10 19:00:00 -0.429135        1        0.271063        0.242265\n",
       " 2021-01-10 20:00:00 -1.018871        1        1.221786        1.698142\n",
       " 2021-01-10 21:00:00 -1.265435        1        0.185710       -0.475172\n",
       " 2021-01-10 22:00:00 -1.227268        1        0.700685        1.319475\n",
       " 2021-01-10 23:00:00 -1.598283        1       -0.682411       -0.697979\n",
       " \n",
       " [240 rows x 4 columns],\n",
       " 2:                        target  item_id  dynamic_real_1  dynamic_real_2\n",
       " 2021-01-01 00:00:00  1.186449        2        1.227857        1.182228\n",
       " 2021-01-01 01:00:00  1.265131        2        1.315645       -0.659984\n",
       " 2021-01-01 02:00:00  1.316831        2        0.004705       -0.138897\n",
       " 2021-01-01 03:00:00  1.330442        2        0.145876        0.111507\n",
       " 2021-01-01 04:00:00  1.208899        2       -0.227467       -0.310344\n",
       " ...                       ...      ...             ...             ...\n",
       " 2021-01-10 19:00:00  0.513256        2       -0.247675        0.396628\n",
       " 2021-01-10 20:00:00  0.757301        2        0.114020       -2.745110\n",
       " 2021-01-10 21:00:00  0.936667        2       -0.418942       -1.015358\n",
       " 2021-01-10 22:00:00  1.183794        2        1.471323       -3.141046\n",
       " 2021-01-10 23:00:00  1.212465        2       -0.049674        0.158778\n",
       " \n",
       " [240 rows x 4 columns],\n",
       " 3:                        target  item_id  dynamic_real_1  dynamic_real_2\n",
       " 2021-01-01 00:00:00  0.884037        3        2.641595        1.844725\n",
       " 2021-01-01 01:00:00  0.708076        3        0.268597       -0.707665\n",
       " 2021-01-01 02:00:00  0.953466        3       -0.499168       -1.108914\n",
       " 2021-01-01 03:00:00  1.118588        3        0.086075       -1.570504\n",
       " 2021-01-01 04:00:00  1.196929        3        0.702246        1.664120\n",
       " ...                       ...      ...             ...             ...\n",
       " 2021-01-10 19:00:00 -0.009204        3       -0.397727        0.830859\n",
       " 2021-01-10 20:00:00  0.220238        3        0.253441        1.472106\n",
       " 2021-01-10 21:00:00  0.246950        3       -0.876013        1.371283\n",
       " 2021-01-10 22:00:00  0.310536        3       -0.076104        1.124854\n",
       " 2021-01-10 23:00:00  0.535904        3       -1.678785       -1.052781\n",
       " \n",
       " [240 rows x 4 columns],\n",
       " 4:                        target  item_id  dynamic_real_1  dynamic_real_2\n",
       " 2021-01-01 00:00:00  1.542925        4       -0.380661       -1.297216\n",
       " 2021-01-01 01:00:00  1.053096        4        0.470472        0.668618\n",
       " 2021-01-01 02:00:00  1.132894        4        1.219538        0.737935\n",
       " 2021-01-01 03:00:00  0.817520        4        2.494496        1.391140\n",
       " 2021-01-01 04:00:00  0.247916        4       -1.458262        0.252988\n",
       " ...                       ...      ...             ...             ...\n",
       " 2021-01-10 19:00:00  1.465536        4        0.935318        0.229229\n",
       " 2021-01-10 20:00:00  1.571965        4        1.183457        0.357937\n",
       " 2021-01-10 21:00:00  1.763603        4        0.179358        1.451114\n",
       " 2021-01-10 22:00:00  1.902201        4        0.210376       -0.465208\n",
       " 2021-01-10 23:00:00  1.605049        4        0.054553       -0.124127\n",
       " \n",
       " [240 rows x 4 columns],\n",
       " 5:                        target  item_id  dynamic_real_1  dynamic_real_2\n",
       " 2021-01-01 00:00:00 -0.588502        5       -0.197368       -0.978224\n",
       " 2021-01-01 01:00:00 -0.656157        5       -0.846781       -0.584437\n",
       " 2021-01-01 02:00:00 -0.246074        5        2.084828       -0.331539\n",
       " 2021-01-01 03:00:00 -0.072886        5        0.943412       -0.221040\n",
       " 2021-01-01 04:00:00  0.383065        5       -1.955826       -0.284876\n",
       " ...                       ...      ...             ...             ...\n",
       " 2021-01-10 19:00:00 -0.771887        5       -1.331588       -1.029816\n",
       " 2021-01-10 20:00:00 -0.859317        5        0.689741       -1.312724\n",
       " 2021-01-10 21:00:00 -1.118945        5        0.775823        0.403834\n",
       " 2021-01-10 22:00:00 -1.086860        5       -0.577275       -1.599314\n",
       " 2021-01-10 23:00:00 -0.841118        5        0.264322        0.340394\n",
       " \n",
       " [240 rows x 4 columns],\n",
       " 6:                        target  item_id  dynamic_real_1  dynamic_real_2\n",
       " 2021-01-01 00:00:00 -2.502124        6        1.077450       -2.141979\n",
       " 2021-01-01 01:00:00 -2.697761        6       -0.268355       -1.179402\n",
       " 2021-01-01 02:00:00 -2.754368        6        2.616245       -1.680940\n",
       " 2021-01-01 03:00:00 -2.491458        6       -0.504307        1.579071\n",
       " 2021-01-01 04:00:00 -1.881952        6        1.840516        0.186217\n",
       " ...                       ...      ...             ...             ...\n",
       " 2021-01-10 19:00:00 -0.813987        6        2.978944        1.457593\n",
       " 2021-01-10 20:00:00 -1.393042        6       -0.174832       -0.214828\n",
       " 2021-01-10 21:00:00 -2.050099        6        0.498977        1.187159\n",
       " 2021-01-10 22:00:00 -2.339717        6       -2.428832       -0.266283\n",
       " 2021-01-10 23:00:00 -2.578971        6       -0.066411        0.228805\n",
       " \n",
       " [240 rows x 4 columns],\n",
       " 7:                        target  item_id  dynamic_real_1  dynamic_real_2\n",
       " 2021-01-01 00:00:00 -0.444776        7        0.871455       -0.856888\n",
       " 2021-01-01 01:00:00  0.058569        7       -0.227199        0.333966\n",
       " 2021-01-01 02:00:00  0.492809        7        2.105406       -1.173179\n",
       " 2021-01-01 03:00:00  0.640827        7       -1.583075        1.741973\n",
       " 2021-01-01 04:00:00  0.696104        7        0.375887        0.569811\n",
       " ...                       ...      ...             ...             ...\n",
       " 2021-01-10 19:00:00 -1.661656        7       -0.046751        0.681521\n",
       " 2021-01-10 20:00:00 -1.471752        7       -0.403378        1.863761\n",
       " 2021-01-10 21:00:00 -1.245427        7       -0.422575       -1.160739\n",
       " 2021-01-10 22:00:00 -1.178498        7       -0.186529        0.099828\n",
       " 2021-01-10 23:00:00 -0.809330        7       -0.404189        1.681785\n",
       " \n",
       " [240 rows x 4 columns],\n",
       " 8:                        target  item_id  dynamic_real_1  dynamic_real_2\n",
       " 2021-01-01 00:00:00  0.563836        8       -0.198758       -0.517988\n",
       " 2021-01-01 01:00:00  0.839181        8        0.716222        0.372991\n",
       " 2021-01-01 02:00:00  0.645310        8        0.894475       -1.316500\n",
       " 2021-01-01 03:00:00  0.834048        8       -0.989853       -0.449974\n",
       " 2021-01-01 04:00:00  0.997858        8        1.823155       -1.589392\n",
       " ...                       ...      ...             ...             ...\n",
       " 2021-01-10 19:00:00 -1.099465        8       -1.104193       -1.278855\n",
       " 2021-01-10 20:00:00 -0.728165        8       -0.173243        0.162812\n",
       " 2021-01-10 21:00:00 -0.279757        8       -1.129624       -0.802161\n",
       " 2021-01-10 22:00:00  0.084827        8       -0.327095        0.338165\n",
       " 2021-01-10 23:00:00  0.383439        8        0.162485        0.068663\n",
       " \n",
       " [240 rows x 4 columns],\n",
       " 9:                        target  item_id  dynamic_real_1  dynamic_real_2\n",
       " 2021-01-01 00:00:00  0.022172        9        0.161812        2.386148\n",
       " 2021-01-01 01:00:00  0.078865        9       -0.080956        1.161576\n",
       " 2021-01-01 02:00:00  0.056229        9       -1.223825       -0.579844\n",
       " 2021-01-01 03:00:00 -0.069009        9       -0.180584        0.901662\n",
       " 2021-01-01 04:00:00 -0.086322        9        0.630177       -0.873908\n",
       " ...                       ...      ...             ...             ...\n",
       " 2021-01-10 19:00:00  0.273945        9       -1.337684       -1.111236\n",
       " 2021-01-10 20:00:00  0.580608        9       -0.253815       -0.758513\n",
       " 2021-01-10 21:00:00  0.479094        9       -1.324737       -1.004657\n",
       " 2021-01-10 22:00:00  0.403991        9       -2.162721        0.339655\n",
       " 2021-01-10 23:00:00  0.259256        9        0.183235        0.578975\n",
       " \n",
       " [240 rows x 4 columns]}"
      ]
     },
     "execution_count": 54,
     "metadata": {},
     "output_type": "execute_result"
    }
   ],
   "source": [
    "multiple_ts"
   ]
  },
  {
   "cell_type": "code",
   "execution_count": 53,
   "metadata": {},
   "outputs": [],
   "source": [
    "train = PandasDataset(\n",
    "    {item_id: df[:-prediction_length] for item_id, df in multiple_ts.items()},\n",
    "    feat_dynamic_real=[\"dynamic_real_1\", \"dynamic_real_2\"],\n",
    "    static_features=static_features,\n",
    ")\n",
    "\n",
    "test = PandasDataset(\n",
    "    multiple_ts,\n",
    "    feat_dynamic_real=[\"dynamic_real_1\", \"dynamic_real_2\"],\n",
    "    static_features=static_features,\n",
    ")"
   ]
  },
  {
   "cell_type": "code",
   "execution_count": 35,
   "metadata": {},
   "outputs": [
    {
     "name": "stderr",
     "output_type": "stream",
     "text": [
      "100%|██████████| 50/50 [00:06<00:00,  7.44it/s, epoch=1/1, avg_epoch_loss=1.56]\n",
      "Running evaluation: 100%|██████████| 10/10 [00:00<00:00, 17.42it/s]\n"
     ]
    }
   ],
   "source": [
    "predictor = estimator_with_features.train(train)\n",
    "forecast_it, ts_it = make_evaluation_predictions(dataset=test, predictor=predictor)\n",
    "evaluator = Evaluator(quantiles=(np.arange(20) / 20.0)[1:])\n",
    "agg_metrics, item_metrics = evaluator(ts_it, forecast_it, num_series=len(test))"
   ]
  },
  {
   "cell_type": "code",
   "execution_count": null,
   "metadata": {},
   "outputs": [],
   "source": []
  }
 ],
 "metadata": {
  "kernelspec": {
   "display_name": "Python 3",
   "language": "python",
   "name": "python3"
  },
  "language_info": {
   "codemirror_mode": {
    "name": "ipython",
    "version": 3
   },
   "file_extension": ".py",
   "mimetype": "text/x-python",
   "name": "python",
   "nbconvert_exporter": "python",
   "pygments_lexer": "ipython3",
   "version": "3.10.10"
  },
  "orig_nbformat": 4
 },
 "nbformat": 4,
 "nbformat_minor": 2
}
