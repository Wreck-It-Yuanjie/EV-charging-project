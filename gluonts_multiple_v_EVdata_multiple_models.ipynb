{
 "cells": [
  {
   "cell_type": "code",
   "execution_count": 2,
   "metadata": {},
   "outputs": [],
   "source": [
    "%matplotlib inline\n",
    "import numpy as np\n",
    "import pandas as pd\n",
    "import matplotlib.pyplot as plt\n",
    "import json\n",
    "import math\n",
    "from gluonts.dataset.repository import get_dataset, dataset_names\n",
    "from gluonts.dataset.util import to_pandas\n",
    "from gluonts.mx import SimpleFeedForwardEstimator, Trainer\n",
    "from gluonts.evaluation import make_evaluation_predictions\n",
    "from gluonts.dataset.common import ListDataset\n",
    "from gluonts.dataset.pandas import PandasDataset\n",
    "from gluonts.mx import DeepAREstimator, Trainer\n",
    "from gluonts.evaluation import make_evaluation_predictions, Evaluator\n",
    "from gluonts.dataset.field_names import FieldName\n",
    "from gluonts.mx.trainer.callback import TrainingHistory\n",
    "\n",
    "from gluonts.time_feature import (\n",
    "    day_of_week,\n",
    "    day_of_month,\n",
    "    day_of_year,\n",
    "    week_of_year,\n",
    "    month_of_year,\n",
    ")\n",
    "\n",
    "from gluonts.time_feature.holiday import (\n",
    "   squared_exponential_kernel,\n",
    "   SpecialDateFeatureSet,\n",
    "   CHRISTMAS_DAY,\n",
    "   CHRISTMAS_EVE\n",
    ")"
   ]
  },
  {
   "cell_type": "markdown",
   "metadata": {},
   "source": [
    "#### Read dataset"
   ]
  },
  {
   "cell_type": "code",
   "execution_count": 3,
   "metadata": {},
   "outputs": [],
   "source": [
    "EVdata = pd.read_csv(\"stationAggDaytoDay2011_2020May12.csv\", header = 0, index_col = 0)"
   ]
  },
  {
   "cell_type": "code",
   "execution_count": 4,
   "metadata": {},
   "outputs": [],
   "source": [
    "EVdata.set_index('StartDate', inplace=True)"
   ]
  },
  {
   "cell_type": "code",
   "execution_count": 5,
   "metadata": {},
   "outputs": [
    {
     "data": {
      "text/html": [
       "<div>\n",
       "<style scoped>\n",
       "    .dataframe tbody tr th:only-of-type {\n",
       "        vertical-align: middle;\n",
       "    }\n",
       "\n",
       "    .dataframe tbody tr th {\n",
       "        vertical-align: top;\n",
       "    }\n",
       "\n",
       "    .dataframe thead th {\n",
       "        text-align: right;\n",
       "    }\n",
       "</style>\n",
       "<table border=\"1\" class=\"dataframe\">\n",
       "  <thead>\n",
       "    <tr style=\"text-align: right;\">\n",
       "      <th></th>\n",
       "      <th>Station Name</th>\n",
       "      <th>counts</th>\n",
       "      <th>Energy (kWh)</th>\n",
       "      <th>GHG Savings (kg)</th>\n",
       "      <th>Gasoline Savings (gallons)</th>\n",
       "    </tr>\n",
       "    <tr>\n",
       "      <th>StartDate</th>\n",
       "      <th></th>\n",
       "      <th></th>\n",
       "      <th></th>\n",
       "      <th></th>\n",
       "      <th></th>\n",
       "    </tr>\n",
       "  </thead>\n",
       "  <tbody>\n",
       "    <tr>\n",
       "      <th>2011-10-13</th>\n",
       "      <td>BRYANT 1</td>\n",
       "      <td>2</td>\n",
       "      <td>8.262052</td>\n",
       "      <td>3.470</td>\n",
       "      <td>1.037</td>\n",
       "    </tr>\n",
       "    <tr>\n",
       "      <th>2011-10-14</th>\n",
       "      <td>BRYANT 1</td>\n",
       "      <td>1</td>\n",
       "      <td>6.259466</td>\n",
       "      <td>2.629</td>\n",
       "      <td>0.786</td>\n",
       "    </tr>\n",
       "    <tr>\n",
       "      <th>2011-10-15</th>\n",
       "      <td>BRYANT 1</td>\n",
       "      <td>1</td>\n",
       "      <td>4.622894</td>\n",
       "      <td>1.942</td>\n",
       "      <td>0.580</td>\n",
       "    </tr>\n",
       "    <tr>\n",
       "      <th>2011-10-17</th>\n",
       "      <td>BRYANT 1</td>\n",
       "      <td>1</td>\n",
       "      <td>4.023361</td>\n",
       "      <td>1.690</td>\n",
       "      <td>0.505</td>\n",
       "    </tr>\n",
       "    <tr>\n",
       "      <th>2011-10-18</th>\n",
       "      <td>BRYANT 1</td>\n",
       "      <td>1</td>\n",
       "      <td>15.474944</td>\n",
       "      <td>6.499</td>\n",
       "      <td>1.942</td>\n",
       "    </tr>\n",
       "    <tr>\n",
       "      <th>...</th>\n",
       "      <td>...</td>\n",
       "      <td>...</td>\n",
       "      <td>...</td>\n",
       "      <td>...</td>\n",
       "      <td>...</td>\n",
       "    </tr>\n",
       "    <tr>\n",
       "      <th>2020-12-25</th>\n",
       "      <td>WEBSTER 3</td>\n",
       "      <td>1</td>\n",
       "      <td>9.897000</td>\n",
       "      <td>4.157</td>\n",
       "      <td>1.242</td>\n",
       "    </tr>\n",
       "    <tr>\n",
       "      <th>2020-12-26</th>\n",
       "      <td>WEBSTER 3</td>\n",
       "      <td>1</td>\n",
       "      <td>10.359000</td>\n",
       "      <td>4.351</td>\n",
       "      <td>1.300</td>\n",
       "    </tr>\n",
       "    <tr>\n",
       "      <th>2020-12-29</th>\n",
       "      <td>WEBSTER 3</td>\n",
       "      <td>3</td>\n",
       "      <td>37.291000</td>\n",
       "      <td>15.662</td>\n",
       "      <td>4.680</td>\n",
       "    </tr>\n",
       "    <tr>\n",
       "      <th>2020-12-30</th>\n",
       "      <td>WEBSTER 3</td>\n",
       "      <td>2</td>\n",
       "      <td>47.706000</td>\n",
       "      <td>20.037</td>\n",
       "      <td>5.987</td>\n",
       "    </tr>\n",
       "    <tr>\n",
       "      <th>2020-12-31</th>\n",
       "      <td>WEBSTER 3</td>\n",
       "      <td>1</td>\n",
       "      <td>7.075000</td>\n",
       "      <td>2.972</td>\n",
       "      <td>0.888</td>\n",
       "    </tr>\n",
       "  </tbody>\n",
       "</table>\n",
       "<p>55075 rows × 5 columns</p>\n",
       "</div>"
      ],
      "text/plain": [
       "           Station Name  counts  Energy (kWh)  GHG Savings (kg)  \\\n",
       "StartDate                                                         \n",
       "2011-10-13     BRYANT 1       2      8.262052             3.470   \n",
       "2011-10-14     BRYANT 1       1      6.259466             2.629   \n",
       "2011-10-15     BRYANT 1       1      4.622894             1.942   \n",
       "2011-10-17     BRYANT 1       1      4.023361             1.690   \n",
       "2011-10-18     BRYANT 1       1     15.474944             6.499   \n",
       "...                 ...     ...           ...               ...   \n",
       "2020-12-25    WEBSTER 3       1      9.897000             4.157   \n",
       "2020-12-26    WEBSTER 3       1     10.359000             4.351   \n",
       "2020-12-29    WEBSTER 3       3     37.291000            15.662   \n",
       "2020-12-30    WEBSTER 3       2     47.706000            20.037   \n",
       "2020-12-31    WEBSTER 3       1      7.075000             2.972   \n",
       "\n",
       "            Gasoline Savings (gallons)  \n",
       "StartDate                               \n",
       "2011-10-13                       1.037  \n",
       "2011-10-14                       0.786  \n",
       "2011-10-15                       0.580  \n",
       "2011-10-17                       0.505  \n",
       "2011-10-18                       1.942  \n",
       "...                                ...  \n",
       "2020-12-25                       1.242  \n",
       "2020-12-26                       1.300  \n",
       "2020-12-29                       4.680  \n",
       "2020-12-30                       5.987  \n",
       "2020-12-31                       0.888  \n",
       "\n",
       "[55075 rows x 5 columns]"
      ]
     },
     "execution_count": 5,
     "metadata": {},
     "output_type": "execute_result"
    }
   ],
   "source": [
    "EVdata"
   ]
  },
  {
   "cell_type": "markdown",
   "metadata": {},
   "source": [
    "##### TestData: one time series"
   ]
  },
  {
   "cell_type": "code",
   "execution_count": 6,
   "metadata": {},
   "outputs": [],
   "source": [
    "testData= EVdata.loc[EVdata[\"Station Name\"] == \"HAMILTON 1\", [\"counts\", \"Energy (kWh)\"]]"
   ]
  },
  {
   "cell_type": "code",
   "execution_count": 7,
   "metadata": {},
   "outputs": [],
   "source": [
    "testData = testData.rename(columns = {\"Energy (kWh)\": \"target\"})"
   ]
  },
  {
   "cell_type": "code",
   "execution_count": 8,
   "metadata": {},
   "outputs": [],
   "source": [
    "testData[\"item_id\"] = \"HAMILTON 1\""
   ]
  },
  {
   "cell_type": "code",
   "execution_count": 9,
   "metadata": {},
   "outputs": [
    {
     "data": {
      "text/html": [
       "<div>\n",
       "<style scoped>\n",
       "    .dataframe tbody tr th:only-of-type {\n",
       "        vertical-align: middle;\n",
       "    }\n",
       "\n",
       "    .dataframe tbody tr th {\n",
       "        vertical-align: top;\n",
       "    }\n",
       "\n",
       "    .dataframe thead th {\n",
       "        text-align: right;\n",
       "    }\n",
       "</style>\n",
       "<table border=\"1\" class=\"dataframe\">\n",
       "  <thead>\n",
       "    <tr style=\"text-align: right;\">\n",
       "      <th></th>\n",
       "      <th>counts</th>\n",
       "      <th>target</th>\n",
       "      <th>item_id</th>\n",
       "    </tr>\n",
       "    <tr>\n",
       "      <th>StartDate</th>\n",
       "      <th></th>\n",
       "      <th></th>\n",
       "      <th></th>\n",
       "    </tr>\n",
       "  </thead>\n",
       "  <tbody>\n",
       "    <tr>\n",
       "      <th>2011-07-29</th>\n",
       "      <td>1</td>\n",
       "      <td>6.249457</td>\n",
       "      <td>HAMILTON 1</td>\n",
       "    </tr>\n",
       "    <tr>\n",
       "      <th>2011-07-30</th>\n",
       "      <td>5</td>\n",
       "      <td>28.978653</td>\n",
       "      <td>HAMILTON 1</td>\n",
       "    </tr>\n",
       "    <tr>\n",
       "      <th>2011-07-31</th>\n",
       "      <td>3</td>\n",
       "      <td>37.209163</td>\n",
       "      <td>HAMILTON 1</td>\n",
       "    </tr>\n",
       "    <tr>\n",
       "      <th>2011-08-01</th>\n",
       "      <td>1</td>\n",
       "      <td>5.041244</td>\n",
       "      <td>HAMILTON 1</td>\n",
       "    </tr>\n",
       "    <tr>\n",
       "      <th>2011-08-02</th>\n",
       "      <td>1</td>\n",
       "      <td>4.197217</td>\n",
       "      <td>HAMILTON 1</td>\n",
       "    </tr>\n",
       "  </tbody>\n",
       "</table>\n",
       "</div>"
      ],
      "text/plain": [
       "            counts     target     item_id\n",
       "StartDate                                \n",
       "2011-07-29       1   6.249457  HAMILTON 1\n",
       "2011-07-30       5  28.978653  HAMILTON 1\n",
       "2011-07-31       3  37.209163  HAMILTON 1\n",
       "2011-08-01       1   5.041244  HAMILTON 1\n",
       "2011-08-02       1   4.197217  HAMILTON 1"
      ]
     },
     "execution_count": 9,
     "metadata": {},
     "output_type": "execute_result"
    }
   ],
   "source": [
    "testData.head()"
   ]
  },
  {
   "cell_type": "code",
   "execution_count": 10,
   "metadata": {},
   "outputs": [],
   "source": [
    "def one_or_multiple_time_series(data, station_name_list, target, item_id, fields):\n",
    "    '''\n",
    "    purpose: \n",
    "        1. select one or multiple time series\n",
    "        2. change the column names\n",
    "\n",
    "    input variables:\n",
    "        data: input dataframe\n",
    "        station_name_list: the station name list (each one is a time series)\n",
    "        target: the target variable name\n",
    "        item_id: id of each time series, here it means station name list\n",
    "        fields: input fields from the input data\n",
    "    '''\n",
    "    testData= data.loc[EVdata[\"Station Name\"] == station_name_list, fields]\n",
    "    testData = testData.rename(columns = {target: \"target\"})\n",
    "    testData[\"item_id\"] = item_id\n",
    "    return testData"
   ]
  },
  {
   "cell_type": "code",
   "execution_count": 11,
   "metadata": {},
   "outputs": [
    {
     "data": {
      "text/html": [
       "<div>\n",
       "<style scoped>\n",
       "    .dataframe tbody tr th:only-of-type {\n",
       "        vertical-align: middle;\n",
       "    }\n",
       "\n",
       "    .dataframe tbody tr th {\n",
       "        vertical-align: top;\n",
       "    }\n",
       "\n",
       "    .dataframe thead th {\n",
       "        text-align: right;\n",
       "    }\n",
       "</style>\n",
       "<table border=\"1\" class=\"dataframe\">\n",
       "  <thead>\n",
       "    <tr style=\"text-align: right;\">\n",
       "      <th></th>\n",
       "      <th>counts</th>\n",
       "      <th>target</th>\n",
       "      <th>item_id</th>\n",
       "    </tr>\n",
       "    <tr>\n",
       "      <th>StartDate</th>\n",
       "      <th></th>\n",
       "      <th></th>\n",
       "      <th></th>\n",
       "    </tr>\n",
       "  </thead>\n",
       "  <tbody>\n",
       "    <tr>\n",
       "      <th>2011-07-29</th>\n",
       "      <td>1</td>\n",
       "      <td>6.249457</td>\n",
       "      <td>HAMILTON 1</td>\n",
       "    </tr>\n",
       "    <tr>\n",
       "      <th>2011-07-30</th>\n",
       "      <td>5</td>\n",
       "      <td>28.978653</td>\n",
       "      <td>HAMILTON 1</td>\n",
       "    </tr>\n",
       "    <tr>\n",
       "      <th>2011-07-31</th>\n",
       "      <td>3</td>\n",
       "      <td>37.209163</td>\n",
       "      <td>HAMILTON 1</td>\n",
       "    </tr>\n",
       "    <tr>\n",
       "      <th>2011-08-01</th>\n",
       "      <td>1</td>\n",
       "      <td>5.041244</td>\n",
       "      <td>HAMILTON 1</td>\n",
       "    </tr>\n",
       "    <tr>\n",
       "      <th>2011-08-02</th>\n",
       "      <td>1</td>\n",
       "      <td>4.197217</td>\n",
       "      <td>HAMILTON 1</td>\n",
       "    </tr>\n",
       "  </tbody>\n",
       "</table>\n",
       "</div>"
      ],
      "text/plain": [
       "            counts     target     item_id\n",
       "StartDate                                \n",
       "2011-07-29       1   6.249457  HAMILTON 1\n",
       "2011-07-30       5  28.978653  HAMILTON 1\n",
       "2011-07-31       3  37.209163  HAMILTON 1\n",
       "2011-08-01       1   5.041244  HAMILTON 1\n",
       "2011-08-02       1   4.197217  HAMILTON 1"
      ]
     },
     "execution_count": 11,
     "metadata": {},
     "output_type": "execute_result"
    }
   ],
   "source": [
    "data = EVdata\n",
    "station_name_list = \"HAMILTON 1\"\n",
    "target = \"Energy (kWh)\"\n",
    "item_id = \"HAMILTON 1\"\n",
    "fields = [\"counts\", \"Energy (kWh)\"]\n",
    "\n",
    "testData = one_or_multiple_time_series(EVdata, station_name_list, target, item_id, fields)\n",
    "testData.head()\n"
   ]
  },
  {
   "cell_type": "markdown",
   "metadata": {},
   "source": [
    "#### Handle missing data"
   ]
  },
  {
   "cell_type": "code",
   "execution_count": 12,
   "metadata": {},
   "outputs": [],
   "source": [
    "ds = PandasDataset.from_long_dataframe(testData, target=\"target\", item_id=\"item_id\", freq = \"D\")"
   ]
  },
  {
   "cell_type": "code",
   "execution_count": 13,
   "metadata": {},
   "outputs": [
    {
     "name": "stdout",
     "output_type": "stream",
     "text": [
      "{'HAMILTON 1':             counts     target\n",
      "2011-07-29     1.0   6.249457\n",
      "2011-07-30     5.0  28.978653\n",
      "2011-07-31     3.0  37.209163\n",
      "2011-08-01     1.0   5.041244\n",
      "2011-08-02     1.0   4.197217\n",
      "...            ...        ...\n",
      "2020-10-30     3.0  25.440000\n",
      "2020-10-31     2.0  15.122000\n",
      "2020-11-01     2.0  44.383000\n",
      "2020-11-02     0.0   0.000000\n",
      "2020-11-03     1.0   6.545000\n",
      "\n",
      "[3386 rows x 2 columns]}\n"
     ]
    }
   ],
   "source": [
    "max_end = max(testData.groupby(\"item_id\").apply(lambda _df: _df.index[-1]))\n",
    "dfs_dict = {}\n",
    "for item_id, gdf in testData.groupby(\"item_id\"):\n",
    "    new_index = pd.date_range(gdf.index[0], end=max_end, freq=\"1D\")\n",
    "    dfs_dict[item_id] = gdf.reindex(new_index).drop(\"item_id\", axis=1)\n",
    "    dfs_dict[item_id][np.isnan(dfs_dict[item_id])] = 0\n",
    "print(dfs_dict)\n",
    "\n",
    "ds = PandasDataset(dfs_dict, target=\"target\")\n",
    "counts = dfs_dict[\"HAMILTON 1\"].loc[:, \"counts\"].to_numpy()"
   ]
  },
  {
   "cell_type": "markdown",
   "metadata": {},
   "source": [
    "#### Add multiple features"
   ]
  },
  {
   "cell_type": "markdown",
   "metadata": {},
   "source": [
    "##### Number of counts"
   ]
  },
  {
   "cell_type": "code",
   "execution_count": 14,
   "metadata": {},
   "outputs": [],
   "source": [
    "train_val_test_split = [0.7, 0.2, 0.1]\n",
    "train_length = math.floor(next(iter(ds))[\"target\"].shape[0]*train_val_test_split[0])\n",
    "validation_length = math.floor(next(iter(ds))[\"target\"].shape[0]*train_val_test_split[1])\n",
    "prediction_length = math.floor(next(iter(ds))[\"target\"].shape[0]*train_val_test_split[2])\n",
    "\n",
    "freq = \"1D\"\n",
    "train_start = pd.Period('2011-07-29', freq = freq)"
   ]
  },
  {
   "cell_type": "code",
   "execution_count": 15,
   "metadata": {},
   "outputs": [
    {
     "data": {
      "text/plain": [
       "(2370, 677, 338)"
      ]
     },
     "execution_count": 15,
     "metadata": {},
     "output_type": "execute_result"
    }
   ],
   "source": [
    "train_length, validation_length, prediction_length"
   ]
  },
  {
   "cell_type": "code",
   "execution_count": 16,
   "metadata": {},
   "outputs": [
    {
     "data": {
      "text/plain": [
       "(3386,)"
      ]
     },
     "execution_count": 16,
     "metadata": {},
     "output_type": "execute_result"
    }
   ],
   "source": [
    "next(iter(ds))[\"target\"].shape"
   ]
  },
  {
   "cell_type": "code",
   "execution_count": 17,
   "metadata": {},
   "outputs": [
    {
     "data": {
      "text/plain": [
       "(3048,)"
      ]
     },
     "execution_count": 17,
     "metadata": {},
     "output_type": "execute_result"
    }
   ],
   "source": [
    "next(iter(ds))[\"target\"][: -prediction_length].shape"
   ]
  },
  {
   "cell_type": "markdown",
   "metadata": {},
   "source": [
    "##### Temporal variables"
   ]
  },
  {
   "cell_type": "code",
   "execution_count": 18,
   "metadata": {},
   "outputs": [],
   "source": [
    "holidat_set = SpecialDateFeatureSet([CHRISTMAS_EVE, CHRISTMAS_DAY])"
   ]
  },
  {
   "cell_type": "code",
   "execution_count": 19,
   "metadata": {},
   "outputs": [
    {
     "data": {
      "text/plain": [
       "(Timestamp('2011-07-29 00:00:00'), Timestamp('2020-11-03 00:00:00'))"
      ]
     },
     "execution_count": 19,
     "metadata": {},
     "output_type": "execute_result"
    }
   ],
   "source": [
    "start_date = testData.index[0]\n",
    "end_date = testData.index[-1]\n",
    "start_date, end_date"
   ]
  },
  {
   "cell_type": "code",
   "execution_count": 20,
   "metadata": {},
   "outputs": [],
   "source": [
    "date_indices = pd.date_range(\n",
    "    start = start_date,\n",
    "    end = end_date,\n",
    "    freq = 'D'\n",
    ")"
   ]
  },
  {
   "cell_type": "code",
   "execution_count": 21,
   "metadata": {},
   "outputs": [],
   "source": [
    "day_of_week_variable = day_of_week(date_indices)\n",
    "day_of_month_variable = day_of_month(date_indices)\n",
    "day_year_variable = day_of_year(date_indices)\n",
    "week_of_year_variable = week_of_year(date_indices)\n",
    "month_of_year_variable = month_of_year(date_indices)"
   ]
  },
  {
   "cell_type": "markdown",
   "metadata": {},
   "source": [
    "#### Use train and split"
   ]
  },
  {
   "cell_type": "code",
   "execution_count": 22,
   "metadata": {},
   "outputs": [],
   "source": [
    "train_ds = ListDataset(\n",
    "    [\n",
    "        {\n",
    "            FieldName.TARGET: target,\n",
    "            FieldName.START: start,\n",
    "            FieldName.FEAT_DYNAMIC_REAL: [counts, dayofweek, monthofyear],\n",
    "        }\n",
    "        for (target, start, counts, dayofweek, monthofyear) in zip(\n",
    "            next(iter(ds))[\"target\"][: train_length].reshape(1, next(iter(ds))[\"target\"][: train_length].shape[0]),\n",
    "            [next(iter(ds))[\"start\"]],\n",
    "            counts[: train_length].reshape(1, counts[: train_length].shape[0]),\n",
    "            day_of_week_variable[: train_length].reshape(1, day_of_week_variable[: train_length].shape[0]),\n",
    "            month_of_year_variable[: train_length].reshape(1, month_of_year_variable[: train_length].shape[0])\n",
    "        )\n",
    "    ],\n",
    "    freq=freq,\n",
    ")"
   ]
  },
  {
   "cell_type": "code",
   "execution_count": 23,
   "metadata": {},
   "outputs": [],
   "source": [
    "val_ds = ListDataset(\n",
    "    [\n",
    "        {\n",
    "            FieldName.TARGET: target,\n",
    "            FieldName.START: start,\n",
    "            FieldName.FEAT_DYNAMIC_REAL: [counts, dayofweek, monthofyear],\n",
    "        }\n",
    "        for (target, start, counts, dayofweek, monthofyear) in zip(\n",
    "            next(iter(ds))[\"target\"][: -prediction_length].reshape(1, next(iter(ds))[\"target\"][: -prediction_length].shape[0]),\n",
    "            [next(iter(ds))[\"start\"]],\n",
    "            counts[: -prediction_length].reshape(1, counts[: -prediction_length].shape[0]),\n",
    "            day_of_week_variable[: -prediction_length].reshape(1, day_of_week_variable[: -prediction_length].shape[0]),\n",
    "            month_of_year_variable[: -prediction_length].reshape(1, month_of_year_variable[: -prediction_length].shape[0])\n",
    "        )\n",
    "    ],\n",
    "    freq=freq,\n",
    ")"
   ]
  },
  {
   "cell_type": "code",
   "execution_count": 24,
   "metadata": {},
   "outputs": [],
   "source": [
    "test_ds = ListDataset(\n",
    "    [\n",
    "        {\n",
    "            FieldName.TARGET: target,\n",
    "            FieldName.START: start,\n",
    "            FieldName.FEAT_DYNAMIC_REAL: [counts, day_of_week_variable, month_of_year_variable],\n",
    "        }\n",
    "        for (target, start, counts, dayofweek, monthofyear) in zip(\n",
    "            next(iter(ds))[\"target\"].reshape(1, next(iter(ds))[\"target\"].shape[0]),\n",
    "            [next(iter(ds))[\"start\"]],\n",
    "            counts.reshape(1, counts.shape[0]),\n",
    "            day_of_week_variable.reshape(1, day_of_week_variable.shape[0]),\n",
    "            month_of_year_variable.reshape(1, month_of_year_variable.shape[0])\n",
    "        )\n",
    "    ],\n",
    "    freq=freq,\n",
    ")"
   ]
  },
  {
   "cell_type": "code",
   "execution_count": 25,
   "metadata": {},
   "outputs": [],
   "source": [
    "def check_train_val_test_data(train_ds, val_ds, test_ds):\n",
    "    print(\"training data: \\n \\t {} \\n\".format(train_ds))\n",
    "    print(\"validation data: \\n \\t {} \\n\".format(val_ds))\n",
    "    print(\"testing data: \\n \\t {} \\n\".format(test_ds))"
   ]
  },
  {
   "cell_type": "code",
   "execution_count": 26,
   "metadata": {},
   "outputs": [
    {
     "name": "stdout",
     "output_type": "stream",
     "text": [
      "training data: \n",
      " \t [{'target': array([ 6.249457, 28.978653, 37.209164, ..., 36.259   , 35.569   ,\n",
      "       36.203   ], dtype=float32), 'start': Period('2011-07-29', 'D'), 'feat_dynamic_real': array([[ 1.        ,  5.        ,  3.        , ...,  5.        ,\n",
      "         4.        ,  4.        ],\n",
      "       [ 0.16666667,  0.33333334,  0.5       , ...,  0.33333334,\n",
      "         0.5       , -0.5       ],\n",
      "       [ 0.04545455,  0.04545455,  0.04545455, ..., -0.5       ,\n",
      "        -0.5       , -0.5       ]], dtype=float32)}] \n",
      "\n",
      "validation data: \n",
      " \t [{'target': array([ 6.249457, 28.978653, 37.209164, ...,  6.799   , 17.977   ,\n",
      "       12.798   ], dtype=float32), 'start': Period('2011-07-29', 'D'), 'feat_dynamic_real': array([[1.        , 5.        , 3.        , ..., 1.        , 4.        ,\n",
      "        2.        ],\n",
      "       [0.16666667, 0.33333334, 0.5       , ..., 0.16666667, 0.33333334,\n",
      "        0.5       ],\n",
      "       [0.04545455, 0.04545455, 0.04545455, ..., 0.4090909 , 0.4090909 ,\n",
      "        0.5       ]], dtype=float32)}] \n",
      "\n",
      "testing data: \n",
      " \t [{'target': array([ 6.249457, 28.978653, 37.209164, ..., 44.383   ,  0.      ,\n",
      "        6.545   ], dtype=float32), 'start': Period('2011-07-29', 'D'), 'feat_dynamic_real': array([[ 1.        ,  5.        ,  3.        , ...,  2.        ,\n",
      "         0.        ,  1.        ],\n",
      "       [ 0.16666667,  0.33333334,  0.5       , ...,  0.5       ,\n",
      "        -0.5       , -0.33333334],\n",
      "       [ 0.04545455,  0.04545455,  0.04545455, ...,  0.4090909 ,\n",
      "         0.4090909 ,  0.4090909 ]], dtype=float32)}] \n",
      "\n"
     ]
    }
   ],
   "source": [
    "check_train_val_test_data(train_ds, val_ds, test_ds)"
   ]
  },
  {
   "cell_type": "markdown",
   "metadata": {},
   "source": [
    "#### Visualize the dataset"
   ]
  },
  {
   "cell_type": "code",
   "execution_count": 27,
   "metadata": {},
   "outputs": [],
   "source": [
    "def visualize_train_val_test_data(train_ds, val_ds, test_ds):\n",
    "    train_entry = next(iter(train_ds))\n",
    "    train_series = to_pandas(train_entry)\n",
    "    \n",
    "    val_entry = next(iter(val_ds))\n",
    "    val_series = to_pandas(val_entry)\n",
    "\n",
    "    test_entry = next(iter(test_ds))\n",
    "    test_series = to_pandas(test_entry)\n",
    "\n",
    "    test_series.plot(color = \"grey\")\n",
    "    plt.axvline(train_series.index[-1], color=\"red\")  # end of train dataset\n",
    "    plt.axvline(val_series.index[-1], color=\"blue\")  # end of train dataset\n",
    "    plt.grid(which=\"both\")\n",
    "    plt.legend([\"test series\", \"end of train series\", \"end of val series\"], loc=\"upper left\")\n",
    "    plt.show()"
   ]
  },
  {
   "cell_type": "code",
   "execution_count": 28,
   "metadata": {},
   "outputs": [
    {
     "data": {
      "image/png": "[encoded data removed]",
      "text/plain": [
       "<Figure size 640x480 with 1 Axes>"
      ]
     },
     "metadata": {},
     "output_type": "display_data"
    }
   ],
   "source": [
    "visualize_train_val_test_data(train_ds, val_ds, test_ds)"
   ]
  },
  {
   "cell_type": "markdown",
   "metadata": {},
   "source": [
    "#### Train and prediction"
   ]
  },
  {
   "cell_type": "markdown",
   "metadata": {},
   "source": [
    "##### Simple feed forward estimator"
   ]
  },
  {
   "cell_type": "code",
   "execution_count": 31,
   "metadata": {},
   "outputs": [],
   "source": [
    "# defining a callback, which will log the training loss for each epoch\n",
    "history = TrainingHistory()"
   ]
  },
  {
   "cell_type": "code",
   "execution_count": 32,
   "metadata": {},
   "outputs": [],
   "source": [
    "simple_feed_forward_estimator = SimpleFeedForwardEstimator(\n",
    "    num_hidden_dimensions=[50], ## default: 50\n",
    "    prediction_length=prediction_length,\n",
    "    batch_normalization = False, ## default: false\n",
    "    mean_scaling = True, ## default: true\n",
    "    context_length=100,\n",
    "    trainer=Trainer(\n",
    "        ctx=\"cpu\", \n",
    "        epochs=10, \n",
    "        callbacks=[history],\n",
    "        learning_rate=1e-3, \n",
    "        num_batches_per_epoch=100\n",
    "    ),\n",
    ")"
   ]
  },
  {
   "cell_type": "markdown",
   "metadata": {},
   "source": [
    "##### MQCNN estimator"
   ]
  },
  {
   "cell_type": "code",
   "execution_count": 34,
   "metadata": {},
   "outputs": [],
   "source": [
    "from gluonts.mx import MQCNNEstimator, Trainer"
   ]
  },
  {
   "cell_type": "code",
   "execution_count": 35,
   "metadata": {},
   "outputs": [],
   "source": [
    "mqcnn_estimator = MQCNNEstimator(\n",
    "    freq = freq,\n",
    "    prediction_length=prediction_length,\n",
    "    use_feat_dynamic_real=True,\n",
    "    # context_length=100, ## Default: 4 * prediction_length\n",
    "    trainer=Trainer(\n",
    "        ctx=\"cpu\", \n",
    "        epochs=10, \n",
    "        callbacks=[history],\n",
    "        learning_rate=1e-3, \n",
    "        num_batches_per_epoch=10\n",
    "    ),\n",
    ")"
   ]
  },
  {
   "cell_type": "markdown",
   "metadata": {},
   "source": [
    "##### MQRNN estimator"
   ]
  },
  {
   "cell_type": "code",
   "execution_count": 36,
   "metadata": {},
   "outputs": [],
   "source": [
    "from gluonts.mx import MQRNNEstimator, Trainer"
   ]
  },
  {
   "cell_type": "code",
   "execution_count": 38,
   "metadata": {},
   "outputs": [],
   "source": [
    "mqrnn_estimator = MQRNNEstimator(\n",
    "    freq = freq,\n",
    "    prediction_length=prediction_length,\n",
    "    # context_length=100, ## Default: 4 * prediction_length\n",
    "    trainer=Trainer(\n",
    "        ctx=\"cpu\", \n",
    "        epochs=10, \n",
    "        callbacks=[history],\n",
    "        learning_rate=1e-3, \n",
    "        num_batches_per_epoch=10\n",
    "    ),\n",
    ")"
   ]
  },
  {
   "cell_type": "markdown",
   "metadata": {},
   "source": [
    "##### DeepAR estimator"
   ]
  },
  {
   "cell_type": "code",
   "execution_count": 39,
   "metadata": {},
   "outputs": [],
   "source": [
    "from gluonts.mx import DeepAREstimator, Trainer"
   ]
  },
  {
   "cell_type": "code",
   "execution_count": 41,
   "metadata": {},
   "outputs": [],
   "source": [
    "deepAR_estimator = DeepAREstimator(\n",
    "    freq = freq,\n",
    "    prediction_length = prediction_length,\n",
    "    use_feat_dynamic_real=True,\n",
    "    trainer=Trainer(\n",
    "        ctx=\"cpu\", \n",
    "        epochs=5, \n",
    "        callbacks=[history],\n",
    "        learning_rate=1e-3, \n",
    "        num_batches_per_epoch=100\n",
    "    ),\n",
    ")"
   ]
  },
  {
   "cell_type": "markdown",
   "metadata": {},
   "source": [
    "##### DeepVAR estimator"
   ]
  },
  {
   "cell_type": "code",
   "execution_count": 42,
   "metadata": {},
   "outputs": [],
   "source": [
    "from gluonts.mx import DeepVAREstimator, Trainer"
   ]
  },
  {
   "cell_type": "code",
   "execution_count": 43,
   "metadata": {},
   "outputs": [],
   "source": [
    "deepVAR_estimator = DeepVAREstimator(\n",
    "    freq = freq,\n",
    "    prediction_length = prediction_length,\n",
    "    use_feat_dynamic_real=True,\n",
    "    target_dim= 1,\n",
    "    trainer=Trainer(\n",
    "        ctx=\"cpu\", \n",
    "        epochs=20, \n",
    "        callbacks=[history],\n",
    "        learning_rate=1e-3, \n",
    "        num_batches_per_epoch=100\n",
    "    ),\n",
    ")"
   ]
  },
  {
   "cell_type": "markdown",
   "metadata": {},
   "source": [
    "##### LSTNet"
   ]
  },
  {
   "cell_type": "code",
   "execution_count": 44,
   "metadata": {},
   "outputs": [],
   "source": [
    "from gluonts.mx import LSTNetEstimator, Trainer"
   ]
  },
  {
   "cell_type": "code",
   "execution_count": 45,
   "metadata": {},
   "outputs": [],
   "source": [
    "lstnet_estimator = LSTNetEstimator(\n",
    "    num_series = 1,\n",
    "    prediction_length = prediction_length,\n",
    "    ar_window = 10,\n",
    "    channels = 1,\n",
    "    context_length = 20,\n",
    "    skip_size = 1,\n",
    "    trainer=Trainer(\n",
    "        ctx=\"cpu\", \n",
    "        epochs=20, \n",
    "        callbacks=[history],\n",
    "        learning_rate=1e-3, \n",
    "        num_batches_per_epoch=100\n",
    "    ),\n",
    ")"
   ]
  },
  {
   "cell_type": "markdown",
   "metadata": {},
   "source": [
    "##### Temporal fusion transformer"
   ]
  },
  {
   "cell_type": "code",
   "execution_count": 46,
   "metadata": {},
   "outputs": [],
   "source": [
    "from gluonts.mx import TemporalFusionTransformerEstimator, Trainer"
   ]
  },
  {
   "cell_type": "code",
   "execution_count": 47,
   "metadata": {},
   "outputs": [],
   "source": [
    "tft_estimator = TemporalFusionTransformerEstimator(\n",
    "    freq = freq,\n",
    "    prediction_length = prediction_length,\n",
    "    hidden_dim = 10,\n",
    "    trainer=Trainer(\n",
    "        ctx=\"cpu\", \n",
    "        epochs=20, \n",
    "        callbacks=[history],\n",
    "        learning_rate=1e-3, \n",
    "        num_batches_per_epoch=100\n",
    "    ),\n",
    ")"
   ]
  },
  {
   "cell_type": "markdown",
   "metadata": {},
   "source": [
    "##### Transformer estimator"
   ]
  },
  {
   "cell_type": "code",
   "execution_count": 48,
   "metadata": {},
   "outputs": [],
   "source": [
    "from gluonts.mx import TransformerEstimator, Trainer"
   ]
  },
  {
   "cell_type": "code",
   "execution_count": 49,
   "metadata": {},
   "outputs": [],
   "source": [
    "transformer_estimator = TransformerEstimator(\n",
    "    freq = freq,\n",
    "    prediction_length = prediction_length,\n",
    "    use_feat_dynamic_real=True,\n",
    "    context_length = 100,\n",
    "    trainer=Trainer(\n",
    "        ctx=\"cpu\", \n",
    "        epochs=20, \n",
    "        callbacks=[history],\n",
    "        learning_rate=1e-3, \n",
    "        num_batches_per_epoch=100\n",
    "    ),\n",
    ")"
   ]
  },
  {
   "cell_type": "markdown",
   "metadata": {},
   "source": [
    "##### Deepfactor estimator"
   ]
  },
  {
   "cell_type": "code",
   "execution_count": 50,
   "metadata": {},
   "outputs": [],
   "source": [
    "from gluonts.mx import DeepFactorEstimator, Trainer"
   ]
  },
  {
   "cell_type": "code",
   "execution_count": 51,
   "metadata": {},
   "outputs": [],
   "source": [
    "deepFactor_estimator = TransformerEstimator(\n",
    "    freq = freq,\n",
    "    prediction_length = prediction_length,\n",
    "    use_feat_dynamic_real=True,\n",
    "    trainer=Trainer(\n",
    "        ctx=\"cpu\", \n",
    "        epochs=10, \n",
    "        callbacks=[history],\n",
    "        learning_rate=1e-3, \n",
    "        num_batches_per_epoch=100\n",
    "    ),\n",
    ")"
   ]
  },
  {
   "cell_type": "markdown",
   "metadata": {},
   "source": [
    "##### GP estimator"
   ]
  },
  {
   "cell_type": "code",
   "execution_count": 52,
   "metadata": {},
   "outputs": [],
   "source": [
    "from gluonts.mx import GaussianProcessEstimator, Trainer"
   ]
  },
  {
   "cell_type": "code",
   "execution_count": 53,
   "metadata": {},
   "outputs": [],
   "source": [
    "gp_estimator = GaussianProcessEstimator(\n",
    "    freq = freq,\n",
    "    prediction_length = prediction_length,\n",
    "    cardinality = 1,\n",
    "    trainer=Trainer(\n",
    "        ctx=\"cpu\", \n",
    "        epochs=20, \n",
    "        callbacks=[history],\n",
    "        learning_rate=1e-3, \n",
    "        num_batches_per_epoch=100\n",
    "    ),\n",
    ")"
   ]
  },
  {
   "cell_type": "markdown",
   "metadata": {},
   "source": [
    "##### Naive predictor"
   ]
  },
  {
   "cell_type": "code",
   "execution_count": 54,
   "metadata": {},
   "outputs": [],
   "source": [
    "from gluonts.ext.naive_2 import Naive2Predictor"
   ]
  },
  {
   "cell_type": "code",
   "execution_count": 55,
   "metadata": {},
   "outputs": [],
   "source": [
    "naive_predictor = Naive2Predictor(\n",
    "    prediction_length = prediction_length,\n",
    "    season_length = 100\n",
    ")"
   ]
  },
  {
   "cell_type": "markdown",
   "metadata": {},
   "source": [
    "##### Train and predict"
   ]
  },
  {
   "cell_type": "code",
   "execution_count": 56,
   "metadata": {},
   "outputs": [],
   "source": [
    "def train_and_predict(train_dataset, val_dataset, test_dataset, estimator):\n",
    "    predictor = estimator.train(training_data = train_dataset, validation_data = val_dataset)\n",
    "    forecast_it, ts_it = make_evaluation_predictions(\n",
    "        dataset = test_dataset, predictor = predictor\n",
    "    )\n",
    "    \n",
    "    return predictor, list(forecast_it), list(ts_it)\n"
   ]
  },
  {
   "cell_type": "code",
   "execution_count": 57,
   "metadata": {},
   "outputs": [],
   "source": [
    "def get_model_name(estimator):\n",
    "    s = str(estimator)\n",
    "\n",
    "    start_marker = \".model.\"\n",
    "    end_marker = \"._estimator\"\n",
    "\n",
    "    start_index = s.find(start_marker)\n",
    "    if(start_index == -1):\n",
    "        raise ValueError(\"Couldn't find start index!\")\n",
    "\n",
    "    end_index = s.find(end_marker, start_index)\n",
    "    if(end_index == -1):\n",
    "        return ValueError(\"Couldn't find end index!\")\n",
    "    \n",
    "    start_index += len(start_marker)\n",
    "    return s[start_index: end_index]"
   ]
  },
  {
   "cell_type": "code",
   "execution_count": 78,
   "metadata": {},
   "outputs": [],
   "source": [
    "def multiple_models(train_ds, val_ds, test_ds, estimators):\n",
    "    for estimator in estimators:\n",
    "        \n",
    "        ## model training\n",
    "        predictor, forecast_it, ts_it = train_and_predict(train_ds, val_ds, test_ds, estimator)\n",
    "\n",
    "        ## loss curve\n",
    "        loss_data_framework = get_loss_curve(history)\n",
    "        export_loss_curve(loss_data_framework, estimator)\n",
    "        plot_loss_curve(loss_data_framework)\n",
    "\n",
    "        ## evluation metrics\n",
    "        print_forecast_basic_info(forecast_it, ts_it)\n",
    "        export_original_time_series_no_missing_values(ts_it)\n",
    "        export_predicted_values(ts_it, forecast_it, estimator)\n",
    "        plot_orginal_prediction(forecast_it, ts_it)\n",
    "        agg_metrics, item_metrics = get_evaluation_metrics(forecast_it, ts_it)\n",
    "        export_eval_metrics(agg_metrics, item_metrics, estimator)\n",
    "    "
   ]
  },
  {
   "cell_type": "code",
   "execution_count": 64,
   "metadata": {},
   "outputs": [],
   "source": [
    "def get_loss_curve(history):\n",
    "    loss_data_framework = pd.DataFrame({\n",
    "        \"training_loss\": history.loss_history,\n",
    "        \"val_loss\": history.validation_loss_history\n",
    "    })\n",
    "    loss_data_framework.head()\n",
    "    return loss_data_framework"
   ]
  },
  {
   "cell_type": "code",
   "execution_count": 65,
   "metadata": {},
   "outputs": [],
   "source": [
    "def export_loss_curve(loss_data_framework, estimator):\n",
    "    loss_curve_name = \"loss_curve_model_{}.csv\".format(get_model_name(estimator))\n",
    "    loss_data_framework.to_csv(loss_curve_name)"
   ]
  },
  {
   "cell_type": "code",
   "execution_count": 82,
   "metadata": {},
   "outputs": [],
   "source": [
    "def plot_loss_curve(loss_data_framework):\n",
    "    # Clear the current figure\n",
    "    plt.clf()\n",
    "    \n",
    "    loss_data_framework.plot()"
   ]
  },
  {
   "cell_type": "code",
   "execution_count": 67,
   "metadata": {},
   "outputs": [],
   "source": [
    "def print_forecast_basic_info(forecast_it, ts_it):\n",
    "    forecast_entry = forecast_it[0]\n",
    "    ts_entry = ts_it[0]\n",
    "\n",
    "    print(f\"Number of sample paths: {forecast_entry.num_samples}\")\n",
    "    print(f\"Dimension of samples: {forecast_entry.samples.shape}\")\n",
    "    print(f\"Start date of the forecast window: {forecast_entry.start_date}\")\n",
    "    print(f\"Frequency of the time series: {forecast_entry.freq}\")"
   ]
  },
  {
   "cell_type": "code",
   "execution_count": 74,
   "metadata": {},
   "outputs": [],
   "source": [
    "def export_original_time_series_no_missing_values(ts_it):\n",
    "\n",
    "    ts_entry = ts_it[0]\n",
    "    \n",
    "    time_series_original = pd.DataFrame(ts_entry)\n",
    "    time_series_original.columns = ['true_value']\n",
    "    time_series_original.to_csv(\"time_series_original_no_missing_values.csv\")"
   ]
  },
  {
   "cell_type": "code",
   "execution_count": 76,
   "metadata": {},
   "outputs": [],
   "source": [
    "def export_predicted_values(ts_it, forecast_it, estimator):\n",
    "    forecast_entry = forecast_it[0]\n",
    "    ts_entry = ts_it[0]\n",
    "    \n",
    "    predicted_values = \"predicted_values_model_{}.csv\".format(get_model_name(estimator))\n",
    "    predicted_values_100_series = pd.DataFrame(forecast_entry.samples.T)\n",
    "    predicted_values_100_series.to_csv(predicted_values)"
   ]
  },
  {
   "cell_type": "code",
   "execution_count": 80,
   "metadata": {},
   "outputs": [],
   "source": [
    "def plot_orginal_prediction(forecast_it, ts_it):\n",
    "    # Clear the current figure\n",
    "    plt.clf()\n",
    "    \n",
    "    forecast_entry = forecast_it[0]\n",
    "    ts_entry = ts_it[0]\n",
    "\n",
    "    plt.plot(ts_entry[-800:].to_timestamp())\n",
    "    forecast_entry.plot(show_label=True)\n",
    "    plt.legend()"
   ]
  },
  {
   "cell_type": "code",
   "execution_count": 71,
   "metadata": {},
   "outputs": [],
   "source": [
    "def get_evaluation_metrics(forecast_it, ts_it):\n",
    "\n",
    "    evaluator = Evaluator(quantiles=[0.1, 0.5, 0.9])\n",
    "    agg_metrics, item_metrics = evaluator(ts_it, forecast_it)\n",
    "\n",
    "    return agg_metrics, item_metrics"
   ]
  },
  {
   "cell_type": "code",
   "execution_count": 72,
   "metadata": {},
   "outputs": [],
   "source": [
    "def export_eval_metrics(agg_metrics, item_metrics, estimator):\n",
    "    ## agg_metrics\n",
    "    print(\"Evaluation metrics: {}\".format(get_model_name(estimator)))\n",
    "    agg_metrics_data_frame = pd.DataFrame([agg_metrics])\n",
    "\n",
    "    agg_metrics_csv_name = \"agg_metrics_{}.csv\".format(get_model_name(estimator))\n",
    "\n",
    "    agg_metrics_data_frame.to_csv(agg_metrics_csv_name)"
   ]
  },
  {
   "cell_type": "code",
   "execution_count": 81,
   "metadata": {},
   "outputs": [
    {
     "name": "stderr",
     "output_type": "stream",
     "text": [
      "100%|██████████| 100/100 [00:02<00:00, 42.22it/s, epoch=1/10, avg_epoch_loss=4.39]\n",
      "1it [00:00, 87.18it/s, epoch=1/10, validation_avg_epoch_loss=4.32]\n",
      "100%|██████████| 100/100 [00:02<00:00, 44.65it/s, epoch=2/10, avg_epoch_loss=4.28]\n",
      "1it [00:00, 94.12it/s, epoch=2/10, validation_avg_epoch_loss=4.36]\n",
      "100%|██████████| 100/100 [00:02<00:00, 44.53it/s, epoch=3/10, avg_epoch_loss=4.26]\n",
      "1it [00:00, 93.96it/s, epoch=3/10, validation_avg_epoch_loss=4.34]\n",
      "100%|██████████| 100/100 [00:02<00:00, 44.26it/s, epoch=4/10, avg_epoch_loss=4.26]\n",
      "1it [00:00, 101.81it/s, epoch=4/10, validation_avg_epoch_loss=4.32]\n",
      "100%|██████████| 100/100 [00:02<00:00, 41.75it/s, epoch=5/10, avg_epoch_loss=4.26]\n",
      "1it [00:00, 93.85it/s, epoch=5/10, validation_avg_epoch_loss=4.32]\n",
      "100%|██████████| 100/100 [00:02<00:00, 44.71it/s, epoch=6/10, avg_epoch_loss=4.25]\n",
      "1it [00:00, 95.13it/s, epoch=6/10, validation_avg_epoch_loss=4.32]\n",
      "100%|██████████| 100/100 [00:02<00:00, 44.62it/s, epoch=7/10, avg_epoch_loss=4.25]\n",
      "1it [00:00, 92.23it/s, epoch=7/10, validation_avg_epoch_loss=4.33]\n",
      "100%|██████████| 100/100 [00:02<00:00, 44.83it/s, epoch=8/10, avg_epoch_loss=4.25]\n",
      "1it [00:00, 93.52it/s, epoch=8/10, validation_avg_epoch_loss=4.3]\n",
      "100%|██████████| 100/100 [00:02<00:00, 43.94it/s, epoch=9/10, avg_epoch_loss=4.25]\n",
      "1it [00:00, 94.88it/s, epoch=9/10, validation_avg_epoch_loss=4.3]\n",
      "100%|██████████| 100/100 [00:02<00:00, 44.79it/s, epoch=10/10, avg_epoch_loss=4.25]\n",
      "1it [00:00, 93.11it/s, epoch=10/10, validation_avg_epoch_loss=4.31]\n"
     ]
    },
    {
     "name": "stdout",
     "output_type": "stream",
     "text": [
      "Number of sample paths: 100\n",
      "Dimension of samples: (100, 338)\n",
      "Start date of the forecast window: 2019-12-02\n",
      "Frequency of the time series: <Day>\n"
     ]
    },
    {
     "name": "stderr",
     "output_type": "stream",
     "text": [
      "Running evaluation: 1it [00:00,  3.10it/s]\n"
     ]
    },
    {
     "name": "stdout",
     "output_type": "stream",
     "text": [
      "Evaluation metrics: simple_feedforward\n"
     ]
    },
    {
     "data": {
      "image/png": "[encoded data removed]",
      "text/plain": [
       "<Figure size 640x480 with 1 Axes>"
      ]
     },
     "metadata": {},
     "output_type": "display_data"
    }
   ],
   "source": [
    "## Available estmators: \n",
    "## transformer_estimator: transformer\n",
    "## tft_estimator: temporal fusion transformer\n",
    "## lstNetEstimator: LSTnet\n",
    "## deepVAR_estimator: DeepVAR\n",
    "## deepAR_estimator: DeepAR\n",
    "## simple_feed_forward_estimator: MLP\n",
    "## deepFactor_estimator: deep factor\n",
    "## gp_estimator: gaussian process\n",
    "## mqcnn_estimator: MQ CNN\n",
    "## rnn_estimator: RNN\n",
    "\n",
    "# estimators = [simple_feed_forward_estimator, \\\n",
    "#               deepAR_estimator, \\\n",
    "#               deepVAR_estimator, \\\n",
    "#               lstNetEstimator, \\\n",
    "#               transformer_estimator, \\\n",
    "#               mqcnn_estimator]\n",
    "estimators = [simple_feed_forward_estimator]\n",
    "\n",
    "multiple_models(train_ds, val_ds, test_ds, estimators)"
   ]
  },
  {
   "cell_type": "code",
   "execution_count": 272,
   "metadata": {},
   "outputs": [
    {
     "data": {
      "text/html": [
       "<div>\n",
       "<style scoped>\n",
       "    .dataframe tbody tr th:only-of-type {\n",
       "        vertical-align: middle;\n",
       "    }\n",
       "\n",
       "    .dataframe tbody tr th {\n",
       "        vertical-align: top;\n",
       "    }\n",
       "\n",
       "    .dataframe thead th {\n",
       "        text-align: right;\n",
       "    }\n",
       "</style>\n",
       "<table border=\"1\" class=\"dataframe\">\n",
       "  <thead>\n",
       "    <tr style=\"text-align: right;\">\n",
       "      <th></th>\n",
       "      <th>item_id</th>\n",
       "      <th>forecast_start</th>\n",
       "      <th>MSE</th>\n",
       "      <th>abs_error</th>\n",
       "      <th>abs_target_sum</th>\n",
       "      <th>abs_target_mean</th>\n",
       "      <th>seasonal_error</th>\n",
       "      <th>MASE</th>\n",
       "      <th>MAPE</th>\n",
       "      <th>sMAPE</th>\n",
       "      <th>ND</th>\n",
       "      <th>MSIS</th>\n",
       "      <th>QuantileLoss[0.1]</th>\n",
       "      <th>Coverage[0.1]</th>\n",
       "      <th>QuantileLoss[0.5]</th>\n",
       "      <th>Coverage[0.5]</th>\n",
       "      <th>QuantileLoss[0.9]</th>\n",
       "      <th>Coverage[0.9]</th>\n",
       "    </tr>\n",
       "  </thead>\n",
       "  <tbody>\n",
       "    <tr>\n",
       "      <th>0</th>\n",
       "      <td>None</td>\n",
       "      <td>2019-06-23</td>\n",
       "      <td>160.419391</td>\n",
       "      <td>4740.871582</td>\n",
       "      <td>10153.210938</td>\n",
       "      <td>20.306422</td>\n",
       "      <td>15.414398</td>\n",
       "      <td>0.615122</td>\n",
       "      <td>0.73717</td>\n",
       "      <td>0.923483</td>\n",
       "      <td>0.466933</td>\n",
       "      <td>7.01812</td>\n",
       "      <td>2077.793226</td>\n",
       "      <td>0.208</td>\n",
       "      <td>4740.871826</td>\n",
       "      <td>0.486</td>\n",
       "      <td>3412.612081</td>\n",
       "      <td>0.734</td>\n",
       "    </tr>\n",
       "  </tbody>\n",
       "</table>\n",
       "</div>"
      ],
      "text/plain": [
       "  item_id forecast_start         MSE    abs_error  abs_target_sum  \\\n",
       "0    None     2019-06-23  160.419391  4740.871582    10153.210938   \n",
       "\n",
       "   abs_target_mean  seasonal_error      MASE     MAPE     sMAPE        ND  \\\n",
       "0        20.306422       15.414398  0.615122  0.73717  0.923483  0.466933   \n",
       "\n",
       "      MSIS  QuantileLoss[0.1]  Coverage[0.1]  QuantileLoss[0.5]  \\\n",
       "0  7.01812        2077.793226          0.208        4740.871826   \n",
       "\n",
       "   Coverage[0.5]  QuantileLoss[0.9]  Coverage[0.9]  \n",
       "0          0.486        3412.612081          0.734  "
      ]
     },
     "execution_count": 272,
     "metadata": {},
     "output_type": "execute_result"
    }
   ],
   "source": [
    "item_metrics.head()"
   ]
  },
  {
   "cell_type": "code",
   "execution_count": 181,
   "metadata": {},
   "outputs": [
    {
     "data": {
      "image/png": "[encoded data removed]",
      "text/plain": [
       "<Figure size 640x480 with 1 Axes>"
      ]
     },
     "metadata": {},
     "output_type": "display_data"
    }
   ],
   "source": [
    "item_metrics.plot(x=\"MSIS\", y=\"MASE\", kind=\"scatter\")\n",
    "plt.grid(which=\"both\")\n",
    "plt.show()"
   ]
  },
  {
   "cell_type": "markdown",
   "metadata": {},
   "source": [
    "#### Save existing model"
   ]
  },
  {
   "cell_type": "code",
   "execution_count": 182,
   "metadata": {},
   "outputs": [
    {
     "name": "stderr",
     "output_type": "stream",
     "text": [
      "WARNING:root:Serializing RepresentableBlockPredictor instances does not save the prediction network structure in a backwards-compatible manner. Be careful not to use this method in production.\n"
     ]
    }
   ],
   "source": [
    "# save the trained model in tmp/\n",
    "from pathlib import Path\n",
    "predictor.serialize(Path(\"/tmp/\"))\n",
    "\n",
    "# loads it back\n",
    "from gluonts.model.predictor import Predictor\n",
    "predictor_deserialized = Predictor.deserialize(Path(\"/tmp/\"))"
   ]
  },
  {
   "cell_type": "code",
   "execution_count": null,
   "metadata": {},
   "outputs": [],
   "source": []
  }
 ],
 "metadata": {
  "kernelspec": {
   "display_name": "Python 3",
   "language": "python",
   "name": "python3"
  },
  "language_info": {
   "codemirror_mode": {
    "name": "ipython",
    "version": 3
   },
   "file_extension": ".py",
   "mimetype": "text/x-python",
   "name": "python",
   "nbconvert_exporter": "python",
   "pygments_lexer": "ipython3",
   "version": "3.10.10"
  },
  "orig_nbformat": 4
 },
 "nbformat": 4,
 "nbformat_minor": 2
}
